{
 "cells": [
  {
   "cell_type": "markdown",
   "metadata": {},
   "source": [
    "### 1. Import des données"
   ]
  },
  {
   "cell_type": "code",
   "execution_count": 9,
   "metadata": {},
   "outputs": [],
   "source": [
    "import pandas as pd\n",
    "import numpy as np\n",
    "from numpy import sort\n",
    "from itertools import chain\n",
    "\n",
    "from sklearn.model_selection import train_test_split\n",
    "\n",
    "from itertools import combinations\n",
    "\n",
    "# from sklearn.preprocessing import LabelEncoder, OrdinalEncoder\n",
    "\n",
    "from sklearn.linear_model import LogisticRegression\n",
    "\n",
    "import xgboost as xgb\n",
    "from xgboost import plot_importance\n",
    "from sklearn.metrics import roc_auc_score\n",
    "\n",
    "# from sklearn.metrics import mean_squared_error\n",
    "from sklearn.model_selection import GridSearchCV\n",
    "import matplotlib.pyplot as plt\n",
    "\n",
    "# from sklearn.metrics import make_scorer\n",
    "from sklearn.preprocessing import StandardScaler\n",
    "\n",
    "# from functions import *\n",
    "from functions import fun as f\n",
    "# mf.to_le()\n",
    "import re\n",
    "\n",
    "df_all_data = pd.read_csv(\"data/all_data_before_ml.csv\")"
   ]
  },
  {
   "cell_type": "code",
   "execution_count": 10,
   "metadata": {},
   "outputs": [
    {
     "data": {
      "text/plain": [
       "['date',\n",
       " 'cheveux',\n",
       " 'age',\n",
       " 'exp',\n",
       " 'salaire',\n",
       " 'sexe',\n",
       " 'diplome',\n",
       " 'specialite',\n",
       " 'note',\n",
       " 'dispo',\n",
       " 'embauche',\n",
       " 'annee',\n",
       " 'mois',\n",
       " 'jour',\n",
       " 'age_Q',\n",
       " 'exp_Q',\n",
       " 'note_Q',\n",
       " 'salaire_Q',\n",
       " 'age_D',\n",
       " 'note_D',\n",
       " 'salaire_D']"
      ]
     },
     "execution_count": 10,
     "metadata": {},
     "output_type": "execute_result"
    }
   ],
   "source": [
    "list(df_all_data)"
   ]
  },
  {
   "cell_type": "markdown",
   "metadata": {},
   "source": [
    "### 2. Transformation en features numériques adaptées à Scikit-Learn\n",
    "\n",
    "On réalise une régression logistique pour les variables qui sont toutes catégorielles indiquées ci-dessous\n",
    "suite à la conclusion faite lors de \"1. Statistiques descriptives\".\n",
    "Les variables utilisées sont:\n",
    "- embauche comme variable cible\n",
    "- sexe       \n",
    "- diplome       \n",
    "- specialite \n",
    "- dispo\n",
    "- note_Q     \n",
    "- salaire_Q  \n",
    "- age_D        \n",
    "- note_D       \n",
    "- salaire_D    \n",
    "\n",
    "Bonus: on peut créer les nouvelles variables préconisées par les arbres CHAID pour note, salaire et age<br>\n",
    "mais on pourra se contenter de créer \"note_chaid\" en vue de l'utiliser pour xgboost"
   ]
  },
  {
   "cell_type": "markdown",
   "metadata": {},
   "source": [
    "On renomme specialite, sexe, diplome en specialite_C, sexe_C, diplome_C"
   ]
  },
  {
   "cell_type": "code",
   "execution_count": 11,
   "metadata": {},
   "outputs": [
    {
     "data": {
      "text/plain": [
       "date             object\n",
       "cheveux          object\n",
       "age               int64\n",
       "exp               int64\n",
       "salaire           int64\n",
       "C_sexe           object\n",
       "C_diplome        object\n",
       "C_specialite     object\n",
       "note            float64\n",
       "C_dispo          object\n",
       "embauche          int64\n",
       "annee             int64\n",
       "mois              int64\n",
       "jour              int64\n",
       "age_Q            object\n",
       "exp_Q            object\n",
       "note_Q           object\n",
       "salaire_Q        object\n",
       "age_D            object\n",
       "note_D           object\n",
       "salaire_D        object\n",
       "dtype: object"
      ]
     },
     "execution_count": 11,
     "metadata": {},
     "output_type": "execute_result"
    }
   ],
   "source": [
    "df_all_data = df_all_data.rename(columns={'specialite': 'C_specialite', 'sexe': 'C_sexe', 'diplome': 'C_diplome','dispo': 'C_dispo' })\n",
    "df_all_data.dtypes"
   ]
  },
  {
   "cell_type": "markdown",
   "metadata": {},
   "source": [
    "### Modèle n°1 : régression logistique baseline \n",
    "Je propose de réaliser un premier modèle avec les variables : C_specialite, C_sexe, C_diplome, C_dispo, note, salaire et age\n",
    "- sans interactions\n",
    "- puis avec interactions\n",
    "\n",
    "Ensuite, on pourra voir ce que donne XGBoost<br>\n",
    "On peut envisager de créer la variable note avec note_CHAID"
   ]
  },
  {
   "cell_type": "markdown",
   "metadata": {},
   "source": [
    "### I Création de toutes les variables pour Scikit-Learn\n",
    "- en vue de réaliser une régression logistique (Ridge), les variables catégorielles vont être utilisées\n",
    "sous la forme de \"dummy\" variables (variables indicatrices)\n",
    "- En vue de réaliser une régression XGboost, les variables catégorielles vont être utilisées sous la forme \n",
    "de \"label encodings\" c'est-à-dire que les variables vont être transformées en données numériques grâce à la fonction\n",
    "\"label encoding\" de Scikit-Learn\n"
   ]
  },
  {
   "cell_type": "markdown",
   "metadata": {},
   "source": [
    "On commence ici la transformation de toutes les features "
   ]
  },
  {
   "cell_type": "markdown",
   "metadata": {},
   "source": [
    "On transforme en dummy variables : specialite, sexe, diplome et dispo<br>"
   ]
  },
  {
   "cell_type": "code",
   "execution_count": 12,
   "metadata": {},
   "outputs": [],
   "source": [
    "target_var_name = \"embauche\"\n",
    "all_categorical = [name_var for name_var in list(df_all_data) if name_var[0:1] == 'C'] "
   ]
  },
  {
   "cell_type": "code",
   "execution_count": 13,
   "metadata": {},
   "outputs": [
    {
     "data": {
      "text/plain": [
       "['C_sexe', 'C_diplome', 'C_specialite', 'C_dispo']"
      ]
     },
     "execution_count": 13,
     "metadata": {},
     "output_type": "execute_result"
    }
   ],
   "source": [
    "all_categorical"
   ]
  },
  {
   "cell_type": "code",
   "execution_count": 14,
   "metadata": {},
   "outputs": [
    {
     "data": {
      "text/plain": [
       "C_sexe          object\n",
       "C_diplome       object\n",
       "C_specialite    object\n",
       "C_dispo         object\n",
       "dtype: object"
      ]
     },
     "execution_count": 14,
     "metadata": {},
     "output_type": "execute_result"
    }
   ],
   "source": [
    "df_all_data[all_categorical].dtypes"
   ]
  },
  {
   "cell_type": "code",
   "execution_count": 15,
   "metadata": {},
   "outputs": [
    {
     "data": {
      "text/html": [
       "<div>\n",
       "<style scoped>\n",
       "    .dataframe tbody tr th:only-of-type {\n",
       "        vertical-align: middle;\n",
       "    }\n",
       "\n",
       "    .dataframe tbody tr th {\n",
       "        vertical-align: top;\n",
       "    }\n",
       "\n",
       "    .dataframe thead th {\n",
       "        text-align: right;\n",
       "    }\n",
       "</style>\n",
       "<table border=\"1\" class=\"dataframe\">\n",
       "  <thead>\n",
       "    <tr style=\"text-align: right;\">\n",
       "      <th></th>\n",
       "      <th>date</th>\n",
       "      <th>cheveux</th>\n",
       "      <th>age</th>\n",
       "      <th>exp</th>\n",
       "      <th>salaire</th>\n",
       "      <th>C_sexe</th>\n",
       "      <th>C_diplome</th>\n",
       "      <th>C_specialite</th>\n",
       "      <th>note</th>\n",
       "      <th>C_dispo</th>\n",
       "      <th>...</th>\n",
       "      <th>annee</th>\n",
       "      <th>mois</th>\n",
       "      <th>jour</th>\n",
       "      <th>age_Q</th>\n",
       "      <th>exp_Q</th>\n",
       "      <th>note_Q</th>\n",
       "      <th>salaire_Q</th>\n",
       "      <th>age_D</th>\n",
       "      <th>note_D</th>\n",
       "      <th>salaire_D</th>\n",
       "    </tr>\n",
       "  </thead>\n",
       "  <tbody>\n",
       "    <tr>\n",
       "      <th>0</th>\n",
       "      <td>2010-01-01</td>\n",
       "      <td>blond</td>\n",
       "      <td>22</td>\n",
       "      <td>8</td>\n",
       "      <td>35554</td>\n",
       "      <td>M</td>\n",
       "      <td>master</td>\n",
       "      <td>geologie</td>\n",
       "      <td>72.41</td>\n",
       "      <td>oui</td>\n",
       "      <td>...</td>\n",
       "      <td>2010</td>\n",
       "      <td>1</td>\n",
       "      <td>1</td>\n",
       "      <td>[18-30[</td>\n",
       "      <td>[7-9[</td>\n",
       "      <td>[64-76[</td>\n",
       "      <td>[34964-38348[</td>\n",
       "      <td>[18-24[</td>\n",
       "      <td>[71-76[</td>\n",
       "      <td>[34964-36216[</td>\n",
       "    </tr>\n",
       "    <tr>\n",
       "      <th>1</th>\n",
       "      <td>2010-01-01</td>\n",
       "      <td>brun</td>\n",
       "      <td>42</td>\n",
       "      <td>6</td>\n",
       "      <td>38102</td>\n",
       "      <td>M</td>\n",
       "      <td>licence</td>\n",
       "      <td>geologie</td>\n",
       "      <td>72.46</td>\n",
       "      <td>non</td>\n",
       "      <td>...</td>\n",
       "      <td>2010</td>\n",
       "      <td>1</td>\n",
       "      <td>1</td>\n",
       "      <td>[35-42[</td>\n",
       "      <td>[0-7[</td>\n",
       "      <td>[64-76[</td>\n",
       "      <td>[34964-38348[</td>\n",
       "      <td>[40-43[</td>\n",
       "      <td>[71-76[</td>\n",
       "      <td>[37615-39172[</td>\n",
       "    </tr>\n",
       "    <tr>\n",
       "      <th>2</th>\n",
       "      <td>2010-01-01</td>\n",
       "      <td>brun</td>\n",
       "      <td>34</td>\n",
       "      <td>14</td>\n",
       "      <td>36232</td>\n",
       "      <td>M</td>\n",
       "      <td>licence</td>\n",
       "      <td>geologie</td>\n",
       "      <td>65.43</td>\n",
       "      <td>non</td>\n",
       "      <td>...</td>\n",
       "      <td>2010</td>\n",
       "      <td>1</td>\n",
       "      <td>1</td>\n",
       "      <td>[30-35[</td>\n",
       "      <td>[12-23[</td>\n",
       "      <td>[64-76[</td>\n",
       "      <td>[34964-38348[</td>\n",
       "      <td>[31-34[</td>\n",
       "      <td>[61-67[</td>\n",
       "      <td>[36216-37615[</td>\n",
       "    </tr>\n",
       "    <tr>\n",
       "      <th>3</th>\n",
       "      <td>2010-01-01</td>\n",
       "      <td>brun</td>\n",
       "      <td>32</td>\n",
       "      <td>7</td>\n",
       "      <td>37425</td>\n",
       "      <td>M</td>\n",
       "      <td>master</td>\n",
       "      <td>geologie</td>\n",
       "      <td>92.64</td>\n",
       "      <td>oui</td>\n",
       "      <td>...</td>\n",
       "      <td>2010</td>\n",
       "      <td>1</td>\n",
       "      <td>1</td>\n",
       "      <td>[30-35[</td>\n",
       "      <td>[0-7[</td>\n",
       "      <td>[87-144[</td>\n",
       "      <td>[34964-38348[</td>\n",
       "      <td>[31-34[</td>\n",
       "      <td>[90-98[</td>\n",
       "      <td>[36216-37615[</td>\n",
       "    </tr>\n",
       "    <tr>\n",
       "      <th>4</th>\n",
       "      <td>2010-01-01</td>\n",
       "      <td>brun</td>\n",
       "      <td>25</td>\n",
       "      <td>13</td>\n",
       "      <td>46881</td>\n",
       "      <td>M</td>\n",
       "      <td>bac</td>\n",
       "      <td>geologie</td>\n",
       "      <td>29.52</td>\n",
       "      <td>non</td>\n",
       "      <td>...</td>\n",
       "      <td>2010</td>\n",
       "      <td>1</td>\n",
       "      <td>1</td>\n",
       "      <td>[18-30[</td>\n",
       "      <td>[12-23[</td>\n",
       "      <td>[9-64[</td>\n",
       "      <td>[38348-53977[</td>\n",
       "      <td>[24-28[</td>\n",
       "      <td>[9-54[</td>\n",
       "      <td>[41358-53977[</td>\n",
       "    </tr>\n",
       "  </tbody>\n",
       "</table>\n",
       "<p>5 rows × 21 columns</p>\n",
       "</div>"
      ],
      "text/plain": [
       "         date cheveux  age  exp  salaire C_sexe C_diplome C_specialite   note  \\\n",
       "0  2010-01-01   blond   22    8    35554      M    master     geologie  72.41   \n",
       "1  2010-01-01    brun   42    6    38102      M   licence     geologie  72.46   \n",
       "2  2010-01-01    brun   34   14    36232      M   licence     geologie  65.43   \n",
       "3  2010-01-01    brun   32    7    37425      M    master     geologie  92.64   \n",
       "4  2010-01-01    brun   25   13    46881      M       bac     geologie  29.52   \n",
       "\n",
       "  C_dispo  ...  annee  mois  jour    age_Q    exp_Q    note_Q      salaire_Q  \\\n",
       "0     oui  ...   2010     1     1  [18-30[    [7-9[   [64-76[  [34964-38348[   \n",
       "1     non  ...   2010     1     1  [35-42[    [0-7[   [64-76[  [34964-38348[   \n",
       "2     non  ...   2010     1     1  [30-35[  [12-23[   [64-76[  [34964-38348[   \n",
       "3     oui  ...   2010     1     1  [30-35[    [0-7[  [87-144[  [34964-38348[   \n",
       "4     non  ...   2010     1     1  [18-30[  [12-23[    [9-64[  [38348-53977[   \n",
       "\n",
       "     age_D   note_D      salaire_D  \n",
       "0  [18-24[  [71-76[  [34964-36216[  \n",
       "1  [40-43[  [71-76[  [37615-39172[  \n",
       "2  [31-34[  [61-67[  [36216-37615[  \n",
       "3  [31-34[  [90-98[  [36216-37615[  \n",
       "4  [24-28[   [9-54[  [41358-53977[  \n",
       "\n",
       "[5 rows x 21 columns]"
      ]
     },
     "execution_count": 15,
     "metadata": {},
     "output_type": "execute_result"
    }
   ],
   "source": [
    "df_all_data.head()"
   ]
  },
  {
   "cell_type": "markdown",
   "metadata": {},
   "source": [
    "Maintenant, on crée toutes les variables de type \"label encodings\" pour :<br> \n",
    "C_specialite, C_sexe, C_diplome, C_dispo, note_Q, salaire_Q, age_D, note_D et salaire_D"
   ]
  },
  {
   "cell_type": "code",
   "execution_count": 16,
   "metadata": {},
   "outputs": [],
   "source": [
    "#liste_feat_for_label_encodings = ['C_specialite', 'C_sexe', 'C_diplome', 'C_dispo','note_Q', 'salaire_Q', 'age_D', 'note_D','salaire_D']\n",
    "#for each in liste_feat_for_label_encodings:\n",
    "#   f.to_le(df_all_data, each)"
   ]
  },
  {
   "cell_type": "markdown",
   "metadata": {},
   "source": [
    "Ajout des variables du type interactions"
   ]
  },
  {
   "cell_type": "code",
   "execution_count": 17,
   "metadata": {},
   "outputs": [],
   "source": [
    "# def interaction_order(df,list_of_categ_var, order, only_ordre):\n",
    "def interaction_order(df,list_of_categ_var, order):\n",
    "    \n",
    "    initial_list_df = list_of_categ_var\n",
    "    print (list(df))\n",
    "\n",
    "    # if only_ordre == True:\n",
    "    all_interactions = list(combinations(list_of_categ_var,order))\n",
    "\n",
    "    # print (\"Nb d'interactions\", len(all_interactions))\n",
    "    # print (\"Interaction entre : \", all_interactions)\n",
    "\n",
    "    for i in range(0, len(all_interactions)):\n",
    "        # all_inter_variables = []\n",
    "        # print (list(all_interactions[i]))\n",
    "\n",
    "        for each in list(all_interactions[i]):\n",
    "            # New columns of interaction\n",
    "            for each in range(0,order):\n",
    "\n",
    "                # Name of interaction variables\n",
    "                # var_inter_name = 'inter_' + str(i)\n",
    "                \n",
    "                var_inter_name = \"_+_\".join(list(all_interactions[i]))\n",
    "\n",
    "                # df[var_inter_name] = df[list(all_interactions[i])[0]] + '_' + df[list(all_interactions[i])[1]]\n",
    "                if each == 0:\n",
    "                    # print (\"each\", each)\n",
    "                    \n",
    "                    # print (var_inter_name)\n",
    "                    df[var_inter_name] = df[list(all_interactions[i])[each]]\n",
    "                else:\n",
    "                    df[var_inter_name] = df[var_inter_name] + '_' + df[list(all_interactions[i])[each]]\n",
    "\n",
    "                # all_inter_variables.append(var_inter_name)\n",
    "                # print (all_inter_variables)\n",
    "\n",
    "    # Keep only interaction variables in the dataframe\n",
    "    # print (initial_list_df)\n",
    "    df = df.drop(initial_list_df, axis=1)\n",
    "    # df = df[all_inter_variables]\n",
    "    return df"
   ]
  },
  {
   "cell_type": "code",
   "execution_count": 18,
   "metadata": {},
   "outputs": [
    {
     "data": {
      "text/plain": [
       "['C_sexe', 'C_diplome', 'C_specialite', 'C_dispo']"
      ]
     },
     "execution_count": 18,
     "metadata": {},
     "output_type": "execute_result"
    }
   ],
   "source": [
    "all_categorical"
   ]
  },
  {
   "cell_type": "code",
   "execution_count": 19,
   "metadata": {},
   "outputs": [
    {
     "name": "stdout",
     "output_type": "stream",
     "text": [
      "['C_sexe', 'C_diplome', 'C_specialite', 'C_dispo']\n"
     ]
    },
    {
     "name": "stderr",
     "output_type": "stream",
     "text": [
      "/home/osboxes/anaconda3/envs/data/lib/python3.6/site-packages/ipykernel_launcher.py:31: SettingWithCopyWarning: \n",
      "A value is trying to be set on a copy of a slice from a DataFrame.\n",
      "Try using .loc[row_indexer,col_indexer] = value instead\n",
      "\n",
      "See the caveats in the documentation: http://pandas.pydata.org/pandas-docs/stable/indexing.html#indexing-view-versus-copy\n",
      "/home/osboxes/anaconda3/envs/data/lib/python3.6/site-packages/ipykernel_launcher.py:33: SettingWithCopyWarning: \n",
      "A value is trying to be set on a copy of a slice from a DataFrame.\n",
      "Try using .loc[row_indexer,col_indexer] = value instead\n",
      "\n",
      "See the caveats in the documentation: http://pandas.pydata.org/pandas-docs/stable/indexing.html#indexing-view-versus-copy\n"
     ]
    }
   ],
   "source": [
    "df_with_interaction = interaction_order(df_all_data[all_categorical],all_categorical, 2)"
   ]
  },
  {
   "cell_type": "code",
   "execution_count": 20,
   "metadata": {},
   "outputs": [
    {
     "data": {
      "text/plain": [
       "['C_sexe_+_C_diplome',\n",
       " 'C_sexe_+_C_specialite',\n",
       " 'C_sexe_+_C_dispo',\n",
       " 'C_diplome_+_C_specialite',\n",
       " 'C_diplome_+_C_dispo',\n",
       " 'C_specialite_+_C_dispo']"
      ]
     },
     "execution_count": 20,
     "metadata": {},
     "output_type": "execute_result"
    }
   ],
   "source": [
    "list(df_with_interaction)"
   ]
  },
  {
   "cell_type": "code",
   "execution_count": 21,
   "metadata": {},
   "outputs": [],
   "source": [
    "df_all_categorical = df_all_data[all_categorical].applymap(str)\n",
    "df_with_interaction = df_with_interaction.applymap(str)"
   ]
  },
  {
   "cell_type": "code",
   "execution_count": 22,
   "metadata": {},
   "outputs": [],
   "source": [
    "df_before_dummies = pd.concat([df_all_categorical,df_with_interaction], axis = 1)"
   ]
  },
  {
   "cell_type": "code",
   "execution_count": 23,
   "metadata": {},
   "outputs": [
    {
     "data": {
      "text/plain": [
       "['C_sexe',\n",
       " 'C_diplome',\n",
       " 'C_specialite',\n",
       " 'C_dispo',\n",
       " 'C_sexe_+_C_diplome',\n",
       " 'C_sexe_+_C_specialite',\n",
       " 'C_sexe_+_C_dispo',\n",
       " 'C_diplome_+_C_specialite',\n",
       " 'C_diplome_+_C_dispo',\n",
       " 'C_specialite_+_C_dispo']"
      ]
     },
     "execution_count": 23,
     "metadata": {},
     "output_type": "execute_result"
    }
   ],
   "source": [
    "list(df_before_dummies)"
   ]
  },
  {
   "cell_type": "code",
   "execution_count": 24,
   "metadata": {},
   "outputs": [],
   "source": [
    "df_all_dummies = pd.get_dummies(df_before_dummies)"
   ]
  },
  {
   "cell_type": "code",
   "execution_count": 25,
   "metadata": {},
   "outputs": [],
   "source": [
    "#list(df_all_dummies)"
   ]
  },
  {
   "cell_type": "code",
   "execution_count": 26,
   "metadata": {},
   "outputs": [],
   "source": [
    "df_all_data = pd.concat([df_all_data,df_all_dummies], axis = 1)"
   ]
  },
  {
   "cell_type": "code",
   "execution_count": 27,
   "metadata": {},
   "outputs": [],
   "source": [
    "# list(df_all_data)"
   ]
  },
  {
   "cell_type": "code",
   "execution_count": 28,
   "metadata": {},
   "outputs": [],
   "source": [
    "liste_dummy_variables = list(df_all_dummies)"
   ]
  },
  {
   "cell_type": "markdown",
   "metadata": {},
   "source": [
    "On ajoute maintenant toutes les versions encodées avec \"label encodings\"<br> "
   ]
  },
  {
   "cell_type": "code",
   "execution_count": 29,
   "metadata": {},
   "outputs": [
    {
     "data": {
      "text/plain": [
       "['C_sexe',\n",
       " 'C_diplome',\n",
       " 'C_specialite',\n",
       " 'C_dispo',\n",
       " 'C_sexe_+_C_diplome',\n",
       " 'C_sexe_+_C_specialite',\n",
       " 'C_sexe_+_C_dispo',\n",
       " 'C_diplome_+_C_specialite',\n",
       " 'C_diplome_+_C_dispo',\n",
       " 'C_specialite_+_C_dispo']"
      ]
     },
     "execution_count": 29,
     "metadata": {},
     "output_type": "execute_result"
    }
   ],
   "source": [
    "list(df_before_dummies)"
   ]
  },
  {
   "cell_type": "code",
   "execution_count": 30,
   "metadata": {},
   "outputs": [],
   "source": [
    "for each in list(df_before_dummies):\n",
    "    f.to_le(df_before_dummies, each)"
   ]
  },
  {
   "cell_type": "code",
   "execution_count": 31,
   "metadata": {},
   "outputs": [
    {
     "data": {
      "text/html": [
       "<div>\n",
       "<style scoped>\n",
       "    .dataframe tbody tr th:only-of-type {\n",
       "        vertical-align: middle;\n",
       "    }\n",
       "\n",
       "    .dataframe tbody tr th {\n",
       "        vertical-align: top;\n",
       "    }\n",
       "\n",
       "    .dataframe thead th {\n",
       "        text-align: right;\n",
       "    }\n",
       "</style>\n",
       "<table border=\"1\" class=\"dataframe\">\n",
       "  <thead>\n",
       "    <tr style=\"text-align: right;\">\n",
       "      <th></th>\n",
       "      <th>C_sexe</th>\n",
       "      <th>C_diplome</th>\n",
       "      <th>C_specialite</th>\n",
       "      <th>C_dispo</th>\n",
       "      <th>C_sexe_+_C_diplome</th>\n",
       "      <th>C_sexe_+_C_specialite</th>\n",
       "      <th>C_sexe_+_C_dispo</th>\n",
       "      <th>C_diplome_+_C_specialite</th>\n",
       "      <th>C_diplome_+_C_dispo</th>\n",
       "      <th>C_specialite_+_C_dispo</th>\n",
       "      <th>C_sexe_labels_encoding</th>\n",
       "      <th>C_diplome_labels_encoding</th>\n",
       "      <th>C_specialite_labels_encoding</th>\n",
       "      <th>C_dispo_labels_encoding</th>\n",
       "      <th>C_sexe_+_C_diplome_labels_encoding</th>\n",
       "      <th>C_sexe_+_C_specialite_labels_encoding</th>\n",
       "      <th>C_sexe_+_C_dispo_labels_encoding</th>\n",
       "      <th>C_diplome_+_C_specialite_labels_encoding</th>\n",
       "      <th>C_diplome_+_C_dispo_labels_encoding</th>\n",
       "      <th>C_specialite_+_C_dispo_labels_encoding</th>\n",
       "    </tr>\n",
       "  </thead>\n",
       "  <tbody>\n",
       "    <tr>\n",
       "      <th>0</th>\n",
       "      <td>M</td>\n",
       "      <td>master</td>\n",
       "      <td>geologie</td>\n",
       "      <td>oui</td>\n",
       "      <td>M_master</td>\n",
       "      <td>M_geologie</td>\n",
       "      <td>M_oui</td>\n",
       "      <td>master_geologie</td>\n",
       "      <td>master_oui</td>\n",
       "      <td>geologie_oui</td>\n",
       "      <td>1</td>\n",
       "      <td>3</td>\n",
       "      <td>3</td>\n",
       "      <td>1</td>\n",
       "      <td>7</td>\n",
       "      <td>7</td>\n",
       "      <td>3</td>\n",
       "      <td>15</td>\n",
       "      <td>7</td>\n",
       "      <td>7</td>\n",
       "    </tr>\n",
       "    <tr>\n",
       "      <th>1</th>\n",
       "      <td>M</td>\n",
       "      <td>licence</td>\n",
       "      <td>geologie</td>\n",
       "      <td>non</td>\n",
       "      <td>M_licence</td>\n",
       "      <td>M_geologie</td>\n",
       "      <td>M_non</td>\n",
       "      <td>licence_geologie</td>\n",
       "      <td>licence_non</td>\n",
       "      <td>geologie_non</td>\n",
       "      <td>1</td>\n",
       "      <td>2</td>\n",
       "      <td>3</td>\n",
       "      <td>0</td>\n",
       "      <td>6</td>\n",
       "      <td>7</td>\n",
       "      <td>2</td>\n",
       "      <td>11</td>\n",
       "      <td>4</td>\n",
       "      <td>6</td>\n",
       "    </tr>\n",
       "    <tr>\n",
       "      <th>2</th>\n",
       "      <td>M</td>\n",
       "      <td>licence</td>\n",
       "      <td>geologie</td>\n",
       "      <td>non</td>\n",
       "      <td>M_licence</td>\n",
       "      <td>M_geologie</td>\n",
       "      <td>M_non</td>\n",
       "      <td>licence_geologie</td>\n",
       "      <td>licence_non</td>\n",
       "      <td>geologie_non</td>\n",
       "      <td>1</td>\n",
       "      <td>2</td>\n",
       "      <td>3</td>\n",
       "      <td>0</td>\n",
       "      <td>6</td>\n",
       "      <td>7</td>\n",
       "      <td>2</td>\n",
       "      <td>11</td>\n",
       "      <td>4</td>\n",
       "      <td>6</td>\n",
       "    </tr>\n",
       "    <tr>\n",
       "      <th>3</th>\n",
       "      <td>M</td>\n",
       "      <td>master</td>\n",
       "      <td>geologie</td>\n",
       "      <td>oui</td>\n",
       "      <td>M_master</td>\n",
       "      <td>M_geologie</td>\n",
       "      <td>M_oui</td>\n",
       "      <td>master_geologie</td>\n",
       "      <td>master_oui</td>\n",
       "      <td>geologie_oui</td>\n",
       "      <td>1</td>\n",
       "      <td>3</td>\n",
       "      <td>3</td>\n",
       "      <td>1</td>\n",
       "      <td>7</td>\n",
       "      <td>7</td>\n",
       "      <td>3</td>\n",
       "      <td>15</td>\n",
       "      <td>7</td>\n",
       "      <td>7</td>\n",
       "    </tr>\n",
       "    <tr>\n",
       "      <th>4</th>\n",
       "      <td>M</td>\n",
       "      <td>bac</td>\n",
       "      <td>geologie</td>\n",
       "      <td>non</td>\n",
       "      <td>M_bac</td>\n",
       "      <td>M_geologie</td>\n",
       "      <td>M_non</td>\n",
       "      <td>bac_geologie</td>\n",
       "      <td>bac_non</td>\n",
       "      <td>geologie_non</td>\n",
       "      <td>1</td>\n",
       "      <td>0</td>\n",
       "      <td>3</td>\n",
       "      <td>0</td>\n",
       "      <td>4</td>\n",
       "      <td>7</td>\n",
       "      <td>2</td>\n",
       "      <td>3</td>\n",
       "      <td>0</td>\n",
       "      <td>6</td>\n",
       "    </tr>\n",
       "  </tbody>\n",
       "</table>\n",
       "</div>"
      ],
      "text/plain": [
       "  C_sexe C_diplome C_specialite C_dispo C_sexe_+_C_diplome  \\\n",
       "0      M    master     geologie     oui           M_master   \n",
       "1      M   licence     geologie     non          M_licence   \n",
       "2      M   licence     geologie     non          M_licence   \n",
       "3      M    master     geologie     oui           M_master   \n",
       "4      M       bac     geologie     non              M_bac   \n",
       "\n",
       "  C_sexe_+_C_specialite C_sexe_+_C_dispo C_diplome_+_C_specialite  \\\n",
       "0            M_geologie            M_oui          master_geologie   \n",
       "1            M_geologie            M_non         licence_geologie   \n",
       "2            M_geologie            M_non         licence_geologie   \n",
       "3            M_geologie            M_oui          master_geologie   \n",
       "4            M_geologie            M_non             bac_geologie   \n",
       "\n",
       "  C_diplome_+_C_dispo C_specialite_+_C_dispo  C_sexe_labels_encoding  \\\n",
       "0          master_oui           geologie_oui                       1   \n",
       "1         licence_non           geologie_non                       1   \n",
       "2         licence_non           geologie_non                       1   \n",
       "3          master_oui           geologie_oui                       1   \n",
       "4             bac_non           geologie_non                       1   \n",
       "\n",
       "   C_diplome_labels_encoding  C_specialite_labels_encoding  \\\n",
       "0                          3                             3   \n",
       "1                          2                             3   \n",
       "2                          2                             3   \n",
       "3                          3                             3   \n",
       "4                          0                             3   \n",
       "\n",
       "   C_dispo_labels_encoding  C_sexe_+_C_diplome_labels_encoding  \\\n",
       "0                        1                                   7   \n",
       "1                        0                                   6   \n",
       "2                        0                                   6   \n",
       "3                        1                                   7   \n",
       "4                        0                                   4   \n",
       "\n",
       "   C_sexe_+_C_specialite_labels_encoding  C_sexe_+_C_dispo_labels_encoding  \\\n",
       "0                                      7                                 3   \n",
       "1                                      7                                 2   \n",
       "2                                      7                                 2   \n",
       "3                                      7                                 3   \n",
       "4                                      7                                 2   \n",
       "\n",
       "   C_diplome_+_C_specialite_labels_encoding  \\\n",
       "0                                        15   \n",
       "1                                        11   \n",
       "2                                        11   \n",
       "3                                        15   \n",
       "4                                         3   \n",
       "\n",
       "   C_diplome_+_C_dispo_labels_encoding  C_specialite_+_C_dispo_labels_encoding  \n",
       "0                                    7                                       7  \n",
       "1                                    4                                       6  \n",
       "2                                    4                                       6  \n",
       "3                                    7                                       7  \n",
       "4                                    0                                       6  "
      ]
     },
     "execution_count": 31,
     "metadata": {},
     "output_type": "execute_result"
    }
   ],
   "source": [
    "df_before_dummies.head()"
   ]
  },
  {
   "cell_type": "code",
   "execution_count": 32,
   "metadata": {},
   "outputs": [],
   "source": [
    "liste_var_label_encodings = [each for each in list(df_before_dummies) if 'encoding' in each]"
   ]
  },
  {
   "cell_type": "code",
   "execution_count": 33,
   "metadata": {},
   "outputs": [
    {
     "data": {
      "text/plain": [
       "['C_sexe_labels_encoding',\n",
       " 'C_diplome_labels_encoding',\n",
       " 'C_specialite_labels_encoding',\n",
       " 'C_dispo_labels_encoding',\n",
       " 'C_sexe_+_C_diplome_labels_encoding',\n",
       " 'C_sexe_+_C_specialite_labels_encoding',\n",
       " 'C_sexe_+_C_dispo_labels_encoding',\n",
       " 'C_diplome_+_C_specialite_labels_encoding',\n",
       " 'C_diplome_+_C_dispo_labels_encoding',\n",
       " 'C_specialite_+_C_dispo_labels_encoding']"
      ]
     },
     "execution_count": 33,
     "metadata": {},
     "output_type": "execute_result"
    }
   ],
   "source": [
    "liste_var_label_encodings"
   ]
  },
  {
   "cell_type": "code",
   "execution_count": 34,
   "metadata": {},
   "outputs": [],
   "source": [
    "df_all_data = pd.concat([df_all_data,df_before_dummies[liste_var_label_encodings]], axis = 1)"
   ]
  },
  {
   "cell_type": "code",
   "execution_count": 35,
   "metadata": {},
   "outputs": [
    {
     "data": {
      "text/html": [
       "<div>\n",
       "<style scoped>\n",
       "    .dataframe tbody tr th:only-of-type {\n",
       "        vertical-align: middle;\n",
       "    }\n",
       "\n",
       "    .dataframe tbody tr th {\n",
       "        vertical-align: top;\n",
       "    }\n",
       "\n",
       "    .dataframe thead th {\n",
       "        text-align: right;\n",
       "    }\n",
       "</style>\n",
       "<table border=\"1\" class=\"dataframe\">\n",
       "  <thead>\n",
       "    <tr style=\"text-align: right;\">\n",
       "      <th></th>\n",
       "      <th>date</th>\n",
       "      <th>cheveux</th>\n",
       "      <th>age</th>\n",
       "      <th>exp</th>\n",
       "      <th>salaire</th>\n",
       "      <th>C_sexe</th>\n",
       "      <th>C_diplome</th>\n",
       "      <th>C_specialite</th>\n",
       "      <th>note</th>\n",
       "      <th>C_dispo</th>\n",
       "      <th>...</th>\n",
       "      <th>C_sexe_labels_encoding</th>\n",
       "      <th>C_diplome_labels_encoding</th>\n",
       "      <th>C_specialite_labels_encoding</th>\n",
       "      <th>C_dispo_labels_encoding</th>\n",
       "      <th>C_sexe_+_C_diplome_labels_encoding</th>\n",
       "      <th>C_sexe_+_C_specialite_labels_encoding</th>\n",
       "      <th>C_sexe_+_C_dispo_labels_encoding</th>\n",
       "      <th>C_diplome_+_C_specialite_labels_encoding</th>\n",
       "      <th>C_diplome_+_C_dispo_labels_encoding</th>\n",
       "      <th>C_specialite_+_C_dispo_labels_encoding</th>\n",
       "    </tr>\n",
       "  </thead>\n",
       "  <tbody>\n",
       "    <tr>\n",
       "      <th>0</th>\n",
       "      <td>2010-01-01</td>\n",
       "      <td>blond</td>\n",
       "      <td>22</td>\n",
       "      <td>8</td>\n",
       "      <td>35554</td>\n",
       "      <td>M</td>\n",
       "      <td>master</td>\n",
       "      <td>geologie</td>\n",
       "      <td>72.41</td>\n",
       "      <td>oui</td>\n",
       "      <td>...</td>\n",
       "      <td>1</td>\n",
       "      <td>3</td>\n",
       "      <td>3</td>\n",
       "      <td>1</td>\n",
       "      <td>7</td>\n",
       "      <td>7</td>\n",
       "      <td>3</td>\n",
       "      <td>15</td>\n",
       "      <td>7</td>\n",
       "      <td>7</td>\n",
       "    </tr>\n",
       "    <tr>\n",
       "      <th>1</th>\n",
       "      <td>2010-01-01</td>\n",
       "      <td>brun</td>\n",
       "      <td>42</td>\n",
       "      <td>6</td>\n",
       "      <td>38102</td>\n",
       "      <td>M</td>\n",
       "      <td>licence</td>\n",
       "      <td>geologie</td>\n",
       "      <td>72.46</td>\n",
       "      <td>non</td>\n",
       "      <td>...</td>\n",
       "      <td>1</td>\n",
       "      <td>2</td>\n",
       "      <td>3</td>\n",
       "      <td>0</td>\n",
       "      <td>6</td>\n",
       "      <td>7</td>\n",
       "      <td>2</td>\n",
       "      <td>11</td>\n",
       "      <td>4</td>\n",
       "      <td>6</td>\n",
       "    </tr>\n",
       "    <tr>\n",
       "      <th>2</th>\n",
       "      <td>2010-01-01</td>\n",
       "      <td>brun</td>\n",
       "      <td>34</td>\n",
       "      <td>14</td>\n",
       "      <td>36232</td>\n",
       "      <td>M</td>\n",
       "      <td>licence</td>\n",
       "      <td>geologie</td>\n",
       "      <td>65.43</td>\n",
       "      <td>non</td>\n",
       "      <td>...</td>\n",
       "      <td>1</td>\n",
       "      <td>2</td>\n",
       "      <td>3</td>\n",
       "      <td>0</td>\n",
       "      <td>6</td>\n",
       "      <td>7</td>\n",
       "      <td>2</td>\n",
       "      <td>11</td>\n",
       "      <td>4</td>\n",
       "      <td>6</td>\n",
       "    </tr>\n",
       "    <tr>\n",
       "      <th>3</th>\n",
       "      <td>2010-01-01</td>\n",
       "      <td>brun</td>\n",
       "      <td>32</td>\n",
       "      <td>7</td>\n",
       "      <td>37425</td>\n",
       "      <td>M</td>\n",
       "      <td>master</td>\n",
       "      <td>geologie</td>\n",
       "      <td>92.64</td>\n",
       "      <td>oui</td>\n",
       "      <td>...</td>\n",
       "      <td>1</td>\n",
       "      <td>3</td>\n",
       "      <td>3</td>\n",
       "      <td>1</td>\n",
       "      <td>7</td>\n",
       "      <td>7</td>\n",
       "      <td>3</td>\n",
       "      <td>15</td>\n",
       "      <td>7</td>\n",
       "      <td>7</td>\n",
       "    </tr>\n",
       "    <tr>\n",
       "      <th>4</th>\n",
       "      <td>2010-01-01</td>\n",
       "      <td>brun</td>\n",
       "      <td>25</td>\n",
       "      <td>13</td>\n",
       "      <td>46881</td>\n",
       "      <td>M</td>\n",
       "      <td>bac</td>\n",
       "      <td>geologie</td>\n",
       "      <td>29.52</td>\n",
       "      <td>non</td>\n",
       "      <td>...</td>\n",
       "      <td>1</td>\n",
       "      <td>0</td>\n",
       "      <td>3</td>\n",
       "      <td>0</td>\n",
       "      <td>4</td>\n",
       "      <td>7</td>\n",
       "      <td>2</td>\n",
       "      <td>3</td>\n",
       "      <td>0</td>\n",
       "      <td>6</td>\n",
       "    </tr>\n",
       "  </tbody>\n",
       "</table>\n",
       "<p>5 rows × 95 columns</p>\n",
       "</div>"
      ],
      "text/plain": [
       "         date cheveux  age  exp  salaire C_sexe C_diplome C_specialite   note  \\\n",
       "0  2010-01-01   blond   22    8    35554      M    master     geologie  72.41   \n",
       "1  2010-01-01    brun   42    6    38102      M   licence     geologie  72.46   \n",
       "2  2010-01-01    brun   34   14    36232      M   licence     geologie  65.43   \n",
       "3  2010-01-01    brun   32    7    37425      M    master     geologie  92.64   \n",
       "4  2010-01-01    brun   25   13    46881      M       bac     geologie  29.52   \n",
       "\n",
       "  C_dispo  ...  C_sexe_labels_encoding  C_diplome_labels_encoding  \\\n",
       "0     oui  ...                       1                          3   \n",
       "1     non  ...                       1                          2   \n",
       "2     non  ...                       1                          2   \n",
       "3     oui  ...                       1                          3   \n",
       "4     non  ...                       1                          0   \n",
       "\n",
       "   C_specialite_labels_encoding  C_dispo_labels_encoding  \\\n",
       "0                             3                        1   \n",
       "1                             3                        0   \n",
       "2                             3                        0   \n",
       "3                             3                        1   \n",
       "4                             3                        0   \n",
       "\n",
       "  C_sexe_+_C_diplome_labels_encoding C_sexe_+_C_specialite_labels_encoding  \\\n",
       "0                                  7                                     7   \n",
       "1                                  6                                     7   \n",
       "2                                  6                                     7   \n",
       "3                                  7                                     7   \n",
       "4                                  4                                     7   \n",
       "\n",
       "  C_sexe_+_C_dispo_labels_encoding C_diplome_+_C_specialite_labels_encoding  \\\n",
       "0                                3                                       15   \n",
       "1                                2                                       11   \n",
       "2                                2                                       11   \n",
       "3                                3                                       15   \n",
       "4                                2                                        3   \n",
       "\n",
       "  C_diplome_+_C_dispo_labels_encoding C_specialite_+_C_dispo_labels_encoding  \n",
       "0                                   7                                      7  \n",
       "1                                   4                                      6  \n",
       "2                                   4                                      6  \n",
       "3                                   7                                      7  \n",
       "4                                   0                                      6  \n",
       "\n",
       "[5 rows x 95 columns]"
      ]
     },
     "execution_count": 35,
     "metadata": {},
     "output_type": "execute_result"
    }
   ],
   "source": [
    "df_all_data.head()"
   ]
  },
  {
   "cell_type": "markdown",
   "metadata": {},
   "source": [
    "## I Régression logistique avec régularisation L2\n",
    "### On utilise de la cross validation avec  GridSearchCV"
   ]
  },
  {
   "cell_type": "markdown",
   "metadata": {},
   "source": [
    "Liste des variables pour la régression logistique"
   ]
  },
  {
   "cell_type": "code",
   "execution_count": 36,
   "metadata": {},
   "outputs": [
    {
     "data": {
      "text/plain": [
       "(18320, 95)"
      ]
     },
     "execution_count": 36,
     "metadata": {},
     "output_type": "execute_result"
    }
   ],
   "source": [
    "df_all_data.shape"
   ]
  },
  {
   "cell_type": "code",
   "execution_count": null,
   "metadata": {},
   "outputs": [],
   "source": [
    "Holdout en faisant un split des données :\n",
    "- données d'apprentissage avec 70% des données \n",
    "- données de test avec 30% des données"
   ]
  },
  {
   "cell_type": "code",
   "execution_count": 139,
   "metadata": {},
   "outputs": [],
   "source": [
    "Y_train = df_all_data[[target_var_name]]\n",
    "X_train_all_columns, X_test_all_columns, Y_train, Y_test = train_test_split(df_all_data,Y_train,test_size = 0.20,random_state = 56)"
   ]
  },
  {
   "cell_type": "code",
   "execution_count": 203,
   "metadata": {},
   "outputs": [],
   "source": [
    "Y_train = df_all_data[[target_var_name]]\n",
    "X_train_all_columns, X_test_all_columns, Y_train, Y_test = train_test_split(df_all_data,Y_train,test_size = 0.20,random_state = 35)"
   ]
  },
  {
   "cell_type": "code",
   "execution_count": 388,
   "metadata": {},
   "outputs": [
    {
     "data": {
      "text/plain": [
       "(3664, 1)"
      ]
     },
     "execution_count": 388,
     "metadata": {},
     "output_type": "execute_result"
    }
   ],
   "source": [
    "Y_test.shape"
   ]
  },
  {
   "cell_type": "code",
   "execution_count": 387,
   "metadata": {},
   "outputs": [
    {
     "data": {
      "text/plain": [
       "(11724, 95)"
      ]
     },
     "execution_count": 387,
     "metadata": {},
     "output_type": "execute_result"
    }
   ],
   "source": [
    "X_train_all_columns.shape"
   ]
  },
  {
   "cell_type": "code",
   "execution_count": 389,
   "metadata": {},
   "outputs": [
    {
     "data": {
      "text/plain": [
       "(3664, 95)"
      ]
     },
     "execution_count": 389,
     "metadata": {},
     "output_type": "execute_result"
    }
   ],
   "source": [
    "X_test_all_columns.shape"
   ]
  },
  {
   "cell_type": "code",
   "execution_count": 179,
   "metadata": {},
   "outputs": [
    {
     "data": {
      "text/plain": [
       "(14656, 1)"
      ]
     },
     "execution_count": 179,
     "metadata": {},
     "output_type": "execute_result"
    }
   ],
   "source": [
    "Y_train.shape"
   ]
  },
  {
   "cell_type": "markdown",
   "metadata": {},
   "source": [
    "On sélectionne les variables choisies pour la régression logistique"
   ]
  },
  {
   "cell_type": "code",
   "execution_count": 207,
   "metadata": {},
   "outputs": [],
   "source": [
    "#------------------------------------------------------------------------------------------------------------#\n",
    "#------------------ ATTENTION LISTE DES VARIABLES DU MODELE n°1 ---------------------------------------------#\n",
    "#------------------------------------------------------------------------------------------------------------#\n",
    "liste_feat_for_logistic_regression_modele_1 = ['C_sexe_F',\n",
    "'C_sexe_M',\n",
    "'C_diplome_bac',\n",
    "'C_diplome_doctorat',\n",
    "'C_diplome_licence',\n",
    "'C_diplome_master',\n",
    "'C_specialite_archeologie',\n",
    "'C_specialite_detective',\n",
    "'C_specialite_forage',\n",
    "'C_specialite_geologie',\n",
    "'C_dispo_non',\n",
    "'C_dispo_oui',\n",
    "'note',\n",
    "'salaire',\n",
    "'age']"
   ]
  },
  {
   "cell_type": "code",
   "execution_count": 202,
   "metadata": {},
   "outputs": [
    {
     "data": {
      "text/plain": [
       "['C_sexe_F',\n",
       " 'C_sexe_M',\n",
       " 'C_diplome_bac',\n",
       " 'C_diplome_doctorat',\n",
       " 'C_diplome_licence',\n",
       " 'C_diplome_master',\n",
       " 'C_specialite_archeologie',\n",
       " 'C_specialite_detective',\n",
       " 'C_specialite_forage',\n",
       " 'C_specialite_geologie',\n",
       " 'C_dispo_non',\n",
       " 'C_dispo_oui',\n",
       " 'note',\n",
       " 'salaire',\n",
       " 'age']"
      ]
     },
     "execution_count": 202,
     "metadata": {},
     "output_type": "execute_result"
    }
   ],
   "source": [
    "liste_feat_for_logistic_regression_modele_1"
   ]
  },
  {
   "cell_type": "code",
   "execution_count": 319,
   "metadata": {},
   "outputs": [
    {
     "data": {
      "text/plain": [
       "['C_sexe_F',\n",
       " 'C_sexe_M',\n",
       " 'C_diplome_bac',\n",
       " 'C_diplome_doctorat',\n",
       " 'C_diplome_licence',\n",
       " 'C_diplome_master',\n",
       " 'C_specialite_archeologie',\n",
       " 'C_specialite_detective',\n",
       " 'C_specialite_forage',\n",
       " 'C_specialite_geologie',\n",
       " 'C_dispo_non',\n",
       " 'C_dispo_oui',\n",
       " 'C_sexe_+_C_diplome_F_bac',\n",
       " 'C_sexe_+_C_diplome_F_doctorat',\n",
       " 'C_sexe_+_C_diplome_F_licence',\n",
       " 'C_sexe_+_C_diplome_F_master',\n",
       " 'C_sexe_+_C_diplome_M_bac',\n",
       " 'C_sexe_+_C_diplome_M_doctorat',\n",
       " 'C_sexe_+_C_diplome_M_licence',\n",
       " 'C_sexe_+_C_diplome_M_master',\n",
       " 'C_sexe_+_C_specialite_F_archeologie',\n",
       " 'C_sexe_+_C_specialite_F_detective',\n",
       " 'C_sexe_+_C_specialite_F_forage',\n",
       " 'C_sexe_+_C_specialite_F_geologie',\n",
       " 'C_sexe_+_C_specialite_M_archeologie',\n",
       " 'C_sexe_+_C_specialite_M_detective',\n",
       " 'C_sexe_+_C_specialite_M_forage',\n",
       " 'C_sexe_+_C_specialite_M_geologie',\n",
       " 'C_sexe_+_C_dispo_F_non',\n",
       " 'C_sexe_+_C_dispo_F_oui',\n",
       " 'C_sexe_+_C_dispo_M_non',\n",
       " 'C_sexe_+_C_dispo_M_oui',\n",
       " 'C_diplome_+_C_specialite_bac_archeologie',\n",
       " 'C_diplome_+_C_specialite_bac_detective',\n",
       " 'C_diplome_+_C_specialite_bac_forage',\n",
       " 'C_diplome_+_C_specialite_bac_geologie',\n",
       " 'C_diplome_+_C_specialite_doctorat_archeologie',\n",
       " 'C_diplome_+_C_specialite_doctorat_detective',\n",
       " 'C_diplome_+_C_specialite_doctorat_forage',\n",
       " 'C_diplome_+_C_specialite_doctorat_geologie',\n",
       " 'C_diplome_+_C_specialite_licence_archeologie',\n",
       " 'C_diplome_+_C_specialite_licence_detective',\n",
       " 'C_diplome_+_C_specialite_licence_forage',\n",
       " 'C_diplome_+_C_specialite_licence_geologie',\n",
       " 'C_diplome_+_C_specialite_master_archeologie',\n",
       " 'C_diplome_+_C_specialite_master_detective',\n",
       " 'C_diplome_+_C_specialite_master_forage',\n",
       " 'C_diplome_+_C_specialite_master_geologie',\n",
       " 'C_diplome_+_C_dispo_bac_non',\n",
       " 'C_diplome_+_C_dispo_bac_oui',\n",
       " 'C_diplome_+_C_dispo_doctorat_non',\n",
       " 'C_diplome_+_C_dispo_doctorat_oui',\n",
       " 'C_diplome_+_C_dispo_licence_non',\n",
       " 'C_diplome_+_C_dispo_licence_oui',\n",
       " 'C_diplome_+_C_dispo_master_non',\n",
       " 'C_diplome_+_C_dispo_master_oui',\n",
       " 'C_specialite_+_C_dispo_archeologie_non',\n",
       " 'C_specialite_+_C_dispo_archeologie_oui',\n",
       " 'C_specialite_+_C_dispo_detective_non',\n",
       " 'C_specialite_+_C_dispo_detective_oui',\n",
       " 'C_specialite_+_C_dispo_forage_non',\n",
       " 'C_specialite_+_C_dispo_forage_oui',\n",
       " 'C_specialite_+_C_dispo_geologie_non',\n",
       " 'C_specialite_+_C_dispo_geologie_oui',\n",
       " 'note',\n",
       " 'salaire',\n",
       " 'age']"
      ]
     },
     "execution_count": 319,
     "metadata": {},
     "output_type": "execute_result"
    }
   ],
   "source": [
    "init = []\n",
    "init.append(liste_dummy_variables)\n",
    "numeric_var_to_add = ['note', 'salaire', 'age']\n",
    "init.append(numeric_var_to_add)\n",
    "\n",
    "liste_feat_for_logistic_regression_modele_2 = list(chain(*init))\n",
    "liste_feat_for_logistic_regression_modele_2"
   ]
  },
  {
   "cell_type": "code",
   "execution_count": 321,
   "metadata": {},
   "outputs": [],
   "source": [
    "X_train = X_train_all_columns[liste_feat_for_logistic_regression_modele_1]\n",
    "X_train = X_train_all_columns[liste_feat_for_logistic_regression_modele_2]"
   ]
  },
  {
   "cell_type": "code",
   "execution_count": 322,
   "metadata": {},
   "outputs": [
    {
     "data": {
      "text/plain": [
       "(14656, 95)"
      ]
     },
     "execution_count": 322,
     "metadata": {},
     "output_type": "execute_result"
    }
   ],
   "source": [
    "X_train_all_columns.shape"
   ]
  },
  {
   "cell_type": "code",
   "execution_count": 323,
   "metadata": {},
   "outputs": [
    {
     "data": {
      "text/plain": [
       "(14656, 67)"
      ]
     },
     "execution_count": 323,
     "metadata": {},
     "output_type": "execute_result"
    }
   ],
   "source": [
    "X_train.shape"
   ]
  },
  {
   "cell_type": "code",
   "execution_count": 324,
   "metadata": {},
   "outputs": [
    {
     "data": {
      "text/plain": [
       "['C_sexe_F',\n",
       " 'C_sexe_M',\n",
       " 'C_diplome_bac',\n",
       " 'C_diplome_doctorat',\n",
       " 'C_diplome_licence',\n",
       " 'C_diplome_master',\n",
       " 'C_specialite_archeologie',\n",
       " 'C_specialite_detective',\n",
       " 'C_specialite_forage',\n",
       " 'C_specialite_geologie',\n",
       " 'C_dispo_non',\n",
       " 'C_dispo_oui',\n",
       " 'C_sexe_+_C_diplome_F_bac',\n",
       " 'C_sexe_+_C_diplome_F_doctorat',\n",
       " 'C_sexe_+_C_diplome_F_licence',\n",
       " 'C_sexe_+_C_diplome_F_master',\n",
       " 'C_sexe_+_C_diplome_M_bac',\n",
       " 'C_sexe_+_C_diplome_M_doctorat',\n",
       " 'C_sexe_+_C_diplome_M_licence',\n",
       " 'C_sexe_+_C_diplome_M_master',\n",
       " 'C_sexe_+_C_specialite_F_archeologie',\n",
       " 'C_sexe_+_C_specialite_F_detective',\n",
       " 'C_sexe_+_C_specialite_F_forage',\n",
       " 'C_sexe_+_C_specialite_F_geologie',\n",
       " 'C_sexe_+_C_specialite_M_archeologie',\n",
       " 'C_sexe_+_C_specialite_M_detective',\n",
       " 'C_sexe_+_C_specialite_M_forage',\n",
       " 'C_sexe_+_C_specialite_M_geologie',\n",
       " 'C_sexe_+_C_dispo_F_non',\n",
       " 'C_sexe_+_C_dispo_F_oui',\n",
       " 'C_sexe_+_C_dispo_M_non',\n",
       " 'C_sexe_+_C_dispo_M_oui',\n",
       " 'C_diplome_+_C_specialite_bac_archeologie',\n",
       " 'C_diplome_+_C_specialite_bac_detective',\n",
       " 'C_diplome_+_C_specialite_bac_forage',\n",
       " 'C_diplome_+_C_specialite_bac_geologie',\n",
       " 'C_diplome_+_C_specialite_doctorat_archeologie',\n",
       " 'C_diplome_+_C_specialite_doctorat_detective',\n",
       " 'C_diplome_+_C_specialite_doctorat_forage',\n",
       " 'C_diplome_+_C_specialite_doctorat_geologie',\n",
       " 'C_diplome_+_C_specialite_licence_archeologie',\n",
       " 'C_diplome_+_C_specialite_licence_detective',\n",
       " 'C_diplome_+_C_specialite_licence_forage',\n",
       " 'C_diplome_+_C_specialite_licence_geologie',\n",
       " 'C_diplome_+_C_specialite_master_archeologie',\n",
       " 'C_diplome_+_C_specialite_master_detective',\n",
       " 'C_diplome_+_C_specialite_master_forage',\n",
       " 'C_diplome_+_C_specialite_master_geologie',\n",
       " 'C_diplome_+_C_dispo_bac_non',\n",
       " 'C_diplome_+_C_dispo_bac_oui',\n",
       " 'C_diplome_+_C_dispo_doctorat_non',\n",
       " 'C_diplome_+_C_dispo_doctorat_oui',\n",
       " 'C_diplome_+_C_dispo_licence_non',\n",
       " 'C_diplome_+_C_dispo_licence_oui',\n",
       " 'C_diplome_+_C_dispo_master_non',\n",
       " 'C_diplome_+_C_dispo_master_oui',\n",
       " 'C_specialite_+_C_dispo_archeologie_non',\n",
       " 'C_specialite_+_C_dispo_archeologie_oui',\n",
       " 'C_specialite_+_C_dispo_detective_non',\n",
       " 'C_specialite_+_C_dispo_detective_oui',\n",
       " 'C_specialite_+_C_dispo_forage_non',\n",
       " 'C_specialite_+_C_dispo_forage_oui',\n",
       " 'C_specialite_+_C_dispo_geologie_non',\n",
       " 'C_specialite_+_C_dispo_geologie_oui',\n",
       " 'note',\n",
       " 'salaire',\n",
       " 'age']"
      ]
     },
     "execution_count": 324,
     "metadata": {},
     "output_type": "execute_result"
    }
   ],
   "source": [
    "list(X_train)"
   ]
  },
  {
   "cell_type": "markdown",
   "metadata": {},
   "source": [
    "Centrage-réduction des variables numériques utilisées: note, salaire et age"
   ]
  },
  {
   "cell_type": "code",
   "execution_count": 325,
   "metadata": {},
   "outputs": [],
   "source": [
    "all_numeric_to_scale = ['note', 'salaire', 'age']\n",
    "scaler = StandardScaler()\n",
    "X_train_scaled = pd.DataFrame.from_records(scaler.fit_transform(X_train[all_numeric_to_scale]))"
   ]
  },
  {
   "cell_type": "code",
   "execution_count": 327,
   "metadata": {},
   "outputs": [],
   "source": [
    "X_train_scaled.columns = all_numeric_to_scale\n",
    "X_train = X_train.drop(all_numeric_to_scale, axis=1)"
   ]
  },
  {
   "cell_type": "code",
   "execution_count": 329,
   "metadata": {},
   "outputs": [],
   "source": [
    "# len(Y_train[Y_train[\"embauche\"] == 1])/len(Y_train)"
   ]
  },
  {
   "cell_type": "code",
   "execution_count": 331,
   "metadata": {},
   "outputs": [],
   "source": [
    "X_train.index = X_train_scaled.index\n",
    "X_train = pd.concat([X_train,X_train_scaled], axis = 1)"
   ]
  },
  {
   "cell_type": "code",
   "execution_count": 332,
   "metadata": {},
   "outputs": [
    {
     "data": {
      "text/html": [
       "<div>\n",
       "<style scoped>\n",
       "    .dataframe tbody tr th:only-of-type {\n",
       "        vertical-align: middle;\n",
       "    }\n",
       "\n",
       "    .dataframe tbody tr th {\n",
       "        vertical-align: top;\n",
       "    }\n",
       "\n",
       "    .dataframe thead th {\n",
       "        text-align: right;\n",
       "    }\n",
       "</style>\n",
       "<table border=\"1\" class=\"dataframe\">\n",
       "  <thead>\n",
       "    <tr style=\"text-align: right;\">\n",
       "      <th></th>\n",
       "      <th>note</th>\n",
       "      <th>salaire</th>\n",
       "      <th>age</th>\n",
       "    </tr>\n",
       "  </thead>\n",
       "  <tbody>\n",
       "    <tr>\n",
       "      <th>0</th>\n",
       "      <td>-0.073990</td>\n",
       "      <td>1.031269</td>\n",
       "      <td>0.482706</td>\n",
       "    </tr>\n",
       "    <tr>\n",
       "      <th>1</th>\n",
       "      <td>1.752051</td>\n",
       "      <td>-1.204594</td>\n",
       "      <td>0.254311</td>\n",
       "    </tr>\n",
       "    <tr>\n",
       "      <th>2</th>\n",
       "      <td>0.831764</td>\n",
       "      <td>-0.716654</td>\n",
       "      <td>-1.344454</td>\n",
       "    </tr>\n",
       "    <tr>\n",
       "      <th>3</th>\n",
       "      <td>0.472485</td>\n",
       "      <td>0.974768</td>\n",
       "      <td>-0.887664</td>\n",
       "    </tr>\n",
       "    <tr>\n",
       "      <th>4</th>\n",
       "      <td>-3.273776</td>\n",
       "      <td>1.571717</td>\n",
       "      <td>-0.545072</td>\n",
       "    </tr>\n",
       "  </tbody>\n",
       "</table>\n",
       "</div>"
      ],
      "text/plain": [
       "       note   salaire       age\n",
       "0 -0.073990  1.031269  0.482706\n",
       "1  1.752051 -1.204594  0.254311\n",
       "2  0.831764 -0.716654 -1.344454\n",
       "3  0.472485  0.974768 -0.887664\n",
       "4 -3.273776  1.571717 -0.545072"
      ]
     },
     "execution_count": 332,
     "metadata": {},
     "output_type": "execute_result"
    }
   ],
   "source": [
    "X_train[all_numeric_to_scale].head()"
   ]
  },
  {
   "cell_type": "code",
   "execution_count": 333,
   "metadata": {},
   "outputs": [
    {
     "data": {
      "text/plain": [
       "(14656, 67)"
      ]
     },
     "execution_count": 333,
     "metadata": {},
     "output_type": "execute_result"
    }
   ],
   "source": [
    "# X_train.shape"
   ]
  },
  {
   "cell_type": "code",
   "execution_count": 338,
   "metadata": {},
   "outputs": [
    {
     "name": "stdout",
     "output_type": "stream",
     "text": [
      "CPU times: user 2.34 s, sys: 617 ms, total: 2.95 s\n",
      "Wall time: 29.1 s\n"
     ]
    },
    {
     "data": {
      "text/plain": [
       "GridSearchCV(cv=5, error_score='raise-deprecating',\n",
       "             estimator=LogisticRegression(C=1.0, class_weight=None, dual=False,\n",
       "                                          fit_intercept=True,\n",
       "                                          intercept_scaling=1, l1_ratio=None,\n",
       "                                          max_iter=100, multi_class='warn',\n",
       "                                          n_jobs=None, penalty='l2',\n",
       "                                          random_state=None, solver='newton-cg',\n",
       "                                          tol=0.0001, verbose=0,\n",
       "                                          warm_start=False),\n",
       "             iid='warn', n_jobs=4,\n",
       "             param_grid={'C': [0.009, 0.005, 0.001, 0.1, 1, 2, 3, 4, 5, 10]},\n",
       "             pre_dispatch='2*n_jobs', refit=True, return_train_score=True,\n",
       "             scoring='roc_auc', verbose=0)"
      ]
     },
     "execution_count": 338,
     "metadata": {},
     "output_type": "execute_result"
    }
   ],
   "source": [
    "%%time\n",
    "\n",
    "model = LogisticRegression(solver = \"newton-cg\")\n",
    "parameters = {'C':[0.009, 0.005,0.001, 0.1,1,2,3,4,5,10]}\n",
    "\n",
    "grid_logistic = GridSearchCV(model,parameters, scoring='roc_auc', cv=5, n_jobs = 4, return_train_score = True)\n",
    "grid_logistic.fit(X_train.values, Y_train.values.ravel())"
   ]
  },
  {
   "cell_type": "markdown",
   "metadata": {},
   "source": [
    "Sans interactions + numériques standardisées : meilleur AUC = 0.59 environ sur validation set"
   ]
  },
  {
   "cell_type": "code",
   "execution_count": 792,
   "metadata": {},
   "outputs": [
    {
     "data": {
      "text/html": [
       "<div>\n",
       "<style scoped>\n",
       "    .dataframe tbody tr th:only-of-type {\n",
       "        vertical-align: middle;\n",
       "    }\n",
       "\n",
       "    .dataframe tbody tr th {\n",
       "        vertical-align: top;\n",
       "    }\n",
       "\n",
       "    .dataframe thead th {\n",
       "        text-align: right;\n",
       "    }\n",
       "</style>\n",
       "<table border=\"1\" class=\"dataframe\">\n",
       "  <thead>\n",
       "    <tr style=\"text-align: right;\">\n",
       "      <th></th>\n",
       "      <th>mean_fit_time</th>\n",
       "      <th>std_fit_time</th>\n",
       "      <th>mean_score_time</th>\n",
       "      <th>std_score_time</th>\n",
       "      <th>param_C</th>\n",
       "      <th>params</th>\n",
       "      <th>split0_test_score</th>\n",
       "      <th>split1_test_score</th>\n",
       "      <th>split2_test_score</th>\n",
       "      <th>split3_test_score</th>\n",
       "      <th>split4_test_score</th>\n",
       "      <th>mean_test_score</th>\n",
       "      <th>std_test_score</th>\n",
       "      <th>rank_test_score</th>\n",
       "    </tr>\n",
       "  </thead>\n",
       "  <tbody>\n",
       "    <tr>\n",
       "      <th>3</th>\n",
       "      <td>0.994927</td>\n",
       "      <td>0.207627</td>\n",
       "      <td>0.012554</td>\n",
       "      <td>0.0049</td>\n",
       "      <td>0.1</td>\n",
       "      <td>{'C': 0.1}</td>\n",
       "      <td>0.593831</td>\n",
       "      <td>0.612776</td>\n",
       "      <td>0.553898</td>\n",
       "      <td>0.60498</td>\n",
       "      <td>0.587619</td>\n",
       "      <td>0.590621</td>\n",
       "      <td>0.020321</td>\n",
       "      <td>1</td>\n",
       "    </tr>\n",
       "  </tbody>\n",
       "</table>\n",
       "</div>"
      ],
      "text/plain": [
       "   mean_fit_time  std_fit_time  mean_score_time  std_score_time param_C  \\\n",
       "3       0.994927      0.207627         0.012554          0.0049     0.1   \n",
       "\n",
       "       params  split0_test_score  split1_test_score  split2_test_score  \\\n",
       "3  {'C': 0.1}           0.593831           0.612776           0.553898   \n",
       "\n",
       "   split3_test_score  split4_test_score  mean_test_score  std_test_score  \\\n",
       "3            0.60498           0.587619         0.590621        0.020321   \n",
       "\n",
       "   rank_test_score  \n",
       "3                1  "
      ]
     },
     "execution_count": 792,
     "metadata": {},
     "output_type": "execute_result"
    }
   ],
   "source": [
    "pd.DataFrame(grid_logistic.cv_results_)[pd.DataFrame(grid_logistic.cv_results_)['rank_test_score'] == 1]"
   ]
  },
  {
   "cell_type": "markdown",
   "metadata": {},
   "source": [
    "Interactions + variables numériques centrées: meilleur modèle avec AUC = 0.77"
   ]
  },
  {
   "cell_type": "code",
   "execution_count": 358,
   "metadata": {},
   "outputs": [
    {
     "data": {
      "text/html": [
       "<div>\n",
       "<style scoped>\n",
       "    .dataframe tbody tr th:only-of-type {\n",
       "        vertical-align: middle;\n",
       "    }\n",
       "\n",
       "    .dataframe tbody tr th {\n",
       "        vertical-align: top;\n",
       "    }\n",
       "\n",
       "    .dataframe thead th {\n",
       "        text-align: right;\n",
       "    }\n",
       "</style>\n",
       "<table border=\"1\" class=\"dataframe\">\n",
       "  <thead>\n",
       "    <tr style=\"text-align: right;\">\n",
       "      <th></th>\n",
       "      <th>mean_fit_time</th>\n",
       "      <th>std_fit_time</th>\n",
       "      <th>mean_score_time</th>\n",
       "      <th>std_score_time</th>\n",
       "      <th>param_C</th>\n",
       "      <th>params</th>\n",
       "      <th>split0_test_score</th>\n",
       "      <th>split1_test_score</th>\n",
       "      <th>split2_test_score</th>\n",
       "      <th>split3_test_score</th>\n",
       "      <th>...</th>\n",
       "      <th>mean_test_score</th>\n",
       "      <th>std_test_score</th>\n",
       "      <th>rank_test_score</th>\n",
       "      <th>split0_train_score</th>\n",
       "      <th>split1_train_score</th>\n",
       "      <th>split2_train_score</th>\n",
       "      <th>split3_train_score</th>\n",
       "      <th>split4_train_score</th>\n",
       "      <th>mean_train_score</th>\n",
       "      <th>std_train_score</th>\n",
       "    </tr>\n",
       "  </thead>\n",
       "  <tbody>\n",
       "    <tr>\n",
       "      <th>6</th>\n",
       "      <td>2.649392</td>\n",
       "      <td>0.273929</td>\n",
       "      <td>0.017204</td>\n",
       "      <td>0.005148</td>\n",
       "      <td>3</td>\n",
       "      <td>{'C': 3}</td>\n",
       "      <td>0.771149</td>\n",
       "      <td>0.760693</td>\n",
       "      <td>0.779562</td>\n",
       "      <td>0.780633</td>\n",
       "      <td>...</td>\n",
       "      <td>0.770273</td>\n",
       "      <td>0.009011</td>\n",
       "      <td>1</td>\n",
       "      <td>0.778286</td>\n",
       "      <td>0.780699</td>\n",
       "      <td>0.775219</td>\n",
       "      <td>0.776489</td>\n",
       "      <td>0.782728</td>\n",
       "      <td>0.778684</td>\n",
       "      <td>0.002735</td>\n",
       "    </tr>\n",
       "  </tbody>\n",
       "</table>\n",
       "<p>1 rows × 21 columns</p>\n",
       "</div>"
      ],
      "text/plain": [
       "   mean_fit_time  std_fit_time  mean_score_time  std_score_time param_C  \\\n",
       "6       2.649392      0.273929         0.017204        0.005148       3   \n",
       "\n",
       "     params  split0_test_score  split1_test_score  split2_test_score  \\\n",
       "6  {'C': 3}           0.771149           0.760693           0.779562   \n",
       "\n",
       "   split3_test_score  ...  mean_test_score  std_test_score  rank_test_score  \\\n",
       "6           0.780633  ...         0.770273        0.009011                1   \n",
       "\n",
       "   split0_train_score  split1_train_score  split2_train_score  \\\n",
       "6            0.778286            0.780699            0.775219   \n",
       "\n",
       "   split3_train_score  split4_train_score  mean_train_score  std_train_score  \n",
       "6            0.776489            0.782728          0.778684         0.002735  \n",
       "\n",
       "[1 rows x 21 columns]"
      ]
     },
     "execution_count": 358,
     "metadata": {},
     "output_type": "execute_result"
    }
   ],
   "source": [
    "pd.DataFrame(grid_logistic.cv_results_)[pd.DataFrame(grid_logistic.cv_results_)['rank_test_score'] == 1]"
   ]
  },
  {
   "cell_type": "markdown",
   "metadata": {},
   "source": [
    "On pourrait créer un autre modèle avec les variables note, salaire et age<br>\n",
    "recodées grâce aux arbres CHAID"
   ]
  },
  {
   "cell_type": "markdown",
   "metadata": {},
   "source": [
    "## II XGBoost d'abord avec Holdout"
   ]
  },
  {
   "cell_type": "markdown",
   "metadata": {},
   "source": [
    "Liste variables Modèle n°1"
   ]
  },
  {
   "cell_type": "code",
   "execution_count": 359,
   "metadata": {},
   "outputs": [],
   "source": [
    "liste_feat_le_for_xgboost = [each for each in list(df_all_data) if 'labels_encoding' in each and '_+_' not in each]"
   ]
  },
  {
   "cell_type": "code",
   "execution_count": 360,
   "metadata": {},
   "outputs": [],
   "source": [
    "init = []\n",
    "init.append(liste_feat_le_for_xgboost)\n",
    "numeric_var_to_add = ['note', 'salaire', 'age']\n",
    "init.append(numeric_var_to_add)\n",
    "\n",
    "liste_feat_for_xgboost_modele_1 = list(chain(*init))"
   ]
  },
  {
   "cell_type": "code",
   "execution_count": 361,
   "metadata": {},
   "outputs": [
    {
     "data": {
      "text/plain": [
       "['C_sexe_labels_encoding',\n",
       " 'C_diplome_labels_encoding',\n",
       " 'C_specialite_labels_encoding',\n",
       " 'C_dispo_labels_encoding',\n",
       " 'note',\n",
       " 'salaire',\n",
       " 'age']"
      ]
     },
     "execution_count": 361,
     "metadata": {},
     "output_type": "execute_result"
    }
   ],
   "source": [
    "liste_feat_for_xgboost_modele_1"
   ]
  },
  {
   "cell_type": "markdown",
   "metadata": {},
   "source": [
    "Liste variables Modèle n°2"
   ]
  },
  {
   "cell_type": "code",
   "execution_count": 395,
   "metadata": {},
   "outputs": [],
   "source": [
    "liste_feat_le_for_xgboost = [each for each in list(df_all_data) if 'labels_encoding' in each]"
   ]
  },
  {
   "cell_type": "code",
   "execution_count": 396,
   "metadata": {},
   "outputs": [],
   "source": [
    "init = []\n",
    "init.append(liste_feat_le_for_xgboost)\n",
    "numeric_var_to_add = ['note', 'salaire', 'age']\n",
    "init.append(numeric_var_to_add)\n",
    "\n",
    "liste_feat_for_xgboost_modele_2 = list(chain(*init))"
   ]
  },
  {
   "cell_type": "code",
   "execution_count": 362,
   "metadata": {},
   "outputs": [],
   "source": [
    "Y_train = Y_train[[target_var_name]]\n",
    "X_train_all_columns, X_valid_all_columns, Y_train, Y_valid = train_test_split(X_train_all_columns,Y_train,test_size = 0.20,random_state = 56)"
   ]
  },
  {
   "cell_type": "code",
   "execution_count": 461,
   "metadata": {},
   "outputs": [
    {
     "data": {
      "text/plain": [
       "(11724, 95)"
      ]
     },
     "execution_count": 461,
     "metadata": {},
     "output_type": "execute_result"
    }
   ],
   "source": [
    "X_train_all_columns.shape"
   ]
  },
  {
   "cell_type": "code",
   "execution_count": 555,
   "metadata": {},
   "outputs": [],
   "source": [
    "X_train = X_train_all_columns[liste_feat_for_xgboost_modele_1]\n",
    "X_valid = X_valid_all_columns[liste_feat_for_xgboost_modele_1]"
   ]
  },
  {
   "cell_type": "code",
   "execution_count": 596,
   "metadata": {},
   "outputs": [],
   "source": [
    "X_train = X_train_all_columns[liste_feat_for_xgboost_modele_2]\n",
    "X_valid = X_valid_all_columns[liste_feat_for_xgboost_modele_2]"
   ]
  },
  {
   "cell_type": "code",
   "execution_count": 597,
   "metadata": {},
   "outputs": [
    {
     "data": {
      "text/plain": [
       "['C_sexe_labels_encoding',\n",
       " 'C_diplome_labels_encoding',\n",
       " 'C_specialite_labels_encoding',\n",
       " 'C_dispo_labels_encoding',\n",
       " 'C_sexe_+_C_diplome_labels_encoding',\n",
       " 'C_sexe_+_C_specialite_labels_encoding',\n",
       " 'C_sexe_+_C_dispo_labels_encoding',\n",
       " 'C_diplome_+_C_specialite_labels_encoding',\n",
       " 'C_diplome_+_C_dispo_labels_encoding',\n",
       " 'C_specialite_+_C_dispo_labels_encoding',\n",
       " 'note',\n",
       " 'salaire',\n",
       " 'age']"
      ]
     },
     "execution_count": 597,
     "metadata": {},
     "output_type": "execute_result"
    }
   ],
   "source": [
    "list(X_train)"
   ]
  },
  {
   "cell_type": "code",
   "execution_count": 588,
   "metadata": {},
   "outputs": [
    {
     "data": {
      "text/plain": [
       "(11724, 7)"
      ]
     },
     "execution_count": 588,
     "metadata": {},
     "output_type": "execute_result"
    }
   ],
   "source": [
    "X_train.shape"
   ]
  },
  {
   "cell_type": "code",
   "execution_count": 558,
   "metadata": {},
   "outputs": [
    {
     "name": "stdout",
     "output_type": "stream",
     "text": [
      "CPU times: user 14min 51s, sys: 15.9 s, total: 15min 7s\n",
      "Wall time: 4min 16s\n"
     ]
    }
   ],
   "source": [
    "%%time\n",
    "n_iter = 100\n",
    "# n_iter = 2\n",
    "# df_result_models = pd.DataFrame(columns = ['colsample_bytree','learning_rate','max_depth','n_estimators','subsample','min_child_weight','reg_lambda','AUC_train','AUC_valid'])\n",
    "df_result_models = pd.DataFrame(columns =['colsample_bytree','learning_rate','max_depth','n_estimators','subsample','min_child_weight','reg_lambda','reg_alpha','AUC_train','AUC_valid'])\n",
    "\n",
    "for each in range(1,n_iter):\n",
    "    \n",
    "    #print (each)\n",
    "    \n",
    "    #subsample_value = 1\n",
    "    #reg_lambda_value = 1.5\n",
    "    #reg_alpha_value = 1\n",
    "    #random_state = 14\n",
    "    #n_estimators_value = 200\n",
    "    #max_depth_value = 9\n",
    "    #learning_rate_value = 0.3\n",
    "    #colsample_bytree_value = 1\n",
    "    \n",
    "    subsample_value = np.random.uniform(0.4, 1)\n",
    "    reg_lambda_value = np.random.uniform(1, 5)\n",
    "    reg_alpha_value = np.random.uniform(0.1, 1)\n",
    "    random_state = 14\n",
    "    n_estimators_value = np.random.randint(150, 300)\n",
    "    max_depth_value = np.random.randint(7,15)\n",
    "    learning_rate_value = np.random.uniform(0.03, 0.4)\n",
    "    colsample_bytree_value = np.random.uniform(0.7,1)\n",
    "    \n",
    "#colsample_bytree_value = np.random.uniform(0.3,0.7)\n",
    "#learning_rate_value = np.random.uniform(0.03, 0.3)\n",
    "#max_depth_value = np.random.randint(7,20)\n",
    "#n_estimators_value = np.random.randint(400, 500)\n",
    "#subsample_value = np.random.uniform(0.4, 0.6)\n",
    "#reg_lambda_value = np.random.uniform(5, 20)\n",
    "#min_child_weight_value = np.random.randint(0,300)\n",
    "\n",
    "    xgb_model = xgb.XGBClassifier(\n",
    "    colsample_bytree = colsample_bytree_value,\n",
    "    learning_rate = learning_rate_value,\n",
    "    max_depth = max_depth_value,\n",
    "    n_estimators = n_estimators_value,\n",
    "    subsample = subsample_value,\n",
    "    reg_lambda = reg_lambda_value,\n",
    "    n_jobs = 4,\n",
    "    # min_child_weight = min_child_weight_value,\n",
    "    reg_alpha = reg_alpha_value,\n",
    "    objective='binary:logistic')\n",
    "\n",
    "    xgb_model.fit(X_train, Y_train.values.ravel())\n",
    "    # predicted_values = xgb_model.predict(X_train)\n",
    "    predicted_values = xgb_model.predict_proba(X_train)[:,1]\n",
    "    predicted_values = np.expand_dims(predicted_values, axis=1)\n",
    "    # print (predicted_values)\n",
    "    AUC_train_value = roc_auc_score(Y_train.values, predicted_values)\n",
    "    \n",
    "    predicted_values = xgb_model.predict_proba(X_valid)[:,1]\n",
    "    predicted_values = np.expand_dims(predicted_values, axis=1)\n",
    "    AUC_valid_value = roc_auc_score(Y_valid.values, predicted_values)\n",
    "    \n",
    "    if AUC_train_value != None and AUC_valid_value != None:\n",
    "    \n",
    "        df_result_models = df_result_models.append({'colsample_bytree': colsample_bytree_value, \n",
    "                                 'learning_rate':learning_rate_value,\n",
    "                                 'max_depth':max_depth_value,\n",
    "                                 'n_estimators':n_estimators_value,\n",
    "                                 'subsample':subsample_value,\n",
    "                                 # 'min_child_weight':min_child_weight_value,\n",
    "                                 'reg_lambda':reg_lambda_value,\n",
    "                                 'reg_alpha':reg_lambda_value,\n",
    "                                 'AUC_train':AUC_train_value,\n",
    "                                 'AUC_valid':AUC_valid_value}, ignore_index= True)"
   ]
  },
  {
   "cell_type": "markdown",
   "metadata": {},
   "source": [
    "MODELE n°1:<br>\n",
    "Modèle avec variables catégorielles sans interactions et variables continues brutes:<br>\n",
    "vu l'écart entre l'AUC élevé sur le train set et celui bas sur le train set: SUR-APPRENTISSAGE"
   ]
  },
  {
   "cell_type": "code",
   "execution_count": 560,
   "metadata": {},
   "outputs": [
    {
     "data": {
      "text/html": [
       "<div>\n",
       "<style scoped>\n",
       "    .dataframe tbody tr th:only-of-type {\n",
       "        vertical-align: middle;\n",
       "    }\n",
       "\n",
       "    .dataframe tbody tr th {\n",
       "        vertical-align: top;\n",
       "    }\n",
       "\n",
       "    .dataframe thead th {\n",
       "        text-align: right;\n",
       "    }\n",
       "</style>\n",
       "<table border=\"1\" class=\"dataframe\">\n",
       "  <thead>\n",
       "    <tr style=\"text-align: right;\">\n",
       "      <th></th>\n",
       "      <th>colsample_bytree</th>\n",
       "      <th>learning_rate</th>\n",
       "      <th>max_depth</th>\n",
       "      <th>n_estimators</th>\n",
       "      <th>subsample</th>\n",
       "      <th>min_child_weight</th>\n",
       "      <th>reg_lambda</th>\n",
       "      <th>reg_alpha</th>\n",
       "      <th>AUC_train</th>\n",
       "      <th>AUC_valid</th>\n",
       "    </tr>\n",
       "  </thead>\n",
       "  <tbody>\n",
       "    <tr>\n",
       "      <th>8</th>\n",
       "      <td>0.736988</td>\n",
       "      <td>0.03437</td>\n",
       "      <td>8.0</td>\n",
       "      <td>208.0</td>\n",
       "      <td>0.978803</td>\n",
       "      <td>NaN</td>\n",
       "      <td>3.700518</td>\n",
       "      <td>3.700518</td>\n",
       "      <td>0.93017</td>\n",
       "      <td>0.848732</td>\n",
       "    </tr>\n",
       "  </tbody>\n",
       "</table>\n",
       "</div>"
      ],
      "text/plain": [
       "   colsample_bytree  learning_rate  max_depth  n_estimators  subsample  \\\n",
       "8          0.736988        0.03437        8.0         208.0   0.978803   \n",
       "\n",
       "   min_child_weight  reg_lambda  reg_alpha  AUC_train  AUC_valid  \n",
       "8               NaN    3.700518   3.700518    0.93017   0.848732  "
      ]
     },
     "execution_count": 560,
     "metadata": {},
     "output_type": "execute_result"
    }
   ],
   "source": [
    "df_result_models[df_result_models['AUC_valid'] == max(df_result_models['AUC_valid'])]"
   ]
  },
  {
   "cell_type": "code",
   "execution_count": 386,
   "metadata": {},
   "outputs": [
    {
     "data": {
      "text/html": [
       "<div>\n",
       "<style scoped>\n",
       "    .dataframe tbody tr th:only-of-type {\n",
       "        vertical-align: middle;\n",
       "    }\n",
       "\n",
       "    .dataframe tbody tr th {\n",
       "        vertical-align: top;\n",
       "    }\n",
       "\n",
       "    .dataframe thead th {\n",
       "        text-align: right;\n",
       "    }\n",
       "</style>\n",
       "<table border=\"1\" class=\"dataframe\">\n",
       "  <thead>\n",
       "    <tr style=\"text-align: right;\">\n",
       "      <th></th>\n",
       "      <th>colsample_bytree</th>\n",
       "      <th>learning_rate</th>\n",
       "      <th>max_depth</th>\n",
       "      <th>n_estimators</th>\n",
       "      <th>subsample</th>\n",
       "      <th>min_child_weight</th>\n",
       "      <th>reg_lambda</th>\n",
       "      <th>reg_alpha</th>\n",
       "      <th>AUC_train</th>\n",
       "      <th>AUC_valid</th>\n",
       "    </tr>\n",
       "  </thead>\n",
       "  <tbody>\n",
       "    <tr>\n",
       "      <th>0</th>\n",
       "      <td>1.0</td>\n",
       "      <td>0.3</td>\n",
       "      <td>9.0</td>\n",
       "      <td>200.0</td>\n",
       "      <td>1.0</td>\n",
       "      <td>NaN</td>\n",
       "      <td>1.5</td>\n",
       "      <td>1.5</td>\n",
       "      <td>0.999996</td>\n",
       "      <td>0.655568</td>\n",
       "    </tr>\n",
       "  </tbody>\n",
       "</table>\n",
       "</div>"
      ],
      "text/plain": [
       "   colsample_bytree  learning_rate  max_depth  n_estimators  subsample  \\\n",
       "0               1.0            0.3        9.0         200.0        1.0   \n",
       "\n",
       "   min_child_weight  reg_lambda  reg_alpha  AUC_train  AUC_valid  \n",
       "0               NaN         1.5        1.5   0.999996   0.655568  "
      ]
     },
     "execution_count": 386,
     "metadata": {},
     "output_type": "execute_result"
    }
   ],
   "source": [
    "df_result_models[df_result_models['AUC_valid'] == max(df_result_models['AUC_valid'])]"
   ]
  },
  {
   "cell_type": "code",
   "execution_count": 402,
   "metadata": {},
   "outputs": [
    {
     "data": {
      "text/html": [
       "<div>\n",
       "<style scoped>\n",
       "    .dataframe tbody tr th:only-of-type {\n",
       "        vertical-align: middle;\n",
       "    }\n",
       "\n",
       "    .dataframe tbody tr th {\n",
       "        vertical-align: top;\n",
       "    }\n",
       "\n",
       "    .dataframe thead th {\n",
       "        text-align: right;\n",
       "    }\n",
       "</style>\n",
       "<table border=\"1\" class=\"dataframe\">\n",
       "  <thead>\n",
       "    <tr style=\"text-align: right;\">\n",
       "      <th></th>\n",
       "      <th>colsample_bytree</th>\n",
       "      <th>learning_rate</th>\n",
       "      <th>max_depth</th>\n",
       "      <th>n_estimators</th>\n",
       "      <th>subsample</th>\n",
       "      <th>min_child_weight</th>\n",
       "      <th>reg_lambda</th>\n",
       "      <th>reg_alpha</th>\n",
       "      <th>AUC_train</th>\n",
       "      <th>AUC_valid</th>\n",
       "    </tr>\n",
       "  </thead>\n",
       "  <tbody>\n",
       "    <tr>\n",
       "      <th>41</th>\n",
       "      <td>0.924572</td>\n",
       "      <td>0.375742</td>\n",
       "      <td>13.0</td>\n",
       "      <td>290.0</td>\n",
       "      <td>0.451081</td>\n",
       "      <td>NaN</td>\n",
       "      <td>4.392489</td>\n",
       "      <td>4.392489</td>\n",
       "      <td>0.999995</td>\n",
       "      <td>0.675733</td>\n",
       "    </tr>\n",
       "  </tbody>\n",
       "</table>\n",
       "</div>"
      ],
      "text/plain": [
       "    colsample_bytree  learning_rate  max_depth  n_estimators  subsample  \\\n",
       "41          0.924572       0.375742       13.0         290.0   0.451081   \n",
       "\n",
       "    min_child_weight  reg_lambda  reg_alpha  AUC_train  AUC_valid  \n",
       "41               NaN    4.392489   4.392489   0.999995   0.675733  "
      ]
     },
     "execution_count": 402,
     "metadata": {},
     "output_type": "execute_result"
    }
   ],
   "source": [
    "df_result_models[df_result_models['AUC_valid'] == max(df_result_models['AUC_valid'])]"
   ]
  },
  {
   "cell_type": "code",
   "execution_count": null,
   "metadata": {},
   "outputs": [],
   "source": []
  },
  {
   "cell_type": "code",
   "execution_count": null,
   "metadata": {},
   "outputs": [],
   "source": []
  },
  {
   "cell_type": "code",
   "execution_count": 151,
   "metadata": {},
   "outputs": [
    {
     "data": {
      "text/html": [
       "<div>\n",
       "<style scoped>\n",
       "    .dataframe tbody tr th:only-of-type {\n",
       "        vertical-align: middle;\n",
       "    }\n",
       "\n",
       "    .dataframe tbody tr th {\n",
       "        vertical-align: top;\n",
       "    }\n",
       "\n",
       "    .dataframe thead th {\n",
       "        text-align: right;\n",
       "    }\n",
       "</style>\n",
       "<table border=\"1\" class=\"dataframe\">\n",
       "  <thead>\n",
       "    <tr style=\"text-align: right;\">\n",
       "      <th></th>\n",
       "      <th>colsample_bytree</th>\n",
       "      <th>learning_rate</th>\n",
       "      <th>max_depth</th>\n",
       "      <th>n_estimators</th>\n",
       "      <th>subsample</th>\n",
       "      <th>min_child_weight</th>\n",
       "      <th>reg_lambda</th>\n",
       "      <th>AUC_train</th>\n",
       "      <th>AUC_test</th>\n",
       "    </tr>\n",
       "  </thead>\n",
       "  <tbody>\n",
       "    <tr>\n",
       "      <th>22</th>\n",
       "      <td>0.576115</td>\n",
       "      <td>0.248476</td>\n",
       "      <td>7.0</td>\n",
       "      <td>414.0</td>\n",
       "      <td>0.485057</td>\n",
       "      <td>4.0</td>\n",
       "      <td>7.535752</td>\n",
       "      <td>0.843483</td>\n",
       "      <td>0.645914</td>\n",
       "    </tr>\n",
       "  </tbody>\n",
       "</table>\n",
       "</div>"
      ],
      "text/plain": [
       "    colsample_bytree  learning_rate  max_depth  n_estimators  subsample  \\\n",
       "22          0.576115       0.248476        7.0         414.0   0.485057   \n",
       "\n",
       "    min_child_weight  reg_lambda  AUC_train  AUC_test  \n",
       "22               4.0    7.535752   0.843483  0.645914  "
      ]
     },
     "execution_count": 151,
     "metadata": {},
     "output_type": "execute_result"
    }
   ],
   "source": [
    "df_result_models[df_result_models['AUC_test'] == max(df_result_models['AUC_test'])]"
   ]
  },
  {
   "cell_type": "code",
   "execution_count": null,
   "metadata": {},
   "outputs": [],
   "source": []
  },
  {
   "cell_type": "markdown",
   "metadata": {},
   "source": [
    "MODELE n°2:<br>\n",
    "Modèle avec variables catégorielles + interactions et variables continues brutes: <br>\n",
    "AUC sur validation set = 0.675<br>"
   ]
  },
  {
   "cell_type": "code",
   "execution_count": 457,
   "metadata": {},
   "outputs": [
    {
     "data": {
      "text/html": [
       "<div>\n",
       "<style scoped>\n",
       "    .dataframe tbody tr th:only-of-type {\n",
       "        vertical-align: middle;\n",
       "    }\n",
       "\n",
       "    .dataframe tbody tr th {\n",
       "        vertical-align: top;\n",
       "    }\n",
       "\n",
       "    .dataframe thead th {\n",
       "        text-align: right;\n",
       "    }\n",
       "</style>\n",
       "<table border=\"1\" class=\"dataframe\">\n",
       "  <thead>\n",
       "    <tr style=\"text-align: right;\">\n",
       "      <th></th>\n",
       "      <th>colsample_bytree</th>\n",
       "      <th>learning_rate</th>\n",
       "      <th>max_depth</th>\n",
       "      <th>n_estimators</th>\n",
       "      <th>subsample</th>\n",
       "      <th>min_child_weight</th>\n",
       "      <th>reg_lambda</th>\n",
       "      <th>reg_alpha</th>\n",
       "      <th>AUC_train</th>\n",
       "      <th>AUC_valid</th>\n",
       "    </tr>\n",
       "  </thead>\n",
       "  <tbody>\n",
       "    <tr>\n",
       "      <th>89</th>\n",
       "      <td>0.807463</td>\n",
       "      <td>0.054659</td>\n",
       "      <td>7.0</td>\n",
       "      <td>263.0</td>\n",
       "      <td>0.933423</td>\n",
       "      <td>NaN</td>\n",
       "      <td>4.934085</td>\n",
       "      <td>4.934085</td>\n",
       "      <td>0.948504</td>\n",
       "      <td>0.851293</td>\n",
       "    </tr>\n",
       "  </tbody>\n",
       "</table>\n",
       "</div>"
      ],
      "text/plain": [
       "    colsample_bytree  learning_rate  max_depth  n_estimators  subsample  \\\n",
       "89          0.807463       0.054659        7.0         263.0   0.933423   \n",
       "\n",
       "    min_child_weight  reg_lambda  reg_alpha  AUC_train  AUC_valid  \n",
       "89               NaN    4.934085   4.934085   0.948504   0.851293  "
      ]
     },
     "execution_count": 457,
     "metadata": {},
     "output_type": "execute_result"
    }
   ],
   "source": [
    "#last test\n",
    "df_result_models[df_result_models['AUC_valid'] == max(df_result_models['AUC_valid'])]"
   ]
  },
  {
   "cell_type": "code",
   "execution_count": 406,
   "metadata": {},
   "outputs": [
    {
     "data": {
      "text/html": [
       "<div>\n",
       "<style scoped>\n",
       "    .dataframe tbody tr th:only-of-type {\n",
       "        vertical-align: middle;\n",
       "    }\n",
       "\n",
       "    .dataframe tbody tr th {\n",
       "        vertical-align: top;\n",
       "    }\n",
       "\n",
       "    .dataframe thead th {\n",
       "        text-align: right;\n",
       "    }\n",
       "</style>\n",
       "<table border=\"1\" class=\"dataframe\">\n",
       "  <thead>\n",
       "    <tr style=\"text-align: right;\">\n",
       "      <th></th>\n",
       "      <th>colsample_bytree</th>\n",
       "      <th>learning_rate</th>\n",
       "      <th>max_depth</th>\n",
       "      <th>n_estimators</th>\n",
       "      <th>subsample</th>\n",
       "      <th>min_child_weight</th>\n",
       "      <th>reg_lambda</th>\n",
       "      <th>reg_alpha</th>\n",
       "      <th>AUC_train</th>\n",
       "      <th>AUC_valid</th>\n",
       "    </tr>\n",
       "  </thead>\n",
       "  <tbody>\n",
       "    <tr>\n",
       "      <th>41</th>\n",
       "      <td>0.924572</td>\n",
       "      <td>0.375742</td>\n",
       "      <td>13.0</td>\n",
       "      <td>290.0</td>\n",
       "      <td>0.451081</td>\n",
       "      <td>NaN</td>\n",
       "      <td>4.392489</td>\n",
       "      <td>4.392489</td>\n",
       "      <td>0.999995</td>\n",
       "      <td>0.675733</td>\n",
       "    </tr>\n",
       "  </tbody>\n",
       "</table>\n",
       "</div>"
      ],
      "text/plain": [
       "    colsample_bytree  learning_rate  max_depth  n_estimators  subsample  \\\n",
       "41          0.924572       0.375742       13.0         290.0   0.451081   \n",
       "\n",
       "    min_child_weight  reg_lambda  reg_alpha  AUC_train  AUC_valid  \n",
       "41               NaN    4.392489   4.392489   0.999995   0.675733  "
      ]
     },
     "execution_count": 406,
     "metadata": {},
     "output_type": "execute_result"
    }
   ],
   "source": [
    "df_result_models[df_result_models['AUC_valid'] == max(df_result_models['AUC_valid'])]"
   ]
  },
  {
   "cell_type": "code",
   "execution_count": 403,
   "metadata": {},
   "outputs": [
    {
     "data": {
      "text/html": [
       "<div>\n",
       "<style scoped>\n",
       "    .dataframe tbody tr th:only-of-type {\n",
       "        vertical-align: middle;\n",
       "    }\n",
       "\n",
       "    .dataframe tbody tr th {\n",
       "        vertical-align: top;\n",
       "    }\n",
       "\n",
       "    .dataframe thead th {\n",
       "        text-align: right;\n",
       "    }\n",
       "</style>\n",
       "<table border=\"1\" class=\"dataframe\">\n",
       "  <thead>\n",
       "    <tr style=\"text-align: right;\">\n",
       "      <th></th>\n",
       "      <th>colsample_bytree</th>\n",
       "      <th>learning_rate</th>\n",
       "      <th>max_depth</th>\n",
       "      <th>n_estimators</th>\n",
       "      <th>subsample</th>\n",
       "      <th>min_child_weight</th>\n",
       "      <th>reg_lambda</th>\n",
       "      <th>reg_alpha</th>\n",
       "      <th>AUC_train</th>\n",
       "      <th>AUC_valid</th>\n",
       "    </tr>\n",
       "  </thead>\n",
       "  <tbody>\n",
       "    <tr>\n",
       "      <th>41</th>\n",
       "      <td>0.924572</td>\n",
       "      <td>0.375742</td>\n",
       "      <td>13.0</td>\n",
       "      <td>290.0</td>\n",
       "      <td>0.451081</td>\n",
       "      <td>NaN</td>\n",
       "      <td>4.392489</td>\n",
       "      <td>4.392489</td>\n",
       "      <td>0.999995</td>\n",
       "      <td>0.675733</td>\n",
       "    </tr>\n",
       "  </tbody>\n",
       "</table>\n",
       "</div>"
      ],
      "text/plain": [
       "    colsample_bytree  learning_rate  max_depth  n_estimators  subsample  \\\n",
       "41          0.924572       0.375742       13.0         290.0   0.451081   \n",
       "\n",
       "    min_child_weight  reg_lambda  reg_alpha  AUC_train  AUC_valid  \n",
       "41               NaN    4.392489   4.392489   0.999995   0.675733  "
      ]
     },
     "execution_count": 403,
     "metadata": {},
     "output_type": "execute_result"
    }
   ],
   "source": [
    "df_result_models[df_result_models['AUC_valid'] == max(df_result_models['AUC_valid'])]"
   ]
  },
  {
   "cell_type": "code",
   "execution_count": 157,
   "metadata": {},
   "outputs": [
    {
     "data": {
      "text/html": [
       "<div>\n",
       "<style scoped>\n",
       "    .dataframe tbody tr th:only-of-type {\n",
       "        vertical-align: middle;\n",
       "    }\n",
       "\n",
       "    .dataframe tbody tr th {\n",
       "        vertical-align: top;\n",
       "    }\n",
       "\n",
       "    .dataframe thead th {\n",
       "        text-align: right;\n",
       "    }\n",
       "</style>\n",
       "<table border=\"1\" class=\"dataframe\">\n",
       "  <thead>\n",
       "    <tr style=\"text-align: right;\">\n",
       "      <th></th>\n",
       "      <th>colsample_bytree</th>\n",
       "      <th>learning_rate</th>\n",
       "      <th>max_depth</th>\n",
       "      <th>n_estimators</th>\n",
       "      <th>subsample</th>\n",
       "      <th>min_child_weight</th>\n",
       "      <th>reg_lambda</th>\n",
       "      <th>AUC_train</th>\n",
       "      <th>AUC_test</th>\n",
       "    </tr>\n",
       "  </thead>\n",
       "  <tbody>\n",
       "    <tr>\n",
       "      <th>28</th>\n",
       "      <td>0.591788</td>\n",
       "      <td>0.20813</td>\n",
       "      <td>18.0</td>\n",
       "      <td>471.0</td>\n",
       "      <td>0.562941</td>\n",
       "      <td>9.0</td>\n",
       "      <td>11.780888</td>\n",
       "      <td>0.803912</td>\n",
       "      <td>0.662496</td>\n",
       "    </tr>\n",
       "  </tbody>\n",
       "</table>\n",
       "</div>"
      ],
      "text/plain": [
       "    colsample_bytree  learning_rate  max_depth  n_estimators  subsample  \\\n",
       "28          0.591788        0.20813       18.0         471.0   0.562941   \n",
       "\n",
       "    min_child_weight  reg_lambda  AUC_train  AUC_test  \n",
       "28               9.0   11.780888   0.803912  0.662496  "
      ]
     },
     "execution_count": 157,
     "metadata": {},
     "output_type": "execute_result"
    }
   ],
   "source": [
    "df_result_models[df_result_models['AUC_test'] == max(df_result_models['AUC_test'])]"
   ]
  },
  {
   "cell_type": "markdown",
   "metadata": {},
   "source": [
    "Autre paramétrage essayé en faisant varier les hyperparamètres autour de :"
   ]
  },
  {
   "cell_type": "code",
   "execution_count": null,
   "metadata": {},
   "outputs": [],
   "source": [
    "#learning_rate=0.01,  \n",
    "#colsample_bytree = 0.4,\n",
    "#subsample = 0.8,\n",
    "#\"n_estimators=1000, \n",
    "#reg_alpha = 0.3,\n",
    "#max_depth=4, \n",
    "#gamma=10"
   ]
  },
  {
   "cell_type": "code",
   "execution_count": 598,
   "metadata": {},
   "outputs": [
    {
     "name": "stdout",
     "output_type": "stream",
     "text": [
      "CPU times: user 11min 2s, sys: 11.8 s, total: 11min 14s\n",
      "Wall time: 3min 18s\n"
     ]
    }
   ],
   "source": [
    "%%time\n",
    "n_iter = 100\n",
    "\n",
    "# df_result_models = pd.DataFrame(columns = ['colsample_bytree','gamma','learning_rate','max_depth','n_estimators','subsample','min_child_weight','reg_alpha','AUC_train','AUC_test'])\n",
    "df_result_models = pd.DataFrame(columns = ['colsample_bytree','learning_rate','max_depth','n_estimators','subsample','min_child_weight','reg_lambda','AUC_train','AUC_valid'])\n",
    "\n",
    "for each in range(1,n_iter):\n",
    "    \n",
    "    colsample_bytree_value = np.random.uniform(0.3,0.7)\n",
    "    learning_rate_value = np.random.uniform(0.03, 0.3)\n",
    "    max_depth_value = np.random.randint(7,20)\n",
    "    n_estimators_value = np.random.randint(400, 500)\n",
    "    subsample_value = np.random.uniform(0.4, 0.6)\n",
    "    reg_lambda_value = np.random.uniform(5, 20)\n",
    "    min_child_weight_value = np.random.randint(0,300)\n",
    "    \n",
    "    xgb_model = xgb.XGBClassifier(\n",
    "        colsample_bytree = colsample_bytree_value,\n",
    "        # gamma = gamma_value,\n",
    "        learning_rate = learning_rate_value,\n",
    "        max_depth = max_depth_value,\n",
    "        n_estimators = n_estimators_value,\n",
    "        subsample = subsample_value,\n",
    "        # reg_alpha = reg_alpha_value,\n",
    "        reg_lambda = reg_lambda_value,\n",
    "        n_jobs = 4,\n",
    "        min_child_weight = min_child_weight_value,\n",
    "        objective='binary:logistic')\n",
    "        \n",
    "    result = xgb_model.fit(X_train, Y_train.values.ravel())\n",
    "    predicted_values = xgb_model.predict_proba(X_train)[:,1]\n",
    "    predicted_values = np.expand_dims(predicted_values, axis=1)\n",
    "    AUC_train_value = roc_auc_score(Y_train.values, predicted_values)\n",
    "    \n",
    "    predicted_values = xgb_model.predict_proba(X_valid)[:,1]\n",
    "    predicted_values = np.expand_dims(predicted_values, axis=1)\n",
    "        \n",
    "    AUC_valid_value = roc_auc_score(Y_valid.values, predicted_values)\n",
    "    \n",
    "    if AUC_train_value != None and AUC_valid_value != None:\n",
    "    \n",
    "        df_result_models = df_result_models.append({'colsample_bytree': colsample_bytree_value, \n",
    "                                 # 'gamma':gamma_value,\n",
    "                                 'learning_rate':learning_rate_value,\n",
    "                                 'max_depth':max_depth_value,\n",
    "                                 'n_estimators':n_estimators_value,\n",
    "                                 'subsample':subsample_value,\n",
    "                                 # 'reg_alpha':reg_alpha_value,\n",
    "                                 'reg_lambda':reg_lambda_value,\n",
    "                                 'min_child_weight':min_child_weight_value,                 \n",
    "                                 'AUC_train':AUC_train_value,\n",
    "                                 'AUC_valid':AUC_valid_value}, ignore_index= True)"
   ]
  },
  {
   "cell_type": "markdown",
   "metadata": {},
   "source": [
    "Modèle n°2 : on garde ce paramétrage !!!"
   ]
  },
  {
   "cell_type": "code",
   "execution_count": 471,
   "metadata": {},
   "outputs": [
    {
     "data": {
      "text/html": [
       "<div>\n",
       "<style scoped>\n",
       "    .dataframe tbody tr th:only-of-type {\n",
       "        vertical-align: middle;\n",
       "    }\n",
       "\n",
       "    .dataframe tbody tr th {\n",
       "        vertical-align: top;\n",
       "    }\n",
       "\n",
       "    .dataframe thead th {\n",
       "        text-align: right;\n",
       "    }\n",
       "</style>\n",
       "<table border=\"1\" class=\"dataframe\">\n",
       "  <thead>\n",
       "    <tr style=\"text-align: right;\">\n",
       "      <th></th>\n",
       "      <th>colsample_bytree</th>\n",
       "      <th>learning_rate</th>\n",
       "      <th>max_depth</th>\n",
       "      <th>n_estimators</th>\n",
       "      <th>subsample</th>\n",
       "      <th>min_child_weight</th>\n",
       "      <th>reg_lambda</th>\n",
       "      <th>AUC_train</th>\n",
       "      <th>AUC_valid</th>\n",
       "    </tr>\n",
       "  </thead>\n",
       "  <tbody>\n",
       "    <tr>\n",
       "      <th>75</th>\n",
       "      <td>0.380429</td>\n",
       "      <td>0.065352</td>\n",
       "      <td>10.0</td>\n",
       "      <td>418.0</td>\n",
       "      <td>0.554556</td>\n",
       "      <td>22.0</td>\n",
       "      <td>8.530256</td>\n",
       "      <td>0.890886</td>\n",
       "      <td>0.854466</td>\n",
       "    </tr>\n",
       "  </tbody>\n",
       "</table>\n",
       "</div>"
      ],
      "text/plain": [
       "    colsample_bytree  learning_rate  max_depth  n_estimators  subsample  \\\n",
       "75          0.380429       0.065352       10.0         418.0   0.554556   \n",
       "\n",
       "    min_child_weight  reg_lambda  AUC_train  AUC_valid  \n",
       "75              22.0    8.530256   0.890886   0.854466  "
      ]
     },
     "execution_count": 471,
     "metadata": {},
     "output_type": "execute_result"
    }
   ],
   "source": [
    "df_result_models[df_result_models['AUC_valid'] == max(df_result_models['AUC_valid'])]"
   ]
  },
  {
   "cell_type": "markdown",
   "metadata": {},
   "source": [
    "Automatisation du trick"
   ]
  },
  {
   "cell_type": "markdown",
   "metadata": {},
   "source": [
    "J'ai donc obtenu le meilleur modèle avec les hyperparamètres ci-dessous:"
   ]
  },
  {
   "cell_type": "code",
   "execution_count": 537,
   "metadata": {},
   "outputs": [
    {
     "name": "stdout",
     "output_type": "stream",
     "text": [
      "7\n"
     ]
    }
   ],
   "source": [
    "colsample_bytree_value = np.expand_dims(df_result_best_model['colsample_bytree'], axis=1)[0][0]\n",
    "max_depth_value = int(np.expand_dims(df_result_best_model['max_depth'], axis=1)[0][0])\n",
    "# print (max_depth_value)\n",
    "subsample_value = np.expand_dims(df_result_best_model['subsample'], axis=1)[0][0]\n",
    "min_child_weight_value = int(np.expand_dims(df_result_best_model['min_child_weight'], axis=1)[0][0])\n",
    "reg_lambda_value = np.expand_dims(df_result_best_model['reg_lambda'], axis=1)[0][0]"
   ]
  },
  {
   "cell_type": "code",
   "execution_count": 545,
   "metadata": {},
   "outputs": [],
   "source": [
    "colsample_bytree_value = 0.380429\n",
    "max_depth_value = 10\n",
    "subsample_value = 0.554556\n",
    "min_child_weight_value = 22\n",
    "reg_lambda_value = 8.530256"
   ]
  },
  {
   "cell_type": "markdown",
   "metadata": {},
   "source": [
    "Une pratique connue : multiplier le learning rate par un facteur et augmenter le nombre d'itérations<br>\n",
    "du modèle (le nombre d'arbres réalisés par XGBoost) par ce même facteur"
   ]
  },
  {
   "cell_type": "code",
   "execution_count": 546,
   "metadata": {},
   "outputs": [
    {
     "name": "stdout",
     "output_type": "stream",
     "text": [
      "Learning rate 0.03041987179106644 N_estimators 167\n",
      "[0.08378615 0.2074478  0.07657208 ... 0.6594121  0.20570402 0.11927139]\n",
      "0.8251382723482262 -0.019693725276817675\n",
      "Learning rate 0.01520993589553322 N_estimators 334\n",
      "[0.08085818 0.19814771 0.07036725 ... 0.6793576  0.19554731 0.11275462]\n",
      "0.8264395600445706 -0.019279328054896183\n",
      "Learning rate 0.010139957263688814 N_estimators 501\n",
      "[0.07663392 0.20099325 0.07821682 ... 0.6531381  0.20203337 0.11004473]\n",
      "0.8213882948132706 -0.019703594461617624\n",
      "Learning rate 0.00760496794776661 N_estimators 668\n",
      "[0.08194581 0.19494657 0.07443395 ... 0.654436   0.2025356  0.1120856 ]\n",
      "0.8224733564573523 -0.020793073180564337\n",
      "Learning rate 0.006083974358213288 N_estimators 835\n",
      "[0.08007065 0.19658315 0.07389795 ... 0.6632782  0.2015795  0.1132418 ]\n",
      "0.822887836526365 -0.019622305011521624\n",
      "Learning rate 0.005069978631844407 N_estimators 1002\n",
      "[0.08134559 0.19617102 0.07661271 ... 0.6605071  0.19887221 0.11171853]\n",
      "0.8229080550663168 -0.019703341214569403\n",
      "Learning rate 0.004345695970152348 N_estimators 1169\n",
      "[0.08048061 0.19629017 0.07612163 ... 0.6574644  0.20457555 0.1133576 ]\n",
      "0.8232697422810108 -0.01944915368780864\n",
      "Learning rate 0.003802483973883305 N_estimators 1336\n",
      "[0.08201205 0.1991157  0.07577592 ... 0.6641254  0.20118554 0.11339492]\n",
      "0.8233124258653535 -0.0199359187008189\n",
      "Learning rate 0.0033799857545629376 N_estimators 1503\n",
      "[0.08434231 0.20143373 0.07382435 ... 0.6613382  0.19858734 0.11665103]\n",
      "0.8240380467991806 -0.019752849919321025\n",
      "CPU times: user 2min 25s, sys: 784 ms, total: 2min 26s\n",
      "Wall time: 39.7 s\n"
     ]
    }
   ],
   "source": [
    "%%time\n",
    "\n",
    "learning_rate_init = np.expand_dims(df_result_best_model['learning_rate'], axis=1)[0][0]\n",
    "n_estimators_init = int(np.expand_dims(df_result_best_model['n_estimators'], axis=1)[0][0])\n",
    "\n",
    "#learning_rate_init = 0.065352\n",
    "#n_estimators_init = 418\n",
    "\n",
    "\n",
    "factor_trick = range(1,10)\n",
    "\n",
    "for each in factor_trick:\n",
    "    \n",
    "    \n",
    "    print (\"Learning rate\",learning_rate_init/each,\"N_estimators\", n_estimators_init*each)\n",
    "    xgb_model = xgb.XGBClassifier( \n",
    "            colsample_bytree = colsample_bytree_value,\n",
    "            learning_rate = learning_rate_init/each,\n",
    "            max_depth = max_depth_value,\n",
    "            n_estimators = n_estimators_init*each,\n",
    "            subsample = subsample_value,\n",
    "            n_jobs = 4,\n",
    "            min_child_weight = min_child_weight_value,\n",
    "            reg_lambda = reg_lambda_value,\n",
    "            objective='binary:logistic')\n",
    "\n",
    "    \n",
    "    xgb_model.fit(X_train, Y_train.values.ravel())\n",
    "\n",
    "    #print (\"pb\")\n",
    "    print (xgb_model.predict_proba(X_train)[:,1])\n",
    "    predicted_values = xgb_model.predict_proba(X_train)[:,1]\n",
    "    #print (predicted_values)\n",
    "  \n",
    "    predicted_values = np.expand_dims(predicted_values, axis=1)\n",
    "    #print (predicted_values)\n",
    "    AUC_train_value = roc_auc_score(Y_train.values, predicted_values)\n",
    "\n",
    "    predicted_values = xgb_model.predict_proba(X_valid)[:,1]\n",
    "    predicted_values = np.expand_dims(predicted_values, axis=1)\n",
    "    AUC_valid_value = roc_auc_score(Y_valid.values, predicted_values)\n",
    "    \n",
    "    print (AUC_valid_value, AUC_valid_value - AUC_train_value)"
   ]
  },
  {
   "cell_type": "markdown",
   "metadata": {},
   "source": [
    "Je retiens donc comme meilleur modèle XGBoost avec interactions<br>\n",
    "Regardons maintenant ce que donne la fonctionnalité \"feature importance\" de Scikit-learn<br>\n",
    "ainsi que la performance du modèle sur le test set"
   ]
  },
  {
   "cell_type": "markdown",
   "metadata": {},
   "source": [
    "### Feature importances\n",
    "C'est la décroissance suivant l'impureté d'un noeud"
   ]
  },
  {
   "cell_type": "code",
   "execution_count": 577,
   "metadata": {},
   "outputs": [
    {
     "data": {
      "text/plain": [
       "LogisticRegression(C=3, class_weight=None, dual=False, fit_intercept=True,\n",
       "                   intercept_scaling=1, l1_ratio=None, max_iter=100,\n",
       "                   multi_class='warn', n_jobs=None, penalty='l2',\n",
       "                   random_state=None, solver='newton-cg', tol=0.0001, verbose=0,\n",
       "                   warm_start=False)"
      ]
     },
     "execution_count": 577,
     "metadata": {},
     "output_type": "execute_result"
    }
   ],
   "source": [
    "grid_logistic.best_estimator_"
   ]
  },
  {
   "cell_type": "code",
   "execution_count": 590,
   "metadata": {},
   "outputs": [
    {
     "data": {
      "text/plain": [
       "['C_sexe_labels_encoding',\n",
       " 'C_diplome_labels_encoding',\n",
       " 'C_specialite_labels_encoding',\n",
       " 'C_dispo_labels_encoding',\n",
       " 'note',\n",
       " 'salaire',\n",
       " 'age']"
      ]
     },
     "execution_count": 590,
     "metadata": {},
     "output_type": "execute_result"
    }
   ],
   "source": [
    "list(X_train)"
   ]
  },
  {
   "cell_type": "code",
   "execution_count": 595,
   "metadata": {},
   "outputs": [
    {
     "data": {
      "text/plain": [
       "array([0.07122964, 0.09387898, 0.10755617, 0.1494778 , 0.15743233,\n",
       "       0.16508272, 0.25534233], dtype=float32)"
      ]
     },
     "execution_count": 595,
     "metadata": {},
     "output_type": "execute_result"
    }
   ],
   "source": [
    "sort(xgb_model.feature_importances_)"
   ]
  },
  {
   "cell_type": "code",
   "execution_count": 591,
   "metadata": {},
   "outputs": [],
   "source": [
    "dict_feature_importance = {}\n",
    "for each in list(zip(xgb_model.feature_importances_, list(X_train))):\n",
    "    dict_feature_importance[each[0]] = each[1]"
   ]
  },
  {
   "cell_type": "code",
   "execution_count": 592,
   "metadata": {},
   "outputs": [
    {
     "data": {
      "text/plain": [
       "{0.16508272: 'C_sexe_labels_encoding',\n",
       " 0.1494778: 'C_diplome_labels_encoding',\n",
       " 0.15743233: 'C_specialite_labels_encoding',\n",
       " 0.25534233: 'C_dispo_labels_encoding',\n",
       " 0.10755617: 'note',\n",
       " 0.093878984: 'salaire',\n",
       " 0.071229644: 'age'}"
      ]
     },
     "execution_count": 592,
     "metadata": {},
     "output_type": "execute_result"
    }
   ],
   "source": [
    "dict_feature_importance"
   ]
  },
  {
   "cell_type": "markdown",
   "metadata": {},
   "source": [
    "Les variables  de la plus importantes à la moins importante sont:<br>\n",
    "dispo,sexe,specialité,diplome, note, salaire, age"
   ]
  },
  {
   "cell_type": "code",
   "execution_count": null,
   "metadata": {},
   "outputs": [],
   "source": [
    "Modèle n°2 XGBoost"
   ]
  },
  {
   "cell_type": "code",
   "execution_count": 599,
   "metadata": {},
   "outputs": [
    {
     "data": {
      "text/plain": [
       "['C_sexe_labels_encoding',\n",
       " 'C_diplome_labels_encoding',\n",
       " 'C_specialite_labels_encoding',\n",
       " 'C_dispo_labels_encoding',\n",
       " 'C_sexe_+_C_diplome_labels_encoding',\n",
       " 'C_sexe_+_C_specialite_labels_encoding',\n",
       " 'C_sexe_+_C_dispo_labels_encoding',\n",
       " 'C_diplome_+_C_specialite_labels_encoding',\n",
       " 'C_diplome_+_C_dispo_labels_encoding',\n",
       " 'C_specialite_+_C_dispo_labels_encoding',\n",
       " 'note',\n",
       " 'salaire',\n",
       " 'age']"
      ]
     },
     "execution_count": 599,
     "metadata": {},
     "output_type": "execute_result"
    }
   ],
   "source": [
    "list(X_train)"
   ]
  },
  {
   "cell_type": "code",
   "execution_count": 600,
   "metadata": {},
   "outputs": [
    {
     "data": {
      "text/plain": [
       "array([0.04754585, 0.04944193, 0.05185998, 0.0519852 , 0.0534763 ,\n",
       "       0.0567715 , 0.05885064, 0.0680772 , 0.06939473, 0.07284845,\n",
       "       0.08266585, 0.12752241, 0.20956   ], dtype=float32)"
      ]
     },
     "execution_count": 600,
     "metadata": {},
     "output_type": "execute_result"
    }
   ],
   "source": [
    "sort(xgb_model.feature_importances_)"
   ]
  },
  {
   "cell_type": "code",
   "execution_count": 611,
   "metadata": {},
   "outputs": [],
   "source": [
    "dict_feature_importance = {}\n",
    "for each in list(zip(list(X_train),xgb_model.feature_importances_)):\n",
    "    dict_feature_importance[each[0]] = each[1]"
   ]
  },
  {
   "cell_type": "code",
   "execution_count": 612,
   "metadata": {},
   "outputs": [
    {
     "data": {
      "text/plain": [
       "{'C_sexe_labels_encoding': 0.20956,\n",
       " 'C_diplome_labels_encoding': 0.047545854,\n",
       " 'C_specialite_labels_encoding': 0.051985204,\n",
       " 'C_dispo_labels_encoding': 0.06939473,\n",
       " 'C_sexe_+_C_diplome_labels_encoding': 0.0680772,\n",
       " 'C_sexe_+_C_specialite_labels_encoding': 0.07284845,\n",
       " 'C_sexe_+_C_dispo_labels_encoding': 0.058850642,\n",
       " 'C_diplome_+_C_specialite_labels_encoding': 0.0567715,\n",
       " 'C_diplome_+_C_dispo_labels_encoding': 0.0534763,\n",
       " 'C_specialite_+_C_dispo_labels_encoding': 0.12752241,\n",
       " 'note': 0.082665846,\n",
       " 'salaire': 0.051859982,\n",
       " 'age': 0.04944193}"
      ]
     },
     "execution_count": 612,
     "metadata": {},
     "output_type": "execute_result"
    }
   ],
   "source": [
    "dict_feature_importance"
   ]
  },
  {
   "cell_type": "code",
   "execution_count": null,
   "metadata": {},
   "outputs": [],
   "source": [
    "Ordre d'importance: sexe, spécialité*dispo, note,"
   ]
  },
  {
   "cell_type": "code",
   "execution_count": 616,
   "metadata": {},
   "outputs": [
    {
     "data": {
      "image/png": "[encoded data removed]",
      "text/plain": [
       "<Figure size 432x288 with 1 Axes>"
      ]
     },
     "metadata": {
      "needs_background": "light"
     },
     "output_type": "display_data"
    }
   ],
   "source": [
    "import matplotlib.pyplot as plt\n",
    "#import pandas as pd \n",
    "# pd.DataFrame(list(dict_feature_importance.items()), columns=['name_var','value']).plot(kind='bar')\n",
    "\n",
    "names = list(dict_feature_importance.keys())\n",
    "values = list(dict_feature_importance.values())\n",
    "\n",
    "#tick_label does the some work as plt.xticks()\n",
    "plt.bar(range(len(dict_feature_importance)),values,tick_label=names)\n",
    "plt.savefig('bar.png')\n",
    "plt.show()\n",
    "rotation='vertical'"
   ]
  },
  {
   "cell_type": "code",
   "execution_count": null,
   "metadata": {},
   "outputs": [],
   "source": [
    "#### Définition de la métrique AUC:\n",
    "très adaptée de manière générale pour n'importe quelle problématique<br>\n",
    "Et donc, elle permet d'être meilleure qu'une simple métrique de type Accurracy<br>\n",
    "ici au problème des données <déséquilibrées\n"
   ]
  },
  {
   "cell_type": "code",
   "execution_count": null,
   "metadata": {},
   "outputs": [],
   "source": []
  },
  {
   "cell_type": "code",
   "execution_count": null,
   "metadata": {},
   "outputs": [],
   "source": []
  },
  {
   "cell_type": "markdown",
   "metadata": {},
   "source": [
    "### Prédiction modèle n°2 Régression logistique Ridge"
   ]
  },
  {
   "cell_type": "code",
   "execution_count": 340,
   "metadata": {},
   "outputs": [
    {
     "data": {
      "text/html": [
       "<div>\n",
       "<style scoped>\n",
       "    .dataframe tbody tr th:only-of-type {\n",
       "        vertical-align: middle;\n",
       "    }\n",
       "\n",
       "    .dataframe tbody tr th {\n",
       "        vertical-align: top;\n",
       "    }\n",
       "\n",
       "    .dataframe thead th {\n",
       "        text-align: right;\n",
       "    }\n",
       "</style>\n",
       "<table border=\"1\" class=\"dataframe\">\n",
       "  <thead>\n",
       "    <tr style=\"text-align: right;\">\n",
       "      <th></th>\n",
       "      <th>mean_fit_time</th>\n",
       "      <th>std_fit_time</th>\n",
       "      <th>mean_score_time</th>\n",
       "      <th>std_score_time</th>\n",
       "      <th>param_C</th>\n",
       "      <th>params</th>\n",
       "      <th>split0_test_score</th>\n",
       "      <th>split1_test_score</th>\n",
       "      <th>split2_test_score</th>\n",
       "      <th>split3_test_score</th>\n",
       "      <th>...</th>\n",
       "      <th>mean_test_score</th>\n",
       "      <th>std_test_score</th>\n",
       "      <th>rank_test_score</th>\n",
       "      <th>split0_train_score</th>\n",
       "      <th>split1_train_score</th>\n",
       "      <th>split2_train_score</th>\n",
       "      <th>split3_train_score</th>\n",
       "      <th>split4_train_score</th>\n",
       "      <th>mean_train_score</th>\n",
       "      <th>std_train_score</th>\n",
       "    </tr>\n",
       "  </thead>\n",
       "  <tbody>\n",
       "    <tr>\n",
       "      <th>6</th>\n",
       "      <td>2.649392</td>\n",
       "      <td>0.273929</td>\n",
       "      <td>0.017204</td>\n",
       "      <td>0.005148</td>\n",
       "      <td>3</td>\n",
       "      <td>{'C': 3}</td>\n",
       "      <td>0.771149</td>\n",
       "      <td>0.760693</td>\n",
       "      <td>0.779562</td>\n",
       "      <td>0.780633</td>\n",
       "      <td>...</td>\n",
       "      <td>0.770273</td>\n",
       "      <td>0.009011</td>\n",
       "      <td>1</td>\n",
       "      <td>0.778286</td>\n",
       "      <td>0.780699</td>\n",
       "      <td>0.775219</td>\n",
       "      <td>0.776489</td>\n",
       "      <td>0.782728</td>\n",
       "      <td>0.778684</td>\n",
       "      <td>0.002735</td>\n",
       "    </tr>\n",
       "  </tbody>\n",
       "</table>\n",
       "<p>1 rows × 21 columns</p>\n",
       "</div>"
      ],
      "text/plain": [
       "   mean_fit_time  std_fit_time  mean_score_time  std_score_time param_C  \\\n",
       "6       2.649392      0.273929         0.017204        0.005148       3   \n",
       "\n",
       "     params  split0_test_score  split1_test_score  split2_test_score  \\\n",
       "6  {'C': 3}           0.771149           0.760693           0.779562   \n",
       "\n",
       "   split3_test_score  ...  mean_test_score  std_test_score  rank_test_score  \\\n",
       "6           0.780633  ...         0.770273        0.009011                1   \n",
       "\n",
       "   split0_train_score  split1_train_score  split2_train_score  \\\n",
       "6            0.778286            0.780699            0.775219   \n",
       "\n",
       "   split3_train_score  split4_train_score  mean_train_score  std_train_score  \n",
       "6            0.776489            0.782728          0.778684         0.002735  \n",
       "\n",
       "[1 rows x 21 columns]"
      ]
     },
     "execution_count": 340,
     "metadata": {},
     "output_type": "execute_result"
    }
   ],
   "source": [
    "pd.DataFrame(grid_logistic.cv_results_)[pd.DataFrame(grid_logistic.cv_results_)['rank_test_score'] == 1]"
   ]
  },
  {
   "cell_type": "markdown",
   "metadata": {},
   "source": [
    "Pour la régression logistique du modèle n°2, il y a 67 features utilisées"
   ]
  },
  {
   "cell_type": "code",
   "execution_count": 341,
   "metadata": {},
   "outputs": [
    {
     "name": "stderr",
     "output_type": "stream",
     "text": [
      "/home/osboxes/anaconda3/envs/data/lib/python3.6/site-packages/sklearn/externals/joblib/__init__.py:15: DeprecationWarning: sklearn.externals.joblib is deprecated in 0.21 and will be removed in 0.23. Please import this functionality directly from joblib, which can be installed with: pip install joblib. If this warning is raised when loading pickled models, you may need to re-serialize those models with scikit-learn 0.21+.\n",
      "  warnings.warn(msg, category=DeprecationWarning)\n"
     ]
    },
    {
     "data": {
      "text/plain": [
       "['reg_log_ridge_modele_2.pkl']"
      ]
     },
     "execution_count": 341,
     "metadata": {},
     "output_type": "execute_result"
    }
   ],
   "source": [
    "from sklearn.externals import joblib\n",
    "\n",
    "joblib.dump(grid_logistic, \"reg_log_ridge_modele_2.pkl\", compress=9)"
   ]
  },
  {
   "cell_type": "code",
   "execution_count": 342,
   "metadata": {},
   "outputs": [],
   "source": [
    "# pour le reload\n",
    "# reglog_model = joblib.load(\"reg_log_ridge_modele_2.pkl\")"
   ]
  },
  {
   "cell_type": "code",
   "execution_count": 344,
   "metadata": {},
   "outputs": [
    {
     "data": {
      "text/plain": [
       "(3664, 67)"
      ]
     },
     "execution_count": 344,
     "metadata": {},
     "output_type": "execute_result"
    }
   ],
   "source": [
    "# X_test_all_columns[liste_feat_for_logistic_regression_modele_2].shape"
   ]
  },
  {
   "cell_type": "code",
   "execution_count": 350,
   "metadata": {},
   "outputs": [
    {
     "data": {
      "text/html": [
       "<div>\n",
       "<style scoped>\n",
       "    .dataframe tbody tr th:only-of-type {\n",
       "        vertical-align: middle;\n",
       "    }\n",
       "\n",
       "    .dataframe tbody tr th {\n",
       "        vertical-align: top;\n",
       "    }\n",
       "\n",
       "    .dataframe thead th {\n",
       "        text-align: right;\n",
       "    }\n",
       "</style>\n",
       "<table border=\"1\" class=\"dataframe\">\n",
       "  <thead>\n",
       "    <tr style=\"text-align: right;\">\n",
       "      <th></th>\n",
       "      <th>C_sexe_F</th>\n",
       "      <th>C_sexe_M</th>\n",
       "      <th>C_diplome_bac</th>\n",
       "      <th>C_diplome_doctorat</th>\n",
       "      <th>C_diplome_licence</th>\n",
       "      <th>C_diplome_master</th>\n",
       "      <th>C_specialite_archeologie</th>\n",
       "      <th>C_specialite_detective</th>\n",
       "      <th>C_specialite_forage</th>\n",
       "      <th>C_specialite_geologie</th>\n",
       "      <th>...</th>\n",
       "      <th>C_diplome_+_C_dispo_master_non</th>\n",
       "      <th>C_diplome_+_C_dispo_master_oui</th>\n",
       "      <th>C_specialite_+_C_dispo_archeologie_non</th>\n",
       "      <th>C_specialite_+_C_dispo_archeologie_oui</th>\n",
       "      <th>C_specialite_+_C_dispo_detective_non</th>\n",
       "      <th>C_specialite_+_C_dispo_detective_oui</th>\n",
       "      <th>C_specialite_+_C_dispo_forage_non</th>\n",
       "      <th>C_specialite_+_C_dispo_forage_oui</th>\n",
       "      <th>C_specialite_+_C_dispo_geologie_non</th>\n",
       "      <th>C_specialite_+_C_dispo_geologie_oui</th>\n",
       "    </tr>\n",
       "  </thead>\n",
       "  <tbody>\n",
       "    <tr>\n",
       "      <th>4807</th>\n",
       "      <td>1</td>\n",
       "      <td>0</td>\n",
       "      <td>0</td>\n",
       "      <td>0</td>\n",
       "      <td>1</td>\n",
       "      <td>0</td>\n",
       "      <td>0</td>\n",
       "      <td>1</td>\n",
       "      <td>0</td>\n",
       "      <td>0</td>\n",
       "      <td>...</td>\n",
       "      <td>0</td>\n",
       "      <td>0</td>\n",
       "      <td>0</td>\n",
       "      <td>0</td>\n",
       "      <td>1</td>\n",
       "      <td>0</td>\n",
       "      <td>0</td>\n",
       "      <td>0</td>\n",
       "      <td>0</td>\n",
       "      <td>0</td>\n",
       "    </tr>\n",
       "    <tr>\n",
       "      <th>11503</th>\n",
       "      <td>1</td>\n",
       "      <td>0</td>\n",
       "      <td>0</td>\n",
       "      <td>0</td>\n",
       "      <td>1</td>\n",
       "      <td>0</td>\n",
       "      <td>0</td>\n",
       "      <td>1</td>\n",
       "      <td>0</td>\n",
       "      <td>0</td>\n",
       "      <td>...</td>\n",
       "      <td>0</td>\n",
       "      <td>0</td>\n",
       "      <td>0</td>\n",
       "      <td>0</td>\n",
       "      <td>0</td>\n",
       "      <td>1</td>\n",
       "      <td>0</td>\n",
       "      <td>0</td>\n",
       "      <td>0</td>\n",
       "      <td>0</td>\n",
       "    </tr>\n",
       "    <tr>\n",
       "      <th>2783</th>\n",
       "      <td>1</td>\n",
       "      <td>0</td>\n",
       "      <td>0</td>\n",
       "      <td>0</td>\n",
       "      <td>0</td>\n",
       "      <td>1</td>\n",
       "      <td>0</td>\n",
       "      <td>0</td>\n",
       "      <td>0</td>\n",
       "      <td>1</td>\n",
       "      <td>...</td>\n",
       "      <td>1</td>\n",
       "      <td>0</td>\n",
       "      <td>0</td>\n",
       "      <td>0</td>\n",
       "      <td>0</td>\n",
       "      <td>0</td>\n",
       "      <td>0</td>\n",
       "      <td>0</td>\n",
       "      <td>1</td>\n",
       "      <td>0</td>\n",
       "    </tr>\n",
       "    <tr>\n",
       "      <th>767</th>\n",
       "      <td>0</td>\n",
       "      <td>1</td>\n",
       "      <td>0</td>\n",
       "      <td>1</td>\n",
       "      <td>0</td>\n",
       "      <td>0</td>\n",
       "      <td>0</td>\n",
       "      <td>0</td>\n",
       "      <td>0</td>\n",
       "      <td>1</td>\n",
       "      <td>...</td>\n",
       "      <td>0</td>\n",
       "      <td>0</td>\n",
       "      <td>0</td>\n",
       "      <td>0</td>\n",
       "      <td>0</td>\n",
       "      <td>0</td>\n",
       "      <td>0</td>\n",
       "      <td>0</td>\n",
       "      <td>0</td>\n",
       "      <td>1</td>\n",
       "    </tr>\n",
       "    <tr>\n",
       "      <th>5949</th>\n",
       "      <td>0</td>\n",
       "      <td>1</td>\n",
       "      <td>0</td>\n",
       "      <td>0</td>\n",
       "      <td>1</td>\n",
       "      <td>0</td>\n",
       "      <td>0</td>\n",
       "      <td>0</td>\n",
       "      <td>1</td>\n",
       "      <td>0</td>\n",
       "      <td>...</td>\n",
       "      <td>0</td>\n",
       "      <td>0</td>\n",
       "      <td>0</td>\n",
       "      <td>0</td>\n",
       "      <td>0</td>\n",
       "      <td>0</td>\n",
       "      <td>1</td>\n",
       "      <td>0</td>\n",
       "      <td>0</td>\n",
       "      <td>0</td>\n",
       "    </tr>\n",
       "  </tbody>\n",
       "</table>\n",
       "<p>5 rows × 64 columns</p>\n",
       "</div>"
      ],
      "text/plain": [
       "       C_sexe_F  C_sexe_M  C_diplome_bac  C_diplome_doctorat  \\\n",
       "4807          1         0              0                   0   \n",
       "11503         1         0              0                   0   \n",
       "2783          1         0              0                   0   \n",
       "767           0         1              0                   1   \n",
       "5949          0         1              0                   0   \n",
       "\n",
       "       C_diplome_licence  C_diplome_master  C_specialite_archeologie  \\\n",
       "4807                   1                 0                         0   \n",
       "11503                  1                 0                         0   \n",
       "2783                   0                 1                         0   \n",
       "767                    0                 0                         0   \n",
       "5949                   1                 0                         0   \n",
       "\n",
       "       C_specialite_detective  C_specialite_forage  C_specialite_geologie  \\\n",
       "4807                        1                    0                      0   \n",
       "11503                       1                    0                      0   \n",
       "2783                        0                    0                      1   \n",
       "767                         0                    0                      1   \n",
       "5949                        0                    1                      0   \n",
       "\n",
       "       ...  C_diplome_+_C_dispo_master_non  C_diplome_+_C_dispo_master_oui  \\\n",
       "4807   ...                               0                               0   \n",
       "11503  ...                               0                               0   \n",
       "2783   ...                               1                               0   \n",
       "767    ...                               0                               0   \n",
       "5949   ...                               0                               0   \n",
       "\n",
       "       C_specialite_+_C_dispo_archeologie_non  \\\n",
       "4807                                        0   \n",
       "11503                                       0   \n",
       "2783                                        0   \n",
       "767                                         0   \n",
       "5949                                        0   \n",
       "\n",
       "       C_specialite_+_C_dispo_archeologie_oui  \\\n",
       "4807                                        0   \n",
       "11503                                       0   \n",
       "2783                                        0   \n",
       "767                                         0   \n",
       "5949                                        0   \n",
       "\n",
       "       C_specialite_+_C_dispo_detective_non  \\\n",
       "4807                                      1   \n",
       "11503                                     0   \n",
       "2783                                      0   \n",
       "767                                       0   \n",
       "5949                                      0   \n",
       "\n",
       "       C_specialite_+_C_dispo_detective_oui  \\\n",
       "4807                                      0   \n",
       "11503                                     1   \n",
       "2783                                      0   \n",
       "767                                       0   \n",
       "5949                                      0   \n",
       "\n",
       "       C_specialite_+_C_dispo_forage_non  C_specialite_+_C_dispo_forage_oui  \\\n",
       "4807                                   0                                  0   \n",
       "11503                                  0                                  0   \n",
       "2783                                   0                                  0   \n",
       "767                                    0                                  0   \n",
       "5949                                   1                                  0   \n",
       "\n",
       "       C_specialite_+_C_dispo_geologie_non  \\\n",
       "4807                                     0   \n",
       "11503                                    0   \n",
       "2783                                     1   \n",
       "767                                      0   \n",
       "5949                                     0   \n",
       "\n",
       "       C_specialite_+_C_dispo_geologie_oui  \n",
       "4807                                     0  \n",
       "11503                                    0  \n",
       "2783                                     0  \n",
       "767                                      1  \n",
       "5949                                     0  \n",
       "\n",
       "[5 rows x 64 columns]"
      ]
     },
     "execution_count": 350,
     "metadata": {},
     "output_type": "execute_result"
    }
   ],
   "source": [
    "all_numeric_to_scale = ['note', 'salaire', 'age']\n",
    "scaler = StandardScaler()\n",
    "df_temp = X_test_all_columns[liste_feat_for_logistic_regression_modele_2]\n",
    "X_test_scaled = pd.DataFrame.from_records(scaler.fit_transform(df_temp[all_numeric_to_scale]))\n",
    "X_test_scaled.columns = all_numeric_to_scale\n",
    "df_temp = df_temp.drop(all_numeric_to_scale, axis=1)\n",
    "df_temp.index = X_test_scaled.index\n",
    "df_temp = pd.concat([df_temp,X_test_scaled], axis = 1)"
   ]
  },
  {
   "cell_type": "code",
   "execution_count": 355,
   "metadata": {},
   "outputs": [
    {
     "data": {
      "text/plain": [
       "array([-1.61491833])"
      ]
     },
     "execution_count": 355,
     "metadata": {},
     "output_type": "execute_result"
    }
   ],
   "source": [
    "#grid_logistic.best_estimator_.intercept_\n",
    "# grid_logistic.best_estimator_.coef_"
   ]
  },
  {
   "cell_type": "code",
   "execution_count": 357,
   "metadata": {},
   "outputs": [
    {
     "data": {
      "text/plain": [
       "0.77971091778056"
      ]
     },
     "execution_count": 357,
     "metadata": {},
     "output_type": "execute_result"
    }
   ],
   "source": [
    "# predicted_values = grid_logistic.predict(X_test_all_columns[liste_feat_for_logistic_regression_modele_2])\n",
    "predicted_values = grid_logistic.predict_proba(df_temp)[:,1]\n",
    "predicted_values = np.expand_dims(predicted_values, axis=1)\n",
    "AUC_test_value = roc_auc_score(Y_test.values, predicted_values)\n",
    "AUC_test_value"
   ]
  },
  {
   "cell_type": "markdown",
   "metadata": {},
   "source": [
    "### Prédiction sur test set Régression logistique Ridge<br>\n",
    "L'AUC vaut 0.78 sur le test set, pour lra régression logistique Ridge<br>\n",
    "sachant que les AUC sur le train set et sur le validation set étaient respectivement de 0.78 et 0.77 "
   ]
  },
  {
   "cell_type": "markdown",
   "metadata": {},
   "source": [
    "### Prédiction sur test set XGBoost modèle n°1"
   ]
  },
  {
   "cell_type": "code",
   "execution_count": 562,
   "metadata": {},
   "outputs": [],
   "source": [
    "df_temp = X_test_all_columns[liste_feat_for_xgboost_modele_1]"
   ]
  },
  {
   "cell_type": "code",
   "execution_count": 563,
   "metadata": {},
   "outputs": [
    {
     "data": {
      "text/plain": [
       "0.8073358690900099"
      ]
     },
     "execution_count": 563,
     "metadata": {},
     "output_type": "execute_result"
    }
   ],
   "source": [
    "predicted_values = xgb_model.predict_proba(df_temp)[:,1]\n",
    "predicted_values = np.expand_dims(predicted_values, axis=1)\n",
    "AUC_test_value = roc_auc_score(Y_test.values, predicted_values)\n",
    "AUC_test_value"
   ]
  },
  {
   "cell_type": "markdown",
   "metadata": {},
   "source": [
    "### Prédiction sur test set XGBoost modèle n°2 sans le trick"
   ]
  },
  {
   "cell_type": "code",
   "execution_count": 564,
   "metadata": {},
   "outputs": [],
   "source": [
    "df_temp = X_test_all_columns[liste_feat_for_xgboost_modele_2]"
   ]
  },
  {
   "cell_type": "code",
   "execution_count": 552,
   "metadata": {},
   "outputs": [
    {
     "data": {
      "text/plain": [
       "0.8277989339097004"
      ]
     },
     "execution_count": 552,
     "metadata": {},
     "output_type": "execute_result"
    }
   ],
   "source": [
    "predicted_values = xgb_model.predict_proba(df_temp)[:,1]\n",
    "predicted_values = np.expand_dims(predicted_values, axis=1)\n",
    "AUC_test_value = roc_auc_score(Y_test.values, predicted_values)\n",
    "AUC_test_value"
   ]
  },
  {
   "cell_type": "markdown",
   "metadata": {},
   "source": [
    "Param n°1"
   ]
  },
  {
   "cell_type": "code",
   "execution_count": 485,
   "metadata": {},
   "outputs": [],
   "source": [
    "df_temp = X_test_all_columns[liste_feat_for_xgboost_modele_2]"
   ]
  },
  {
   "cell_type": "code",
   "execution_count": 486,
   "metadata": {},
   "outputs": [
    {
     "ename": "XGBoostError",
     "evalue": "need to call fit or load_model beforehand",
     "output_type": "error",
     "traceback": [
      "\u001b[0;31m---------------------------------------------------------------------------\u001b[0m",
      "\u001b[0;31mXGBoostError\u001b[0m                              Traceback (most recent call last)",
      "\u001b[0;32m<ipython-input-486-2869d9ed18ad>\u001b[0m in \u001b[0;36m<module>\u001b[0;34m\u001b[0m\n\u001b[0;32m----> 1\u001b[0;31m \u001b[0mpredicted_values\u001b[0m \u001b[0;34m=\u001b[0m \u001b[0mxgb_model\u001b[0m\u001b[0;34m.\u001b[0m\u001b[0mpredict_proba\u001b[0m\u001b[0;34m(\u001b[0m\u001b[0mdf_temp\u001b[0m\u001b[0;34m)\u001b[0m\u001b[0;34m[\u001b[0m\u001b[0;34m:\u001b[0m\u001b[0;34m,\u001b[0m\u001b[0;36m1\u001b[0m\u001b[0;34m]\u001b[0m\u001b[0;34m\u001b[0m\u001b[0;34m\u001b[0m\u001b[0m\n\u001b[0m\u001b[1;32m      2\u001b[0m \u001b[0mpredicted_values\u001b[0m \u001b[0;34m=\u001b[0m \u001b[0mnp\u001b[0m\u001b[0;34m.\u001b[0m\u001b[0mexpand_dims\u001b[0m\u001b[0;34m(\u001b[0m\u001b[0mpredicted_values\u001b[0m\u001b[0;34m,\u001b[0m \u001b[0maxis\u001b[0m\u001b[0;34m=\u001b[0m\u001b[0;36m1\u001b[0m\u001b[0;34m)\u001b[0m\u001b[0;34m\u001b[0m\u001b[0;34m\u001b[0m\u001b[0m\n\u001b[1;32m      3\u001b[0m \u001b[0mAUC_test_value\u001b[0m \u001b[0;34m=\u001b[0m \u001b[0mroc_auc_score\u001b[0m\u001b[0;34m(\u001b[0m\u001b[0mY_test\u001b[0m\u001b[0;34m.\u001b[0m\u001b[0mvalues\u001b[0m\u001b[0;34m,\u001b[0m \u001b[0mpredicted_values\u001b[0m\u001b[0;34m)\u001b[0m\u001b[0;34m\u001b[0m\u001b[0;34m\u001b[0m\u001b[0m\n\u001b[1;32m      4\u001b[0m \u001b[0mAUC_test_value\u001b[0m\u001b[0;34m\u001b[0m\u001b[0;34m\u001b[0m\u001b[0m\n",
      "\u001b[0;32m~/anaconda3/envs/data/lib/python3.6/site-packages/xgboost/sklearn.py\u001b[0m in \u001b[0;36mpredict_proba\u001b[0;34m(self, data, ntree_limit, validate_features)\u001b[0m\n\u001b[1;32m    830\u001b[0m         \u001b[0;32mif\u001b[0m \u001b[0mntree_limit\u001b[0m \u001b[0;32mis\u001b[0m \u001b[0;32mNone\u001b[0m\u001b[0;34m:\u001b[0m\u001b[0;34m\u001b[0m\u001b[0;34m\u001b[0m\u001b[0m\n\u001b[1;32m    831\u001b[0m             \u001b[0mntree_limit\u001b[0m \u001b[0;34m=\u001b[0m \u001b[0mgetattr\u001b[0m\u001b[0;34m(\u001b[0m\u001b[0mself\u001b[0m\u001b[0;34m,\u001b[0m \u001b[0;34m\"best_ntree_limit\"\u001b[0m\u001b[0;34m,\u001b[0m \u001b[0;36m0\u001b[0m\u001b[0;34m)\u001b[0m\u001b[0;34m\u001b[0m\u001b[0;34m\u001b[0m\u001b[0m\n\u001b[0;32m--> 832\u001b[0;31m         class_probs = self.get_booster().predict(test_dmatrix,\n\u001b[0m\u001b[1;32m    833\u001b[0m                                                  \u001b[0mntree_limit\u001b[0m\u001b[0;34m=\u001b[0m\u001b[0mntree_limit\u001b[0m\u001b[0;34m,\u001b[0m\u001b[0;34m\u001b[0m\u001b[0;34m\u001b[0m\u001b[0m\n\u001b[1;32m    834\u001b[0m                                                  validate_features=validate_features)\n",
      "\u001b[0;32m~/anaconda3/envs/data/lib/python3.6/site-packages/xgboost/sklearn.py\u001b[0m in \u001b[0;36mget_booster\u001b[0;34m(self)\u001b[0m\n\u001b[1;32m    191\u001b[0m         \"\"\"\n\u001b[1;32m    192\u001b[0m         \u001b[0;32mif\u001b[0m \u001b[0mself\u001b[0m\u001b[0;34m.\u001b[0m\u001b[0m_Booster\u001b[0m \u001b[0;32mis\u001b[0m \u001b[0;32mNone\u001b[0m\u001b[0;34m:\u001b[0m\u001b[0;34m\u001b[0m\u001b[0;34m\u001b[0m\u001b[0m\n\u001b[0;32m--> 193\u001b[0;31m             \u001b[0;32mraise\u001b[0m \u001b[0mXGBoostError\u001b[0m\u001b[0;34m(\u001b[0m\u001b[0;34m'need to call fit or load_model beforehand'\u001b[0m\u001b[0;34m)\u001b[0m\u001b[0;34m\u001b[0m\u001b[0;34m\u001b[0m\u001b[0m\n\u001b[0m\u001b[1;32m    194\u001b[0m         \u001b[0;32mreturn\u001b[0m \u001b[0mself\u001b[0m\u001b[0;34m.\u001b[0m\u001b[0m_Booster\u001b[0m\u001b[0;34m\u001b[0m\u001b[0;34m\u001b[0m\u001b[0m\n\u001b[1;32m    195\u001b[0m \u001b[0;34m\u001b[0m\u001b[0m\n",
      "\u001b[0;31mXGBoostError\u001b[0m: need to call fit or load_model beforehand"
     ]
    }
   ],
   "source": [
    "predicted_values = xgb_model.predict_proba(df_temp)[:,1]\n",
    "predicted_values = np.expand_dims(predicted_values, axis=1)\n",
    "AUC_test_value = roc_auc_score(Y_test.values, predicted_values)\n",
    "AUC_test_value"
   ]
  },
  {
   "cell_type": "code",
   "execution_count": null,
   "metadata": {},
   "outputs": [],
   "source": [
    "Je choisi le paramétrage n°2 avec : min_child_weight"
   ]
  }
 ],
 "metadata": {
  "kernelspec": {
   "display_name": "data bike sharing",
   "language": "python",
   "name": "data"
  },
  "language_info": {
   "codemirror_mode": {
    "name": "ipython",
    "version": 3
   },
   "file_extension": ".py",
   "mimetype": "text/x-python",
   "name": "python",
   "nbconvert_exporter": "python",
   "pygments_lexer": "ipython3",
   "version": "3.6.8"
  }
 },
 "nbformat": 4,
 "nbformat_minor": 4
}
