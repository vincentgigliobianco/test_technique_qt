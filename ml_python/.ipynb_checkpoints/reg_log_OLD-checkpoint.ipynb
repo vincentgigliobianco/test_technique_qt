{
 "cells": [
  {
   "cell_type": "markdown",
   "metadata": {},
   "source": [
    "### 1. Import des données"
   ]
  },
  {
   "cell_type": "code",
   "execution_count": 146,
   "metadata": {},
   "outputs": [],
   "source": [
    "import pandas as pd\n",
    "import numpy as np\n",
    "from itertools import chain\n",
    "\n",
    "from sklearn.model_selection import train_test_split\n",
    "\n",
    "from itertools import combinations\n",
    "\n",
    "# from sklearn.preprocessing import LabelEncoder, OrdinalEncoder\n",
    "\n",
    "from sklearn.linear_model import LogisticRegression\n",
    "import xgboost as xgb\n",
    "from sklearn.metrics import roc_auc_score\n",
    "\n",
    "# from sklearn.metrics import mean_squared_error\n",
    "from sklearn.model_selection import GridSearchCV\n",
    "import matplotlib.pyplot as plt\n",
    "\n",
    "# from sklearn.metrics import make_scorer\n",
    "from sklearn.preprocessing import StandardScaler\n",
    "\n",
    "# from functions import *\n",
    "from functions import fun as f\n",
    "# mf.to_le()\n",
    "import re\n",
    "\n",
    "df_all_data = pd.read_csv(\"data/all_data_before_ml.csv\")"
   ]
  },
  {
   "cell_type": "code",
   "execution_count": 147,
   "metadata": {},
   "outputs": [
    {
     "data": {
      "text/plain": [
       "['date',\n",
       " 'cheveux',\n",
       " 'age',\n",
       " 'exp',\n",
       " 'salaire',\n",
       " 'sexe',\n",
       " 'diplome',\n",
       " 'specialite',\n",
       " 'note',\n",
       " 'dispo',\n",
       " 'embauche',\n",
       " 'annee',\n",
       " 'mois',\n",
       " 'jour',\n",
       " 'age_Q',\n",
       " 'exp_Q',\n",
       " 'note_Q',\n",
       " 'salaire_Q',\n",
       " 'age_D',\n",
       " 'note_D',\n",
       " 'salaire_D']"
      ]
     },
     "execution_count": 147,
     "metadata": {},
     "output_type": "execute_result"
    }
   ],
   "source": [
    "list(df_all_data)"
   ]
  },
  {
   "cell_type": "markdown",
   "metadata": {},
   "source": [
    "### 2. Transformation en features numériques adaptées à Scikit-Learn\n",
    "\n",
    "On réalise une régression logistique pour les variables qui sont toutes catégorielles indiquées ci-dessous\n",
    "suite à la conclusion faite lors de \"1. Statistiques descriptives\".\n",
    "Les variables utilisées sont:\n",
    "- embauche comme variable cible\n",
    "- sexe       \n",
    "- diplome       \n",
    "- specialite \n",
    "- dispo\n",
    "- note_Q     \n",
    "- salaire_Q  \n",
    "- age_D        \n",
    "- note_D       \n",
    "- salaire_D    \n",
    "\n",
    "Bonus: on peut créer les nouvelles variables préconisées par les arbres CHAID pour note, salaire et age<br>\n",
    "mais on pourra se contenter de créer \"note_chaid\" en vue de l'utiliser pour xgboost"
   ]
  },
  {
   "cell_type": "markdown",
   "metadata": {},
   "source": [
    "On renomme specialite, sexe, diplome en specialite_C, sexe_C, diplome_C"
   ]
  },
  {
   "cell_type": "code",
   "execution_count": 148,
   "metadata": {},
   "outputs": [
    {
     "data": {
      "text/plain": [
       "date             object\n",
       "cheveux          object\n",
       "age               int64\n",
       "exp               int64\n",
       "salaire           int64\n",
       "C_sexe           object\n",
       "C_diplome        object\n",
       "C_specialite     object\n",
       "note            float64\n",
       "C_dispo          object\n",
       "embauche          int64\n",
       "annee             int64\n",
       "mois              int64\n",
       "jour              int64\n",
       "age_Q            object\n",
       "exp_Q            object\n",
       "note_Q           object\n",
       "salaire_Q        object\n",
       "age_D            object\n",
       "note_D           object\n",
       "salaire_D        object\n",
       "dtype: object"
      ]
     },
     "execution_count": 148,
     "metadata": {},
     "output_type": "execute_result"
    }
   ],
   "source": [
    "df_all_data = df_all_data.rename(columns={'specialite': 'C_specialite', 'sexe': 'C_sexe', 'diplome': 'C_diplome','dispo': 'C_dispo' })\n",
    "df_all_data.dtypes"
   ]
  },
  {
   "cell_type": "markdown",
   "metadata": {},
   "source": [
    "### Modèle n°1 : régression logistique baseline \n",
    "Je propose de réaliser un premier modèle avec les variables : C_specialite, C_sexe, C_diplome, C_dispo, note, salaire et age\n",
    "- sans interactions\n",
    "- puis avec interactions\n",
    "\n",
    "Ensuite, on pourra voir ce que donne XGBoost<br>\n",
    "On peut envisager de créer la variable note avec note_CHAID"
   ]
  },
  {
   "cell_type": "markdown",
   "metadata": {},
   "source": [
    "### I Création de toutes les variables pour Scikit-Learn\n",
    "- en vue de réaliser une régression logistique (Ridge), les variables catégorielles vont être utilisées\n",
    "sous la forme de \"dummy\" variables (variables indicatrices)\n",
    "- En vue de réaliser une régression XGboost, les variables catégorielles vont être utilisées sous la forme \n",
    "de \"label encodings\" c'est-à-dire que les variables vont être transformées en données numériques grâce à la fonction\n",
    "\"label encoding\" de Scikit-Learn\n"
   ]
  },
  {
   "cell_type": "markdown",
   "metadata": {},
   "source": [
    "On commence ici la transformation de toutes les features "
   ]
  },
  {
   "cell_type": "markdown",
   "metadata": {},
   "source": [
    "On transforme en dummy variables : specialite, sexe, diplome et dispo<br>"
   ]
  },
  {
   "cell_type": "code",
   "execution_count": 149,
   "metadata": {},
   "outputs": [],
   "source": [
    "target_var_name = \"embauche\"\n",
    "all_categorical = [name_var for name_var in list(df_all_data) if name_var[0:1] == 'C'] "
   ]
  },
  {
   "cell_type": "code",
   "execution_count": 137,
   "metadata": {},
   "outputs": [
    {
     "data": {
      "text/plain": [
       "['C_sexe', 'C_diplome', 'C_specialite', 'C_dispo']"
      ]
     },
     "execution_count": 137,
     "metadata": {},
     "output_type": "execute_result"
    }
   ],
   "source": [
    "all_categorical"
   ]
  },
  {
   "cell_type": "code",
   "execution_count": 150,
   "metadata": {},
   "outputs": [
    {
     "data": {
      "text/plain": [
       "C_sexe          object\n",
       "C_diplome       object\n",
       "C_specialite    object\n",
       "C_dispo         object\n",
       "dtype: object"
      ]
     },
     "execution_count": 150,
     "metadata": {},
     "output_type": "execute_result"
    }
   ],
   "source": [
    "df_all_data[all_categorical].dtypes"
   ]
  },
  {
   "cell_type": "code",
   "execution_count": 151,
   "metadata": {},
   "outputs": [
    {
     "data": {
      "text/html": [
       "<div>\n",
       "<style scoped>\n",
       "    .dataframe tbody tr th:only-of-type {\n",
       "        vertical-align: middle;\n",
       "    }\n",
       "\n",
       "    .dataframe tbody tr th {\n",
       "        vertical-align: top;\n",
       "    }\n",
       "\n",
       "    .dataframe thead th {\n",
       "        text-align: right;\n",
       "    }\n",
       "</style>\n",
       "<table border=\"1\" class=\"dataframe\">\n",
       "  <thead>\n",
       "    <tr style=\"text-align: right;\">\n",
       "      <th></th>\n",
       "      <th>date</th>\n",
       "      <th>cheveux</th>\n",
       "      <th>age</th>\n",
       "      <th>exp</th>\n",
       "      <th>salaire</th>\n",
       "      <th>C_sexe</th>\n",
       "      <th>C_diplome</th>\n",
       "      <th>C_specialite</th>\n",
       "      <th>note</th>\n",
       "      <th>C_dispo</th>\n",
       "      <th>...</th>\n",
       "      <th>annee</th>\n",
       "      <th>mois</th>\n",
       "      <th>jour</th>\n",
       "      <th>age_Q</th>\n",
       "      <th>exp_Q</th>\n",
       "      <th>note_Q</th>\n",
       "      <th>salaire_Q</th>\n",
       "      <th>age_D</th>\n",
       "      <th>note_D</th>\n",
       "      <th>salaire_D</th>\n",
       "    </tr>\n",
       "  </thead>\n",
       "  <tbody>\n",
       "    <tr>\n",
       "      <th>0</th>\n",
       "      <td>2010-01-01</td>\n",
       "      <td>blond</td>\n",
       "      <td>22</td>\n",
       "      <td>8</td>\n",
       "      <td>35554</td>\n",
       "      <td>M</td>\n",
       "      <td>master</td>\n",
       "      <td>geologie</td>\n",
       "      <td>72.41</td>\n",
       "      <td>oui</td>\n",
       "      <td>...</td>\n",
       "      <td>2010</td>\n",
       "      <td>1</td>\n",
       "      <td>1</td>\n",
       "      <td>[18-30[</td>\n",
       "      <td>[7-9[</td>\n",
       "      <td>[64-76[</td>\n",
       "      <td>[34964-38348[</td>\n",
       "      <td>[18-24[</td>\n",
       "      <td>[71-76[</td>\n",
       "      <td>[34964-36216[</td>\n",
       "    </tr>\n",
       "    <tr>\n",
       "      <th>1</th>\n",
       "      <td>2010-01-01</td>\n",
       "      <td>brun</td>\n",
       "      <td>42</td>\n",
       "      <td>6</td>\n",
       "      <td>38102</td>\n",
       "      <td>M</td>\n",
       "      <td>licence</td>\n",
       "      <td>geologie</td>\n",
       "      <td>72.46</td>\n",
       "      <td>non</td>\n",
       "      <td>...</td>\n",
       "      <td>2010</td>\n",
       "      <td>1</td>\n",
       "      <td>1</td>\n",
       "      <td>[35-42[</td>\n",
       "      <td>[0-7[</td>\n",
       "      <td>[64-76[</td>\n",
       "      <td>[34964-38348[</td>\n",
       "      <td>[40-43[</td>\n",
       "      <td>[71-76[</td>\n",
       "      <td>[37615-39172[</td>\n",
       "    </tr>\n",
       "    <tr>\n",
       "      <th>2</th>\n",
       "      <td>2010-01-01</td>\n",
       "      <td>brun</td>\n",
       "      <td>34</td>\n",
       "      <td>14</td>\n",
       "      <td>36232</td>\n",
       "      <td>M</td>\n",
       "      <td>licence</td>\n",
       "      <td>geologie</td>\n",
       "      <td>65.43</td>\n",
       "      <td>non</td>\n",
       "      <td>...</td>\n",
       "      <td>2010</td>\n",
       "      <td>1</td>\n",
       "      <td>1</td>\n",
       "      <td>[30-35[</td>\n",
       "      <td>[12-23[</td>\n",
       "      <td>[64-76[</td>\n",
       "      <td>[34964-38348[</td>\n",
       "      <td>[31-34[</td>\n",
       "      <td>[61-67[</td>\n",
       "      <td>[36216-37615[</td>\n",
       "    </tr>\n",
       "    <tr>\n",
       "      <th>3</th>\n",
       "      <td>2010-01-01</td>\n",
       "      <td>brun</td>\n",
       "      <td>32</td>\n",
       "      <td>7</td>\n",
       "      <td>37425</td>\n",
       "      <td>M</td>\n",
       "      <td>master</td>\n",
       "      <td>geologie</td>\n",
       "      <td>92.64</td>\n",
       "      <td>oui</td>\n",
       "      <td>...</td>\n",
       "      <td>2010</td>\n",
       "      <td>1</td>\n",
       "      <td>1</td>\n",
       "      <td>[30-35[</td>\n",
       "      <td>[0-7[</td>\n",
       "      <td>[87-144[</td>\n",
       "      <td>[34964-38348[</td>\n",
       "      <td>[31-34[</td>\n",
       "      <td>[90-98[</td>\n",
       "      <td>[36216-37615[</td>\n",
       "    </tr>\n",
       "    <tr>\n",
       "      <th>4</th>\n",
       "      <td>2010-01-01</td>\n",
       "      <td>brun</td>\n",
       "      <td>25</td>\n",
       "      <td>13</td>\n",
       "      <td>46881</td>\n",
       "      <td>M</td>\n",
       "      <td>bac</td>\n",
       "      <td>geologie</td>\n",
       "      <td>29.52</td>\n",
       "      <td>non</td>\n",
       "      <td>...</td>\n",
       "      <td>2010</td>\n",
       "      <td>1</td>\n",
       "      <td>1</td>\n",
       "      <td>[18-30[</td>\n",
       "      <td>[12-23[</td>\n",
       "      <td>[9-64[</td>\n",
       "      <td>[38348-53977[</td>\n",
       "      <td>[24-28[</td>\n",
       "      <td>[9-54[</td>\n",
       "      <td>[41358-53977[</td>\n",
       "    </tr>\n",
       "  </tbody>\n",
       "</table>\n",
       "<p>5 rows × 21 columns</p>\n",
       "</div>"
      ],
      "text/plain": [
       "         date cheveux  age  exp  salaire C_sexe C_diplome C_specialite   note  \\\n",
       "0  2010-01-01   blond   22    8    35554      M    master     geologie  72.41   \n",
       "1  2010-01-01    brun   42    6    38102      M   licence     geologie  72.46   \n",
       "2  2010-01-01    brun   34   14    36232      M   licence     geologie  65.43   \n",
       "3  2010-01-01    brun   32    7    37425      M    master     geologie  92.64   \n",
       "4  2010-01-01    brun   25   13    46881      M       bac     geologie  29.52   \n",
       "\n",
       "  C_dispo  ...  annee  mois  jour    age_Q    exp_Q    note_Q      salaire_Q  \\\n",
       "0     oui  ...   2010     1     1  [18-30[    [7-9[   [64-76[  [34964-38348[   \n",
       "1     non  ...   2010     1     1  [35-42[    [0-7[   [64-76[  [34964-38348[   \n",
       "2     non  ...   2010     1     1  [30-35[  [12-23[   [64-76[  [34964-38348[   \n",
       "3     oui  ...   2010     1     1  [30-35[    [0-7[  [87-144[  [34964-38348[   \n",
       "4     non  ...   2010     1     1  [18-30[  [12-23[    [9-64[  [38348-53977[   \n",
       "\n",
       "     age_D   note_D      salaire_D  \n",
       "0  [18-24[  [71-76[  [34964-36216[  \n",
       "1  [40-43[  [71-76[  [37615-39172[  \n",
       "2  [31-34[  [61-67[  [36216-37615[  \n",
       "3  [31-34[  [90-98[  [36216-37615[  \n",
       "4  [24-28[   [9-54[  [41358-53977[  \n",
       "\n",
       "[5 rows x 21 columns]"
      ]
     },
     "execution_count": 151,
     "metadata": {},
     "output_type": "execute_result"
    }
   ],
   "source": [
    "df_all_data.head()"
   ]
  },
  {
   "cell_type": "code",
   "execution_count": 140,
   "metadata": {},
   "outputs": [],
   "source": [
    "# df_all_dummies = pd.get_dummies(df_all_data[all_categorical])\n",
    "# df_all_dummies.shape\n",
    "# df_all_data = pd.concat([df_all_data, df_all_dummies], axis = 1)"
   ]
  },
  {
   "cell_type": "markdown",
   "metadata": {},
   "source": [
    "Maintenant, on crée toutes les variables de type \"label encodings\" pour :<br> \n",
    "C_specialite, C_sexe, C_diplome, C_dispo, note_Q, salaire_Q, age_D, note_D et salaire_D"
   ]
  },
  {
   "cell_type": "code",
   "execution_count": 152,
   "metadata": {},
   "outputs": [],
   "source": [
    "liste_feat_for_label_encodings = ['C_specialite', 'C_sexe', 'C_diplome', 'C_dispo','note_Q', 'salaire_Q', 'age_D', 'note_D','salaire_D']\n",
    "for each in liste_feat_for_label_encodings:\n",
    "    f.to_le(df_all_data, each)"
   ]
  },
  {
   "cell_type": "code",
   "execution_count": 153,
   "metadata": {},
   "outputs": [
    {
     "data": {
      "text/plain": [
       "['date',\n",
       " 'cheveux',\n",
       " 'age',\n",
       " 'exp',\n",
       " 'salaire',\n",
       " 'C_sexe',\n",
       " 'C_diplome',\n",
       " 'C_specialite',\n",
       " 'note',\n",
       " 'C_dispo',\n",
       " 'embauche',\n",
       " 'annee',\n",
       " 'mois',\n",
       " 'jour',\n",
       " 'age_Q',\n",
       " 'exp_Q',\n",
       " 'note_Q',\n",
       " 'salaire_Q',\n",
       " 'age_D',\n",
       " 'note_D',\n",
       " 'salaire_D',\n",
       " 'C_specialite_labels_encoding',\n",
       " 'C_sexe_labels_encoding',\n",
       " 'C_diplome_labels_encoding',\n",
       " 'C_dispo_labels_encoding',\n",
       " 'note_Q_labels_encoding',\n",
       " 'salaire_Q_labels_encoding',\n",
       " 'age_D_labels_encoding',\n",
       " 'note_D_labels_encoding',\n",
       " 'salaire_D_labels_encoding']"
      ]
     },
     "execution_count": 153,
     "metadata": {},
     "output_type": "execute_result"
    }
   ],
   "source": [
    "list(df_all_data)"
   ]
  },
  {
   "cell_type": "code",
   "execution_count": 154,
   "metadata": {},
   "outputs": [
    {
     "data": {
      "text/html": [
       "<div>\n",
       "<style scoped>\n",
       "    .dataframe tbody tr th:only-of-type {\n",
       "        vertical-align: middle;\n",
       "    }\n",
       "\n",
       "    .dataframe tbody tr th {\n",
       "        vertical-align: top;\n",
       "    }\n",
       "\n",
       "    .dataframe thead th {\n",
       "        text-align: right;\n",
       "    }\n",
       "</style>\n",
       "<table border=\"1\" class=\"dataframe\">\n",
       "  <thead>\n",
       "    <tr style=\"text-align: right;\">\n",
       "      <th></th>\n",
       "      <th>date</th>\n",
       "      <th>cheveux</th>\n",
       "      <th>age</th>\n",
       "      <th>exp</th>\n",
       "      <th>salaire</th>\n",
       "      <th>C_sexe</th>\n",
       "      <th>C_diplome</th>\n",
       "      <th>C_specialite</th>\n",
       "      <th>note</th>\n",
       "      <th>C_dispo</th>\n",
       "      <th>...</th>\n",
       "      <th>salaire_D</th>\n",
       "      <th>C_specialite_labels_encoding</th>\n",
       "      <th>C_sexe_labels_encoding</th>\n",
       "      <th>C_diplome_labels_encoding</th>\n",
       "      <th>C_dispo_labels_encoding</th>\n",
       "      <th>note_Q_labels_encoding</th>\n",
       "      <th>salaire_Q_labels_encoding</th>\n",
       "      <th>age_D_labels_encoding</th>\n",
       "      <th>note_D_labels_encoding</th>\n",
       "      <th>salaire_D_labels_encoding</th>\n",
       "    </tr>\n",
       "  </thead>\n",
       "  <tbody>\n",
       "    <tr>\n",
       "      <th>0</th>\n",
       "      <td>2010-01-01</td>\n",
       "      <td>blond</td>\n",
       "      <td>22</td>\n",
       "      <td>8</td>\n",
       "      <td>35554</td>\n",
       "      <td>M</td>\n",
       "      <td>master</td>\n",
       "      <td>geologie</td>\n",
       "      <td>72.41</td>\n",
       "      <td>oui</td>\n",
       "      <td>...</td>\n",
       "      <td>[34964-36216[</td>\n",
       "      <td>3</td>\n",
       "      <td>1</td>\n",
       "      <td>3</td>\n",
       "      <td>1</td>\n",
       "      <td>0</td>\n",
       "      <td>2</td>\n",
       "      <td>0</td>\n",
       "      <td>3</td>\n",
       "      <td>5</td>\n",
       "    </tr>\n",
       "    <tr>\n",
       "      <th>1</th>\n",
       "      <td>2010-01-01</td>\n",
       "      <td>brun</td>\n",
       "      <td>42</td>\n",
       "      <td>6</td>\n",
       "      <td>38102</td>\n",
       "      <td>M</td>\n",
       "      <td>licence</td>\n",
       "      <td>geologie</td>\n",
       "      <td>72.46</td>\n",
       "      <td>non</td>\n",
       "      <td>...</td>\n",
       "      <td>[37615-39172[</td>\n",
       "      <td>3</td>\n",
       "      <td>1</td>\n",
       "      <td>2</td>\n",
       "      <td>0</td>\n",
       "      <td>0</td>\n",
       "      <td>2</td>\n",
       "      <td>7</td>\n",
       "      <td>3</td>\n",
       "      <td>7</td>\n",
       "    </tr>\n",
       "    <tr>\n",
       "      <th>2</th>\n",
       "      <td>2010-01-01</td>\n",
       "      <td>brun</td>\n",
       "      <td>34</td>\n",
       "      <td>14</td>\n",
       "      <td>36232</td>\n",
       "      <td>M</td>\n",
       "      <td>licence</td>\n",
       "      <td>geologie</td>\n",
       "      <td>65.43</td>\n",
       "      <td>non</td>\n",
       "      <td>...</td>\n",
       "      <td>[36216-37615[</td>\n",
       "      <td>3</td>\n",
       "      <td>1</td>\n",
       "      <td>2</td>\n",
       "      <td>0</td>\n",
       "      <td>0</td>\n",
       "      <td>2</td>\n",
       "      <td>3</td>\n",
       "      <td>1</td>\n",
       "      <td>6</td>\n",
       "    </tr>\n",
       "    <tr>\n",
       "      <th>3</th>\n",
       "      <td>2010-01-01</td>\n",
       "      <td>brun</td>\n",
       "      <td>32</td>\n",
       "      <td>7</td>\n",
       "      <td>37425</td>\n",
       "      <td>M</td>\n",
       "      <td>master</td>\n",
       "      <td>geologie</td>\n",
       "      <td>92.64</td>\n",
       "      <td>oui</td>\n",
       "      <td>...</td>\n",
       "      <td>[36216-37615[</td>\n",
       "      <td>3</td>\n",
       "      <td>1</td>\n",
       "      <td>3</td>\n",
       "      <td>1</td>\n",
       "      <td>2</td>\n",
       "      <td>2</td>\n",
       "      <td>3</td>\n",
       "      <td>8</td>\n",
       "      <td>6</td>\n",
       "    </tr>\n",
       "    <tr>\n",
       "      <th>4</th>\n",
       "      <td>2010-01-01</td>\n",
       "      <td>brun</td>\n",
       "      <td>25</td>\n",
       "      <td>13</td>\n",
       "      <td>46881</td>\n",
       "      <td>M</td>\n",
       "      <td>bac</td>\n",
       "      <td>geologie</td>\n",
       "      <td>29.52</td>\n",
       "      <td>non</td>\n",
       "      <td>...</td>\n",
       "      <td>[41358-53977[</td>\n",
       "      <td>3</td>\n",
       "      <td>1</td>\n",
       "      <td>0</td>\n",
       "      <td>0</td>\n",
       "      <td>3</td>\n",
       "      <td>3</td>\n",
       "      <td>1</td>\n",
       "      <td>7</td>\n",
       "      <td>9</td>\n",
       "    </tr>\n",
       "  </tbody>\n",
       "</table>\n",
       "<p>5 rows × 30 columns</p>\n",
       "</div>"
      ],
      "text/plain": [
       "         date cheveux  age  exp  salaire C_sexe C_diplome C_specialite   note  \\\n",
       "0  2010-01-01   blond   22    8    35554      M    master     geologie  72.41   \n",
       "1  2010-01-01    brun   42    6    38102      M   licence     geologie  72.46   \n",
       "2  2010-01-01    brun   34   14    36232      M   licence     geologie  65.43   \n",
       "3  2010-01-01    brun   32    7    37425      M    master     geologie  92.64   \n",
       "4  2010-01-01    brun   25   13    46881      M       bac     geologie  29.52   \n",
       "\n",
       "  C_dispo  ...      salaire_D  C_specialite_labels_encoding  \\\n",
       "0     oui  ...  [34964-36216[                             3   \n",
       "1     non  ...  [37615-39172[                             3   \n",
       "2     non  ...  [36216-37615[                             3   \n",
       "3     oui  ...  [36216-37615[                             3   \n",
       "4     non  ...  [41358-53977[                             3   \n",
       "\n",
       "   C_sexe_labels_encoding  C_diplome_labels_encoding C_dispo_labels_encoding  \\\n",
       "0                       1                          3                       1   \n",
       "1                       1                          2                       0   \n",
       "2                       1                          2                       0   \n",
       "3                       1                          3                       1   \n",
       "4                       1                          0                       0   \n",
       "\n",
       "  note_Q_labels_encoding salaire_Q_labels_encoding age_D_labels_encoding  \\\n",
       "0                      0                         2                     0   \n",
       "1                      0                         2                     7   \n",
       "2                      0                         2                     3   \n",
       "3                      2                         2                     3   \n",
       "4                      3                         3                     1   \n",
       "\n",
       "  note_D_labels_encoding salaire_D_labels_encoding  \n",
       "0                      3                         5  \n",
       "1                      3                         7  \n",
       "2                      1                         6  \n",
       "3                      8                         6  \n",
       "4                      7                         9  \n",
       "\n",
       "[5 rows x 30 columns]"
      ]
     },
     "execution_count": 154,
     "metadata": {},
     "output_type": "execute_result"
    }
   ],
   "source": [
    "df_all_data.head()"
   ]
  },
  {
   "cell_type": "markdown",
   "metadata": {},
   "source": [
    "Ajout des variables du type interactions"
   ]
  },
  {
   "cell_type": "code",
   "execution_count": 155,
   "metadata": {},
   "outputs": [],
   "source": [
    "# def interaction_order(df,list_of_categ_var, order, only_ordre):\n",
    "def interaction_order(df,list_of_categ_var, order):\n",
    "    \n",
    "    initial_list_df = list_of_categ_var\n",
    "    print (list(df))\n",
    "\n",
    "    # if only_ordre == True:\n",
    "    all_interactions = list(combinations(list_of_categ_var,order))\n",
    "\n",
    "    # print (\"Nb d'interactions\", len(all_interactions))\n",
    "    # print (\"Interaction entre : \", all_interactions)\n",
    "\n",
    "    for i in range(0, len(all_interactions)):\n",
    "        # all_inter_variables = []\n",
    "        # print (list(all_interactions[i]))\n",
    "\n",
    "        for each in list(all_interactions[i]):\n",
    "            # New columns of interaction\n",
    "            for each in range(0,order):\n",
    "\n",
    "                # Name of interaction variables\n",
    "                # var_inter_name = 'inter_' + str(i)\n",
    "                \n",
    "                var_inter_name = \"_+_\".join(list(all_interactions[i]))\n",
    "\n",
    "                # df[var_inter_name] = df[list(all_interactions[i])[0]] + '_' + df[list(all_interactions[i])[1]]\n",
    "                if each == 0:\n",
    "                    # print (\"each\", each)\n",
    "                    \n",
    "                    # print (var_inter_name)\n",
    "                    df[var_inter_name] = df[list(all_interactions[i])[each]]\n",
    "                else:\n",
    "                    df[var_inter_name] = df[var_inter_name] + '_' + df[list(all_interactions[i])[each]]\n",
    "\n",
    "                # all_inter_variables.append(var_inter_name)\n",
    "                # print (all_inter_variables)\n",
    "\n",
    "    # Keep only interaction variables in the dataframe\n",
    "    # print (initial_list_df)\n",
    "    df = df.drop(initial_list_df, axis=1)\n",
    "    # df = df[all_inter_variables]\n",
    "    return df"
   ]
  },
  {
   "cell_type": "code",
   "execution_count": 156,
   "metadata": {},
   "outputs": [
    {
     "name": "stdout",
     "output_type": "stream",
     "text": [
      "['C_sexe', 'C_diplome', 'C_specialite', 'C_dispo']\n"
     ]
    },
    {
     "name": "stderr",
     "output_type": "stream",
     "text": [
      "/home/osboxes/anaconda3/envs/data/lib/python3.6/site-packages/ipykernel_launcher.py:31: SettingWithCopyWarning: \n",
      "A value is trying to be set on a copy of a slice from a DataFrame.\n",
      "Try using .loc[row_indexer,col_indexer] = value instead\n",
      "\n",
      "See the caveats in the documentation: http://pandas.pydata.org/pandas-docs/stable/indexing.html#indexing-view-versus-copy\n",
      "/home/osboxes/anaconda3/envs/data/lib/python3.6/site-packages/ipykernel_launcher.py:33: SettingWithCopyWarning: \n",
      "A value is trying to be set on a copy of a slice from a DataFrame.\n",
      "Try using .loc[row_indexer,col_indexer] = value instead\n",
      "\n",
      "See the caveats in the documentation: http://pandas.pydata.org/pandas-docs/stable/indexing.html#indexing-view-versus-copy\n"
     ]
    }
   ],
   "source": [
    "df_with_interaction = interaction_order(df_all_data[all_categorical],all_categorical, 2)"
   ]
  },
  {
   "cell_type": "code",
   "execution_count": 157,
   "metadata": {},
   "outputs": [
    {
     "data": {
      "text/html": [
       "<div>\n",
       "<style scoped>\n",
       "    .dataframe tbody tr th:only-of-type {\n",
       "        vertical-align: middle;\n",
       "    }\n",
       "\n",
       "    .dataframe tbody tr th {\n",
       "        vertical-align: top;\n",
       "    }\n",
       "\n",
       "    .dataframe thead th {\n",
       "        text-align: right;\n",
       "    }\n",
       "</style>\n",
       "<table border=\"1\" class=\"dataframe\">\n",
       "  <thead>\n",
       "    <tr style=\"text-align: right;\">\n",
       "      <th></th>\n",
       "      <th>C_sexe_+_C_diplome</th>\n",
       "      <th>C_sexe_+_C_specialite</th>\n",
       "      <th>C_sexe_+_C_dispo</th>\n",
       "      <th>C_diplome_+_C_specialite</th>\n",
       "      <th>C_diplome_+_C_dispo</th>\n",
       "      <th>C_specialite_+_C_dispo</th>\n",
       "    </tr>\n",
       "  </thead>\n",
       "  <tbody>\n",
       "    <tr>\n",
       "      <th>0</th>\n",
       "      <td>M_master</td>\n",
       "      <td>M_geologie</td>\n",
       "      <td>M_oui</td>\n",
       "      <td>master_geologie</td>\n",
       "      <td>master_oui</td>\n",
       "      <td>geologie_oui</td>\n",
       "    </tr>\n",
       "    <tr>\n",
       "      <th>1</th>\n",
       "      <td>M_licence</td>\n",
       "      <td>M_geologie</td>\n",
       "      <td>M_non</td>\n",
       "      <td>licence_geologie</td>\n",
       "      <td>licence_non</td>\n",
       "      <td>geologie_non</td>\n",
       "    </tr>\n",
       "    <tr>\n",
       "      <th>2</th>\n",
       "      <td>M_licence</td>\n",
       "      <td>M_geologie</td>\n",
       "      <td>M_non</td>\n",
       "      <td>licence_geologie</td>\n",
       "      <td>licence_non</td>\n",
       "      <td>geologie_non</td>\n",
       "    </tr>\n",
       "    <tr>\n",
       "      <th>3</th>\n",
       "      <td>M_master</td>\n",
       "      <td>M_geologie</td>\n",
       "      <td>M_oui</td>\n",
       "      <td>master_geologie</td>\n",
       "      <td>master_oui</td>\n",
       "      <td>geologie_oui</td>\n",
       "    </tr>\n",
       "    <tr>\n",
       "      <th>4</th>\n",
       "      <td>M_bac</td>\n",
       "      <td>M_geologie</td>\n",
       "      <td>M_non</td>\n",
       "      <td>bac_geologie</td>\n",
       "      <td>bac_non</td>\n",
       "      <td>geologie_non</td>\n",
       "    </tr>\n",
       "  </tbody>\n",
       "</table>\n",
       "</div>"
      ],
      "text/plain": [
       "  C_sexe_+_C_diplome C_sexe_+_C_specialite C_sexe_+_C_dispo  \\\n",
       "0           M_master            M_geologie            M_oui   \n",
       "1          M_licence            M_geologie            M_non   \n",
       "2          M_licence            M_geologie            M_non   \n",
       "3           M_master            M_geologie            M_oui   \n",
       "4              M_bac            M_geologie            M_non   \n",
       "\n",
       "  C_diplome_+_C_specialite C_diplome_+_C_dispo C_specialite_+_C_dispo  \n",
       "0          master_geologie          master_oui           geologie_oui  \n",
       "1         licence_geologie         licence_non           geologie_non  \n",
       "2         licence_geologie         licence_non           geologie_non  \n",
       "3          master_geologie          master_oui           geologie_oui  \n",
       "4             bac_geologie             bac_non           geologie_non  "
      ]
     },
     "execution_count": 157,
     "metadata": {},
     "output_type": "execute_result"
    }
   ],
   "source": [
    "df_with_interaction.head()"
   ]
  },
  {
   "cell_type": "code",
   "execution_count": 158,
   "metadata": {},
   "outputs": [],
   "source": [
    "df_all_categorical = df_all_data[all_categorical].applymap(str)\n",
    "df_with_interaction = df_with_interaction.applymap(str)"
   ]
  },
  {
   "cell_type": "code",
   "execution_count": 159,
   "metadata": {},
   "outputs": [],
   "source": [
    "df_before_dummies = pd.concat([df_all_categorical,df_with_interaction], axis = 1)"
   ]
  },
  {
   "cell_type": "code",
   "execution_count": 160,
   "metadata": {},
   "outputs": [
    {
     "data": {
      "text/html": [
       "<div>\n",
       "<style scoped>\n",
       "    .dataframe tbody tr th:only-of-type {\n",
       "        vertical-align: middle;\n",
       "    }\n",
       "\n",
       "    .dataframe tbody tr th {\n",
       "        vertical-align: top;\n",
       "    }\n",
       "\n",
       "    .dataframe thead th {\n",
       "        text-align: right;\n",
       "    }\n",
       "</style>\n",
       "<table border=\"1\" class=\"dataframe\">\n",
       "  <thead>\n",
       "    <tr style=\"text-align: right;\">\n",
       "      <th></th>\n",
       "      <th>C_sexe</th>\n",
       "      <th>C_diplome</th>\n",
       "      <th>C_specialite</th>\n",
       "      <th>C_dispo</th>\n",
       "      <th>C_sexe_+_C_diplome</th>\n",
       "      <th>C_sexe_+_C_specialite</th>\n",
       "      <th>C_sexe_+_C_dispo</th>\n",
       "      <th>C_diplome_+_C_specialite</th>\n",
       "      <th>C_diplome_+_C_dispo</th>\n",
       "      <th>C_specialite_+_C_dispo</th>\n",
       "    </tr>\n",
       "  </thead>\n",
       "  <tbody>\n",
       "    <tr>\n",
       "      <th>0</th>\n",
       "      <td>M</td>\n",
       "      <td>master</td>\n",
       "      <td>geologie</td>\n",
       "      <td>oui</td>\n",
       "      <td>M_master</td>\n",
       "      <td>M_geologie</td>\n",
       "      <td>M_oui</td>\n",
       "      <td>master_geologie</td>\n",
       "      <td>master_oui</td>\n",
       "      <td>geologie_oui</td>\n",
       "    </tr>\n",
       "    <tr>\n",
       "      <th>1</th>\n",
       "      <td>M</td>\n",
       "      <td>licence</td>\n",
       "      <td>geologie</td>\n",
       "      <td>non</td>\n",
       "      <td>M_licence</td>\n",
       "      <td>M_geologie</td>\n",
       "      <td>M_non</td>\n",
       "      <td>licence_geologie</td>\n",
       "      <td>licence_non</td>\n",
       "      <td>geologie_non</td>\n",
       "    </tr>\n",
       "    <tr>\n",
       "      <th>2</th>\n",
       "      <td>M</td>\n",
       "      <td>licence</td>\n",
       "      <td>geologie</td>\n",
       "      <td>non</td>\n",
       "      <td>M_licence</td>\n",
       "      <td>M_geologie</td>\n",
       "      <td>M_non</td>\n",
       "      <td>licence_geologie</td>\n",
       "      <td>licence_non</td>\n",
       "      <td>geologie_non</td>\n",
       "    </tr>\n",
       "    <tr>\n",
       "      <th>3</th>\n",
       "      <td>M</td>\n",
       "      <td>master</td>\n",
       "      <td>geologie</td>\n",
       "      <td>oui</td>\n",
       "      <td>M_master</td>\n",
       "      <td>M_geologie</td>\n",
       "      <td>M_oui</td>\n",
       "      <td>master_geologie</td>\n",
       "      <td>master_oui</td>\n",
       "      <td>geologie_oui</td>\n",
       "    </tr>\n",
       "    <tr>\n",
       "      <th>4</th>\n",
       "      <td>M</td>\n",
       "      <td>bac</td>\n",
       "      <td>geologie</td>\n",
       "      <td>non</td>\n",
       "      <td>M_bac</td>\n",
       "      <td>M_geologie</td>\n",
       "      <td>M_non</td>\n",
       "      <td>bac_geologie</td>\n",
       "      <td>bac_non</td>\n",
       "      <td>geologie_non</td>\n",
       "    </tr>\n",
       "  </tbody>\n",
       "</table>\n",
       "</div>"
      ],
      "text/plain": [
       "  C_sexe C_diplome C_specialite C_dispo C_sexe_+_C_diplome  \\\n",
       "0      M    master     geologie     oui           M_master   \n",
       "1      M   licence     geologie     non          M_licence   \n",
       "2      M   licence     geologie     non          M_licence   \n",
       "3      M    master     geologie     oui           M_master   \n",
       "4      M       bac     geologie     non              M_bac   \n",
       "\n",
       "  C_sexe_+_C_specialite C_sexe_+_C_dispo C_diplome_+_C_specialite  \\\n",
       "0            M_geologie            M_oui          master_geologie   \n",
       "1            M_geologie            M_non         licence_geologie   \n",
       "2            M_geologie            M_non         licence_geologie   \n",
       "3            M_geologie            M_oui          master_geologie   \n",
       "4            M_geologie            M_non             bac_geologie   \n",
       "\n",
       "  C_diplome_+_C_dispo C_specialite_+_C_dispo  \n",
       "0          master_oui           geologie_oui  \n",
       "1         licence_non           geologie_non  \n",
       "2         licence_non           geologie_non  \n",
       "3          master_oui           geologie_oui  \n",
       "4             bac_non           geologie_non  "
      ]
     },
     "execution_count": 160,
     "metadata": {},
     "output_type": "execute_result"
    }
   ],
   "source": [
    "df_before_dummies.head()"
   ]
  },
  {
   "cell_type": "code",
   "execution_count": 161,
   "metadata": {},
   "outputs": [],
   "source": [
    "df_all_dummies = pd.get_dummies(df_before_dummies)"
   ]
  },
  {
   "cell_type": "code",
   "execution_count": 162,
   "metadata": {},
   "outputs": [
    {
     "data": {
      "text/plain": [
       "['C_sexe_F',\n",
       " 'C_sexe_M',\n",
       " 'C_diplome_bac',\n",
       " 'C_diplome_doctorat',\n",
       " 'C_diplome_licence',\n",
       " 'C_diplome_master',\n",
       " 'C_specialite_archeologie',\n",
       " 'C_specialite_detective',\n",
       " 'C_specialite_forage',\n",
       " 'C_specialite_geologie',\n",
       " 'C_dispo_non',\n",
       " 'C_dispo_oui',\n",
       " 'C_sexe_+_C_diplome_F_bac',\n",
       " 'C_sexe_+_C_diplome_F_doctorat',\n",
       " 'C_sexe_+_C_diplome_F_licence',\n",
       " 'C_sexe_+_C_diplome_F_master',\n",
       " 'C_sexe_+_C_diplome_M_bac',\n",
       " 'C_sexe_+_C_diplome_M_doctorat',\n",
       " 'C_sexe_+_C_diplome_M_licence',\n",
       " 'C_sexe_+_C_diplome_M_master',\n",
       " 'C_sexe_+_C_specialite_F_archeologie',\n",
       " 'C_sexe_+_C_specialite_F_detective',\n",
       " 'C_sexe_+_C_specialite_F_forage',\n",
       " 'C_sexe_+_C_specialite_F_geologie',\n",
       " 'C_sexe_+_C_specialite_M_archeologie',\n",
       " 'C_sexe_+_C_specialite_M_detective',\n",
       " 'C_sexe_+_C_specialite_M_forage',\n",
       " 'C_sexe_+_C_specialite_M_geologie',\n",
       " 'C_sexe_+_C_dispo_F_non',\n",
       " 'C_sexe_+_C_dispo_F_oui',\n",
       " 'C_sexe_+_C_dispo_M_non',\n",
       " 'C_sexe_+_C_dispo_M_oui',\n",
       " 'C_diplome_+_C_specialite_bac_archeologie',\n",
       " 'C_diplome_+_C_specialite_bac_detective',\n",
       " 'C_diplome_+_C_specialite_bac_forage',\n",
       " 'C_diplome_+_C_specialite_bac_geologie',\n",
       " 'C_diplome_+_C_specialite_doctorat_archeologie',\n",
       " 'C_diplome_+_C_specialite_doctorat_detective',\n",
       " 'C_diplome_+_C_specialite_doctorat_forage',\n",
       " 'C_diplome_+_C_specialite_doctorat_geologie',\n",
       " 'C_diplome_+_C_specialite_licence_archeologie',\n",
       " 'C_diplome_+_C_specialite_licence_detective',\n",
       " 'C_diplome_+_C_specialite_licence_forage',\n",
       " 'C_diplome_+_C_specialite_licence_geologie',\n",
       " 'C_diplome_+_C_specialite_master_archeologie',\n",
       " 'C_diplome_+_C_specialite_master_detective',\n",
       " 'C_diplome_+_C_specialite_master_forage',\n",
       " 'C_diplome_+_C_specialite_master_geologie',\n",
       " 'C_diplome_+_C_dispo_bac_non',\n",
       " 'C_diplome_+_C_dispo_bac_oui',\n",
       " 'C_diplome_+_C_dispo_doctorat_non',\n",
       " 'C_diplome_+_C_dispo_doctorat_oui',\n",
       " 'C_diplome_+_C_dispo_licence_non',\n",
       " 'C_diplome_+_C_dispo_licence_oui',\n",
       " 'C_diplome_+_C_dispo_master_non',\n",
       " 'C_diplome_+_C_dispo_master_oui',\n",
       " 'C_specialite_+_C_dispo_archeologie_non',\n",
       " 'C_specialite_+_C_dispo_archeologie_oui',\n",
       " 'C_specialite_+_C_dispo_detective_non',\n",
       " 'C_specialite_+_C_dispo_detective_oui',\n",
       " 'C_specialite_+_C_dispo_forage_non',\n",
       " 'C_specialite_+_C_dispo_forage_oui',\n",
       " 'C_specialite_+_C_dispo_geologie_non',\n",
       " 'C_specialite_+_C_dispo_geologie_oui']"
      ]
     },
     "execution_count": 162,
     "metadata": {},
     "output_type": "execute_result"
    }
   ],
   "source": [
    "list(df_all_dummies)"
   ]
  },
  {
   "cell_type": "code",
   "execution_count": 163,
   "metadata": {},
   "outputs": [],
   "source": [
    "df_all_data = pd.concat([df_all_data,df_all_dummies], axis = 1)"
   ]
  },
  {
   "cell_type": "code",
   "execution_count": 164,
   "metadata": {},
   "outputs": [
    {
     "data": {
      "text/plain": [
       "['date',\n",
       " 'cheveux',\n",
       " 'age',\n",
       " 'exp',\n",
       " 'salaire',\n",
       " 'C_sexe',\n",
       " 'C_diplome',\n",
       " 'C_specialite',\n",
       " 'note',\n",
       " 'C_dispo',\n",
       " 'embauche',\n",
       " 'annee',\n",
       " 'mois',\n",
       " 'jour',\n",
       " 'age_Q',\n",
       " 'exp_Q',\n",
       " 'note_Q',\n",
       " 'salaire_Q',\n",
       " 'age_D',\n",
       " 'note_D',\n",
       " 'salaire_D',\n",
       " 'C_specialite_labels_encoding',\n",
       " 'C_sexe_labels_encoding',\n",
       " 'C_diplome_labels_encoding',\n",
       " 'C_dispo_labels_encoding',\n",
       " 'note_Q_labels_encoding',\n",
       " 'salaire_Q_labels_encoding',\n",
       " 'age_D_labels_encoding',\n",
       " 'note_D_labels_encoding',\n",
       " 'salaire_D_labels_encoding',\n",
       " 'C_sexe_F',\n",
       " 'C_sexe_M',\n",
       " 'C_diplome_bac',\n",
       " 'C_diplome_doctorat',\n",
       " 'C_diplome_licence',\n",
       " 'C_diplome_master',\n",
       " 'C_specialite_archeologie',\n",
       " 'C_specialite_detective',\n",
       " 'C_specialite_forage',\n",
       " 'C_specialite_geologie',\n",
       " 'C_dispo_non',\n",
       " 'C_dispo_oui',\n",
       " 'C_sexe_+_C_diplome_F_bac',\n",
       " 'C_sexe_+_C_diplome_F_doctorat',\n",
       " 'C_sexe_+_C_diplome_F_licence',\n",
       " 'C_sexe_+_C_diplome_F_master',\n",
       " 'C_sexe_+_C_diplome_M_bac',\n",
       " 'C_sexe_+_C_diplome_M_doctorat',\n",
       " 'C_sexe_+_C_diplome_M_licence',\n",
       " 'C_sexe_+_C_diplome_M_master',\n",
       " 'C_sexe_+_C_specialite_F_archeologie',\n",
       " 'C_sexe_+_C_specialite_F_detective',\n",
       " 'C_sexe_+_C_specialite_F_forage',\n",
       " 'C_sexe_+_C_specialite_F_geologie',\n",
       " 'C_sexe_+_C_specialite_M_archeologie',\n",
       " 'C_sexe_+_C_specialite_M_detective',\n",
       " 'C_sexe_+_C_specialite_M_forage',\n",
       " 'C_sexe_+_C_specialite_M_geologie',\n",
       " 'C_sexe_+_C_dispo_F_non',\n",
       " 'C_sexe_+_C_dispo_F_oui',\n",
       " 'C_sexe_+_C_dispo_M_non',\n",
       " 'C_sexe_+_C_dispo_M_oui',\n",
       " 'C_diplome_+_C_specialite_bac_archeologie',\n",
       " 'C_diplome_+_C_specialite_bac_detective',\n",
       " 'C_diplome_+_C_specialite_bac_forage',\n",
       " 'C_diplome_+_C_specialite_bac_geologie',\n",
       " 'C_diplome_+_C_specialite_doctorat_archeologie',\n",
       " 'C_diplome_+_C_specialite_doctorat_detective',\n",
       " 'C_diplome_+_C_specialite_doctorat_forage',\n",
       " 'C_diplome_+_C_specialite_doctorat_geologie',\n",
       " 'C_diplome_+_C_specialite_licence_archeologie',\n",
       " 'C_diplome_+_C_specialite_licence_detective',\n",
       " 'C_diplome_+_C_specialite_licence_forage',\n",
       " 'C_diplome_+_C_specialite_licence_geologie',\n",
       " 'C_diplome_+_C_specialite_master_archeologie',\n",
       " 'C_diplome_+_C_specialite_master_detective',\n",
       " 'C_diplome_+_C_specialite_master_forage',\n",
       " 'C_diplome_+_C_specialite_master_geologie',\n",
       " 'C_diplome_+_C_dispo_bac_non',\n",
       " 'C_diplome_+_C_dispo_bac_oui',\n",
       " 'C_diplome_+_C_dispo_doctorat_non',\n",
       " 'C_diplome_+_C_dispo_doctorat_oui',\n",
       " 'C_diplome_+_C_dispo_licence_non',\n",
       " 'C_diplome_+_C_dispo_licence_oui',\n",
       " 'C_diplome_+_C_dispo_master_non',\n",
       " 'C_diplome_+_C_dispo_master_oui',\n",
       " 'C_specialite_+_C_dispo_archeologie_non',\n",
       " 'C_specialite_+_C_dispo_archeologie_oui',\n",
       " 'C_specialite_+_C_dispo_detective_non',\n",
       " 'C_specialite_+_C_dispo_detective_oui',\n",
       " 'C_specialite_+_C_dispo_forage_non',\n",
       " 'C_specialite_+_C_dispo_forage_oui',\n",
       " 'C_specialite_+_C_dispo_geologie_non',\n",
       " 'C_specialite_+_C_dispo_geologie_oui']"
      ]
     },
     "execution_count": 164,
     "metadata": {},
     "output_type": "execute_result"
    }
   ],
   "source": [
    "list(df_all_data)"
   ]
  },
  {
   "cell_type": "code",
   "execution_count": 165,
   "metadata": {},
   "outputs": [],
   "source": [
    "liste_dummy_variables = list(df_all_dummies)"
   ]
  },
  {
   "cell_type": "markdown",
   "metadata": {},
   "source": [
    "## I Régression logistique avec régularisation L2\n",
    "### On utilise de la cross validation avec  GridSearchCV"
   ]
  },
  {
   "cell_type": "markdown",
   "metadata": {},
   "source": [
    "Liste des variables pour la régression logistique"
   ]
  },
  {
   "cell_type": "code",
   "execution_count": 166,
   "metadata": {},
   "outputs": [
    {
     "data": {
      "text/plain": [
       "['C_sexe_F',\n",
       " 'C_sexe_M',\n",
       " 'C_diplome_bac',\n",
       " 'C_diplome_doctorat',\n",
       " 'C_diplome_licence',\n",
       " 'C_diplome_master',\n",
       " 'C_specialite_archeologie',\n",
       " 'C_specialite_detective',\n",
       " 'C_specialite_forage',\n",
       " 'C_specialite_geologie',\n",
       " 'C_dispo_non',\n",
       " 'C_dispo_oui',\n",
       " 'C_sexe_+_C_diplome_F_bac',\n",
       " 'C_sexe_+_C_diplome_F_doctorat',\n",
       " 'C_sexe_+_C_diplome_F_licence',\n",
       " 'C_sexe_+_C_diplome_F_master',\n",
       " 'C_sexe_+_C_diplome_M_bac',\n",
       " 'C_sexe_+_C_diplome_M_doctorat',\n",
       " 'C_sexe_+_C_diplome_M_licence',\n",
       " 'C_sexe_+_C_diplome_M_master',\n",
       " 'C_sexe_+_C_specialite_F_archeologie',\n",
       " 'C_sexe_+_C_specialite_F_detective',\n",
       " 'C_sexe_+_C_specialite_F_forage',\n",
       " 'C_sexe_+_C_specialite_F_geologie',\n",
       " 'C_sexe_+_C_specialite_M_archeologie',\n",
       " 'C_sexe_+_C_specialite_M_detective',\n",
       " 'C_sexe_+_C_specialite_M_forage',\n",
       " 'C_sexe_+_C_specialite_M_geologie',\n",
       " 'C_sexe_+_C_dispo_F_non',\n",
       " 'C_sexe_+_C_dispo_F_oui',\n",
       " 'C_sexe_+_C_dispo_M_non',\n",
       " 'C_sexe_+_C_dispo_M_oui',\n",
       " 'C_diplome_+_C_specialite_bac_archeologie',\n",
       " 'C_diplome_+_C_specialite_bac_detective',\n",
       " 'C_diplome_+_C_specialite_bac_forage',\n",
       " 'C_diplome_+_C_specialite_bac_geologie',\n",
       " 'C_diplome_+_C_specialite_doctorat_archeologie',\n",
       " 'C_diplome_+_C_specialite_doctorat_detective',\n",
       " 'C_diplome_+_C_specialite_doctorat_forage',\n",
       " 'C_diplome_+_C_specialite_doctorat_geologie',\n",
       " 'C_diplome_+_C_specialite_licence_archeologie',\n",
       " 'C_diplome_+_C_specialite_licence_detective',\n",
       " 'C_diplome_+_C_specialite_licence_forage',\n",
       " 'C_diplome_+_C_specialite_licence_geologie',\n",
       " 'C_diplome_+_C_specialite_master_archeologie',\n",
       " 'C_diplome_+_C_specialite_master_detective',\n",
       " 'C_diplome_+_C_specialite_master_forage',\n",
       " 'C_diplome_+_C_specialite_master_geologie',\n",
       " 'C_diplome_+_C_dispo_bac_non',\n",
       " 'C_diplome_+_C_dispo_bac_oui',\n",
       " 'C_diplome_+_C_dispo_doctorat_non',\n",
       " 'C_diplome_+_C_dispo_doctorat_oui',\n",
       " 'C_diplome_+_C_dispo_licence_non',\n",
       " 'C_diplome_+_C_dispo_licence_oui',\n",
       " 'C_diplome_+_C_dispo_master_non',\n",
       " 'C_diplome_+_C_dispo_master_oui',\n",
       " 'C_specialite_+_C_dispo_archeologie_non',\n",
       " 'C_specialite_+_C_dispo_archeologie_oui',\n",
       " 'C_specialite_+_C_dispo_detective_non',\n",
       " 'C_specialite_+_C_dispo_detective_oui',\n",
       " 'C_specialite_+_C_dispo_forage_non',\n",
       " 'C_specialite_+_C_dispo_forage_oui',\n",
       " 'C_specialite_+_C_dispo_geologie_non',\n",
       " 'C_specialite_+_C_dispo_geologie_oui',\n",
       " 'note',\n",
       " 'salaire',\n",
       " 'age']"
      ]
     },
     "execution_count": 166,
     "metadata": {},
     "output_type": "execute_result"
    }
   ],
   "source": [
    "# del liste_feat_for_logistic_regression\n",
    "\n",
    "init = []\n",
    "# init.append(list(df_all_dummies))\n",
    "init.append(liste_dummy_variables)\n",
    "numeric_var_to_add = ['note', 'salaire', 'age']\n",
    "init.append(numeric_var_to_add)\n",
    "\n",
    "liste_feat_for_logistic_regression = list(chain(*init))\n",
    "liste_feat_for_logistic_regression"
   ]
  },
  {
   "cell_type": "code",
   "execution_count": 169,
   "metadata": {},
   "outputs": [
    {
     "data": {
      "text/plain": [
       "(18320, 94)"
      ]
     },
     "execution_count": 169,
     "metadata": {},
     "output_type": "execute_result"
    }
   ],
   "source": [
    "df_all_data.shape"
   ]
  },
  {
   "cell_type": "markdown",
   "metadata": {},
   "source": [
    "Holdout en faisant un split des données :\n",
    "- données d'apprentissage avec 70% des données \n",
    "- données de validation avec 30% des données"
   ]
  },
  {
   "cell_type": "code",
   "execution_count": 170,
   "metadata": {},
   "outputs": [],
   "source": [
    "Y_train = df_all_data[[target_var_name]]\n",
    "X_train_all_columns, X_valid_all_columns, Y_train, Y_valid = train_test_split(df_all_data,Y_train,test_size = 0.3,random_state = 56)"
   ]
  },
  {
   "cell_type": "code",
   "execution_count": 171,
   "metadata": {},
   "outputs": [
    {
     "data": {
      "text/plain": [
       "(12824, 1)"
      ]
     },
     "execution_count": 171,
     "metadata": {},
     "output_type": "execute_result"
    }
   ],
   "source": [
    "Y_train.shape"
   ]
  },
  {
   "cell_type": "markdown",
   "metadata": {},
   "source": [
    "On sélectionne les variables choisies pour la régression logistique"
   ]
  },
  {
   "cell_type": "code",
   "execution_count": 172,
   "metadata": {},
   "outputs": [],
   "source": [
    "X_train = X_train_all_columns[liste_feat_for_logistic_regression]"
   ]
  },
  {
   "cell_type": "code",
   "execution_count": 173,
   "metadata": {},
   "outputs": [
    {
     "data": {
      "text/plain": [
       "(12824, 94)"
      ]
     },
     "execution_count": 173,
     "metadata": {},
     "output_type": "execute_result"
    }
   ],
   "source": [
    "X_train_all_columns.shape"
   ]
  },
  {
   "cell_type": "code",
   "execution_count": 174,
   "metadata": {},
   "outputs": [
    {
     "data": {
      "text/plain": [
       "(12824, 67)"
      ]
     },
     "execution_count": 174,
     "metadata": {},
     "output_type": "execute_result"
    }
   ],
   "source": [
    "X_train.shape"
   ]
  },
  {
   "cell_type": "code",
   "execution_count": 175,
   "metadata": {},
   "outputs": [
    {
     "data": {
      "text/plain": [
       "['C_sexe_F',\n",
       " 'C_sexe_M',\n",
       " 'C_diplome_bac',\n",
       " 'C_diplome_doctorat',\n",
       " 'C_diplome_licence',\n",
       " 'C_diplome_master',\n",
       " 'C_specialite_archeologie',\n",
       " 'C_specialite_detective',\n",
       " 'C_specialite_forage',\n",
       " 'C_specialite_geologie',\n",
       " 'C_dispo_non',\n",
       " 'C_dispo_oui',\n",
       " 'C_sexe_+_C_diplome_F_bac',\n",
       " 'C_sexe_+_C_diplome_F_doctorat',\n",
       " 'C_sexe_+_C_diplome_F_licence',\n",
       " 'C_sexe_+_C_diplome_F_master',\n",
       " 'C_sexe_+_C_diplome_M_bac',\n",
       " 'C_sexe_+_C_diplome_M_doctorat',\n",
       " 'C_sexe_+_C_diplome_M_licence',\n",
       " 'C_sexe_+_C_diplome_M_master',\n",
       " 'C_sexe_+_C_specialite_F_archeologie',\n",
       " 'C_sexe_+_C_specialite_F_detective',\n",
       " 'C_sexe_+_C_specialite_F_forage',\n",
       " 'C_sexe_+_C_specialite_F_geologie',\n",
       " 'C_sexe_+_C_specialite_M_archeologie',\n",
       " 'C_sexe_+_C_specialite_M_detective',\n",
       " 'C_sexe_+_C_specialite_M_forage',\n",
       " 'C_sexe_+_C_specialite_M_geologie',\n",
       " 'C_sexe_+_C_dispo_F_non',\n",
       " 'C_sexe_+_C_dispo_F_oui',\n",
       " 'C_sexe_+_C_dispo_M_non',\n",
       " 'C_sexe_+_C_dispo_M_oui',\n",
       " 'C_diplome_+_C_specialite_bac_archeologie',\n",
       " 'C_diplome_+_C_specialite_bac_detective',\n",
       " 'C_diplome_+_C_specialite_bac_forage',\n",
       " 'C_diplome_+_C_specialite_bac_geologie',\n",
       " 'C_diplome_+_C_specialite_doctorat_archeologie',\n",
       " 'C_diplome_+_C_specialite_doctorat_detective',\n",
       " 'C_diplome_+_C_specialite_doctorat_forage',\n",
       " 'C_diplome_+_C_specialite_doctorat_geologie',\n",
       " 'C_diplome_+_C_specialite_licence_archeologie',\n",
       " 'C_diplome_+_C_specialite_licence_detective',\n",
       " 'C_diplome_+_C_specialite_licence_forage',\n",
       " 'C_diplome_+_C_specialite_licence_geologie',\n",
       " 'C_diplome_+_C_specialite_master_archeologie',\n",
       " 'C_diplome_+_C_specialite_master_detective',\n",
       " 'C_diplome_+_C_specialite_master_forage',\n",
       " 'C_diplome_+_C_specialite_master_geologie',\n",
       " 'C_diplome_+_C_dispo_bac_non',\n",
       " 'C_diplome_+_C_dispo_bac_oui',\n",
       " 'C_diplome_+_C_dispo_doctorat_non',\n",
       " 'C_diplome_+_C_dispo_doctorat_oui',\n",
       " 'C_diplome_+_C_dispo_licence_non',\n",
       " 'C_diplome_+_C_dispo_licence_oui',\n",
       " 'C_diplome_+_C_dispo_master_non',\n",
       " 'C_diplome_+_C_dispo_master_oui',\n",
       " 'C_specialite_+_C_dispo_archeologie_non',\n",
       " 'C_specialite_+_C_dispo_archeologie_oui',\n",
       " 'C_specialite_+_C_dispo_detective_non',\n",
       " 'C_specialite_+_C_dispo_detective_oui',\n",
       " 'C_specialite_+_C_dispo_forage_non',\n",
       " 'C_specialite_+_C_dispo_forage_oui',\n",
       " 'C_specialite_+_C_dispo_geologie_non',\n",
       " 'C_specialite_+_C_dispo_geologie_oui',\n",
       " 'note',\n",
       " 'salaire',\n",
       " 'age']"
      ]
     },
     "execution_count": 175,
     "metadata": {},
     "output_type": "execute_result"
    }
   ],
   "source": [
    "list(X_train)"
   ]
  },
  {
   "cell_type": "markdown",
   "metadata": {},
   "source": [
    "Centrage-réduction des variables numériques utilisées: note, salaire et age"
   ]
  },
  {
   "cell_type": "code",
   "execution_count": 176,
   "metadata": {},
   "outputs": [],
   "source": [
    "all_numeric_to_scale = numeric_var_to_add\n",
    "scaler = StandardScaler()\n",
    "X_train_scaled = pd.DataFrame.from_records(scaler.fit_transform(X_train[all_numeric_to_scale]))"
   ]
  },
  {
   "cell_type": "code",
   "execution_count": 177,
   "metadata": {},
   "outputs": [
    {
     "data": {
      "text/plain": [
       "['note', 'salaire', 'age']"
      ]
     },
     "execution_count": 177,
     "metadata": {},
     "output_type": "execute_result"
    }
   ],
   "source": [
    "all_numeric_to_scale"
   ]
  },
  {
   "cell_type": "code",
   "execution_count": 178,
   "metadata": {},
   "outputs": [],
   "source": [
    "X_train_scaled.columns = all_numeric_to_scale"
   ]
  },
  {
   "cell_type": "code",
   "execution_count": 179,
   "metadata": {},
   "outputs": [
    {
     "data": {
      "text/html": [
       "<div>\n",
       "<style scoped>\n",
       "    .dataframe tbody tr th:only-of-type {\n",
       "        vertical-align: middle;\n",
       "    }\n",
       "\n",
       "    .dataframe tbody tr th {\n",
       "        vertical-align: top;\n",
       "    }\n",
       "\n",
       "    .dataframe thead th {\n",
       "        text-align: right;\n",
       "    }\n",
       "</style>\n",
       "<table border=\"1\" class=\"dataframe\">\n",
       "  <thead>\n",
       "    <tr style=\"text-align: right;\">\n",
       "      <th></th>\n",
       "      <th>note</th>\n",
       "      <th>salaire</th>\n",
       "      <th>age</th>\n",
       "    </tr>\n",
       "  </thead>\n",
       "  <tbody>\n",
       "    <tr>\n",
       "      <th>0</th>\n",
       "      <td>-0.129135</td>\n",
       "      <td>-0.900863</td>\n",
       "      <td>0.706774</td>\n",
       "    </tr>\n",
       "    <tr>\n",
       "      <th>1</th>\n",
       "      <td>-0.948578</td>\n",
       "      <td>0.377790</td>\n",
       "      <td>2.638501</td>\n",
       "    </tr>\n",
       "    <tr>\n",
       "      <th>2</th>\n",
       "      <td>1.142052</td>\n",
       "      <td>-1.459383</td>\n",
       "      <td>0.593143</td>\n",
       "    </tr>\n",
       "    <tr>\n",
       "      <th>3</th>\n",
       "      <td>0.255490</td>\n",
       "      <td>0.076045</td>\n",
       "      <td>-0.202275</td>\n",
       "    </tr>\n",
       "    <tr>\n",
       "      <th>4</th>\n",
       "      <td>-0.752472</td>\n",
       "      <td>1.287844</td>\n",
       "      <td>0.706774</td>\n",
       "    </tr>\n",
       "  </tbody>\n",
       "</table>\n",
       "</div>"
      ],
      "text/plain": [
       "       note   salaire       age\n",
       "0 -0.129135 -0.900863  0.706774\n",
       "1 -0.948578  0.377790  2.638501\n",
       "2  1.142052 -1.459383  0.593143\n",
       "3  0.255490  0.076045 -0.202275\n",
       "4 -0.752472  1.287844  0.706774"
      ]
     },
     "execution_count": 179,
     "metadata": {},
     "output_type": "execute_result"
    }
   ],
   "source": [
    "X_train_scaled.head()"
   ]
  },
  {
   "cell_type": "code",
   "execution_count": 180,
   "metadata": {},
   "outputs": [],
   "source": [
    "X_train = X_train.drop(list(X_train_scaled), axis=1)"
   ]
  },
  {
   "cell_type": "code",
   "execution_count": 181,
   "metadata": {},
   "outputs": [
    {
     "data": {
      "text/plain": [
       "['C_sexe_F',\n",
       " 'C_sexe_M',\n",
       " 'C_diplome_bac',\n",
       " 'C_diplome_doctorat',\n",
       " 'C_diplome_licence',\n",
       " 'C_diplome_master',\n",
       " 'C_specialite_archeologie',\n",
       " 'C_specialite_detective',\n",
       " 'C_specialite_forage',\n",
       " 'C_specialite_geologie',\n",
       " 'C_dispo_non',\n",
       " 'C_dispo_oui',\n",
       " 'C_sexe_+_C_diplome_F_bac',\n",
       " 'C_sexe_+_C_diplome_F_doctorat',\n",
       " 'C_sexe_+_C_diplome_F_licence',\n",
       " 'C_sexe_+_C_diplome_F_master',\n",
       " 'C_sexe_+_C_diplome_M_bac',\n",
       " 'C_sexe_+_C_diplome_M_doctorat',\n",
       " 'C_sexe_+_C_diplome_M_licence',\n",
       " 'C_sexe_+_C_diplome_M_master',\n",
       " 'C_sexe_+_C_specialite_F_archeologie',\n",
       " 'C_sexe_+_C_specialite_F_detective',\n",
       " 'C_sexe_+_C_specialite_F_forage',\n",
       " 'C_sexe_+_C_specialite_F_geologie',\n",
       " 'C_sexe_+_C_specialite_M_archeologie',\n",
       " 'C_sexe_+_C_specialite_M_detective',\n",
       " 'C_sexe_+_C_specialite_M_forage',\n",
       " 'C_sexe_+_C_specialite_M_geologie',\n",
       " 'C_sexe_+_C_dispo_F_non',\n",
       " 'C_sexe_+_C_dispo_F_oui',\n",
       " 'C_sexe_+_C_dispo_M_non',\n",
       " 'C_sexe_+_C_dispo_M_oui',\n",
       " 'C_diplome_+_C_specialite_bac_archeologie',\n",
       " 'C_diplome_+_C_specialite_bac_detective',\n",
       " 'C_diplome_+_C_specialite_bac_forage',\n",
       " 'C_diplome_+_C_specialite_bac_geologie',\n",
       " 'C_diplome_+_C_specialite_doctorat_archeologie',\n",
       " 'C_diplome_+_C_specialite_doctorat_detective',\n",
       " 'C_diplome_+_C_specialite_doctorat_forage',\n",
       " 'C_diplome_+_C_specialite_doctorat_geologie',\n",
       " 'C_diplome_+_C_specialite_licence_archeologie',\n",
       " 'C_diplome_+_C_specialite_licence_detective',\n",
       " 'C_diplome_+_C_specialite_licence_forage',\n",
       " 'C_diplome_+_C_specialite_licence_geologie',\n",
       " 'C_diplome_+_C_specialite_master_archeologie',\n",
       " 'C_diplome_+_C_specialite_master_detective',\n",
       " 'C_diplome_+_C_specialite_master_forage',\n",
       " 'C_diplome_+_C_specialite_master_geologie',\n",
       " 'C_diplome_+_C_dispo_bac_non',\n",
       " 'C_diplome_+_C_dispo_bac_oui',\n",
       " 'C_diplome_+_C_dispo_doctorat_non',\n",
       " 'C_diplome_+_C_dispo_doctorat_oui',\n",
       " 'C_diplome_+_C_dispo_licence_non',\n",
       " 'C_diplome_+_C_dispo_licence_oui',\n",
       " 'C_diplome_+_C_dispo_master_non',\n",
       " 'C_diplome_+_C_dispo_master_oui',\n",
       " 'C_specialite_+_C_dispo_archeologie_non',\n",
       " 'C_specialite_+_C_dispo_archeologie_oui',\n",
       " 'C_specialite_+_C_dispo_detective_non',\n",
       " 'C_specialite_+_C_dispo_detective_oui',\n",
       " 'C_specialite_+_C_dispo_forage_non',\n",
       " 'C_specialite_+_C_dispo_forage_oui',\n",
       " 'C_specialite_+_C_dispo_geologie_non',\n",
       " 'C_specialite_+_C_dispo_geologie_oui']"
      ]
     },
     "execution_count": 181,
     "metadata": {},
     "output_type": "execute_result"
    }
   ],
   "source": [
    "list(X_train)"
   ]
  },
  {
   "cell_type": "code",
   "execution_count": 206,
   "metadata": {},
   "outputs": [],
   "source": [
    "X_train = pd.concat([X_train.reset_index(drop = True), X_train_scaled.reset_index(drop = True)], axis = 1)"
   ]
  },
  {
   "cell_type": "code",
   "execution_count": 207,
   "metadata": {},
   "outputs": [
    {
     "data": {
      "text/plain": [
       "(12824, 45)"
      ]
     },
     "execution_count": 207,
     "metadata": {},
     "output_type": "execute_result"
    }
   ],
   "source": [
    "X_train.shape"
   ]
  },
  {
   "cell_type": "markdown",
   "metadata": {},
   "source": [
    "Filtre sur les strates de specialité"
   ]
  },
  {
   "cell_type": "code",
   "execution_count": 208,
   "metadata": {},
   "outputs": [
    {
     "data": {
      "text/plain": [
       "['geologie', 'forage', 'archeologie', 'detective']"
      ]
     },
     "execution_count": 208,
     "metadata": {},
     "output_type": "execute_result"
    }
   ],
   "source": [
    "list(df_all_data[\"C_specialite\"].unique())"
   ]
  },
  {
   "cell_type": "code",
   "execution_count": 214,
   "metadata": {},
   "outputs": [],
   "source": [
    "X_train_with_Y = pd.concat([X_train,Y_train], axis = 1)"
   ]
  },
  {
   "cell_type": "code",
   "execution_count": 215,
   "metadata": {},
   "outputs": [],
   "source": [
    "X_train_arch = X_train_with_Y[X_train_with_Y['C_specialite_archeologie'] == 1]"
   ]
  },
  {
   "cell_type": "code",
   "execution_count": null,
   "metadata": {},
   "outputs": [],
   "source": [
    "'C_specialite_detective',\n",
    "'C_specialite_forage',\n",
    "'C_specialite_geologie',"
   ]
  },
  {
   "cell_type": "code",
   "execution_count": 220,
   "metadata": {},
   "outputs": [],
   "source": [
    "liste_features = [each for each in list(X_train_arch) if each != \"embauche\"]\n",
    "X_train = X_train_arch[liste_features]\n",
    "Y_train = X_train_arch[[\"embauche\"]]\n",
    "X_train, X_test, Y_train, Y_test = train_test_split(X_train,Y_train,test_size = 0.3,random_state = 56)"
   ]
  },
  {
   "cell_type": "markdown",
   "metadata": {},
   "source": [
    "Le % de la variable cible est respecté"
   ]
  },
  {
   "cell_type": "code",
   "execution_count": 221,
   "metadata": {},
   "outputs": [
    {
     "data": {
      "text/plain": [
       "0.07142857142857142"
      ]
     },
     "execution_count": 221,
     "metadata": {},
     "output_type": "execute_result"
    }
   ],
   "source": [
    "len(Y_train[Y_train[\"embauche\"] == 1])/len(Y_train)"
   ]
  },
  {
   "cell_type": "code",
   "execution_count": 222,
   "metadata": {},
   "outputs": [
    {
     "data": {
      "text/plain": [
       "(5496, 71)"
      ]
     },
     "execution_count": 222,
     "metadata": {},
     "output_type": "execute_result"
    }
   ],
   "source": [
    "X_test_all_columns.shape"
   ]
  },
  {
   "cell_type": "code",
   "execution_count": 223,
   "metadata": {},
   "outputs": [
    {
     "data": {
      "text/plain": [
       "(616, 45)"
      ]
     },
     "execution_count": 223,
     "metadata": {},
     "output_type": "execute_result"
    }
   ],
   "source": [
    "X_train.shape"
   ]
  },
  {
   "cell_type": "code",
   "execution_count": 224,
   "metadata": {},
   "outputs": [
    {
     "data": {
      "text/plain": [
       "(616, 1)"
      ]
     },
     "execution_count": 224,
     "metadata": {},
     "output_type": "execute_result"
    }
   ],
   "source": [
    "Y_train.shape"
   ]
  },
  {
   "cell_type": "code",
   "execution_count": 228,
   "metadata": {},
   "outputs": [
    {
     "data": {
      "text/html": [
       "<div>\n",
       "<style scoped>\n",
       "    .dataframe tbody tr th:only-of-type {\n",
       "        vertical-align: middle;\n",
       "    }\n",
       "\n",
       "    .dataframe tbody tr th {\n",
       "        vertical-align: top;\n",
       "    }\n",
       "\n",
       "    .dataframe thead th {\n",
       "        text-align: right;\n",
       "    }\n",
       "</style>\n",
       "<table border=\"1\" class=\"dataframe\">\n",
       "  <thead>\n",
       "    <tr style=\"text-align: right;\">\n",
       "      <th></th>\n",
       "      <th>C_sexe_F</th>\n",
       "      <th>C_sexe_M</th>\n",
       "      <th>C_diplome_bac</th>\n",
       "      <th>C_diplome_doctorat</th>\n",
       "      <th>C_diplome_licence</th>\n",
       "      <th>C_diplome_master</th>\n",
       "      <th>C_specialite_archeologie</th>\n",
       "      <th>C_specialite_detective</th>\n",
       "      <th>C_specialite_forage</th>\n",
       "      <th>C_specialite_geologie</th>\n",
       "      <th>...</th>\n",
       "      <th>C_diplome_+_C_specialite_licence_detective</th>\n",
       "      <th>C_diplome_+_C_specialite_licence_forage</th>\n",
       "      <th>C_diplome_+_C_specialite_licence_geologie</th>\n",
       "      <th>C_diplome_+_C_specialite_master_archeologie</th>\n",
       "      <th>C_diplome_+_C_specialite_master_detective</th>\n",
       "      <th>C_diplome_+_C_specialite_master_forage</th>\n",
       "      <th>C_diplome_+_C_specialite_master_geologie</th>\n",
       "      <th>note</th>\n",
       "      <th>salaire</th>\n",
       "      <th>age</th>\n",
       "    </tr>\n",
       "  </thead>\n",
       "  <tbody>\n",
       "    <tr>\n",
       "      <th>count</th>\n",
       "      <td>616.000000</td>\n",
       "      <td>616.000000</td>\n",
       "      <td>616.000000</td>\n",
       "      <td>616.000000</td>\n",
       "      <td>616.000000</td>\n",
       "      <td>616.000000</td>\n",
       "      <td>616.0</td>\n",
       "      <td>616.0</td>\n",
       "      <td>616.0</td>\n",
       "      <td>616.0</td>\n",
       "      <td>...</td>\n",
       "      <td>616.0</td>\n",
       "      <td>616.0</td>\n",
       "      <td>616.0</td>\n",
       "      <td>616.000000</td>\n",
       "      <td>616.0</td>\n",
       "      <td>616.0</td>\n",
       "      <td>616.0</td>\n",
       "      <td>616.000000</td>\n",
       "      <td>616.000000</td>\n",
       "      <td>616.000000</td>\n",
       "    </tr>\n",
       "    <tr>\n",
       "      <th>mean</th>\n",
       "      <td>0.800325</td>\n",
       "      <td>0.199675</td>\n",
       "      <td>0.087662</td>\n",
       "      <td>0.202922</td>\n",
       "      <td>0.308442</td>\n",
       "      <td>0.400974</td>\n",
       "      <td>1.0</td>\n",
       "      <td>0.0</td>\n",
       "      <td>0.0</td>\n",
       "      <td>0.0</td>\n",
       "      <td>...</td>\n",
       "      <td>0.0</td>\n",
       "      <td>0.0</td>\n",
       "      <td>0.0</td>\n",
       "      <td>0.400974</td>\n",
       "      <td>0.0</td>\n",
       "      <td>0.0</td>\n",
       "      <td>0.0</td>\n",
       "      <td>0.354783</td>\n",
       "      <td>0.209298</td>\n",
       "      <td>-0.074440</td>\n",
       "    </tr>\n",
       "    <tr>\n",
       "      <th>std</th>\n",
       "      <td>0.400081</td>\n",
       "      <td>0.400081</td>\n",
       "      <td>0.283033</td>\n",
       "      <td>0.402502</td>\n",
       "      <td>0.462225</td>\n",
       "      <td>0.490494</td>\n",
       "      <td>0.0</td>\n",
       "      <td>0.0</td>\n",
       "      <td>0.0</td>\n",
       "      <td>0.0</td>\n",
       "      <td>...</td>\n",
       "      <td>0.0</td>\n",
       "      <td>0.0</td>\n",
       "      <td>0.0</td>\n",
       "      <td>0.490494</td>\n",
       "      <td>0.0</td>\n",
       "      <td>0.0</td>\n",
       "      <td>0.0</td>\n",
       "      <td>1.033054</td>\n",
       "      <td>0.982615</td>\n",
       "      <td>1.038391</td>\n",
       "    </tr>\n",
       "    <tr>\n",
       "      <th>min</th>\n",
       "      <td>0.000000</td>\n",
       "      <td>0.000000</td>\n",
       "      <td>0.000000</td>\n",
       "      <td>0.000000</td>\n",
       "      <td>0.000000</td>\n",
       "      <td>0.000000</td>\n",
       "      <td>1.0</td>\n",
       "      <td>0.0</td>\n",
       "      <td>0.0</td>\n",
       "      <td>0.0</td>\n",
       "      <td>...</td>\n",
       "      <td>0.0</td>\n",
       "      <td>0.0</td>\n",
       "      <td>0.0</td>\n",
       "      <td>0.000000</td>\n",
       "      <td>0.0</td>\n",
       "      <td>0.0</td>\n",
       "      <td>0.0</td>\n",
       "      <td>-3.152435</td>\n",
       "      <td>-2.398949</td>\n",
       "      <td>-2.020371</td>\n",
       "    </tr>\n",
       "    <tr>\n",
       "      <th>25%</th>\n",
       "      <td>1.000000</td>\n",
       "      <td>0.000000</td>\n",
       "      <td>0.000000</td>\n",
       "      <td>0.000000</td>\n",
       "      <td>0.000000</td>\n",
       "      <td>0.000000</td>\n",
       "      <td>1.0</td>\n",
       "      <td>0.0</td>\n",
       "      <td>0.0</td>\n",
       "      <td>0.0</td>\n",
       "      <td>...</td>\n",
       "      <td>0.0</td>\n",
       "      <td>0.0</td>\n",
       "      <td>0.0</td>\n",
       "      <td>0.000000</td>\n",
       "      <td>0.0</td>\n",
       "      <td>0.0</td>\n",
       "      <td>0.0</td>\n",
       "      <td>-0.359968</td>\n",
       "      <td>-0.481069</td>\n",
       "      <td>-0.884061</td>\n",
       "    </tr>\n",
       "    <tr>\n",
       "      <th>50%</th>\n",
       "      <td>1.000000</td>\n",
       "      <td>0.000000</td>\n",
       "      <td>0.000000</td>\n",
       "      <td>0.000000</td>\n",
       "      <td>0.000000</td>\n",
       "      <td>0.000000</td>\n",
       "      <td>1.0</td>\n",
       "      <td>0.0</td>\n",
       "      <td>0.0</td>\n",
       "      <td>0.0</td>\n",
       "      <td>...</td>\n",
       "      <td>0.0</td>\n",
       "      <td>0.0</td>\n",
       "      <td>0.0</td>\n",
       "      <td>0.000000</td>\n",
       "      <td>0.0</td>\n",
       "      <td>0.0</td>\n",
       "      <td>0.0</td>\n",
       "      <td>0.281462</td>\n",
       "      <td>0.176426</td>\n",
       "      <td>-0.088644</td>\n",
       "    </tr>\n",
       "    <tr>\n",
       "      <th>75%</th>\n",
       "      <td>1.000000</td>\n",
       "      <td>0.000000</td>\n",
       "      <td>0.000000</td>\n",
       "      <td>0.000000</td>\n",
       "      <td>1.000000</td>\n",
       "      <td>1.000000</td>\n",
       "      <td>1.0</td>\n",
       "      <td>0.0</td>\n",
       "      <td>0.0</td>\n",
       "      <td>0.0</td>\n",
       "      <td>...</td>\n",
       "      <td>0.0</td>\n",
       "      <td>0.0</td>\n",
       "      <td>0.0</td>\n",
       "      <td>1.000000</td>\n",
       "      <td>0.0</td>\n",
       "      <td>0.0</td>\n",
       "      <td>0.0</td>\n",
       "      <td>1.089232</td>\n",
       "      <td>0.857260</td>\n",
       "      <td>0.706774</td>\n",
       "    </tr>\n",
       "    <tr>\n",
       "      <th>max</th>\n",
       "      <td>1.000000</td>\n",
       "      <td>1.000000</td>\n",
       "      <td>1.000000</td>\n",
       "      <td>1.000000</td>\n",
       "      <td>1.000000</td>\n",
       "      <td>1.000000</td>\n",
       "      <td>1.0</td>\n",
       "      <td>0.0</td>\n",
       "      <td>0.0</td>\n",
       "      <td>0.0</td>\n",
       "      <td>...</td>\n",
       "      <td>0.0</td>\n",
       "      <td>0.0</td>\n",
       "      <td>0.0</td>\n",
       "      <td>1.000000</td>\n",
       "      <td>0.0</td>\n",
       "      <td>0.0</td>\n",
       "      <td>0.0</td>\n",
       "      <td>3.064008</td>\n",
       "      <td>3.238046</td>\n",
       "      <td>3.206656</td>\n",
       "    </tr>\n",
       "  </tbody>\n",
       "</table>\n",
       "<p>8 rows × 45 columns</p>\n",
       "</div>"
      ],
      "text/plain": [
       "         C_sexe_F    C_sexe_M  C_diplome_bac  C_diplome_doctorat  \\\n",
       "count  616.000000  616.000000     616.000000          616.000000   \n",
       "mean     0.800325    0.199675       0.087662            0.202922   \n",
       "std      0.400081    0.400081       0.283033            0.402502   \n",
       "min      0.000000    0.000000       0.000000            0.000000   \n",
       "25%      1.000000    0.000000       0.000000            0.000000   \n",
       "50%      1.000000    0.000000       0.000000            0.000000   \n",
       "75%      1.000000    0.000000       0.000000            0.000000   \n",
       "max      1.000000    1.000000       1.000000            1.000000   \n",
       "\n",
       "       C_diplome_licence  C_diplome_master  C_specialite_archeologie  \\\n",
       "count         616.000000        616.000000                     616.0   \n",
       "mean            0.308442          0.400974                       1.0   \n",
       "std             0.462225          0.490494                       0.0   \n",
       "min             0.000000          0.000000                       1.0   \n",
       "25%             0.000000          0.000000                       1.0   \n",
       "50%             0.000000          0.000000                       1.0   \n",
       "75%             1.000000          1.000000                       1.0   \n",
       "max             1.000000          1.000000                       1.0   \n",
       "\n",
       "       C_specialite_detective  C_specialite_forage  C_specialite_geologie  \\\n",
       "count                   616.0                616.0                  616.0   \n",
       "mean                      0.0                  0.0                    0.0   \n",
       "std                       0.0                  0.0                    0.0   \n",
       "min                       0.0                  0.0                    0.0   \n",
       "25%                       0.0                  0.0                    0.0   \n",
       "50%                       0.0                  0.0                    0.0   \n",
       "75%                       0.0                  0.0                    0.0   \n",
       "max                       0.0                  0.0                    0.0   \n",
       "\n",
       "       ...  C_diplome_+_C_specialite_licence_detective  \\\n",
       "count  ...                                       616.0   \n",
       "mean   ...                                         0.0   \n",
       "std    ...                                         0.0   \n",
       "min    ...                                         0.0   \n",
       "25%    ...                                         0.0   \n",
       "50%    ...                                         0.0   \n",
       "75%    ...                                         0.0   \n",
       "max    ...                                         0.0   \n",
       "\n",
       "       C_diplome_+_C_specialite_licence_forage  \\\n",
       "count                                    616.0   \n",
       "mean                                       0.0   \n",
       "std                                        0.0   \n",
       "min                                        0.0   \n",
       "25%                                        0.0   \n",
       "50%                                        0.0   \n",
       "75%                                        0.0   \n",
       "max                                        0.0   \n",
       "\n",
       "       C_diplome_+_C_specialite_licence_geologie  \\\n",
       "count                                      616.0   \n",
       "mean                                         0.0   \n",
       "std                                          0.0   \n",
       "min                                          0.0   \n",
       "25%                                          0.0   \n",
       "50%                                          0.0   \n",
       "75%                                          0.0   \n",
       "max                                          0.0   \n",
       "\n",
       "       C_diplome_+_C_specialite_master_archeologie  \\\n",
       "count                                   616.000000   \n",
       "mean                                      0.400974   \n",
       "std                                       0.490494   \n",
       "min                                       0.000000   \n",
       "25%                                       0.000000   \n",
       "50%                                       0.000000   \n",
       "75%                                       1.000000   \n",
       "max                                       1.000000   \n",
       "\n",
       "       C_diplome_+_C_specialite_master_detective  \\\n",
       "count                                      616.0   \n",
       "mean                                         0.0   \n",
       "std                                          0.0   \n",
       "min                                          0.0   \n",
       "25%                                          0.0   \n",
       "50%                                          0.0   \n",
       "75%                                          0.0   \n",
       "max                                          0.0   \n",
       "\n",
       "       C_diplome_+_C_specialite_master_forage  \\\n",
       "count                                   616.0   \n",
       "mean                                      0.0   \n",
       "std                                       0.0   \n",
       "min                                       0.0   \n",
       "25%                                       0.0   \n",
       "50%                                       0.0   \n",
       "75%                                       0.0   \n",
       "max                                       0.0   \n",
       "\n",
       "       C_diplome_+_C_specialite_master_geologie        note     salaire  \\\n",
       "count                                     616.0  616.000000  616.000000   \n",
       "mean                                        0.0    0.354783    0.209298   \n",
       "std                                         0.0    1.033054    0.982615   \n",
       "min                                         0.0   -3.152435   -2.398949   \n",
       "25%                                         0.0   -0.359968   -0.481069   \n",
       "50%                                         0.0    0.281462    0.176426   \n",
       "75%                                         0.0    1.089232    0.857260   \n",
       "max                                         0.0    3.064008    3.238046   \n",
       "\n",
       "              age  \n",
       "count  616.000000  \n",
       "mean    -0.074440  \n",
       "std      1.038391  \n",
       "min     -2.020371  \n",
       "25%     -0.884061  \n",
       "50%     -0.088644  \n",
       "75%      0.706774  \n",
       "max      3.206656  \n",
       "\n",
       "[8 rows x 45 columns]"
      ]
     },
     "execution_count": 228,
     "metadata": {},
     "output_type": "execute_result"
    }
   ],
   "source": [
    "X_train.describe()"
   ]
  },
  {
   "cell_type": "code",
   "execution_count": 225,
   "metadata": {},
   "outputs": [
    {
     "ename": "ValueError",
     "evalue": "Input contains NaN, infinity or a value too large for dtype('float64').",
     "output_type": "error",
     "traceback": [
      "\u001b[0;31m---------------------------------------------------------------------------\u001b[0m",
      "\u001b[0;31mValueError\u001b[0m                                Traceback (most recent call last)",
      "\u001b[0;32m<timed exec>\u001b[0m in \u001b[0;36m<module>\u001b[0;34m\u001b[0m\n",
      "\u001b[0;32m~/anaconda3/envs/data/lib/python3.6/site-packages/sklearn/model_selection/_search.py\u001b[0m in \u001b[0;36mfit\u001b[0;34m(self, X, y, groups, **fit_params)\u001b[0m\n\u001b[1;32m    603\u001b[0m         \"\"\"\n\u001b[1;32m    604\u001b[0m         \u001b[0mestimator\u001b[0m \u001b[0;34m=\u001b[0m \u001b[0mself\u001b[0m\u001b[0;34m.\u001b[0m\u001b[0mestimator\u001b[0m\u001b[0;34m\u001b[0m\u001b[0;34m\u001b[0m\u001b[0m\n\u001b[0;32m--> 605\u001b[0;31m         \u001b[0mcv\u001b[0m \u001b[0;34m=\u001b[0m \u001b[0mcheck_cv\u001b[0m\u001b[0;34m(\u001b[0m\u001b[0mself\u001b[0m\u001b[0;34m.\u001b[0m\u001b[0mcv\u001b[0m\u001b[0;34m,\u001b[0m \u001b[0my\u001b[0m\u001b[0;34m,\u001b[0m \u001b[0mclassifier\u001b[0m\u001b[0;34m=\u001b[0m\u001b[0mis_classifier\u001b[0m\u001b[0;34m(\u001b[0m\u001b[0mestimator\u001b[0m\u001b[0;34m)\u001b[0m\u001b[0;34m)\u001b[0m\u001b[0;34m\u001b[0m\u001b[0;34m\u001b[0m\u001b[0m\n\u001b[0m\u001b[1;32m    606\u001b[0m \u001b[0;34m\u001b[0m\u001b[0m\n\u001b[1;32m    607\u001b[0m         scorers, self.multimetric_ = _check_multimetric_scoring(\n",
      "\u001b[0;32m~/anaconda3/envs/data/lib/python3.6/site-packages/sklearn/model_selection/_split.py\u001b[0m in \u001b[0;36mcheck_cv\u001b[0;34m(cv, y, classifier)\u001b[0m\n\u001b[1;32m   1981\u001b[0m     \u001b[0;32mif\u001b[0m \u001b[0misinstance\u001b[0m\u001b[0;34m(\u001b[0m\u001b[0mcv\u001b[0m\u001b[0;34m,\u001b[0m \u001b[0mnumbers\u001b[0m\u001b[0;34m.\u001b[0m\u001b[0mIntegral\u001b[0m\u001b[0;34m)\u001b[0m\u001b[0;34m:\u001b[0m\u001b[0;34m\u001b[0m\u001b[0;34m\u001b[0m\u001b[0m\n\u001b[1;32m   1982\u001b[0m         if (classifier and (y is not None) and\n\u001b[0;32m-> 1983\u001b[0;31m                 (type_of_target(y) in ('binary', 'multiclass'))):\n\u001b[0m\u001b[1;32m   1984\u001b[0m             \u001b[0;32mreturn\u001b[0m \u001b[0mStratifiedKFold\u001b[0m\u001b[0;34m(\u001b[0m\u001b[0mcv\u001b[0m\u001b[0;34m)\u001b[0m\u001b[0;34m\u001b[0m\u001b[0;34m\u001b[0m\u001b[0m\n\u001b[1;32m   1985\u001b[0m         \u001b[0;32melse\u001b[0m\u001b[0;34m:\u001b[0m\u001b[0;34m\u001b[0m\u001b[0;34m\u001b[0m\u001b[0m\n",
      "\u001b[0;32m~/anaconda3/envs/data/lib/python3.6/site-packages/sklearn/utils/multiclass.py\u001b[0m in \u001b[0;36mtype_of_target\u001b[0;34m(y)\u001b[0m\n\u001b[1;32m    282\u001b[0m     \u001b[0;32mif\u001b[0m \u001b[0my\u001b[0m\u001b[0;34m.\u001b[0m\u001b[0mdtype\u001b[0m\u001b[0;34m.\u001b[0m\u001b[0mkind\u001b[0m \u001b[0;34m==\u001b[0m \u001b[0;34m'f'\u001b[0m \u001b[0;32mand\u001b[0m \u001b[0mnp\u001b[0m\u001b[0;34m.\u001b[0m\u001b[0many\u001b[0m\u001b[0;34m(\u001b[0m\u001b[0my\u001b[0m \u001b[0;34m!=\u001b[0m \u001b[0my\u001b[0m\u001b[0;34m.\u001b[0m\u001b[0mastype\u001b[0m\u001b[0;34m(\u001b[0m\u001b[0mint\u001b[0m\u001b[0;34m)\u001b[0m\u001b[0;34m)\u001b[0m\u001b[0;34m:\u001b[0m\u001b[0;34m\u001b[0m\u001b[0;34m\u001b[0m\u001b[0m\n\u001b[1;32m    283\u001b[0m         \u001b[0;31m# [.1, .2, 3] or [[.1, .2, 3]] or [[1., .2]] and not [1., 2., 3.]\u001b[0m\u001b[0;34m\u001b[0m\u001b[0;34m\u001b[0m\u001b[0;34m\u001b[0m\u001b[0m\n\u001b[0;32m--> 284\u001b[0;31m         \u001b[0m_assert_all_finite\u001b[0m\u001b[0;34m(\u001b[0m\u001b[0my\u001b[0m\u001b[0;34m)\u001b[0m\u001b[0;34m\u001b[0m\u001b[0;34m\u001b[0m\u001b[0m\n\u001b[0m\u001b[1;32m    285\u001b[0m         \u001b[0;32mreturn\u001b[0m \u001b[0;34m'continuous'\u001b[0m \u001b[0;34m+\u001b[0m \u001b[0msuffix\u001b[0m\u001b[0;34m\u001b[0m\u001b[0;34m\u001b[0m\u001b[0m\n\u001b[1;32m    286\u001b[0m \u001b[0;34m\u001b[0m\u001b[0m\n",
      "\u001b[0;32m~/anaconda3/envs/data/lib/python3.6/site-packages/sklearn/utils/validation.py\u001b[0m in \u001b[0;36m_assert_all_finite\u001b[0;34m(X, allow_nan)\u001b[0m\n\u001b[1;32m     54\u001b[0m                 not allow_nan and not np.isfinite(X).all()):\n\u001b[1;32m     55\u001b[0m             \u001b[0mtype_err\u001b[0m \u001b[0;34m=\u001b[0m \u001b[0;34m'infinity'\u001b[0m \u001b[0;32mif\u001b[0m \u001b[0mallow_nan\u001b[0m \u001b[0;32melse\u001b[0m \u001b[0;34m'NaN, infinity'\u001b[0m\u001b[0;34m\u001b[0m\u001b[0;34m\u001b[0m\u001b[0m\n\u001b[0;32m---> 56\u001b[0;31m             \u001b[0;32mraise\u001b[0m \u001b[0mValueError\u001b[0m\u001b[0;34m(\u001b[0m\u001b[0mmsg_err\u001b[0m\u001b[0;34m.\u001b[0m\u001b[0mformat\u001b[0m\u001b[0;34m(\u001b[0m\u001b[0mtype_err\u001b[0m\u001b[0;34m,\u001b[0m \u001b[0mX\u001b[0m\u001b[0;34m.\u001b[0m\u001b[0mdtype\u001b[0m\u001b[0;34m)\u001b[0m\u001b[0;34m)\u001b[0m\u001b[0;34m\u001b[0m\u001b[0;34m\u001b[0m\u001b[0m\n\u001b[0m\u001b[1;32m     57\u001b[0m     \u001b[0;31m# for object dtype data, we only check for NaNs (GH-13254)\u001b[0m\u001b[0;34m\u001b[0m\u001b[0;34m\u001b[0m\u001b[0;34m\u001b[0m\u001b[0m\n\u001b[1;32m     58\u001b[0m     \u001b[0;32melif\u001b[0m \u001b[0mX\u001b[0m\u001b[0;34m.\u001b[0m\u001b[0mdtype\u001b[0m \u001b[0;34m==\u001b[0m \u001b[0mnp\u001b[0m\u001b[0;34m.\u001b[0m\u001b[0mdtype\u001b[0m\u001b[0;34m(\u001b[0m\u001b[0;34m'object'\u001b[0m\u001b[0;34m)\u001b[0m \u001b[0;32mand\u001b[0m \u001b[0;32mnot\u001b[0m \u001b[0mallow_nan\u001b[0m\u001b[0;34m:\u001b[0m\u001b[0;34m\u001b[0m\u001b[0;34m\u001b[0m\u001b[0m\n",
      "\u001b[0;31mValueError\u001b[0m: Input contains NaN, infinity or a value too large for dtype('float64')."
     ]
    }
   ],
   "source": [
    "%%time\n",
    "\n",
    "model = LogisticRegression(solver = \"newton-cg\")\n",
    "parameters = {'C':[0.009, 0.005,0.001, 0.1,1,2,3,4,5,10]}\n",
    "\n",
    "grid_logistic = GridSearchCV(model,parameters, scoring='roc_auc', cv=5, n_jobs = 4)\n",
    "grid_logistic.fit(X_train.values, Y_train.values.ravel())"
   ]
  },
  {
   "cell_type": "code",
   "execution_count": 304,
   "metadata": {},
   "outputs": [
    {
     "data": {
      "text/html": [
       "<div>\n",
       "<style scoped>\n",
       "    .dataframe tbody tr th:only-of-type {\n",
       "        vertical-align: middle;\n",
       "    }\n",
       "\n",
       "    .dataframe tbody tr th {\n",
       "        vertical-align: top;\n",
       "    }\n",
       "\n",
       "    .dataframe thead th {\n",
       "        text-align: right;\n",
       "    }\n",
       "</style>\n",
       "<table border=\"1\" class=\"dataframe\">\n",
       "  <thead>\n",
       "    <tr style=\"text-align: right;\">\n",
       "      <th></th>\n",
       "      <th>mean_fit_time</th>\n",
       "      <th>std_fit_time</th>\n",
       "      <th>mean_score_time</th>\n",
       "      <th>std_score_time</th>\n",
       "      <th>param_C</th>\n",
       "      <th>params</th>\n",
       "      <th>split0_test_score</th>\n",
       "      <th>split1_test_score</th>\n",
       "      <th>split2_test_score</th>\n",
       "      <th>split3_test_score</th>\n",
       "      <th>split4_test_score</th>\n",
       "      <th>mean_test_score</th>\n",
       "      <th>std_test_score</th>\n",
       "      <th>rank_test_score</th>\n",
       "    </tr>\n",
       "  </thead>\n",
       "  <tbody>\n",
       "    <tr>\n",
       "      <th>0</th>\n",
       "      <td>0.440210</td>\n",
       "      <td>0.106710</td>\n",
       "      <td>0.008791</td>\n",
       "      <td>0.001642</td>\n",
       "      <td>0.009</td>\n",
       "      <td>{'C': 0.009}</td>\n",
       "      <td>0.584586</td>\n",
       "      <td>0.611686</td>\n",
       "      <td>0.565267</td>\n",
       "      <td>0.600378</td>\n",
       "      <td>0.588418</td>\n",
       "      <td>0.590066</td>\n",
       "      <td>0.015629</td>\n",
       "      <td>8</td>\n",
       "    </tr>\n",
       "    <tr>\n",
       "      <th>1</th>\n",
       "      <td>0.543081</td>\n",
       "      <td>0.018522</td>\n",
       "      <td>0.011792</td>\n",
       "      <td>0.003851</td>\n",
       "      <td>0.005</td>\n",
       "      <td>{'C': 0.005}</td>\n",
       "      <td>0.578868</td>\n",
       "      <td>0.609764</td>\n",
       "      <td>0.562978</td>\n",
       "      <td>0.594879</td>\n",
       "      <td>0.585520</td>\n",
       "      <td>0.586401</td>\n",
       "      <td>0.015645</td>\n",
       "      <td>9</td>\n",
       "    </tr>\n",
       "    <tr>\n",
       "      <th>2</th>\n",
       "      <td>0.440375</td>\n",
       "      <td>0.045001</td>\n",
       "      <td>0.010315</td>\n",
       "      <td>0.001561</td>\n",
       "      <td>0.001</td>\n",
       "      <td>{'C': 0.001}</td>\n",
       "      <td>0.562153</td>\n",
       "      <td>0.603218</td>\n",
       "      <td>0.553490</td>\n",
       "      <td>0.574928</td>\n",
       "      <td>0.571858</td>\n",
       "      <td>0.573129</td>\n",
       "      <td>0.016830</td>\n",
       "      <td>10</td>\n",
       "    </tr>\n",
       "    <tr>\n",
       "      <th>3</th>\n",
       "      <td>0.624376</td>\n",
       "      <td>0.040887</td>\n",
       "      <td>0.014052</td>\n",
       "      <td>0.006795</td>\n",
       "      <td>0.1</td>\n",
       "      <td>{'C': 0.1}</td>\n",
       "      <td>0.594639</td>\n",
       "      <td>0.612635</td>\n",
       "      <td>0.564577</td>\n",
       "      <td>0.605989</td>\n",
       "      <td>0.591745</td>\n",
       "      <td>0.593917</td>\n",
       "      <td>0.016505</td>\n",
       "      <td>7</td>\n",
       "    </tr>\n",
       "    <tr>\n",
       "      <th>4</th>\n",
       "      <td>0.603290</td>\n",
       "      <td>0.031123</td>\n",
       "      <td>0.012512</td>\n",
       "      <td>0.003446</td>\n",
       "      <td>1</td>\n",
       "      <td>{'C': 1}</td>\n",
       "      <td>0.595571</td>\n",
       "      <td>0.612012</td>\n",
       "      <td>0.564198</td>\n",
       "      <td>0.606273</td>\n",
       "      <td>0.591721</td>\n",
       "      <td>0.593955</td>\n",
       "      <td>0.016557</td>\n",
       "      <td>5</td>\n",
       "    </tr>\n",
       "    <tr>\n",
       "      <th>5</th>\n",
       "      <td>0.659368</td>\n",
       "      <td>0.080863</td>\n",
       "      <td>0.013064</td>\n",
       "      <td>0.005880</td>\n",
       "      <td>2</td>\n",
       "      <td>{'C': 2}</td>\n",
       "      <td>0.595570</td>\n",
       "      <td>0.611951</td>\n",
       "      <td>0.564205</td>\n",
       "      <td>0.606326</td>\n",
       "      <td>0.591726</td>\n",
       "      <td>0.593956</td>\n",
       "      <td>0.016550</td>\n",
       "      <td>4</td>\n",
       "    </tr>\n",
       "    <tr>\n",
       "      <th>6</th>\n",
       "      <td>0.548541</td>\n",
       "      <td>0.045636</td>\n",
       "      <td>0.015652</td>\n",
       "      <td>0.005904</td>\n",
       "      <td>3</td>\n",
       "      <td>{'C': 3}</td>\n",
       "      <td>0.595598</td>\n",
       "      <td>0.611945</td>\n",
       "      <td>0.564188</td>\n",
       "      <td>0.606341</td>\n",
       "      <td>0.591723</td>\n",
       "      <td>0.593959</td>\n",
       "      <td>0.016557</td>\n",
       "      <td>2</td>\n",
       "    </tr>\n",
       "    <tr>\n",
       "      <th>7</th>\n",
       "      <td>0.584779</td>\n",
       "      <td>0.056701</td>\n",
       "      <td>0.011860</td>\n",
       "      <td>0.004036</td>\n",
       "      <td>4</td>\n",
       "      <td>{'C': 4}</td>\n",
       "      <td>0.595613</td>\n",
       "      <td>0.611940</td>\n",
       "      <td>0.564185</td>\n",
       "      <td>0.606335</td>\n",
       "      <td>0.591727</td>\n",
       "      <td>0.593960</td>\n",
       "      <td>0.016556</td>\n",
       "      <td>1</td>\n",
       "    </tr>\n",
       "    <tr>\n",
       "      <th>8</th>\n",
       "      <td>0.563729</td>\n",
       "      <td>0.031355</td>\n",
       "      <td>0.012267</td>\n",
       "      <td>0.004104</td>\n",
       "      <td>5</td>\n",
       "      <td>{'C': 5}</td>\n",
       "      <td>0.595615</td>\n",
       "      <td>0.611935</td>\n",
       "      <td>0.564169</td>\n",
       "      <td>0.606338</td>\n",
       "      <td>0.591725</td>\n",
       "      <td>0.593957</td>\n",
       "      <td>0.016562</td>\n",
       "      <td>3</td>\n",
       "    </tr>\n",
       "    <tr>\n",
       "      <th>9</th>\n",
       "      <td>0.506384</td>\n",
       "      <td>0.118205</td>\n",
       "      <td>0.010401</td>\n",
       "      <td>0.005843</td>\n",
       "      <td>10</td>\n",
       "      <td>{'C': 10}</td>\n",
       "      <td>0.595623</td>\n",
       "      <td>0.611913</td>\n",
       "      <td>0.564157</td>\n",
       "      <td>0.606340</td>\n",
       "      <td>0.591735</td>\n",
       "      <td>0.593954</td>\n",
       "      <td>0.016562</td>\n",
       "      <td>6</td>\n",
       "    </tr>\n",
       "  </tbody>\n",
       "</table>\n",
       "</div>"
      ],
      "text/plain": [
       "   mean_fit_time  std_fit_time  mean_score_time  std_score_time param_C  \\\n",
       "0       0.440210      0.106710         0.008791        0.001642   0.009   \n",
       "1       0.543081      0.018522         0.011792        0.003851   0.005   \n",
       "2       0.440375      0.045001         0.010315        0.001561   0.001   \n",
       "3       0.624376      0.040887         0.014052        0.006795     0.1   \n",
       "4       0.603290      0.031123         0.012512        0.003446       1   \n",
       "5       0.659368      0.080863         0.013064        0.005880       2   \n",
       "6       0.548541      0.045636         0.015652        0.005904       3   \n",
       "7       0.584779      0.056701         0.011860        0.004036       4   \n",
       "8       0.563729      0.031355         0.012267        0.004104       5   \n",
       "9       0.506384      0.118205         0.010401        0.005843      10   \n",
       "\n",
       "         params  split0_test_score  split1_test_score  split2_test_score  \\\n",
       "0  {'C': 0.009}           0.584586           0.611686           0.565267   \n",
       "1  {'C': 0.005}           0.578868           0.609764           0.562978   \n",
       "2  {'C': 0.001}           0.562153           0.603218           0.553490   \n",
       "3    {'C': 0.1}           0.594639           0.612635           0.564577   \n",
       "4      {'C': 1}           0.595571           0.612012           0.564198   \n",
       "5      {'C': 2}           0.595570           0.611951           0.564205   \n",
       "6      {'C': 3}           0.595598           0.611945           0.564188   \n",
       "7      {'C': 4}           0.595613           0.611940           0.564185   \n",
       "8      {'C': 5}           0.595615           0.611935           0.564169   \n",
       "9     {'C': 10}           0.595623           0.611913           0.564157   \n",
       "\n",
       "   split3_test_score  split4_test_score  mean_test_score  std_test_score  \\\n",
       "0           0.600378           0.588418         0.590066        0.015629   \n",
       "1           0.594879           0.585520         0.586401        0.015645   \n",
       "2           0.574928           0.571858         0.573129        0.016830   \n",
       "3           0.605989           0.591745         0.593917        0.016505   \n",
       "4           0.606273           0.591721         0.593955        0.016557   \n",
       "5           0.606326           0.591726         0.593956        0.016550   \n",
       "6           0.606341           0.591723         0.593959        0.016557   \n",
       "7           0.606335           0.591727         0.593960        0.016556   \n",
       "8           0.606338           0.591725         0.593957        0.016562   \n",
       "9           0.606340           0.591735         0.593954        0.016562   \n",
       "\n",
       "   rank_test_score  \n",
       "0                8  \n",
       "1                9  \n",
       "2               10  \n",
       "3                7  \n",
       "4                5  \n",
       "5                4  \n",
       "6                2  \n",
       "7                1  \n",
       "8                3  \n",
       "9                6  "
      ]
     },
     "execution_count": 304,
     "metadata": {},
     "output_type": "execute_result"
    }
   ],
   "source": [
    "# Sans interactions + numériques standardisées\n",
    "pd.DataFrame(grid_logistic.cv_results_)"
   ]
  },
  {
   "cell_type": "code",
   "execution_count": 101,
   "metadata": {},
   "outputs": [
    {
     "data": {
      "text/html": [
       "<div>\n",
       "<style scoped>\n",
       "    .dataframe tbody tr th:only-of-type {\n",
       "        vertical-align: middle;\n",
       "    }\n",
       "\n",
       "    .dataframe tbody tr th {\n",
       "        vertical-align: top;\n",
       "    }\n",
       "\n",
       "    .dataframe thead th {\n",
       "        text-align: right;\n",
       "    }\n",
       "</style>\n",
       "<table border=\"1\" class=\"dataframe\">\n",
       "  <thead>\n",
       "    <tr style=\"text-align: right;\">\n",
       "      <th></th>\n",
       "      <th>mean_fit_time</th>\n",
       "      <th>std_fit_time</th>\n",
       "      <th>mean_score_time</th>\n",
       "      <th>std_score_time</th>\n",
       "      <th>param_C</th>\n",
       "      <th>params</th>\n",
       "      <th>split0_test_score</th>\n",
       "      <th>split1_test_score</th>\n",
       "      <th>split2_test_score</th>\n",
       "      <th>split3_test_score</th>\n",
       "      <th>split4_test_score</th>\n",
       "      <th>mean_test_score</th>\n",
       "      <th>std_test_score</th>\n",
       "      <th>rank_test_score</th>\n",
       "    </tr>\n",
       "  </thead>\n",
       "  <tbody>\n",
       "    <tr>\n",
       "      <th>0</th>\n",
       "      <td>0.888455</td>\n",
       "      <td>0.069528</td>\n",
       "      <td>0.014209</td>\n",
       "      <td>0.006792</td>\n",
       "      <td>0.009</td>\n",
       "      <td>{'C': 0.009}</td>\n",
       "      <td>0.686968</td>\n",
       "      <td>0.713513</td>\n",
       "      <td>0.651188</td>\n",
       "      <td>0.693301</td>\n",
       "      <td>0.711016</td>\n",
       "      <td>0.691201</td>\n",
       "      <td>0.022420</td>\n",
       "      <td>8</td>\n",
       "    </tr>\n",
       "    <tr>\n",
       "      <th>1</th>\n",
       "      <td>0.911016</td>\n",
       "      <td>0.112461</td>\n",
       "      <td>0.020527</td>\n",
       "      <td>0.013179</td>\n",
       "      <td>0.005</td>\n",
       "      <td>{'C': 0.005}</td>\n",
       "      <td>0.679060</td>\n",
       "      <td>0.701753</td>\n",
       "      <td>0.642384</td>\n",
       "      <td>0.682084</td>\n",
       "      <td>0.701078</td>\n",
       "      <td>0.681275</td>\n",
       "      <td>0.021583</td>\n",
       "      <td>9</td>\n",
       "    </tr>\n",
       "    <tr>\n",
       "      <th>2</th>\n",
       "      <td>0.800881</td>\n",
       "      <td>0.201881</td>\n",
       "      <td>0.016011</td>\n",
       "      <td>0.011623</td>\n",
       "      <td>0.001</td>\n",
       "      <td>{'C': 0.001}</td>\n",
       "      <td>0.655523</td>\n",
       "      <td>0.665709</td>\n",
       "      <td>0.612853</td>\n",
       "      <td>0.653871</td>\n",
       "      <td>0.675483</td>\n",
       "      <td>0.652691</td>\n",
       "      <td>0.021376</td>\n",
       "      <td>10</td>\n",
       "    </tr>\n",
       "    <tr>\n",
       "      <th>3</th>\n",
       "      <td>1.066026</td>\n",
       "      <td>0.081099</td>\n",
       "      <td>0.015464</td>\n",
       "      <td>0.002450</td>\n",
       "      <td>0.1</td>\n",
       "      <td>{'C': 0.1}</td>\n",
       "      <td>0.709817</td>\n",
       "      <td>0.730402</td>\n",
       "      <td>0.676268</td>\n",
       "      <td>0.718062</td>\n",
       "      <td>0.728580</td>\n",
       "      <td>0.712629</td>\n",
       "      <td>0.019644</td>\n",
       "      <td>7</td>\n",
       "    </tr>\n",
       "    <tr>\n",
       "      <th>4</th>\n",
       "      <td>1.393171</td>\n",
       "      <td>0.119134</td>\n",
       "      <td>0.011381</td>\n",
       "      <td>0.003215</td>\n",
       "      <td>1</td>\n",
       "      <td>{'C': 1}</td>\n",
       "      <td>0.713718</td>\n",
       "      <td>0.730700</td>\n",
       "      <td>0.679633</td>\n",
       "      <td>0.722315</td>\n",
       "      <td>0.729766</td>\n",
       "      <td>0.715229</td>\n",
       "      <td>0.018814</td>\n",
       "      <td>6</td>\n",
       "    </tr>\n",
       "    <tr>\n",
       "      <th>5</th>\n",
       "      <td>1.767996</td>\n",
       "      <td>0.320787</td>\n",
       "      <td>0.021259</td>\n",
       "      <td>0.014930</td>\n",
       "      <td>2</td>\n",
       "      <td>{'C': 2}</td>\n",
       "      <td>0.713709</td>\n",
       "      <td>0.730397</td>\n",
       "      <td>0.680015</td>\n",
       "      <td>0.722380</td>\n",
       "      <td>0.729761</td>\n",
       "      <td>0.715255</td>\n",
       "      <td>0.018624</td>\n",
       "      <td>5</td>\n",
       "    </tr>\n",
       "    <tr>\n",
       "      <th>6</th>\n",
       "      <td>1.926846</td>\n",
       "      <td>0.172896</td>\n",
       "      <td>0.012146</td>\n",
       "      <td>0.004514</td>\n",
       "      <td>3</td>\n",
       "      <td>{'C': 3}</td>\n",
       "      <td>0.713702</td>\n",
       "      <td>0.730271</td>\n",
       "      <td>0.680134</td>\n",
       "      <td>0.722521</td>\n",
       "      <td>0.729752</td>\n",
       "      <td>0.715279</td>\n",
       "      <td>0.018568</td>\n",
       "      <td>4</td>\n",
       "    </tr>\n",
       "    <tr>\n",
       "      <th>7</th>\n",
       "      <td>1.568978</td>\n",
       "      <td>0.139979</td>\n",
       "      <td>0.013918</td>\n",
       "      <td>0.006367</td>\n",
       "      <td>4</td>\n",
       "      <td>{'C': 4}</td>\n",
       "      <td>0.713716</td>\n",
       "      <td>0.730187</td>\n",
       "      <td>0.680275</td>\n",
       "      <td>0.722572</td>\n",
       "      <td>0.729761</td>\n",
       "      <td>0.715305</td>\n",
       "      <td>0.018507</td>\n",
       "      <td>2</td>\n",
       "    </tr>\n",
       "    <tr>\n",
       "      <th>8</th>\n",
       "      <td>1.681402</td>\n",
       "      <td>0.178404</td>\n",
       "      <td>0.014597</td>\n",
       "      <td>0.004278</td>\n",
       "      <td>5</td>\n",
       "      <td>{'C': 5}</td>\n",
       "      <td>0.713693</td>\n",
       "      <td>0.730106</td>\n",
       "      <td>0.680359</td>\n",
       "      <td>0.722617</td>\n",
       "      <td>0.729764</td>\n",
       "      <td>0.715310</td>\n",
       "      <td>0.018466</td>\n",
       "      <td>1</td>\n",
       "    </tr>\n",
       "    <tr>\n",
       "      <th>9</th>\n",
       "      <td>1.630143</td>\n",
       "      <td>0.275507</td>\n",
       "      <td>0.010286</td>\n",
       "      <td>0.004609</td>\n",
       "      <td>10</td>\n",
       "      <td>{'C': 10}</td>\n",
       "      <td>0.713674</td>\n",
       "      <td>0.730008</td>\n",
       "      <td>0.680413</td>\n",
       "      <td>0.722582</td>\n",
       "      <td>0.729745</td>\n",
       "      <td>0.715287</td>\n",
       "      <td>0.018424</td>\n",
       "      <td>3</td>\n",
       "    </tr>\n",
       "  </tbody>\n",
       "</table>\n",
       "</div>"
      ],
      "text/plain": [
       "   mean_fit_time  std_fit_time  mean_score_time  std_score_time param_C  \\\n",
       "0       0.888455      0.069528         0.014209        0.006792   0.009   \n",
       "1       0.911016      0.112461         0.020527        0.013179   0.005   \n",
       "2       0.800881      0.201881         0.016011        0.011623   0.001   \n",
       "3       1.066026      0.081099         0.015464        0.002450     0.1   \n",
       "4       1.393171      0.119134         0.011381        0.003215       1   \n",
       "5       1.767996      0.320787         0.021259        0.014930       2   \n",
       "6       1.926846      0.172896         0.012146        0.004514       3   \n",
       "7       1.568978      0.139979         0.013918        0.006367       4   \n",
       "8       1.681402      0.178404         0.014597        0.004278       5   \n",
       "9       1.630143      0.275507         0.010286        0.004609      10   \n",
       "\n",
       "         params  split0_test_score  split1_test_score  split2_test_score  \\\n",
       "0  {'C': 0.009}           0.686968           0.713513           0.651188   \n",
       "1  {'C': 0.005}           0.679060           0.701753           0.642384   \n",
       "2  {'C': 0.001}           0.655523           0.665709           0.612853   \n",
       "3    {'C': 0.1}           0.709817           0.730402           0.676268   \n",
       "4      {'C': 1}           0.713718           0.730700           0.679633   \n",
       "5      {'C': 2}           0.713709           0.730397           0.680015   \n",
       "6      {'C': 3}           0.713702           0.730271           0.680134   \n",
       "7      {'C': 4}           0.713716           0.730187           0.680275   \n",
       "8      {'C': 5}           0.713693           0.730106           0.680359   \n",
       "9     {'C': 10}           0.713674           0.730008           0.680413   \n",
       "\n",
       "   split3_test_score  split4_test_score  mean_test_score  std_test_score  \\\n",
       "0           0.693301           0.711016         0.691201        0.022420   \n",
       "1           0.682084           0.701078         0.681275        0.021583   \n",
       "2           0.653871           0.675483         0.652691        0.021376   \n",
       "3           0.718062           0.728580         0.712629        0.019644   \n",
       "4           0.722315           0.729766         0.715229        0.018814   \n",
       "5           0.722380           0.729761         0.715255        0.018624   \n",
       "6           0.722521           0.729752         0.715279        0.018568   \n",
       "7           0.722572           0.729761         0.715305        0.018507   \n",
       "8           0.722617           0.729764         0.715310        0.018466   \n",
       "9           0.722582           0.729745         0.715287        0.018424   \n",
       "\n",
       "   rank_test_score  \n",
       "0                8  \n",
       "1                9  \n",
       "2               10  \n",
       "3                7  \n",
       "4                6  \n",
       "5                5  \n",
       "6                4  \n",
       "7                2  \n",
       "8                1  \n",
       "9                3  "
      ]
     },
     "execution_count": 101,
     "metadata": {},
     "output_type": "execute_result"
    }
   ],
   "source": [
    "# Interactions + variables numériques centrées\n",
    "pd.DataFrame(grid_logistic.cv_results_)"
   ]
  },
  {
   "cell_type": "markdown",
   "metadata": {},
   "source": [
    "Courbe de ROC: \n",
    "il faut apparemment faire la cross validation avec KFold \n",
    "pour pouvoir tracer la courbe de ROC"
   ]
  },
  {
   "cell_type": "code",
   "execution_count": null,
   "metadata": {},
   "outputs": [],
   "source": []
  },
  {
   "cell_type": "code",
   "execution_count": null,
   "metadata": {},
   "outputs": [],
   "source": []
  },
  {
   "cell_type": "code",
   "execution_count": null,
   "metadata": {},
   "outputs": [],
   "source": []
  },
  {
   "cell_type": "code",
   "execution_count": null,
   "metadata": {},
   "outputs": [],
   "source": []
  },
  {
   "cell_type": "code",
   "execution_count": null,
   "metadata": {},
   "outputs": [],
   "source": []
  },
  {
   "cell_type": "code",
   "execution_count": null,
   "metadata": {},
   "outputs": [],
   "source": []
  },
  {
   "cell_type": "code",
   "execution_count": null,
   "metadata": {},
   "outputs": [],
   "source": []
  },
  {
   "cell_type": "markdown",
   "metadata": {},
   "source": [
    "## II XGBoost d'abord avec Holdout"
   ]
  },
  {
   "cell_type": "markdown",
   "metadata": {},
   "source": [
    "Liste des variables pour XGBoost"
   ]
  },
  {
   "cell_type": "code",
   "execution_count": 43,
   "metadata": {},
   "outputs": [],
   "source": [
    "liste_feat_for_xgboost = ['C_specialite_labels_encoding',\n",
    "'C_sexe_labels_encoding',\n",
    "'C_diplome_labels_encoding',\n",
    "# 'note_Q_labels_encoding',\n",
    "# 'salaire_Q_labels_encoding',\n",
    "#'age_D_labels_encoding',\n",
    "#'note_D_labels_encoding',\n",
    "#'salaire_D_labels_encoding'\n",
    "'age','salaire','note']"
   ]
  },
  {
   "cell_type": "code",
   "execution_count": 44,
   "metadata": {},
   "outputs": [
    {
     "data": {
      "text/plain": [
       "['date',\n",
       " 'cheveux',\n",
       " 'age',\n",
       " 'exp',\n",
       " 'salaire',\n",
       " 'C_sexe',\n",
       " 'C_diplome',\n",
       " 'C_specialite',\n",
       " 'note',\n",
       " 'dispo',\n",
       " 'embauche',\n",
       " 'annee',\n",
       " 'mois',\n",
       " 'jour',\n",
       " 'age_Q',\n",
       " 'exp_Q',\n",
       " 'note_Q',\n",
       " 'salaire_Q',\n",
       " 'age_D',\n",
       " 'note_D',\n",
       " 'salaire_D',\n",
       " 'C_sexe_F',\n",
       " 'C_sexe_M',\n",
       " 'C_diplome_bac',\n",
       " 'C_diplome_doctorat',\n",
       " 'C_diplome_licence',\n",
       " 'C_diplome_master',\n",
       " 'C_specialite_archeologie',\n",
       " 'C_specialite_detective',\n",
       " 'C_specialite_forage',\n",
       " 'C_specialite_geologie',\n",
       " 'C_specialite_labels_encoding',\n",
       " 'C_sexe_labels_encoding',\n",
       " 'C_diplome_labels_encoding',\n",
       " 'note_Q_labels_encoding',\n",
       " 'salaire_Q_labels_encoding',\n",
       " 'age_D_labels_encoding',\n",
       " 'note_D_labels_encoding',\n",
       " 'salaire_D_labels_encoding']"
      ]
     },
     "execution_count": 44,
     "metadata": {},
     "output_type": "execute_result"
    }
   ],
   "source": [
    "list(df_all_data)"
   ]
  },
  {
   "cell_type": "code",
   "execution_count": 45,
   "metadata": {},
   "outputs": [],
   "source": [
    "X_train = df_all_data[liste_feat_for_xgboost]\n",
    "Y_train = df_all_data[[target_var_name]]"
   ]
  },
  {
   "cell_type": "code",
   "execution_count": 370,
   "metadata": {},
   "outputs": [],
   "source": [
    "X_train.index.name = 'id'\n",
    "X_train_all_columns[liste_feat_for_xgboost].index.name = 'id'"
   ]
  },
  {
   "cell_type": "markdown",
   "metadata": {},
   "source": [
    "On enlève les données de test"
   ]
  },
  {
   "cell_type": "code",
   "execution_count": 374,
   "metadata": {},
   "outputs": [
    {
     "data": {
      "text/plain": [
       "(14656, 8)"
      ]
     },
     "execution_count": 374,
     "metadata": {},
     "output_type": "execute_result"
    }
   ],
   "source": [
    "X_train_all_columns[liste_feat_for_xgboost].shape"
   ]
  },
  {
   "cell_type": "code",
   "execution_count": 373,
   "metadata": {},
   "outputs": [
    {
     "data": {
      "text/html": [
       "<div>\n",
       "<style scoped>\n",
       "    .dataframe tbody tr th:only-of-type {\n",
       "        vertical-align: middle;\n",
       "    }\n",
       "\n",
       "    .dataframe tbody tr th {\n",
       "        vertical-align: top;\n",
       "    }\n",
       "\n",
       "    .dataframe thead th {\n",
       "        text-align: right;\n",
       "    }\n",
       "</style>\n",
       "<table border=\"1\" class=\"dataframe\">\n",
       "  <thead>\n",
       "    <tr style=\"text-align: right;\">\n",
       "      <th></th>\n",
       "      <th>C_specialite_labels_encoding_x</th>\n",
       "      <th>C_sexe_labels_encoding_x</th>\n",
       "      <th>C_diplome_labels_encoding_x</th>\n",
       "      <th>note_Q_labels_encoding_x</th>\n",
       "      <th>salaire_Q_labels_encoding_x</th>\n",
       "      <th>age_D_labels_encoding_x</th>\n",
       "      <th>note_D_labels_encoding_x</th>\n",
       "      <th>salaire_D_labels_encoding_x</th>\n",
       "      <th>C_specialite_labels_encoding_y</th>\n",
       "      <th>C_sexe_labels_encoding_y</th>\n",
       "      <th>C_diplome_labels_encoding_y</th>\n",
       "      <th>note_Q_labels_encoding_y</th>\n",
       "      <th>salaire_Q_labels_encoding_y</th>\n",
       "      <th>age_D_labels_encoding_y</th>\n",
       "      <th>note_D_labels_encoding_y</th>\n",
       "      <th>salaire_D_labels_encoding_y</th>\n",
       "    </tr>\n",
       "    <tr>\n",
       "      <th>id</th>\n",
       "      <th></th>\n",
       "      <th></th>\n",
       "      <th></th>\n",
       "      <th></th>\n",
       "      <th></th>\n",
       "      <th></th>\n",
       "      <th></th>\n",
       "      <th></th>\n",
       "      <th></th>\n",
       "      <th></th>\n",
       "      <th></th>\n",
       "      <th></th>\n",
       "      <th></th>\n",
       "      <th></th>\n",
       "      <th></th>\n",
       "      <th></th>\n",
       "    </tr>\n",
       "  </thead>\n",
       "  <tbody>\n",
       "    <tr>\n",
       "      <th>0</th>\n",
       "      <td>3</td>\n",
       "      <td>1</td>\n",
       "      <td>3</td>\n",
       "      <td>1</td>\n",
       "      <td>2</td>\n",
       "      <td>0</td>\n",
       "      <td>4</td>\n",
       "      <td>5</td>\n",
       "      <td>NaN</td>\n",
       "      <td>NaN</td>\n",
       "      <td>NaN</td>\n",
       "      <td>NaN</td>\n",
       "      <td>NaN</td>\n",
       "      <td>NaN</td>\n",
       "      <td>NaN</td>\n",
       "      <td>NaN</td>\n",
       "    </tr>\n",
       "    <tr>\n",
       "      <th>1</th>\n",
       "      <td>3</td>\n",
       "      <td>1</td>\n",
       "      <td>2</td>\n",
       "      <td>1</td>\n",
       "      <td>2</td>\n",
       "      <td>7</td>\n",
       "      <td>4</td>\n",
       "      <td>7</td>\n",
       "      <td>3.0</td>\n",
       "      <td>1.0</td>\n",
       "      <td>2.0</td>\n",
       "      <td>1.0</td>\n",
       "      <td>2.0</td>\n",
       "      <td>7.0</td>\n",
       "      <td>4.0</td>\n",
       "      <td>7.0</td>\n",
       "    </tr>\n",
       "    <tr>\n",
       "      <th>2</th>\n",
       "      <td>3</td>\n",
       "      <td>1</td>\n",
       "      <td>2</td>\n",
       "      <td>1</td>\n",
       "      <td>2</td>\n",
       "      <td>3</td>\n",
       "      <td>2</td>\n",
       "      <td>6</td>\n",
       "      <td>3.0</td>\n",
       "      <td>1.0</td>\n",
       "      <td>2.0</td>\n",
       "      <td>1.0</td>\n",
       "      <td>2.0</td>\n",
       "      <td>3.0</td>\n",
       "      <td>2.0</td>\n",
       "      <td>6.0</td>\n",
       "    </tr>\n",
       "    <tr>\n",
       "      <th>3</th>\n",
       "      <td>3</td>\n",
       "      <td>1</td>\n",
       "      <td>3</td>\n",
       "      <td>3</td>\n",
       "      <td>2</td>\n",
       "      <td>3</td>\n",
       "      <td>8</td>\n",
       "      <td>6</td>\n",
       "      <td>3.0</td>\n",
       "      <td>1.0</td>\n",
       "      <td>3.0</td>\n",
       "      <td>3.0</td>\n",
       "      <td>2.0</td>\n",
       "      <td>3.0</td>\n",
       "      <td>8.0</td>\n",
       "      <td>6.0</td>\n",
       "    </tr>\n",
       "    <tr>\n",
       "      <th>4</th>\n",
       "      <td>3</td>\n",
       "      <td>1</td>\n",
       "      <td>0</td>\n",
       "      <td>0</td>\n",
       "      <td>3</td>\n",
       "      <td>1</td>\n",
       "      <td>0</td>\n",
       "      <td>9</td>\n",
       "      <td>3.0</td>\n",
       "      <td>1.0</td>\n",
       "      <td>0.0</td>\n",
       "      <td>0.0</td>\n",
       "      <td>3.0</td>\n",
       "      <td>1.0</td>\n",
       "      <td>0.0</td>\n",
       "      <td>9.0</td>\n",
       "    </tr>\n",
       "  </tbody>\n",
       "</table>\n",
       "</div>"
      ],
      "text/plain": [
       "    C_specialite_labels_encoding_x  C_sexe_labels_encoding_x  \\\n",
       "id                                                             \n",
       "0                                3                         1   \n",
       "1                                3                         1   \n",
       "2                                3                         1   \n",
       "3                                3                         1   \n",
       "4                                3                         1   \n",
       "\n",
       "    C_diplome_labels_encoding_x  note_Q_labels_encoding_x  \\\n",
       "id                                                          \n",
       "0                             3                         1   \n",
       "1                             2                         1   \n",
       "2                             2                         1   \n",
       "3                             3                         3   \n",
       "4                             0                         0   \n",
       "\n",
       "    salaire_Q_labels_encoding_x  age_D_labels_encoding_x  \\\n",
       "id                                                         \n",
       "0                             2                        0   \n",
       "1                             2                        7   \n",
       "2                             2                        3   \n",
       "3                             2                        3   \n",
       "4                             3                        1   \n",
       "\n",
       "    note_D_labels_encoding_x  salaire_D_labels_encoding_x  \\\n",
       "id                                                          \n",
       "0                          4                            5   \n",
       "1                          4                            7   \n",
       "2                          2                            6   \n",
       "3                          8                            6   \n",
       "4                          0                            9   \n",
       "\n",
       "    C_specialite_labels_encoding_y  C_sexe_labels_encoding_y  \\\n",
       "id                                                             \n",
       "0                              NaN                       NaN   \n",
       "1                              3.0                       1.0   \n",
       "2                              3.0                       1.0   \n",
       "3                              3.0                       1.0   \n",
       "4                              3.0                       1.0   \n",
       "\n",
       "    C_diplome_labels_encoding_y  note_Q_labels_encoding_y  \\\n",
       "id                                                          \n",
       "0                           NaN                       NaN   \n",
       "1                           2.0                       1.0   \n",
       "2                           2.0                       1.0   \n",
       "3                           3.0                       3.0   \n",
       "4                           0.0                       0.0   \n",
       "\n",
       "    salaire_Q_labels_encoding_y  age_D_labels_encoding_y  \\\n",
       "id                                                         \n",
       "0                           NaN                      NaN   \n",
       "1                           2.0                      7.0   \n",
       "2                           2.0                      3.0   \n",
       "3                           2.0                      3.0   \n",
       "4                           3.0                      1.0   \n",
       "\n",
       "    note_D_labels_encoding_y  salaire_D_labels_encoding_y  \n",
       "id                                                         \n",
       "0                        NaN                          NaN  \n",
       "1                        4.0                          7.0  \n",
       "2                        2.0                          6.0  \n",
       "3                        8.0                          6.0  \n",
       "4                        0.0                          9.0  "
      ]
     },
     "execution_count": 373,
     "metadata": {},
     "output_type": "execute_result"
    }
   ],
   "source": [
    "df_temp_1 = pd.merge(X_train, X_train_all_columns[liste_feat_for_xgboost], on = \"id\", how = \"left\")\n",
    "df_temp_1.head()"
   ]
  },
  {
   "cell_type": "code",
   "execution_count": null,
   "metadata": {},
   "outputs": [],
   "source": [
    "df_temp_2 = merge(Y_train, Y_test, on = \"id\", how = \"left\")"
   ]
  },
  {
   "cell_type": "code",
   "execution_count": 349,
   "metadata": {},
   "outputs": [
    {
     "data": {
      "text/plain": [
       "(18320, 8)"
      ]
     },
     "execution_count": 349,
     "metadata": {},
     "output_type": "execute_result"
    }
   ],
   "source": [
    "X_train.shape"
   ]
  },
  {
   "cell_type": "code",
   "execution_count": 364,
   "metadata": {},
   "outputs": [
    {
     "data": {
      "text/plain": [
       "(3664, 1)"
      ]
     },
     "execution_count": 364,
     "metadata": {},
     "output_type": "execute_result"
    }
   ],
   "source": [
    "Y_test.shape"
   ]
  },
  {
   "cell_type": "markdown",
   "metadata": {},
   "source": [
    "On splitte les données en train et validation"
   ]
  },
  {
   "cell_type": "code",
   "execution_count": 331,
   "metadata": {},
   "outputs": [
    {
     "data": {
      "text/plain": [
       "(5650, 8)"
      ]
     },
     "execution_count": 331,
     "metadata": {},
     "output_type": "execute_result"
    }
   ],
   "source": [
    "X_train.shape"
   ]
  },
  {
   "cell_type": "code",
   "execution_count": 309,
   "metadata": {},
   "outputs": [
    {
     "data": {
      "text/plain": [
       "(18320, 1)"
      ]
     },
     "execution_count": 309,
     "metadata": {},
     "output_type": "execute_result"
    }
   ],
   "source": [
    "Y_train.shape"
   ]
  },
  {
   "cell_type": "code",
   "execution_count": 327,
   "metadata": {},
   "outputs": [
    {
     "data": {
      "text/plain": [
       "3664"
      ]
     },
     "execution_count": 327,
     "metadata": {},
     "output_type": "execute_result"
    }
   ],
   "source": [
    "X_test_all_columns.shape[0]"
   ]
  },
  {
   "cell_type": "code",
   "execution_count": 312,
   "metadata": {},
   "outputs": [
    {
     "data": {
      "text/plain": [
       "0.11408296943231441"
      ]
     },
     "execution_count": 312,
     "metadata": {},
     "output_type": "execute_result"
    }
   ],
   "source": [
    "len(Y_train[Y_train[\"embauche\"] == 1])/len(Y_train)"
   ]
  },
  {
   "cell_type": "code",
   "execution_count": null,
   "metadata": {},
   "outputs": [],
   "source": [
    "NB) A FAIRE :\n",
    "On doit tirer \"X_test_all_columns.shape[0]\" observations parmi: X_train,Y_train et avoir tjs 11,39% d 'embauche"
   ]
  },
  {
   "cell_type": "code",
   "execution_count": 321,
   "metadata": {},
   "outputs": [
    {
     "data": {
      "text/plain": [
       "0.2"
      ]
     },
     "execution_count": 321,
     "metadata": {},
     "output_type": "execute_result"
    }
   ],
   "source": [
    "(X_test_all_columns.shape[0]/df_all_data.shape[0])"
   ]
  },
  {
   "cell_type": "code",
   "execution_count": null,
   "metadata": {},
   "outputs": [],
   "source": []
  },
  {
   "cell_type": "code",
   "execution_count": null,
   "metadata": {},
   "outputs": [],
   "source": []
  },
  {
   "cell_type": "code",
   "execution_count": null,
   "metadata": {},
   "outputs": [],
   "source": []
  },
  {
   "cell_type": "code",
   "execution_count": 47,
   "metadata": {},
   "outputs": [],
   "source": [
    "#X_train, X_valid, Y_train, Y_valid = train_test_split(X_train,Y_train,test_size = 0.2,random_state = 125)\n",
    "X_train, X_valid, Y_train, Y_valid = train_test_split(X_train,Y_train,test_size = 0.4,random_state = 125)"
   ]
  },
  {
   "cell_type": "code",
   "execution_count": 48,
   "metadata": {},
   "outputs": [
    {
     "data": {
      "text/plain": [
       "(10992, 6)"
      ]
     },
     "execution_count": 48,
     "metadata": {},
     "output_type": "execute_result"
    }
   ],
   "source": [
    "X_train.shape"
   ]
  },
  {
   "cell_type": "code",
   "execution_count": 49,
   "metadata": {},
   "outputs": [
    {
     "data": {
      "text/plain": [
       "(10992, 1)"
      ]
     },
     "execution_count": 49,
     "metadata": {},
     "output_type": "execute_result"
    }
   ],
   "source": [
    "Y_train.shape"
   ]
  },
  {
   "cell_type": "code",
   "execution_count": 50,
   "metadata": {},
   "outputs": [
    {
     "data": {
      "text/plain": [
       "(7328, 6)"
      ]
     },
     "execution_count": 50,
     "metadata": {},
     "output_type": "execute_result"
    }
   ],
   "source": [
    "X_valid.shape"
   ]
  },
  {
   "cell_type": "code",
   "execution_count": null,
   "metadata": {},
   "outputs": [],
   "source": [
    "silent=False, \n",
    "                      scale_pos_weight=1,\n",
    "                      learning_rate=0.01,  \n",
    "                      colsample_bytree = 0.4,\n",
    "                      subsample = 0.8,\n",
    "                      objective='binary:logistic', \n",
    "                      n_estimators=1000, \n",
    "                      reg_alpha = 0.3,\n",
    "                      max_depth=4, \n",
    "                      gamma=10)"
   ]
  },
  {
   "cell_type": "code",
   "execution_count": 62,
   "metadata": {},
   "outputs": [
    {
     "name": "stderr",
     "output_type": "stream",
     "text": [
      "/home/osboxes/anaconda3/envs/data/lib/python3.6/site-packages/sklearn/preprocessing/label.py:219: DataConversionWarning: A column-vector y was passed when a 1d array was expected. Please change the shape of y to (n_samples, ), for example using ravel().\n",
      "  y = column_or_1d(y, warn=True)\n",
      "/home/osboxes/anaconda3/envs/data/lib/python3.6/site-packages/sklearn/preprocessing/label.py:252: DataConversionWarning: A column-vector y was passed when a 1d array was expected. Please change the shape of y to (n_samples, ), for example using ravel().\n",
      "  y = column_or_1d(y, warn=True)\n"
     ]
    },
    {
     "name": "stdout",
     "output_type": "stream",
     "text": [
      "(10992, 1)\n",
      "(10992, 1)\n"
     ]
    },
    {
     "name": "stderr",
     "output_type": "stream",
     "text": [
      "/home/osboxes/anaconda3/envs/data/lib/python3.6/site-packages/sklearn/preprocessing/label.py:219: DataConversionWarning: A column-vector y was passed when a 1d array was expected. Please change the shape of y to (n_samples, ), for example using ravel().\n",
      "  y = column_or_1d(y, warn=True)\n",
      "/home/osboxes/anaconda3/envs/data/lib/python3.6/site-packages/sklearn/preprocessing/label.py:252: DataConversionWarning: A column-vector y was passed when a 1d array was expected. Please change the shape of y to (n_samples, ), for example using ravel().\n",
      "  y = column_or_1d(y, warn=True)\n"
     ]
    },
    {
     "name": "stdout",
     "output_type": "stream",
     "text": [
      "(10992, 1)\n",
      "(10992, 1)\n"
     ]
    },
    {
     "name": "stderr",
     "output_type": "stream",
     "text": [
      "/home/osboxes/anaconda3/envs/data/lib/python3.6/site-packages/sklearn/preprocessing/label.py:219: DataConversionWarning: A column-vector y was passed when a 1d array was expected. Please change the shape of y to (n_samples, ), for example using ravel().\n",
      "  y = column_or_1d(y, warn=True)\n",
      "/home/osboxes/anaconda3/envs/data/lib/python3.6/site-packages/sklearn/preprocessing/label.py:252: DataConversionWarning: A column-vector y was passed when a 1d array was expected. Please change the shape of y to (n_samples, ), for example using ravel().\n",
      "  y = column_or_1d(y, warn=True)\n"
     ]
    },
    {
     "name": "stdout",
     "output_type": "stream",
     "text": [
      "(10992, 1)\n",
      "(10992, 1)\n"
     ]
    },
    {
     "name": "stderr",
     "output_type": "stream",
     "text": [
      "/home/osboxes/anaconda3/envs/data/lib/python3.6/site-packages/sklearn/preprocessing/label.py:219: DataConversionWarning: A column-vector y was passed when a 1d array was expected. Please change the shape of y to (n_samples, ), for example using ravel().\n",
      "  y = column_or_1d(y, warn=True)\n",
      "/home/osboxes/anaconda3/envs/data/lib/python3.6/site-packages/sklearn/preprocessing/label.py:252: DataConversionWarning: A column-vector y was passed when a 1d array was expected. Please change the shape of y to (n_samples, ), for example using ravel().\n",
      "  y = column_or_1d(y, warn=True)\n"
     ]
    },
    {
     "name": "stdout",
     "output_type": "stream",
     "text": [
      "(10992, 1)\n",
      "(10992, 1)\n"
     ]
    },
    {
     "name": "stderr",
     "output_type": "stream",
     "text": [
      "/home/osboxes/anaconda3/envs/data/lib/python3.6/site-packages/sklearn/preprocessing/label.py:219: DataConversionWarning: A column-vector y was passed when a 1d array was expected. Please change the shape of y to (n_samples, ), for example using ravel().\n",
      "  y = column_or_1d(y, warn=True)\n",
      "/home/osboxes/anaconda3/envs/data/lib/python3.6/site-packages/sklearn/preprocessing/label.py:252: DataConversionWarning: A column-vector y was passed when a 1d array was expected. Please change the shape of y to (n_samples, ), for example using ravel().\n",
      "  y = column_or_1d(y, warn=True)\n"
     ]
    },
    {
     "name": "stdout",
     "output_type": "stream",
     "text": [
      "(10992, 1)\n",
      "(10992, 1)\n"
     ]
    },
    {
     "name": "stderr",
     "output_type": "stream",
     "text": [
      "/home/osboxes/anaconda3/envs/data/lib/python3.6/site-packages/sklearn/preprocessing/label.py:219: DataConversionWarning: A column-vector y was passed when a 1d array was expected. Please change the shape of y to (n_samples, ), for example using ravel().\n",
      "  y = column_or_1d(y, warn=True)\n",
      "/home/osboxes/anaconda3/envs/data/lib/python3.6/site-packages/sklearn/preprocessing/label.py:252: DataConversionWarning: A column-vector y was passed when a 1d array was expected. Please change the shape of y to (n_samples, ), for example using ravel().\n",
      "  y = column_or_1d(y, warn=True)\n"
     ]
    },
    {
     "name": "stdout",
     "output_type": "stream",
     "text": [
      "(10992, 1)\n",
      "(10992, 1)\n"
     ]
    },
    {
     "name": "stderr",
     "output_type": "stream",
     "text": [
      "/home/osboxes/anaconda3/envs/data/lib/python3.6/site-packages/sklearn/preprocessing/label.py:219: DataConversionWarning: A column-vector y was passed when a 1d array was expected. Please change the shape of y to (n_samples, ), for example using ravel().\n",
      "  y = column_or_1d(y, warn=True)\n",
      "/home/osboxes/anaconda3/envs/data/lib/python3.6/site-packages/sklearn/preprocessing/label.py:252: DataConversionWarning: A column-vector y was passed when a 1d array was expected. Please change the shape of y to (n_samples, ), for example using ravel().\n",
      "  y = column_or_1d(y, warn=True)\n"
     ]
    },
    {
     "name": "stdout",
     "output_type": "stream",
     "text": [
      "(10992, 1)\n",
      "(10992, 1)\n"
     ]
    },
    {
     "name": "stderr",
     "output_type": "stream",
     "text": [
      "/home/osboxes/anaconda3/envs/data/lib/python3.6/site-packages/sklearn/preprocessing/label.py:219: DataConversionWarning: A column-vector y was passed when a 1d array was expected. Please change the shape of y to (n_samples, ), for example using ravel().\n",
      "  y = column_or_1d(y, warn=True)\n",
      "/home/osboxes/anaconda3/envs/data/lib/python3.6/site-packages/sklearn/preprocessing/label.py:252: DataConversionWarning: A column-vector y was passed when a 1d array was expected. Please change the shape of y to (n_samples, ), for example using ravel().\n",
      "  y = column_or_1d(y, warn=True)\n"
     ]
    },
    {
     "name": "stdout",
     "output_type": "stream",
     "text": [
      "(10992, 1)\n",
      "(10992, 1)\n"
     ]
    },
    {
     "name": "stderr",
     "output_type": "stream",
     "text": [
      "/home/osboxes/anaconda3/envs/data/lib/python3.6/site-packages/sklearn/preprocessing/label.py:219: DataConversionWarning: A column-vector y was passed when a 1d array was expected. Please change the shape of y to (n_samples, ), for example using ravel().\n",
      "  y = column_or_1d(y, warn=True)\n",
      "/home/osboxes/anaconda3/envs/data/lib/python3.6/site-packages/sklearn/preprocessing/label.py:252: DataConversionWarning: A column-vector y was passed when a 1d array was expected. Please change the shape of y to (n_samples, ), for example using ravel().\n",
      "  y = column_or_1d(y, warn=True)\n"
     ]
    },
    {
     "name": "stdout",
     "output_type": "stream",
     "text": [
      "(10992, 1)\n",
      "(10992, 1)\n"
     ]
    },
    {
     "name": "stderr",
     "output_type": "stream",
     "text": [
      "/home/osboxes/anaconda3/envs/data/lib/python3.6/site-packages/sklearn/preprocessing/label.py:219: DataConversionWarning: A column-vector y was passed when a 1d array was expected. Please change the shape of y to (n_samples, ), for example using ravel().\n",
      "  y = column_or_1d(y, warn=True)\n",
      "/home/osboxes/anaconda3/envs/data/lib/python3.6/site-packages/sklearn/preprocessing/label.py:252: DataConversionWarning: A column-vector y was passed when a 1d array was expected. Please change the shape of y to (n_samples, ), for example using ravel().\n",
      "  y = column_or_1d(y, warn=True)\n"
     ]
    },
    {
     "name": "stdout",
     "output_type": "stream",
     "text": [
      "(10992, 1)\n",
      "(10992, 1)\n"
     ]
    },
    {
     "name": "stderr",
     "output_type": "stream",
     "text": [
      "/home/osboxes/anaconda3/envs/data/lib/python3.6/site-packages/sklearn/preprocessing/label.py:219: DataConversionWarning: A column-vector y was passed when a 1d array was expected. Please change the shape of y to (n_samples, ), for example using ravel().\n",
      "  y = column_or_1d(y, warn=True)\n",
      "/home/osboxes/anaconda3/envs/data/lib/python3.6/site-packages/sklearn/preprocessing/label.py:252: DataConversionWarning: A column-vector y was passed when a 1d array was expected. Please change the shape of y to (n_samples, ), for example using ravel().\n",
      "  y = column_or_1d(y, warn=True)\n"
     ]
    },
    {
     "name": "stdout",
     "output_type": "stream",
     "text": [
      "(10992, 1)\n",
      "(10992, 1)\n"
     ]
    },
    {
     "name": "stderr",
     "output_type": "stream",
     "text": [
      "/home/osboxes/anaconda3/envs/data/lib/python3.6/site-packages/sklearn/preprocessing/label.py:219: DataConversionWarning: A column-vector y was passed when a 1d array was expected. Please change the shape of y to (n_samples, ), for example using ravel().\n",
      "  y = column_or_1d(y, warn=True)\n",
      "/home/osboxes/anaconda3/envs/data/lib/python3.6/site-packages/sklearn/preprocessing/label.py:252: DataConversionWarning: A column-vector y was passed when a 1d array was expected. Please change the shape of y to (n_samples, ), for example using ravel().\n",
      "  y = column_or_1d(y, warn=True)\n"
     ]
    },
    {
     "name": "stdout",
     "output_type": "stream",
     "text": [
      "(10992, 1)\n",
      "(10992, 1)\n"
     ]
    },
    {
     "name": "stderr",
     "output_type": "stream",
     "text": [
      "/home/osboxes/anaconda3/envs/data/lib/python3.6/site-packages/sklearn/preprocessing/label.py:219: DataConversionWarning: A column-vector y was passed when a 1d array was expected. Please change the shape of y to (n_samples, ), for example using ravel().\n",
      "  y = column_or_1d(y, warn=True)\n",
      "/home/osboxes/anaconda3/envs/data/lib/python3.6/site-packages/sklearn/preprocessing/label.py:252: DataConversionWarning: A column-vector y was passed when a 1d array was expected. Please change the shape of y to (n_samples, ), for example using ravel().\n",
      "  y = column_or_1d(y, warn=True)\n"
     ]
    },
    {
     "name": "stdout",
     "output_type": "stream",
     "text": [
      "(10992, 1)\n",
      "(10992, 1)\n"
     ]
    },
    {
     "name": "stderr",
     "output_type": "stream",
     "text": [
      "/home/osboxes/anaconda3/envs/data/lib/python3.6/site-packages/sklearn/preprocessing/label.py:219: DataConversionWarning: A column-vector y was passed when a 1d array was expected. Please change the shape of y to (n_samples, ), for example using ravel().\n",
      "  y = column_or_1d(y, warn=True)\n",
      "/home/osboxes/anaconda3/envs/data/lib/python3.6/site-packages/sklearn/preprocessing/label.py:252: DataConversionWarning: A column-vector y was passed when a 1d array was expected. Please change the shape of y to (n_samples, ), for example using ravel().\n",
      "  y = column_or_1d(y, warn=True)\n"
     ]
    },
    {
     "name": "stdout",
     "output_type": "stream",
     "text": [
      "(10992, 1)\n",
      "(10992, 1)\n"
     ]
    },
    {
     "name": "stderr",
     "output_type": "stream",
     "text": [
      "/home/osboxes/anaconda3/envs/data/lib/python3.6/site-packages/sklearn/preprocessing/label.py:219: DataConversionWarning: A column-vector y was passed when a 1d array was expected. Please change the shape of y to (n_samples, ), for example using ravel().\n",
      "  y = column_or_1d(y, warn=True)\n",
      "/home/osboxes/anaconda3/envs/data/lib/python3.6/site-packages/sklearn/preprocessing/label.py:252: DataConversionWarning: A column-vector y was passed when a 1d array was expected. Please change the shape of y to (n_samples, ), for example using ravel().\n",
      "  y = column_or_1d(y, warn=True)\n"
     ]
    },
    {
     "name": "stdout",
     "output_type": "stream",
     "text": [
      "(10992, 1)\n",
      "(10992, 1)\n"
     ]
    },
    {
     "name": "stderr",
     "output_type": "stream",
     "text": [
      "/home/osboxes/anaconda3/envs/data/lib/python3.6/site-packages/sklearn/preprocessing/label.py:219: DataConversionWarning: A column-vector y was passed when a 1d array was expected. Please change the shape of y to (n_samples, ), for example using ravel().\n",
      "  y = column_or_1d(y, warn=True)\n",
      "/home/osboxes/anaconda3/envs/data/lib/python3.6/site-packages/sklearn/preprocessing/label.py:252: DataConversionWarning: A column-vector y was passed when a 1d array was expected. Please change the shape of y to (n_samples, ), for example using ravel().\n",
      "  y = column_or_1d(y, warn=True)\n"
     ]
    },
    {
     "name": "stdout",
     "output_type": "stream",
     "text": [
      "(10992, 1)\n",
      "(10992, 1)\n"
     ]
    },
    {
     "name": "stderr",
     "output_type": "stream",
     "text": [
      "/home/osboxes/anaconda3/envs/data/lib/python3.6/site-packages/sklearn/preprocessing/label.py:219: DataConversionWarning: A column-vector y was passed when a 1d array was expected. Please change the shape of y to (n_samples, ), for example using ravel().\n",
      "  y = column_or_1d(y, warn=True)\n",
      "/home/osboxes/anaconda3/envs/data/lib/python3.6/site-packages/sklearn/preprocessing/label.py:252: DataConversionWarning: A column-vector y was passed when a 1d array was expected. Please change the shape of y to (n_samples, ), for example using ravel().\n",
      "  y = column_or_1d(y, warn=True)\n"
     ]
    },
    {
     "name": "stdout",
     "output_type": "stream",
     "text": [
      "(10992, 1)\n",
      "(10992, 1)\n"
     ]
    },
    {
     "name": "stderr",
     "output_type": "stream",
     "text": [
      "/home/osboxes/anaconda3/envs/data/lib/python3.6/site-packages/sklearn/preprocessing/label.py:219: DataConversionWarning: A column-vector y was passed when a 1d array was expected. Please change the shape of y to (n_samples, ), for example using ravel().\n",
      "  y = column_or_1d(y, warn=True)\n",
      "/home/osboxes/anaconda3/envs/data/lib/python3.6/site-packages/sklearn/preprocessing/label.py:252: DataConversionWarning: A column-vector y was passed when a 1d array was expected. Please change the shape of y to (n_samples, ), for example using ravel().\n",
      "  y = column_or_1d(y, warn=True)\n"
     ]
    },
    {
     "name": "stdout",
     "output_type": "stream",
     "text": [
      "(10992, 1)\n",
      "(10992, 1)\n"
     ]
    },
    {
     "name": "stderr",
     "output_type": "stream",
     "text": [
      "/home/osboxes/anaconda3/envs/data/lib/python3.6/site-packages/sklearn/preprocessing/label.py:219: DataConversionWarning: A column-vector y was passed when a 1d array was expected. Please change the shape of y to (n_samples, ), for example using ravel().\n",
      "  y = column_or_1d(y, warn=True)\n",
      "/home/osboxes/anaconda3/envs/data/lib/python3.6/site-packages/sklearn/preprocessing/label.py:252: DataConversionWarning: A column-vector y was passed when a 1d array was expected. Please change the shape of y to (n_samples, ), for example using ravel().\n",
      "  y = column_or_1d(y, warn=True)\n"
     ]
    },
    {
     "name": "stdout",
     "output_type": "stream",
     "text": [
      "(10992, 1)\n",
      "(10992, 1)\n"
     ]
    },
    {
     "name": "stderr",
     "output_type": "stream",
     "text": [
      "/home/osboxes/anaconda3/envs/data/lib/python3.6/site-packages/sklearn/preprocessing/label.py:219: DataConversionWarning: A column-vector y was passed when a 1d array was expected. Please change the shape of y to (n_samples, ), for example using ravel().\n",
      "  y = column_or_1d(y, warn=True)\n",
      "/home/osboxes/anaconda3/envs/data/lib/python3.6/site-packages/sklearn/preprocessing/label.py:252: DataConversionWarning: A column-vector y was passed when a 1d array was expected. Please change the shape of y to (n_samples, ), for example using ravel().\n",
      "  y = column_or_1d(y, warn=True)\n"
     ]
    },
    {
     "name": "stdout",
     "output_type": "stream",
     "text": [
      "(10992, 1)\n",
      "(10992, 1)\n"
     ]
    },
    {
     "name": "stderr",
     "output_type": "stream",
     "text": [
      "/home/osboxes/anaconda3/envs/data/lib/python3.6/site-packages/sklearn/preprocessing/label.py:219: DataConversionWarning: A column-vector y was passed when a 1d array was expected. Please change the shape of y to (n_samples, ), for example using ravel().\n",
      "  y = column_or_1d(y, warn=True)\n",
      "/home/osboxes/anaconda3/envs/data/lib/python3.6/site-packages/sklearn/preprocessing/label.py:252: DataConversionWarning: A column-vector y was passed when a 1d array was expected. Please change the shape of y to (n_samples, ), for example using ravel().\n",
      "  y = column_or_1d(y, warn=True)\n"
     ]
    },
    {
     "name": "stdout",
     "output_type": "stream",
     "text": [
      "(10992, 1)\n",
      "(10992, 1)\n"
     ]
    },
    {
     "name": "stderr",
     "output_type": "stream",
     "text": [
      "/home/osboxes/anaconda3/envs/data/lib/python3.6/site-packages/sklearn/preprocessing/label.py:219: DataConversionWarning: A column-vector y was passed when a 1d array was expected. Please change the shape of y to (n_samples, ), for example using ravel().\n",
      "  y = column_or_1d(y, warn=True)\n",
      "/home/osboxes/anaconda3/envs/data/lib/python3.6/site-packages/sklearn/preprocessing/label.py:252: DataConversionWarning: A column-vector y was passed when a 1d array was expected. Please change the shape of y to (n_samples, ), for example using ravel().\n",
      "  y = column_or_1d(y, warn=True)\n"
     ]
    },
    {
     "name": "stdout",
     "output_type": "stream",
     "text": [
      "(10992, 1)\n",
      "(10992, 1)\n"
     ]
    },
    {
     "name": "stderr",
     "output_type": "stream",
     "text": [
      "/home/osboxes/anaconda3/envs/data/lib/python3.6/site-packages/sklearn/preprocessing/label.py:219: DataConversionWarning: A column-vector y was passed when a 1d array was expected. Please change the shape of y to (n_samples, ), for example using ravel().\n",
      "  y = column_or_1d(y, warn=True)\n",
      "/home/osboxes/anaconda3/envs/data/lib/python3.6/site-packages/sklearn/preprocessing/label.py:252: DataConversionWarning: A column-vector y was passed when a 1d array was expected. Please change the shape of y to (n_samples, ), for example using ravel().\n",
      "  y = column_or_1d(y, warn=True)\n"
     ]
    },
    {
     "name": "stdout",
     "output_type": "stream",
     "text": [
      "(10992, 1)\n",
      "(10992, 1)\n"
     ]
    },
    {
     "name": "stderr",
     "output_type": "stream",
     "text": [
      "/home/osboxes/anaconda3/envs/data/lib/python3.6/site-packages/sklearn/preprocessing/label.py:219: DataConversionWarning: A column-vector y was passed when a 1d array was expected. Please change the shape of y to (n_samples, ), for example using ravel().\n",
      "  y = column_or_1d(y, warn=True)\n",
      "/home/osboxes/anaconda3/envs/data/lib/python3.6/site-packages/sklearn/preprocessing/label.py:252: DataConversionWarning: A column-vector y was passed when a 1d array was expected. Please change the shape of y to (n_samples, ), for example using ravel().\n",
      "  y = column_or_1d(y, warn=True)\n"
     ]
    },
    {
     "name": "stdout",
     "output_type": "stream",
     "text": [
      "(10992, 1)\n",
      "(10992, 1)\n"
     ]
    },
    {
     "name": "stderr",
     "output_type": "stream",
     "text": [
      "/home/osboxes/anaconda3/envs/data/lib/python3.6/site-packages/sklearn/preprocessing/label.py:219: DataConversionWarning: A column-vector y was passed when a 1d array was expected. Please change the shape of y to (n_samples, ), for example using ravel().\n",
      "  y = column_or_1d(y, warn=True)\n",
      "/home/osboxes/anaconda3/envs/data/lib/python3.6/site-packages/sklearn/preprocessing/label.py:252: DataConversionWarning: A column-vector y was passed when a 1d array was expected. Please change the shape of y to (n_samples, ), for example using ravel().\n",
      "  y = column_or_1d(y, warn=True)\n"
     ]
    },
    {
     "name": "stdout",
     "output_type": "stream",
     "text": [
      "(10992, 1)\n",
      "(10992, 1)\n"
     ]
    },
    {
     "name": "stderr",
     "output_type": "stream",
     "text": [
      "/home/osboxes/anaconda3/envs/data/lib/python3.6/site-packages/sklearn/preprocessing/label.py:219: DataConversionWarning: A column-vector y was passed when a 1d array was expected. Please change the shape of y to (n_samples, ), for example using ravel().\n",
      "  y = column_or_1d(y, warn=True)\n",
      "/home/osboxes/anaconda3/envs/data/lib/python3.6/site-packages/sklearn/preprocessing/label.py:252: DataConversionWarning: A column-vector y was passed when a 1d array was expected. Please change the shape of y to (n_samples, ), for example using ravel().\n",
      "  y = column_or_1d(y, warn=True)\n"
     ]
    },
    {
     "name": "stdout",
     "output_type": "stream",
     "text": [
      "(10992, 1)\n",
      "(10992, 1)\n"
     ]
    },
    {
     "name": "stderr",
     "output_type": "stream",
     "text": [
      "/home/osboxes/anaconda3/envs/data/lib/python3.6/site-packages/sklearn/preprocessing/label.py:219: DataConversionWarning: A column-vector y was passed when a 1d array was expected. Please change the shape of y to (n_samples, ), for example using ravel().\n",
      "  y = column_or_1d(y, warn=True)\n",
      "/home/osboxes/anaconda3/envs/data/lib/python3.6/site-packages/sklearn/preprocessing/label.py:252: DataConversionWarning: A column-vector y was passed when a 1d array was expected. Please change the shape of y to (n_samples, ), for example using ravel().\n",
      "  y = column_or_1d(y, warn=True)\n"
     ]
    },
    {
     "name": "stdout",
     "output_type": "stream",
     "text": [
      "(10992, 1)\n",
      "(10992, 1)\n"
     ]
    },
    {
     "name": "stderr",
     "output_type": "stream",
     "text": [
      "/home/osboxes/anaconda3/envs/data/lib/python3.6/site-packages/sklearn/preprocessing/label.py:219: DataConversionWarning: A column-vector y was passed when a 1d array was expected. Please change the shape of y to (n_samples, ), for example using ravel().\n",
      "  y = column_or_1d(y, warn=True)\n",
      "/home/osboxes/anaconda3/envs/data/lib/python3.6/site-packages/sklearn/preprocessing/label.py:252: DataConversionWarning: A column-vector y was passed when a 1d array was expected. Please change the shape of y to (n_samples, ), for example using ravel().\n",
      "  y = column_or_1d(y, warn=True)\n"
     ]
    },
    {
     "name": "stdout",
     "output_type": "stream",
     "text": [
      "(10992, 1)\n",
      "(10992, 1)\n"
     ]
    },
    {
     "name": "stderr",
     "output_type": "stream",
     "text": [
      "/home/osboxes/anaconda3/envs/data/lib/python3.6/site-packages/sklearn/preprocessing/label.py:219: DataConversionWarning: A column-vector y was passed when a 1d array was expected. Please change the shape of y to (n_samples, ), for example using ravel().\n",
      "  y = column_or_1d(y, warn=True)\n",
      "/home/osboxes/anaconda3/envs/data/lib/python3.6/site-packages/sklearn/preprocessing/label.py:252: DataConversionWarning: A column-vector y was passed when a 1d array was expected. Please change the shape of y to (n_samples, ), for example using ravel().\n",
      "  y = column_or_1d(y, warn=True)\n"
     ]
    },
    {
     "name": "stdout",
     "output_type": "stream",
     "text": [
      "(10992, 1)\n",
      "(10992, 1)\n"
     ]
    },
    {
     "name": "stderr",
     "output_type": "stream",
     "text": [
      "/home/osboxes/anaconda3/envs/data/lib/python3.6/site-packages/sklearn/preprocessing/label.py:219: DataConversionWarning: A column-vector y was passed when a 1d array was expected. Please change the shape of y to (n_samples, ), for example using ravel().\n",
      "  y = column_or_1d(y, warn=True)\n",
      "/home/osboxes/anaconda3/envs/data/lib/python3.6/site-packages/sklearn/preprocessing/label.py:252: DataConversionWarning: A column-vector y was passed when a 1d array was expected. Please change the shape of y to (n_samples, ), for example using ravel().\n",
      "  y = column_or_1d(y, warn=True)\n"
     ]
    },
    {
     "name": "stdout",
     "output_type": "stream",
     "text": [
      "(10992, 1)\n",
      "(10992, 1)\n"
     ]
    },
    {
     "name": "stderr",
     "output_type": "stream",
     "text": [
      "/home/osboxes/anaconda3/envs/data/lib/python3.6/site-packages/sklearn/preprocessing/label.py:219: DataConversionWarning: A column-vector y was passed when a 1d array was expected. Please change the shape of y to (n_samples, ), for example using ravel().\n",
      "  y = column_or_1d(y, warn=True)\n",
      "/home/osboxes/anaconda3/envs/data/lib/python3.6/site-packages/sklearn/preprocessing/label.py:252: DataConversionWarning: A column-vector y was passed when a 1d array was expected. Please change the shape of y to (n_samples, ), for example using ravel().\n",
      "  y = column_or_1d(y, warn=True)\n"
     ]
    },
    {
     "name": "stdout",
     "output_type": "stream",
     "text": [
      "(10992, 1)\n",
      "(10992, 1)\n"
     ]
    },
    {
     "name": "stderr",
     "output_type": "stream",
     "text": [
      "/home/osboxes/anaconda3/envs/data/lib/python3.6/site-packages/sklearn/preprocessing/label.py:219: DataConversionWarning: A column-vector y was passed when a 1d array was expected. Please change the shape of y to (n_samples, ), for example using ravel().\n",
      "  y = column_or_1d(y, warn=True)\n",
      "/home/osboxes/anaconda3/envs/data/lib/python3.6/site-packages/sklearn/preprocessing/label.py:252: DataConversionWarning: A column-vector y was passed when a 1d array was expected. Please change the shape of y to (n_samples, ), for example using ravel().\n",
      "  y = column_or_1d(y, warn=True)\n"
     ]
    },
    {
     "name": "stdout",
     "output_type": "stream",
     "text": [
      "(10992, 1)\n",
      "(10992, 1)\n"
     ]
    },
    {
     "name": "stderr",
     "output_type": "stream",
     "text": [
      "/home/osboxes/anaconda3/envs/data/lib/python3.6/site-packages/sklearn/preprocessing/label.py:219: DataConversionWarning: A column-vector y was passed when a 1d array was expected. Please change the shape of y to (n_samples, ), for example using ravel().\n",
      "  y = column_or_1d(y, warn=True)\n",
      "/home/osboxes/anaconda3/envs/data/lib/python3.6/site-packages/sklearn/preprocessing/label.py:252: DataConversionWarning: A column-vector y was passed when a 1d array was expected. Please change the shape of y to (n_samples, ), for example using ravel().\n",
      "  y = column_or_1d(y, warn=True)\n"
     ]
    },
    {
     "name": "stdout",
     "output_type": "stream",
     "text": [
      "(10992, 1)\n",
      "(10992, 1)\n"
     ]
    },
    {
     "name": "stderr",
     "output_type": "stream",
     "text": [
      "/home/osboxes/anaconda3/envs/data/lib/python3.6/site-packages/sklearn/preprocessing/label.py:219: DataConversionWarning: A column-vector y was passed when a 1d array was expected. Please change the shape of y to (n_samples, ), for example using ravel().\n",
      "  y = column_or_1d(y, warn=True)\n",
      "/home/osboxes/anaconda3/envs/data/lib/python3.6/site-packages/sklearn/preprocessing/label.py:252: DataConversionWarning: A column-vector y was passed when a 1d array was expected. Please change the shape of y to (n_samples, ), for example using ravel().\n",
      "  y = column_or_1d(y, warn=True)\n"
     ]
    },
    {
     "name": "stdout",
     "output_type": "stream",
     "text": [
      "(10992, 1)\n",
      "(10992, 1)\n"
     ]
    },
    {
     "name": "stderr",
     "output_type": "stream",
     "text": [
      "/home/osboxes/anaconda3/envs/data/lib/python3.6/site-packages/sklearn/preprocessing/label.py:219: DataConversionWarning: A column-vector y was passed when a 1d array was expected. Please change the shape of y to (n_samples, ), for example using ravel().\n",
      "  y = column_or_1d(y, warn=True)\n",
      "/home/osboxes/anaconda3/envs/data/lib/python3.6/site-packages/sklearn/preprocessing/label.py:252: DataConversionWarning: A column-vector y was passed when a 1d array was expected. Please change the shape of y to (n_samples, ), for example using ravel().\n",
      "  y = column_or_1d(y, warn=True)\n"
     ]
    },
    {
     "name": "stdout",
     "output_type": "stream",
     "text": [
      "(10992, 1)\n",
      "(10992, 1)\n"
     ]
    },
    {
     "name": "stderr",
     "output_type": "stream",
     "text": [
      "/home/osboxes/anaconda3/envs/data/lib/python3.6/site-packages/sklearn/preprocessing/label.py:219: DataConversionWarning: A column-vector y was passed when a 1d array was expected. Please change the shape of y to (n_samples, ), for example using ravel().\n",
      "  y = column_or_1d(y, warn=True)\n",
      "/home/osboxes/anaconda3/envs/data/lib/python3.6/site-packages/sklearn/preprocessing/label.py:252: DataConversionWarning: A column-vector y was passed when a 1d array was expected. Please change the shape of y to (n_samples, ), for example using ravel().\n",
      "  y = column_or_1d(y, warn=True)\n"
     ]
    },
    {
     "name": "stdout",
     "output_type": "stream",
     "text": [
      "(10992, 1)\n",
      "(10992, 1)\n"
     ]
    },
    {
     "name": "stderr",
     "output_type": "stream",
     "text": [
      "/home/osboxes/anaconda3/envs/data/lib/python3.6/site-packages/sklearn/preprocessing/label.py:219: DataConversionWarning: A column-vector y was passed when a 1d array was expected. Please change the shape of y to (n_samples, ), for example using ravel().\n",
      "  y = column_or_1d(y, warn=True)\n",
      "/home/osboxes/anaconda3/envs/data/lib/python3.6/site-packages/sklearn/preprocessing/label.py:252: DataConversionWarning: A column-vector y was passed when a 1d array was expected. Please change the shape of y to (n_samples, ), for example using ravel().\n",
      "  y = column_or_1d(y, warn=True)\n"
     ]
    },
    {
     "name": "stdout",
     "output_type": "stream",
     "text": [
      "(10992, 1)\n",
      "(10992, 1)\n"
     ]
    },
    {
     "name": "stderr",
     "output_type": "stream",
     "text": [
      "/home/osboxes/anaconda3/envs/data/lib/python3.6/site-packages/sklearn/preprocessing/label.py:219: DataConversionWarning: A column-vector y was passed when a 1d array was expected. Please change the shape of y to (n_samples, ), for example using ravel().\n",
      "  y = column_or_1d(y, warn=True)\n",
      "/home/osboxes/anaconda3/envs/data/lib/python3.6/site-packages/sklearn/preprocessing/label.py:252: DataConversionWarning: A column-vector y was passed when a 1d array was expected. Please change the shape of y to (n_samples, ), for example using ravel().\n",
      "  y = column_or_1d(y, warn=True)\n"
     ]
    },
    {
     "name": "stdout",
     "output_type": "stream",
     "text": [
      "(10992, 1)\n",
      "(10992, 1)\n"
     ]
    },
    {
     "name": "stderr",
     "output_type": "stream",
     "text": [
      "/home/osboxes/anaconda3/envs/data/lib/python3.6/site-packages/sklearn/preprocessing/label.py:219: DataConversionWarning: A column-vector y was passed when a 1d array was expected. Please change the shape of y to (n_samples, ), for example using ravel().\n",
      "  y = column_or_1d(y, warn=True)\n",
      "/home/osboxes/anaconda3/envs/data/lib/python3.6/site-packages/sklearn/preprocessing/label.py:252: DataConversionWarning: A column-vector y was passed when a 1d array was expected. Please change the shape of y to (n_samples, ), for example using ravel().\n",
      "  y = column_or_1d(y, warn=True)\n"
     ]
    },
    {
     "name": "stdout",
     "output_type": "stream",
     "text": [
      "(10992, 1)\n",
      "(10992, 1)\n"
     ]
    },
    {
     "name": "stderr",
     "output_type": "stream",
     "text": [
      "/home/osboxes/anaconda3/envs/data/lib/python3.6/site-packages/sklearn/preprocessing/label.py:219: DataConversionWarning: A column-vector y was passed when a 1d array was expected. Please change the shape of y to (n_samples, ), for example using ravel().\n",
      "  y = column_or_1d(y, warn=True)\n",
      "/home/osboxes/anaconda3/envs/data/lib/python3.6/site-packages/sklearn/preprocessing/label.py:252: DataConversionWarning: A column-vector y was passed when a 1d array was expected. Please change the shape of y to (n_samples, ), for example using ravel().\n",
      "  y = column_or_1d(y, warn=True)\n"
     ]
    },
    {
     "name": "stdout",
     "output_type": "stream",
     "text": [
      "(10992, 1)\n",
      "(10992, 1)\n"
     ]
    },
    {
     "name": "stderr",
     "output_type": "stream",
     "text": [
      "/home/osboxes/anaconda3/envs/data/lib/python3.6/site-packages/sklearn/preprocessing/label.py:219: DataConversionWarning: A column-vector y was passed when a 1d array was expected. Please change the shape of y to (n_samples, ), for example using ravel().\n",
      "  y = column_or_1d(y, warn=True)\n",
      "/home/osboxes/anaconda3/envs/data/lib/python3.6/site-packages/sklearn/preprocessing/label.py:252: DataConversionWarning: A column-vector y was passed when a 1d array was expected. Please change the shape of y to (n_samples, ), for example using ravel().\n",
      "  y = column_or_1d(y, warn=True)\n"
     ]
    },
    {
     "name": "stdout",
     "output_type": "stream",
     "text": [
      "(10992, 1)\n",
      "(10992, 1)\n"
     ]
    },
    {
     "name": "stderr",
     "output_type": "stream",
     "text": [
      "/home/osboxes/anaconda3/envs/data/lib/python3.6/site-packages/sklearn/preprocessing/label.py:219: DataConversionWarning: A column-vector y was passed when a 1d array was expected. Please change the shape of y to (n_samples, ), for example using ravel().\n",
      "  y = column_or_1d(y, warn=True)\n",
      "/home/osboxes/anaconda3/envs/data/lib/python3.6/site-packages/sklearn/preprocessing/label.py:252: DataConversionWarning: A column-vector y was passed when a 1d array was expected. Please change the shape of y to (n_samples, ), for example using ravel().\n",
      "  y = column_or_1d(y, warn=True)\n"
     ]
    },
    {
     "name": "stdout",
     "output_type": "stream",
     "text": [
      "(10992, 1)\n",
      "(10992, 1)\n"
     ]
    },
    {
     "name": "stderr",
     "output_type": "stream",
     "text": [
      "/home/osboxes/anaconda3/envs/data/lib/python3.6/site-packages/sklearn/preprocessing/label.py:219: DataConversionWarning: A column-vector y was passed when a 1d array was expected. Please change the shape of y to (n_samples, ), for example using ravel().\n",
      "  y = column_or_1d(y, warn=True)\n",
      "/home/osboxes/anaconda3/envs/data/lib/python3.6/site-packages/sklearn/preprocessing/label.py:252: DataConversionWarning: A column-vector y was passed when a 1d array was expected. Please change the shape of y to (n_samples, ), for example using ravel().\n",
      "  y = column_or_1d(y, warn=True)\n"
     ]
    },
    {
     "name": "stdout",
     "output_type": "stream",
     "text": [
      "(10992, 1)\n",
      "(10992, 1)\n"
     ]
    },
    {
     "name": "stderr",
     "output_type": "stream",
     "text": [
      "/home/osboxes/anaconda3/envs/data/lib/python3.6/site-packages/sklearn/preprocessing/label.py:219: DataConversionWarning: A column-vector y was passed when a 1d array was expected. Please change the shape of y to (n_samples, ), for example using ravel().\n",
      "  y = column_or_1d(y, warn=True)\n",
      "/home/osboxes/anaconda3/envs/data/lib/python3.6/site-packages/sklearn/preprocessing/label.py:252: DataConversionWarning: A column-vector y was passed when a 1d array was expected. Please change the shape of y to (n_samples, ), for example using ravel().\n",
      "  y = column_or_1d(y, warn=True)\n"
     ]
    },
    {
     "name": "stdout",
     "output_type": "stream",
     "text": [
      "(10992, 1)\n",
      "(10992, 1)\n"
     ]
    },
    {
     "name": "stderr",
     "output_type": "stream",
     "text": [
      "/home/osboxes/anaconda3/envs/data/lib/python3.6/site-packages/sklearn/preprocessing/label.py:219: DataConversionWarning: A column-vector y was passed when a 1d array was expected. Please change the shape of y to (n_samples, ), for example using ravel().\n",
      "  y = column_or_1d(y, warn=True)\n",
      "/home/osboxes/anaconda3/envs/data/lib/python3.6/site-packages/sklearn/preprocessing/label.py:252: DataConversionWarning: A column-vector y was passed when a 1d array was expected. Please change the shape of y to (n_samples, ), for example using ravel().\n",
      "  y = column_or_1d(y, warn=True)\n"
     ]
    },
    {
     "name": "stdout",
     "output_type": "stream",
     "text": [
      "(10992, 1)\n",
      "(10992, 1)\n"
     ]
    },
    {
     "name": "stderr",
     "output_type": "stream",
     "text": [
      "/home/osboxes/anaconda3/envs/data/lib/python3.6/site-packages/sklearn/preprocessing/label.py:219: DataConversionWarning: A column-vector y was passed when a 1d array was expected. Please change the shape of y to (n_samples, ), for example using ravel().\n",
      "  y = column_or_1d(y, warn=True)\n",
      "/home/osboxes/anaconda3/envs/data/lib/python3.6/site-packages/sklearn/preprocessing/label.py:252: DataConversionWarning: A column-vector y was passed when a 1d array was expected. Please change the shape of y to (n_samples, ), for example using ravel().\n",
      "  y = column_or_1d(y, warn=True)\n"
     ]
    },
    {
     "name": "stdout",
     "output_type": "stream",
     "text": [
      "(10992, 1)\n",
      "(10992, 1)\n"
     ]
    },
    {
     "name": "stderr",
     "output_type": "stream",
     "text": [
      "/home/osboxes/anaconda3/envs/data/lib/python3.6/site-packages/sklearn/preprocessing/label.py:219: DataConversionWarning: A column-vector y was passed when a 1d array was expected. Please change the shape of y to (n_samples, ), for example using ravel().\n",
      "  y = column_or_1d(y, warn=True)\n",
      "/home/osboxes/anaconda3/envs/data/lib/python3.6/site-packages/sklearn/preprocessing/label.py:252: DataConversionWarning: A column-vector y was passed when a 1d array was expected. Please change the shape of y to (n_samples, ), for example using ravel().\n",
      "  y = column_or_1d(y, warn=True)\n"
     ]
    },
    {
     "name": "stdout",
     "output_type": "stream",
     "text": [
      "(10992, 1)\n",
      "(10992, 1)\n"
     ]
    },
    {
     "name": "stderr",
     "output_type": "stream",
     "text": [
      "/home/osboxes/anaconda3/envs/data/lib/python3.6/site-packages/sklearn/preprocessing/label.py:219: DataConversionWarning: A column-vector y was passed when a 1d array was expected. Please change the shape of y to (n_samples, ), for example using ravel().\n",
      "  y = column_or_1d(y, warn=True)\n",
      "/home/osboxes/anaconda3/envs/data/lib/python3.6/site-packages/sklearn/preprocessing/label.py:252: DataConversionWarning: A column-vector y was passed when a 1d array was expected. Please change the shape of y to (n_samples, ), for example using ravel().\n",
      "  y = column_or_1d(y, warn=True)\n"
     ]
    },
    {
     "name": "stdout",
     "output_type": "stream",
     "text": [
      "(10992, 1)\n",
      "(10992, 1)\n"
     ]
    },
    {
     "name": "stderr",
     "output_type": "stream",
     "text": [
      "/home/osboxes/anaconda3/envs/data/lib/python3.6/site-packages/sklearn/preprocessing/label.py:219: DataConversionWarning: A column-vector y was passed when a 1d array was expected. Please change the shape of y to (n_samples, ), for example using ravel().\n",
      "  y = column_or_1d(y, warn=True)\n",
      "/home/osboxes/anaconda3/envs/data/lib/python3.6/site-packages/sklearn/preprocessing/label.py:252: DataConversionWarning: A column-vector y was passed when a 1d array was expected. Please change the shape of y to (n_samples, ), for example using ravel().\n",
      "  y = column_or_1d(y, warn=True)\n"
     ]
    },
    {
     "name": "stdout",
     "output_type": "stream",
     "text": [
      "(10992, 1)\n",
      "(10992, 1)\n"
     ]
    },
    {
     "name": "stderr",
     "output_type": "stream",
     "text": [
      "/home/osboxes/anaconda3/envs/data/lib/python3.6/site-packages/sklearn/preprocessing/label.py:219: DataConversionWarning: A column-vector y was passed when a 1d array was expected. Please change the shape of y to (n_samples, ), for example using ravel().\n",
      "  y = column_or_1d(y, warn=True)\n",
      "/home/osboxes/anaconda3/envs/data/lib/python3.6/site-packages/sklearn/preprocessing/label.py:252: DataConversionWarning: A column-vector y was passed when a 1d array was expected. Please change the shape of y to (n_samples, ), for example using ravel().\n",
      "  y = column_or_1d(y, warn=True)\n"
     ]
    },
    {
     "name": "stdout",
     "output_type": "stream",
     "text": [
      "(10992, 1)\n",
      "(10992, 1)\n"
     ]
    },
    {
     "name": "stderr",
     "output_type": "stream",
     "text": [
      "/home/osboxes/anaconda3/envs/data/lib/python3.6/site-packages/sklearn/preprocessing/label.py:219: DataConversionWarning: A column-vector y was passed when a 1d array was expected. Please change the shape of y to (n_samples, ), for example using ravel().\n",
      "  y = column_or_1d(y, warn=True)\n",
      "/home/osboxes/anaconda3/envs/data/lib/python3.6/site-packages/sklearn/preprocessing/label.py:252: DataConversionWarning: A column-vector y was passed when a 1d array was expected. Please change the shape of y to (n_samples, ), for example using ravel().\n",
      "  y = column_or_1d(y, warn=True)\n"
     ]
    },
    {
     "name": "stdout",
     "output_type": "stream",
     "text": [
      "(10992, 1)\n",
      "(10992, 1)\n"
     ]
    },
    {
     "name": "stderr",
     "output_type": "stream",
     "text": [
      "/home/osboxes/anaconda3/envs/data/lib/python3.6/site-packages/sklearn/preprocessing/label.py:219: DataConversionWarning: A column-vector y was passed when a 1d array was expected. Please change the shape of y to (n_samples, ), for example using ravel().\n",
      "  y = column_or_1d(y, warn=True)\n",
      "/home/osboxes/anaconda3/envs/data/lib/python3.6/site-packages/sklearn/preprocessing/label.py:252: DataConversionWarning: A column-vector y was passed when a 1d array was expected. Please change the shape of y to (n_samples, ), for example using ravel().\n",
      "  y = column_or_1d(y, warn=True)\n"
     ]
    },
    {
     "name": "stdout",
     "output_type": "stream",
     "text": [
      "(10992, 1)\n",
      "(10992, 1)\n"
     ]
    },
    {
     "name": "stderr",
     "output_type": "stream",
     "text": [
      "/home/osboxes/anaconda3/envs/data/lib/python3.6/site-packages/sklearn/preprocessing/label.py:219: DataConversionWarning: A column-vector y was passed when a 1d array was expected. Please change the shape of y to (n_samples, ), for example using ravel().\n",
      "  y = column_or_1d(y, warn=True)\n",
      "/home/osboxes/anaconda3/envs/data/lib/python3.6/site-packages/sklearn/preprocessing/label.py:252: DataConversionWarning: A column-vector y was passed when a 1d array was expected. Please change the shape of y to (n_samples, ), for example using ravel().\n",
      "  y = column_or_1d(y, warn=True)\n"
     ]
    },
    {
     "name": "stdout",
     "output_type": "stream",
     "text": [
      "(10992, 1)\n",
      "(10992, 1)\n"
     ]
    },
    {
     "name": "stderr",
     "output_type": "stream",
     "text": [
      "/home/osboxes/anaconda3/envs/data/lib/python3.6/site-packages/sklearn/preprocessing/label.py:219: DataConversionWarning: A column-vector y was passed when a 1d array was expected. Please change the shape of y to (n_samples, ), for example using ravel().\n",
      "  y = column_or_1d(y, warn=True)\n",
      "/home/osboxes/anaconda3/envs/data/lib/python3.6/site-packages/sklearn/preprocessing/label.py:252: DataConversionWarning: A column-vector y was passed when a 1d array was expected. Please change the shape of y to (n_samples, ), for example using ravel().\n",
      "  y = column_or_1d(y, warn=True)\n"
     ]
    },
    {
     "name": "stdout",
     "output_type": "stream",
     "text": [
      "(10992, 1)\n",
      "(10992, 1)\n"
     ]
    },
    {
     "name": "stderr",
     "output_type": "stream",
     "text": [
      "/home/osboxes/anaconda3/envs/data/lib/python3.6/site-packages/sklearn/preprocessing/label.py:219: DataConversionWarning: A column-vector y was passed when a 1d array was expected. Please change the shape of y to (n_samples, ), for example using ravel().\n",
      "  y = column_or_1d(y, warn=True)\n",
      "/home/osboxes/anaconda3/envs/data/lib/python3.6/site-packages/sklearn/preprocessing/label.py:252: DataConversionWarning: A column-vector y was passed when a 1d array was expected. Please change the shape of y to (n_samples, ), for example using ravel().\n",
      "  y = column_or_1d(y, warn=True)\n"
     ]
    },
    {
     "name": "stdout",
     "output_type": "stream",
     "text": [
      "(10992, 1)\n",
      "(10992, 1)\n"
     ]
    },
    {
     "name": "stderr",
     "output_type": "stream",
     "text": [
      "/home/osboxes/anaconda3/envs/data/lib/python3.6/site-packages/sklearn/preprocessing/label.py:219: DataConversionWarning: A column-vector y was passed when a 1d array was expected. Please change the shape of y to (n_samples, ), for example using ravel().\n",
      "  y = column_or_1d(y, warn=True)\n",
      "/home/osboxes/anaconda3/envs/data/lib/python3.6/site-packages/sklearn/preprocessing/label.py:252: DataConversionWarning: A column-vector y was passed when a 1d array was expected. Please change the shape of y to (n_samples, ), for example using ravel().\n",
      "  y = column_or_1d(y, warn=True)\n"
     ]
    },
    {
     "name": "stdout",
     "output_type": "stream",
     "text": [
      "(10992, 1)\n",
      "(10992, 1)\n"
     ]
    },
    {
     "name": "stderr",
     "output_type": "stream",
     "text": [
      "/home/osboxes/anaconda3/envs/data/lib/python3.6/site-packages/sklearn/preprocessing/label.py:219: DataConversionWarning: A column-vector y was passed when a 1d array was expected. Please change the shape of y to (n_samples, ), for example using ravel().\n",
      "  y = column_or_1d(y, warn=True)\n",
      "/home/osboxes/anaconda3/envs/data/lib/python3.6/site-packages/sklearn/preprocessing/label.py:252: DataConversionWarning: A column-vector y was passed when a 1d array was expected. Please change the shape of y to (n_samples, ), for example using ravel().\n",
      "  y = column_or_1d(y, warn=True)\n"
     ]
    },
    {
     "name": "stdout",
     "output_type": "stream",
     "text": [
      "(10992, 1)\n",
      "(10992, 1)\n"
     ]
    },
    {
     "name": "stderr",
     "output_type": "stream",
     "text": [
      "/home/osboxes/anaconda3/envs/data/lib/python3.6/site-packages/sklearn/preprocessing/label.py:219: DataConversionWarning: A column-vector y was passed when a 1d array was expected. Please change the shape of y to (n_samples, ), for example using ravel().\n",
      "  y = column_or_1d(y, warn=True)\n",
      "/home/osboxes/anaconda3/envs/data/lib/python3.6/site-packages/sklearn/preprocessing/label.py:252: DataConversionWarning: A column-vector y was passed when a 1d array was expected. Please change the shape of y to (n_samples, ), for example using ravel().\n",
      "  y = column_or_1d(y, warn=True)\n"
     ]
    },
    {
     "name": "stdout",
     "output_type": "stream",
     "text": [
      "(10992, 1)\n",
      "(10992, 1)\n"
     ]
    },
    {
     "name": "stderr",
     "output_type": "stream",
     "text": [
      "/home/osboxes/anaconda3/envs/data/lib/python3.6/site-packages/sklearn/preprocessing/label.py:219: DataConversionWarning: A column-vector y was passed when a 1d array was expected. Please change the shape of y to (n_samples, ), for example using ravel().\n",
      "  y = column_or_1d(y, warn=True)\n",
      "/home/osboxes/anaconda3/envs/data/lib/python3.6/site-packages/sklearn/preprocessing/label.py:252: DataConversionWarning: A column-vector y was passed when a 1d array was expected. Please change the shape of y to (n_samples, ), for example using ravel().\n",
      "  y = column_or_1d(y, warn=True)\n"
     ]
    },
    {
     "name": "stdout",
     "output_type": "stream",
     "text": [
      "(10992, 1)\n",
      "(10992, 1)\n"
     ]
    },
    {
     "name": "stderr",
     "output_type": "stream",
     "text": [
      "/home/osboxes/anaconda3/envs/data/lib/python3.6/site-packages/sklearn/preprocessing/label.py:219: DataConversionWarning: A column-vector y was passed when a 1d array was expected. Please change the shape of y to (n_samples, ), for example using ravel().\n",
      "  y = column_or_1d(y, warn=True)\n",
      "/home/osboxes/anaconda3/envs/data/lib/python3.6/site-packages/sklearn/preprocessing/label.py:252: DataConversionWarning: A column-vector y was passed when a 1d array was expected. Please change the shape of y to (n_samples, ), for example using ravel().\n",
      "  y = column_or_1d(y, warn=True)\n"
     ]
    },
    {
     "name": "stdout",
     "output_type": "stream",
     "text": [
      "(10992, 1)\n",
      "(10992, 1)\n"
     ]
    },
    {
     "name": "stderr",
     "output_type": "stream",
     "text": [
      "/home/osboxes/anaconda3/envs/data/lib/python3.6/site-packages/sklearn/preprocessing/label.py:219: DataConversionWarning: A column-vector y was passed when a 1d array was expected. Please change the shape of y to (n_samples, ), for example using ravel().\n",
      "  y = column_or_1d(y, warn=True)\n",
      "/home/osboxes/anaconda3/envs/data/lib/python3.6/site-packages/sklearn/preprocessing/label.py:252: DataConversionWarning: A column-vector y was passed when a 1d array was expected. Please change the shape of y to (n_samples, ), for example using ravel().\n",
      "  y = column_or_1d(y, warn=True)\n"
     ]
    },
    {
     "name": "stdout",
     "output_type": "stream",
     "text": [
      "(10992, 1)\n",
      "(10992, 1)\n"
     ]
    },
    {
     "name": "stderr",
     "output_type": "stream",
     "text": [
      "/home/osboxes/anaconda3/envs/data/lib/python3.6/site-packages/sklearn/preprocessing/label.py:219: DataConversionWarning: A column-vector y was passed when a 1d array was expected. Please change the shape of y to (n_samples, ), for example using ravel().\n",
      "  y = column_or_1d(y, warn=True)\n",
      "/home/osboxes/anaconda3/envs/data/lib/python3.6/site-packages/sklearn/preprocessing/label.py:252: DataConversionWarning: A column-vector y was passed when a 1d array was expected. Please change the shape of y to (n_samples, ), for example using ravel().\n",
      "  y = column_or_1d(y, warn=True)\n"
     ]
    },
    {
     "name": "stdout",
     "output_type": "stream",
     "text": [
      "(10992, 1)\n",
      "(10992, 1)\n"
     ]
    },
    {
     "name": "stderr",
     "output_type": "stream",
     "text": [
      "/home/osboxes/anaconda3/envs/data/lib/python3.6/site-packages/sklearn/preprocessing/label.py:219: DataConversionWarning: A column-vector y was passed when a 1d array was expected. Please change the shape of y to (n_samples, ), for example using ravel().\n",
      "  y = column_or_1d(y, warn=True)\n",
      "/home/osboxes/anaconda3/envs/data/lib/python3.6/site-packages/sklearn/preprocessing/label.py:252: DataConversionWarning: A column-vector y was passed when a 1d array was expected. Please change the shape of y to (n_samples, ), for example using ravel().\n",
      "  y = column_or_1d(y, warn=True)\n"
     ]
    },
    {
     "name": "stdout",
     "output_type": "stream",
     "text": [
      "(10992, 1)\n",
      "(10992, 1)\n"
     ]
    },
    {
     "name": "stderr",
     "output_type": "stream",
     "text": [
      "/home/osboxes/anaconda3/envs/data/lib/python3.6/site-packages/sklearn/preprocessing/label.py:219: DataConversionWarning: A column-vector y was passed when a 1d array was expected. Please change the shape of y to (n_samples, ), for example using ravel().\n",
      "  y = column_or_1d(y, warn=True)\n",
      "/home/osboxes/anaconda3/envs/data/lib/python3.6/site-packages/sklearn/preprocessing/label.py:252: DataConversionWarning: A column-vector y was passed when a 1d array was expected. Please change the shape of y to (n_samples, ), for example using ravel().\n",
      "  y = column_or_1d(y, warn=True)\n"
     ]
    },
    {
     "name": "stdout",
     "output_type": "stream",
     "text": [
      "(10992, 1)\n",
      "(10992, 1)\n"
     ]
    },
    {
     "name": "stderr",
     "output_type": "stream",
     "text": [
      "/home/osboxes/anaconda3/envs/data/lib/python3.6/site-packages/sklearn/preprocessing/label.py:219: DataConversionWarning: A column-vector y was passed when a 1d array was expected. Please change the shape of y to (n_samples, ), for example using ravel().\n",
      "  y = column_or_1d(y, warn=True)\n",
      "/home/osboxes/anaconda3/envs/data/lib/python3.6/site-packages/sklearn/preprocessing/label.py:252: DataConversionWarning: A column-vector y was passed when a 1d array was expected. Please change the shape of y to (n_samples, ), for example using ravel().\n",
      "  y = column_or_1d(y, warn=True)\n"
     ]
    },
    {
     "name": "stdout",
     "output_type": "stream",
     "text": [
      "(10992, 1)\n",
      "(10992, 1)\n"
     ]
    },
    {
     "name": "stderr",
     "output_type": "stream",
     "text": [
      "/home/osboxes/anaconda3/envs/data/lib/python3.6/site-packages/sklearn/preprocessing/label.py:219: DataConversionWarning: A column-vector y was passed when a 1d array was expected. Please change the shape of y to (n_samples, ), for example using ravel().\n",
      "  y = column_or_1d(y, warn=True)\n",
      "/home/osboxes/anaconda3/envs/data/lib/python3.6/site-packages/sklearn/preprocessing/label.py:252: DataConversionWarning: A column-vector y was passed when a 1d array was expected. Please change the shape of y to (n_samples, ), for example using ravel().\n",
      "  y = column_or_1d(y, warn=True)\n"
     ]
    },
    {
     "name": "stdout",
     "output_type": "stream",
     "text": [
      "(10992, 1)\n",
      "(10992, 1)\n"
     ]
    },
    {
     "name": "stderr",
     "output_type": "stream",
     "text": [
      "/home/osboxes/anaconda3/envs/data/lib/python3.6/site-packages/sklearn/preprocessing/label.py:219: DataConversionWarning: A column-vector y was passed when a 1d array was expected. Please change the shape of y to (n_samples, ), for example using ravel().\n",
      "  y = column_or_1d(y, warn=True)\n",
      "/home/osboxes/anaconda3/envs/data/lib/python3.6/site-packages/sklearn/preprocessing/label.py:252: DataConversionWarning: A column-vector y was passed when a 1d array was expected. Please change the shape of y to (n_samples, ), for example using ravel().\n",
      "  y = column_or_1d(y, warn=True)\n"
     ]
    },
    {
     "name": "stdout",
     "output_type": "stream",
     "text": [
      "(10992, 1)\n",
      "(10992, 1)\n"
     ]
    },
    {
     "name": "stderr",
     "output_type": "stream",
     "text": [
      "/home/osboxes/anaconda3/envs/data/lib/python3.6/site-packages/sklearn/preprocessing/label.py:219: DataConversionWarning: A column-vector y was passed when a 1d array was expected. Please change the shape of y to (n_samples, ), for example using ravel().\n",
      "  y = column_or_1d(y, warn=True)\n",
      "/home/osboxes/anaconda3/envs/data/lib/python3.6/site-packages/sklearn/preprocessing/label.py:252: DataConversionWarning: A column-vector y was passed when a 1d array was expected. Please change the shape of y to (n_samples, ), for example using ravel().\n",
      "  y = column_or_1d(y, warn=True)\n"
     ]
    },
    {
     "name": "stdout",
     "output_type": "stream",
     "text": [
      "(10992, 1)\n",
      "(10992, 1)\n"
     ]
    },
    {
     "name": "stderr",
     "output_type": "stream",
     "text": [
      "/home/osboxes/anaconda3/envs/data/lib/python3.6/site-packages/sklearn/preprocessing/label.py:219: DataConversionWarning: A column-vector y was passed when a 1d array was expected. Please change the shape of y to (n_samples, ), for example using ravel().\n",
      "  y = column_or_1d(y, warn=True)\n",
      "/home/osboxes/anaconda3/envs/data/lib/python3.6/site-packages/sklearn/preprocessing/label.py:252: DataConversionWarning: A column-vector y was passed when a 1d array was expected. Please change the shape of y to (n_samples, ), for example using ravel().\n",
      "  y = column_or_1d(y, warn=True)\n"
     ]
    },
    {
     "name": "stdout",
     "output_type": "stream",
     "text": [
      "(10992, 1)\n",
      "(10992, 1)\n"
     ]
    },
    {
     "name": "stderr",
     "output_type": "stream",
     "text": [
      "/home/osboxes/anaconda3/envs/data/lib/python3.6/site-packages/sklearn/preprocessing/label.py:219: DataConversionWarning: A column-vector y was passed when a 1d array was expected. Please change the shape of y to (n_samples, ), for example using ravel().\n",
      "  y = column_or_1d(y, warn=True)\n",
      "/home/osboxes/anaconda3/envs/data/lib/python3.6/site-packages/sklearn/preprocessing/label.py:252: DataConversionWarning: A column-vector y was passed when a 1d array was expected. Please change the shape of y to (n_samples, ), for example using ravel().\n",
      "  y = column_or_1d(y, warn=True)\n"
     ]
    },
    {
     "name": "stdout",
     "output_type": "stream",
     "text": [
      "(10992, 1)\n",
      "(10992, 1)\n"
     ]
    },
    {
     "name": "stderr",
     "output_type": "stream",
     "text": [
      "/home/osboxes/anaconda3/envs/data/lib/python3.6/site-packages/sklearn/preprocessing/label.py:219: DataConversionWarning: A column-vector y was passed when a 1d array was expected. Please change the shape of y to (n_samples, ), for example using ravel().\n",
      "  y = column_or_1d(y, warn=True)\n",
      "/home/osboxes/anaconda3/envs/data/lib/python3.6/site-packages/sklearn/preprocessing/label.py:252: DataConversionWarning: A column-vector y was passed when a 1d array was expected. Please change the shape of y to (n_samples, ), for example using ravel().\n",
      "  y = column_or_1d(y, warn=True)\n"
     ]
    },
    {
     "name": "stdout",
     "output_type": "stream",
     "text": [
      "(10992, 1)\n",
      "(10992, 1)\n"
     ]
    },
    {
     "name": "stderr",
     "output_type": "stream",
     "text": [
      "/home/osboxes/anaconda3/envs/data/lib/python3.6/site-packages/sklearn/preprocessing/label.py:219: DataConversionWarning: A column-vector y was passed when a 1d array was expected. Please change the shape of y to (n_samples, ), for example using ravel().\n",
      "  y = column_or_1d(y, warn=True)\n",
      "/home/osboxes/anaconda3/envs/data/lib/python3.6/site-packages/sklearn/preprocessing/label.py:252: DataConversionWarning: A column-vector y was passed when a 1d array was expected. Please change the shape of y to (n_samples, ), for example using ravel().\n",
      "  y = column_or_1d(y, warn=True)\n"
     ]
    },
    {
     "name": "stdout",
     "output_type": "stream",
     "text": [
      "(10992, 1)\n",
      "(10992, 1)\n"
     ]
    },
    {
     "name": "stderr",
     "output_type": "stream",
     "text": [
      "/home/osboxes/anaconda3/envs/data/lib/python3.6/site-packages/sklearn/preprocessing/label.py:219: DataConversionWarning: A column-vector y was passed when a 1d array was expected. Please change the shape of y to (n_samples, ), for example using ravel().\n",
      "  y = column_or_1d(y, warn=True)\n",
      "/home/osboxes/anaconda3/envs/data/lib/python3.6/site-packages/sklearn/preprocessing/label.py:252: DataConversionWarning: A column-vector y was passed when a 1d array was expected. Please change the shape of y to (n_samples, ), for example using ravel().\n",
      "  y = column_or_1d(y, warn=True)\n"
     ]
    },
    {
     "name": "stdout",
     "output_type": "stream",
     "text": [
      "(10992, 1)\n",
      "(10992, 1)\n"
     ]
    },
    {
     "name": "stderr",
     "output_type": "stream",
     "text": [
      "/home/osboxes/anaconda3/envs/data/lib/python3.6/site-packages/sklearn/preprocessing/label.py:219: DataConversionWarning: A column-vector y was passed when a 1d array was expected. Please change the shape of y to (n_samples, ), for example using ravel().\n",
      "  y = column_or_1d(y, warn=True)\n",
      "/home/osboxes/anaconda3/envs/data/lib/python3.6/site-packages/sklearn/preprocessing/label.py:252: DataConversionWarning: A column-vector y was passed when a 1d array was expected. Please change the shape of y to (n_samples, ), for example using ravel().\n",
      "  y = column_or_1d(y, warn=True)\n"
     ]
    },
    {
     "name": "stdout",
     "output_type": "stream",
     "text": [
      "(10992, 1)\n",
      "(10992, 1)\n"
     ]
    },
    {
     "name": "stderr",
     "output_type": "stream",
     "text": [
      "/home/osboxes/anaconda3/envs/data/lib/python3.6/site-packages/sklearn/preprocessing/label.py:219: DataConversionWarning: A column-vector y was passed when a 1d array was expected. Please change the shape of y to (n_samples, ), for example using ravel().\n",
      "  y = column_or_1d(y, warn=True)\n",
      "/home/osboxes/anaconda3/envs/data/lib/python3.6/site-packages/sklearn/preprocessing/label.py:252: DataConversionWarning: A column-vector y was passed when a 1d array was expected. Please change the shape of y to (n_samples, ), for example using ravel().\n",
      "  y = column_or_1d(y, warn=True)\n"
     ]
    },
    {
     "name": "stdout",
     "output_type": "stream",
     "text": [
      "(10992, 1)\n",
      "(10992, 1)\n"
     ]
    },
    {
     "name": "stderr",
     "output_type": "stream",
     "text": [
      "/home/osboxes/anaconda3/envs/data/lib/python3.6/site-packages/sklearn/preprocessing/label.py:219: DataConversionWarning: A column-vector y was passed when a 1d array was expected. Please change the shape of y to (n_samples, ), for example using ravel().\n",
      "  y = column_or_1d(y, warn=True)\n",
      "/home/osboxes/anaconda3/envs/data/lib/python3.6/site-packages/sklearn/preprocessing/label.py:252: DataConversionWarning: A column-vector y was passed when a 1d array was expected. Please change the shape of y to (n_samples, ), for example using ravel().\n",
      "  y = column_or_1d(y, warn=True)\n"
     ]
    },
    {
     "name": "stdout",
     "output_type": "stream",
     "text": [
      "(10992, 1)\n",
      "(10992, 1)\n"
     ]
    },
    {
     "name": "stderr",
     "output_type": "stream",
     "text": [
      "/home/osboxes/anaconda3/envs/data/lib/python3.6/site-packages/sklearn/preprocessing/label.py:219: DataConversionWarning: A column-vector y was passed when a 1d array was expected. Please change the shape of y to (n_samples, ), for example using ravel().\n",
      "  y = column_or_1d(y, warn=True)\n",
      "/home/osboxes/anaconda3/envs/data/lib/python3.6/site-packages/sklearn/preprocessing/label.py:252: DataConversionWarning: A column-vector y was passed when a 1d array was expected. Please change the shape of y to (n_samples, ), for example using ravel().\n",
      "  y = column_or_1d(y, warn=True)\n"
     ]
    },
    {
     "name": "stdout",
     "output_type": "stream",
     "text": [
      "(10992, 1)\n",
      "(10992, 1)\n"
     ]
    },
    {
     "name": "stderr",
     "output_type": "stream",
     "text": [
      "/home/osboxes/anaconda3/envs/data/lib/python3.6/site-packages/sklearn/preprocessing/label.py:219: DataConversionWarning: A column-vector y was passed when a 1d array was expected. Please change the shape of y to (n_samples, ), for example using ravel().\n",
      "  y = column_or_1d(y, warn=True)\n",
      "/home/osboxes/anaconda3/envs/data/lib/python3.6/site-packages/sklearn/preprocessing/label.py:252: DataConversionWarning: A column-vector y was passed when a 1d array was expected. Please change the shape of y to (n_samples, ), for example using ravel().\n",
      "  y = column_or_1d(y, warn=True)\n"
     ]
    },
    {
     "name": "stdout",
     "output_type": "stream",
     "text": [
      "(10992, 1)\n",
      "(10992, 1)\n"
     ]
    },
    {
     "name": "stderr",
     "output_type": "stream",
     "text": [
      "/home/osboxes/anaconda3/envs/data/lib/python3.6/site-packages/sklearn/preprocessing/label.py:219: DataConversionWarning: A column-vector y was passed when a 1d array was expected. Please change the shape of y to (n_samples, ), for example using ravel().\n",
      "  y = column_or_1d(y, warn=True)\n",
      "/home/osboxes/anaconda3/envs/data/lib/python3.6/site-packages/sklearn/preprocessing/label.py:252: DataConversionWarning: A column-vector y was passed when a 1d array was expected. Please change the shape of y to (n_samples, ), for example using ravel().\n",
      "  y = column_or_1d(y, warn=True)\n"
     ]
    },
    {
     "name": "stdout",
     "output_type": "stream",
     "text": [
      "(10992, 1)\n",
      "(10992, 1)\n"
     ]
    },
    {
     "name": "stderr",
     "output_type": "stream",
     "text": [
      "/home/osboxes/anaconda3/envs/data/lib/python3.6/site-packages/sklearn/preprocessing/label.py:219: DataConversionWarning: A column-vector y was passed when a 1d array was expected. Please change the shape of y to (n_samples, ), for example using ravel().\n",
      "  y = column_or_1d(y, warn=True)\n",
      "/home/osboxes/anaconda3/envs/data/lib/python3.6/site-packages/sklearn/preprocessing/label.py:252: DataConversionWarning: A column-vector y was passed when a 1d array was expected. Please change the shape of y to (n_samples, ), for example using ravel().\n",
      "  y = column_or_1d(y, warn=True)\n"
     ]
    },
    {
     "name": "stdout",
     "output_type": "stream",
     "text": [
      "(10992, 1)\n",
      "(10992, 1)\n"
     ]
    },
    {
     "name": "stderr",
     "output_type": "stream",
     "text": [
      "/home/osboxes/anaconda3/envs/data/lib/python3.6/site-packages/sklearn/preprocessing/label.py:219: DataConversionWarning: A column-vector y was passed when a 1d array was expected. Please change the shape of y to (n_samples, ), for example using ravel().\n",
      "  y = column_or_1d(y, warn=True)\n",
      "/home/osboxes/anaconda3/envs/data/lib/python3.6/site-packages/sklearn/preprocessing/label.py:252: DataConversionWarning: A column-vector y was passed when a 1d array was expected. Please change the shape of y to (n_samples, ), for example using ravel().\n",
      "  y = column_or_1d(y, warn=True)\n"
     ]
    },
    {
     "name": "stdout",
     "output_type": "stream",
     "text": [
      "(10992, 1)\n",
      "(10992, 1)\n"
     ]
    },
    {
     "name": "stderr",
     "output_type": "stream",
     "text": [
      "/home/osboxes/anaconda3/envs/data/lib/python3.6/site-packages/sklearn/preprocessing/label.py:219: DataConversionWarning: A column-vector y was passed when a 1d array was expected. Please change the shape of y to (n_samples, ), for example using ravel().\n",
      "  y = column_or_1d(y, warn=True)\n",
      "/home/osboxes/anaconda3/envs/data/lib/python3.6/site-packages/sklearn/preprocessing/label.py:252: DataConversionWarning: A column-vector y was passed when a 1d array was expected. Please change the shape of y to (n_samples, ), for example using ravel().\n",
      "  y = column_or_1d(y, warn=True)\n"
     ]
    },
    {
     "name": "stdout",
     "output_type": "stream",
     "text": [
      "(10992, 1)\n",
      "(10992, 1)\n"
     ]
    },
    {
     "name": "stderr",
     "output_type": "stream",
     "text": [
      "/home/osboxes/anaconda3/envs/data/lib/python3.6/site-packages/sklearn/preprocessing/label.py:219: DataConversionWarning: A column-vector y was passed when a 1d array was expected. Please change the shape of y to (n_samples, ), for example using ravel().\n",
      "  y = column_or_1d(y, warn=True)\n",
      "/home/osboxes/anaconda3/envs/data/lib/python3.6/site-packages/sklearn/preprocessing/label.py:252: DataConversionWarning: A column-vector y was passed when a 1d array was expected. Please change the shape of y to (n_samples, ), for example using ravel().\n",
      "  y = column_or_1d(y, warn=True)\n"
     ]
    },
    {
     "name": "stdout",
     "output_type": "stream",
     "text": [
      "(10992, 1)\n",
      "(10992, 1)\n"
     ]
    },
    {
     "name": "stderr",
     "output_type": "stream",
     "text": [
      "/home/osboxes/anaconda3/envs/data/lib/python3.6/site-packages/sklearn/preprocessing/label.py:219: DataConversionWarning: A column-vector y was passed when a 1d array was expected. Please change the shape of y to (n_samples, ), for example using ravel().\n",
      "  y = column_or_1d(y, warn=True)\n",
      "/home/osboxes/anaconda3/envs/data/lib/python3.6/site-packages/sklearn/preprocessing/label.py:252: DataConversionWarning: A column-vector y was passed when a 1d array was expected. Please change the shape of y to (n_samples, ), for example using ravel().\n",
      "  y = column_or_1d(y, warn=True)\n"
     ]
    },
    {
     "name": "stdout",
     "output_type": "stream",
     "text": [
      "(10992, 1)\n",
      "(10992, 1)\n"
     ]
    },
    {
     "name": "stderr",
     "output_type": "stream",
     "text": [
      "/home/osboxes/anaconda3/envs/data/lib/python3.6/site-packages/sklearn/preprocessing/label.py:219: DataConversionWarning: A column-vector y was passed when a 1d array was expected. Please change the shape of y to (n_samples, ), for example using ravel().\n",
      "  y = column_or_1d(y, warn=True)\n",
      "/home/osboxes/anaconda3/envs/data/lib/python3.6/site-packages/sklearn/preprocessing/label.py:252: DataConversionWarning: A column-vector y was passed when a 1d array was expected. Please change the shape of y to (n_samples, ), for example using ravel().\n",
      "  y = column_or_1d(y, warn=True)\n"
     ]
    },
    {
     "name": "stdout",
     "output_type": "stream",
     "text": [
      "(10992, 1)\n",
      "(10992, 1)\n"
     ]
    },
    {
     "name": "stderr",
     "output_type": "stream",
     "text": [
      "/home/osboxes/anaconda3/envs/data/lib/python3.6/site-packages/sklearn/preprocessing/label.py:219: DataConversionWarning: A column-vector y was passed when a 1d array was expected. Please change the shape of y to (n_samples, ), for example using ravel().\n",
      "  y = column_or_1d(y, warn=True)\n",
      "/home/osboxes/anaconda3/envs/data/lib/python3.6/site-packages/sklearn/preprocessing/label.py:252: DataConversionWarning: A column-vector y was passed when a 1d array was expected. Please change the shape of y to (n_samples, ), for example using ravel().\n",
      "  y = column_or_1d(y, warn=True)\n"
     ]
    },
    {
     "name": "stdout",
     "output_type": "stream",
     "text": [
      "(10992, 1)\n",
      "(10992, 1)\n"
     ]
    },
    {
     "name": "stderr",
     "output_type": "stream",
     "text": [
      "/home/osboxes/anaconda3/envs/data/lib/python3.6/site-packages/sklearn/preprocessing/label.py:219: DataConversionWarning: A column-vector y was passed when a 1d array was expected. Please change the shape of y to (n_samples, ), for example using ravel().\n",
      "  y = column_or_1d(y, warn=True)\n",
      "/home/osboxes/anaconda3/envs/data/lib/python3.6/site-packages/sklearn/preprocessing/label.py:252: DataConversionWarning: A column-vector y was passed when a 1d array was expected. Please change the shape of y to (n_samples, ), for example using ravel().\n",
      "  y = column_or_1d(y, warn=True)\n"
     ]
    },
    {
     "name": "stdout",
     "output_type": "stream",
     "text": [
      "(10992, 1)\n",
      "(10992, 1)\n"
     ]
    },
    {
     "name": "stderr",
     "output_type": "stream",
     "text": [
      "/home/osboxes/anaconda3/envs/data/lib/python3.6/site-packages/sklearn/preprocessing/label.py:219: DataConversionWarning: A column-vector y was passed when a 1d array was expected. Please change the shape of y to (n_samples, ), for example using ravel().\n",
      "  y = column_or_1d(y, warn=True)\n",
      "/home/osboxes/anaconda3/envs/data/lib/python3.6/site-packages/sklearn/preprocessing/label.py:252: DataConversionWarning: A column-vector y was passed when a 1d array was expected. Please change the shape of y to (n_samples, ), for example using ravel().\n",
      "  y = column_or_1d(y, warn=True)\n"
     ]
    },
    {
     "name": "stdout",
     "output_type": "stream",
     "text": [
      "(10992, 1)\n",
      "(10992, 1)\n"
     ]
    },
    {
     "name": "stderr",
     "output_type": "stream",
     "text": [
      "/home/osboxes/anaconda3/envs/data/lib/python3.6/site-packages/sklearn/preprocessing/label.py:219: DataConversionWarning: A column-vector y was passed when a 1d array was expected. Please change the shape of y to (n_samples, ), for example using ravel().\n",
      "  y = column_or_1d(y, warn=True)\n",
      "/home/osboxes/anaconda3/envs/data/lib/python3.6/site-packages/sklearn/preprocessing/label.py:252: DataConversionWarning: A column-vector y was passed when a 1d array was expected. Please change the shape of y to (n_samples, ), for example using ravel().\n",
      "  y = column_or_1d(y, warn=True)\n"
     ]
    },
    {
     "name": "stdout",
     "output_type": "stream",
     "text": [
      "(10992, 1)\n",
      "(10992, 1)\n"
     ]
    },
    {
     "name": "stderr",
     "output_type": "stream",
     "text": [
      "/home/osboxes/anaconda3/envs/data/lib/python3.6/site-packages/sklearn/preprocessing/label.py:219: DataConversionWarning: A column-vector y was passed when a 1d array was expected. Please change the shape of y to (n_samples, ), for example using ravel().\n",
      "  y = column_or_1d(y, warn=True)\n",
      "/home/osboxes/anaconda3/envs/data/lib/python3.6/site-packages/sklearn/preprocessing/label.py:252: DataConversionWarning: A column-vector y was passed when a 1d array was expected. Please change the shape of y to (n_samples, ), for example using ravel().\n",
      "  y = column_or_1d(y, warn=True)\n"
     ]
    },
    {
     "name": "stdout",
     "output_type": "stream",
     "text": [
      "(10992, 1)\n",
      "(10992, 1)\n"
     ]
    },
    {
     "name": "stderr",
     "output_type": "stream",
     "text": [
      "/home/osboxes/anaconda3/envs/data/lib/python3.6/site-packages/sklearn/preprocessing/label.py:219: DataConversionWarning: A column-vector y was passed when a 1d array was expected. Please change the shape of y to (n_samples, ), for example using ravel().\n",
      "  y = column_or_1d(y, warn=True)\n",
      "/home/osboxes/anaconda3/envs/data/lib/python3.6/site-packages/sklearn/preprocessing/label.py:252: DataConversionWarning: A column-vector y was passed when a 1d array was expected. Please change the shape of y to (n_samples, ), for example using ravel().\n",
      "  y = column_or_1d(y, warn=True)\n"
     ]
    },
    {
     "name": "stdout",
     "output_type": "stream",
     "text": [
      "(10992, 1)\n",
      "(10992, 1)\n"
     ]
    },
    {
     "name": "stderr",
     "output_type": "stream",
     "text": [
      "/home/osboxes/anaconda3/envs/data/lib/python3.6/site-packages/sklearn/preprocessing/label.py:219: DataConversionWarning: A column-vector y was passed when a 1d array was expected. Please change the shape of y to (n_samples, ), for example using ravel().\n",
      "  y = column_or_1d(y, warn=True)\n",
      "/home/osboxes/anaconda3/envs/data/lib/python3.6/site-packages/sklearn/preprocessing/label.py:252: DataConversionWarning: A column-vector y was passed when a 1d array was expected. Please change the shape of y to (n_samples, ), for example using ravel().\n",
      "  y = column_or_1d(y, warn=True)\n"
     ]
    },
    {
     "name": "stdout",
     "output_type": "stream",
     "text": [
      "(10992, 1)\n",
      "(10992, 1)\n"
     ]
    },
    {
     "name": "stderr",
     "output_type": "stream",
     "text": [
      "/home/osboxes/anaconda3/envs/data/lib/python3.6/site-packages/sklearn/preprocessing/label.py:219: DataConversionWarning: A column-vector y was passed when a 1d array was expected. Please change the shape of y to (n_samples, ), for example using ravel().\n",
      "  y = column_or_1d(y, warn=True)\n",
      "/home/osboxes/anaconda3/envs/data/lib/python3.6/site-packages/sklearn/preprocessing/label.py:252: DataConversionWarning: A column-vector y was passed when a 1d array was expected. Please change the shape of y to (n_samples, ), for example using ravel().\n",
      "  y = column_or_1d(y, warn=True)\n"
     ]
    },
    {
     "name": "stdout",
     "output_type": "stream",
     "text": [
      "(10992, 1)\n",
      "(10992, 1)\n"
     ]
    },
    {
     "name": "stderr",
     "output_type": "stream",
     "text": [
      "/home/osboxes/anaconda3/envs/data/lib/python3.6/site-packages/sklearn/preprocessing/label.py:219: DataConversionWarning: A column-vector y was passed when a 1d array was expected. Please change the shape of y to (n_samples, ), for example using ravel().\n",
      "  y = column_or_1d(y, warn=True)\n",
      "/home/osboxes/anaconda3/envs/data/lib/python3.6/site-packages/sklearn/preprocessing/label.py:252: DataConversionWarning: A column-vector y was passed when a 1d array was expected. Please change the shape of y to (n_samples, ), for example using ravel().\n",
      "  y = column_or_1d(y, warn=True)\n"
     ]
    },
    {
     "name": "stdout",
     "output_type": "stream",
     "text": [
      "(10992, 1)\n",
      "(10992, 1)\n"
     ]
    },
    {
     "name": "stderr",
     "output_type": "stream",
     "text": [
      "/home/osboxes/anaconda3/envs/data/lib/python3.6/site-packages/sklearn/preprocessing/label.py:219: DataConversionWarning: A column-vector y was passed when a 1d array was expected. Please change the shape of y to (n_samples, ), for example using ravel().\n",
      "  y = column_or_1d(y, warn=True)\n",
      "/home/osboxes/anaconda3/envs/data/lib/python3.6/site-packages/sklearn/preprocessing/label.py:252: DataConversionWarning: A column-vector y was passed when a 1d array was expected. Please change the shape of y to (n_samples, ), for example using ravel().\n",
      "  y = column_or_1d(y, warn=True)\n"
     ]
    },
    {
     "name": "stdout",
     "output_type": "stream",
     "text": [
      "(10992, 1)\n",
      "(10992, 1)\n"
     ]
    },
    {
     "name": "stderr",
     "output_type": "stream",
     "text": [
      "/home/osboxes/anaconda3/envs/data/lib/python3.6/site-packages/sklearn/preprocessing/label.py:219: DataConversionWarning: A column-vector y was passed when a 1d array was expected. Please change the shape of y to (n_samples, ), for example using ravel().\n",
      "  y = column_or_1d(y, warn=True)\n",
      "/home/osboxes/anaconda3/envs/data/lib/python3.6/site-packages/sklearn/preprocessing/label.py:252: DataConversionWarning: A column-vector y was passed when a 1d array was expected. Please change the shape of y to (n_samples, ), for example using ravel().\n",
      "  y = column_or_1d(y, warn=True)\n"
     ]
    },
    {
     "name": "stdout",
     "output_type": "stream",
     "text": [
      "(10992, 1)\n",
      "(10992, 1)\n"
     ]
    },
    {
     "name": "stderr",
     "output_type": "stream",
     "text": [
      "/home/osboxes/anaconda3/envs/data/lib/python3.6/site-packages/sklearn/preprocessing/label.py:219: DataConversionWarning: A column-vector y was passed when a 1d array was expected. Please change the shape of y to (n_samples, ), for example using ravel().\n",
      "  y = column_or_1d(y, warn=True)\n",
      "/home/osboxes/anaconda3/envs/data/lib/python3.6/site-packages/sklearn/preprocessing/label.py:252: DataConversionWarning: A column-vector y was passed when a 1d array was expected. Please change the shape of y to (n_samples, ), for example using ravel().\n",
      "  y = column_or_1d(y, warn=True)\n"
     ]
    },
    {
     "name": "stdout",
     "output_type": "stream",
     "text": [
      "(10992, 1)\n",
      "(10992, 1)\n"
     ]
    },
    {
     "name": "stderr",
     "output_type": "stream",
     "text": [
      "/home/osboxes/anaconda3/envs/data/lib/python3.6/site-packages/sklearn/preprocessing/label.py:219: DataConversionWarning: A column-vector y was passed when a 1d array was expected. Please change the shape of y to (n_samples, ), for example using ravel().\n",
      "  y = column_or_1d(y, warn=True)\n",
      "/home/osboxes/anaconda3/envs/data/lib/python3.6/site-packages/sklearn/preprocessing/label.py:252: DataConversionWarning: A column-vector y was passed when a 1d array was expected. Please change the shape of y to (n_samples, ), for example using ravel().\n",
      "  y = column_or_1d(y, warn=True)\n"
     ]
    },
    {
     "name": "stdout",
     "output_type": "stream",
     "text": [
      "(10992, 1)\n",
      "(10992, 1)\n"
     ]
    },
    {
     "name": "stderr",
     "output_type": "stream",
     "text": [
      "/home/osboxes/anaconda3/envs/data/lib/python3.6/site-packages/sklearn/preprocessing/label.py:219: DataConversionWarning: A column-vector y was passed when a 1d array was expected. Please change the shape of y to (n_samples, ), for example using ravel().\n",
      "  y = column_or_1d(y, warn=True)\n",
      "/home/osboxes/anaconda3/envs/data/lib/python3.6/site-packages/sklearn/preprocessing/label.py:252: DataConversionWarning: A column-vector y was passed when a 1d array was expected. Please change the shape of y to (n_samples, ), for example using ravel().\n",
      "  y = column_or_1d(y, warn=True)\n"
     ]
    },
    {
     "name": "stdout",
     "output_type": "stream",
     "text": [
      "(10992, 1)\n",
      "(10992, 1)\n",
      "CPU times: user 9min 27s, sys: 3.03 s, total: 9min 30s\n",
      "Wall time: 2min 28s\n"
     ]
    }
   ],
   "source": [
    "%%time\n",
    "n_iter = 100\n",
    "\n",
    "# df_result_models = pd.DataFrame(columns = ['colsample_bytree','learning_rate','max_depth','n_estimators','subsample','min_child_weight','reg_lambda','AUC_train','AUC_test'])\n",
    "df_result_models = pd.DataFrame(columns = ['colsample_bytree','gamma','learning_rate','max_depth','n_estimators','subsample','reg_lambda','AUC_train','AUCE_test'])\n",
    "\n",
    "for each in range(1,n_iter):\n",
    "    \n",
    "    # print (\"Modèle n°\", each)\n",
    "    # colsample_bytree_value = np.random.uniform(0.3,0.7)\n",
    "    colsample_bytree_value = 0.4\n",
    "    # gamma_value = np.random.uniform(0, 0.5)\n",
    "    gamma_value = 10\n",
    "    # learning_rate_value = np.random.uniform(0.03, 0.3)\n",
    "    #  learning_rate_value = np.random.uniform(0.01, 0.1)\n",
    "    learning_rate_value = 0.1\n",
    "    # max_depth_value = np.random.randint(2, 6)\n",
    "    \n",
    "    # TEST 1 & 2: max_depth_value = np.random.randint(7,20)\n",
    "    # TEST 3: \n",
    "    # max_depth_value = np.random.randint(3,7) \n",
    "    max_depth_value = 4\n",
    "    \n",
    "    \n",
    "    \n",
    "    # TEST 1: n_estimators_value = np.random.randint(400, 500)\n",
    "    # TEST 2: n_estimators_value = np.random.randint(100, 150)\n",
    "    n_estimators_value = np.random.randint(400, 500)\n",
    "    \n",
    "    # n_estimators_value = np.random.randint(400, 3000)\n",
    "    # n_estimators_value = np.random.randint(400, 5000)\n",
    "    # subsample_value = np.random.uniform(0.4, 0.6)\n",
    "    # subsample_value = np.random.uniform(0,1)\n",
    "    subsample_value= 0.8\n",
    "    \n",
    "    # reg_alpha_value = np.random.uniform(0, 0.05)\n",
    "    # reg_alpha_value = np.random.uniform(0, 10)\n",
    "    # reg_lambda_value = np.random.uniform(0, 10)\n",
    "    reg_lambda_value = np.random.uniform(5, 20)\n",
    "    \n",
    "    # print (\"max_depth\", max_depth_value)\n",
    "    \n",
    "    min_child_weight_value = np.random.randint(0,300)\n",
    "    \n",
    "    xgb_model = xgb.XGBClassifier(\n",
    "        colsample_bytree = colsample_bytree_value,\n",
    "        # gamma = gamma_value,\n",
    "        learning_rate = learning_rate_value,\n",
    "        max_depth = max_depth_value,\n",
    "        n_estimators = n_estimators_value,\n",
    "        subsample = subsample_value,\n",
    "        # reg_alpha = reg_alpha_value,\n",
    "        reg_lambda = reg_lambda_value,\n",
    "        n_jobs = 4,\n",
    "        # min_child_weight = min_child_weight_value,\n",
    "        objective='binary:logistic')\n",
    "        \n",
    "        # eval_metric = \"rmse\"\n",
    "          \n",
    "    result = xgb_model.fit(X_train, Y_train)\n",
    "    \n",
    "    predicted_values = xgb_model.predict(X_train)\n",
    "    # print (\"predicted_values\", predicted_values)\n",
    "    predicted_values = np.expand_dims(predicted_values, axis=1)\n",
    "        \n",
    "    # RMSE_train_value = np.sqrt(np.mean((predicted_values - Y_train.values.ravel())**2, axis=0))\n",
    "    # print(\"le score RMLSE sur le training set vaut : {}\".format(RMSE))\n",
    "    \n",
    "    print (Y_train.values.shape)\n",
    "    print (predicted_values.shape)\n",
    "    AUC_train_value = roc_auc_score(Y_train.values, predicted_values)\n",
    "    \n",
    "    \n",
    "    predicted_values = xgb_model.predict(X_valid)\n",
    "    predicted_values = np.expand_dims(predicted_values, axis=1)\n",
    "        \n",
    "    # RMSE_test_value = np.sqrt(np.mean((predicted_values - Y_valid.values.ravel())**2, axis=0))\n",
    "    # print(\"le score RMSE sur le test set vaut : {}\".format(RMSE))\n",
    "    AUC_test_value = roc_auc_score(Y_valid.values, predicted_values)\n",
    "    \n",
    "    if AUC_train_value != None and AUC_test_value != None:\n",
    "    \n",
    "        df_result_models = df_result_models.append({'colsample_bytree': colsample_bytree_value, \n",
    "                                 # 'gamma':gamma_value,\n",
    "                                 'learning_rate':learning_rate_value,\n",
    "                                 'max_depth':max_depth_value,\n",
    "                                 'n_estimators':n_estimators_value,\n",
    "                                 'subsample':subsample_value,\n",
    "                                 # 'reg_alpha':reg_alpha_value,\n",
    "                                 'reg_lambda':reg_lambda_value,\n",
    "                                 # 'min_child_weight':min_child_weight_value,                 \n",
    "                                 'AUC_train':AUC_train_value,\n",
    "                                 'AUC_test':AUC_test_value}, ignore_index= True)"
   ]
  },
  {
   "cell_type": "code",
   "execution_count": 63,
   "metadata": {},
   "outputs": [
    {
     "data": {
      "text/html": [
       "<div>\n",
       "<style scoped>\n",
       "    .dataframe tbody tr th:only-of-type {\n",
       "        vertical-align: middle;\n",
       "    }\n",
       "\n",
       "    .dataframe tbody tr th {\n",
       "        vertical-align: top;\n",
       "    }\n",
       "\n",
       "    .dataframe thead th {\n",
       "        text-align: right;\n",
       "    }\n",
       "</style>\n",
       "<table border=\"1\" class=\"dataframe\">\n",
       "  <thead>\n",
       "    <tr style=\"text-align: right;\">\n",
       "      <th></th>\n",
       "      <th>colsample_bytree</th>\n",
       "      <th>gamma</th>\n",
       "      <th>learning_rate</th>\n",
       "      <th>max_depth</th>\n",
       "      <th>n_estimators</th>\n",
       "      <th>subsample</th>\n",
       "      <th>reg_lambda</th>\n",
       "      <th>AUC_train</th>\n",
       "      <th>AUCE_test</th>\n",
       "      <th>AUC_test</th>\n",
       "    </tr>\n",
       "  </thead>\n",
       "  <tbody>\n",
       "    <tr>\n",
       "      <th>0</th>\n",
       "      <td>0.4</td>\n",
       "      <td>NaN</td>\n",
       "      <td>0.1</td>\n",
       "      <td>4.0</td>\n",
       "      <td>401.0</td>\n",
       "      <td>0.8</td>\n",
       "      <td>12.982385</td>\n",
       "      <td>0.580033</td>\n",
       "      <td>NaN</td>\n",
       "      <td>0.558407</td>\n",
       "    </tr>\n",
       "    <tr>\n",
       "      <th>1</th>\n",
       "      <td>0.4</td>\n",
       "      <td>NaN</td>\n",
       "      <td>0.1</td>\n",
       "      <td>4.0</td>\n",
       "      <td>407.0</td>\n",
       "      <td>0.8</td>\n",
       "      <td>13.134500</td>\n",
       "      <td>0.583185</td>\n",
       "      <td>NaN</td>\n",
       "      <td>0.565178</td>\n",
       "    </tr>\n",
       "    <tr>\n",
       "      <th>2</th>\n",
       "      <td>0.4</td>\n",
       "      <td>NaN</td>\n",
       "      <td>0.1</td>\n",
       "      <td>4.0</td>\n",
       "      <td>463.0</td>\n",
       "      <td>0.8</td>\n",
       "      <td>16.279111</td>\n",
       "      <td>0.593377</td>\n",
       "      <td>NaN</td>\n",
       "      <td>0.578290</td>\n",
       "    </tr>\n",
       "    <tr>\n",
       "      <th>3</th>\n",
       "      <td>0.4</td>\n",
       "      <td>NaN</td>\n",
       "      <td>0.1</td>\n",
       "      <td>4.0</td>\n",
       "      <td>427.0</td>\n",
       "      <td>0.8</td>\n",
       "      <td>19.787850</td>\n",
       "      <td>0.580382</td>\n",
       "      <td>NaN</td>\n",
       "      <td>0.560036</td>\n",
       "    </tr>\n",
       "    <tr>\n",
       "      <th>4</th>\n",
       "      <td>0.4</td>\n",
       "      <td>NaN</td>\n",
       "      <td>0.1</td>\n",
       "      <td>4.0</td>\n",
       "      <td>459.0</td>\n",
       "      <td>0.8</td>\n",
       "      <td>15.982710</td>\n",
       "      <td>0.592433</td>\n",
       "      <td>NaN</td>\n",
       "      <td>0.576067</td>\n",
       "    </tr>\n",
       "    <tr>\n",
       "      <th>5</th>\n",
       "      <td>0.4</td>\n",
       "      <td>NaN</td>\n",
       "      <td>0.1</td>\n",
       "      <td>4.0</td>\n",
       "      <td>425.0</td>\n",
       "      <td>0.8</td>\n",
       "      <td>7.491000</td>\n",
       "      <td>0.594086</td>\n",
       "      <td>NaN</td>\n",
       "      <td>0.568646</td>\n",
       "    </tr>\n",
       "    <tr>\n",
       "      <th>6</th>\n",
       "      <td>0.4</td>\n",
       "      <td>NaN</td>\n",
       "      <td>0.1</td>\n",
       "      <td>4.0</td>\n",
       "      <td>420.0</td>\n",
       "      <td>0.8</td>\n",
       "      <td>12.987913</td>\n",
       "      <td>0.584786</td>\n",
       "      <td>NaN</td>\n",
       "      <td>0.563603</td>\n",
       "    </tr>\n",
       "    <tr>\n",
       "      <th>7</th>\n",
       "      <td>0.4</td>\n",
       "      <td>NaN</td>\n",
       "      <td>0.1</td>\n",
       "      <td>4.0</td>\n",
       "      <td>461.0</td>\n",
       "      <td>0.8</td>\n",
       "      <td>12.901857</td>\n",
       "      <td>0.593675</td>\n",
       "      <td>NaN</td>\n",
       "      <td>0.576661</td>\n",
       "    </tr>\n",
       "    <tr>\n",
       "      <th>8</th>\n",
       "      <td>0.4</td>\n",
       "      <td>NaN</td>\n",
       "      <td>0.1</td>\n",
       "      <td>4.0</td>\n",
       "      <td>425.0</td>\n",
       "      <td>0.8</td>\n",
       "      <td>10.591981</td>\n",
       "      <td>0.589538</td>\n",
       "      <td>NaN</td>\n",
       "      <td>0.566939</td>\n",
       "    </tr>\n",
       "    <tr>\n",
       "      <th>9</th>\n",
       "      <td>0.4</td>\n",
       "      <td>NaN</td>\n",
       "      <td>0.1</td>\n",
       "      <td>4.0</td>\n",
       "      <td>447.0</td>\n",
       "      <td>0.8</td>\n",
       "      <td>17.163944</td>\n",
       "      <td>0.587629</td>\n",
       "      <td>NaN</td>\n",
       "      <td>0.568646</td>\n",
       "    </tr>\n",
       "    <tr>\n",
       "      <th>10</th>\n",
       "      <td>0.4</td>\n",
       "      <td>NaN</td>\n",
       "      <td>0.1</td>\n",
       "      <td>4.0</td>\n",
       "      <td>460.0</td>\n",
       "      <td>0.8</td>\n",
       "      <td>5.449032</td>\n",
       "      <td>0.603642</td>\n",
       "      <td>NaN</td>\n",
       "      <td>0.576738</td>\n",
       "    </tr>\n",
       "    <tr>\n",
       "      <th>11</th>\n",
       "      <td>0.4</td>\n",
       "      <td>NaN</td>\n",
       "      <td>0.1</td>\n",
       "      <td>4.0</td>\n",
       "      <td>496.0</td>\n",
       "      <td>0.8</td>\n",
       "      <td>12.435106</td>\n",
       "      <td>0.608384</td>\n",
       "      <td>NaN</td>\n",
       "      <td>0.584830</td>\n",
       "    </tr>\n",
       "    <tr>\n",
       "      <th>12</th>\n",
       "      <td>0.4</td>\n",
       "      <td>NaN</td>\n",
       "      <td>0.1</td>\n",
       "      <td>4.0</td>\n",
       "      <td>462.0</td>\n",
       "      <td>0.8</td>\n",
       "      <td>9.459560</td>\n",
       "      <td>0.600183</td>\n",
       "      <td>NaN</td>\n",
       "      <td>0.579711</td>\n",
       "    </tr>\n",
       "    <tr>\n",
       "      <th>13</th>\n",
       "      <td>0.4</td>\n",
       "      <td>NaN</td>\n",
       "      <td>0.1</td>\n",
       "      <td>4.0</td>\n",
       "      <td>412.0</td>\n",
       "      <td>0.8</td>\n",
       "      <td>6.993900</td>\n",
       "      <td>0.591335</td>\n",
       "      <td>NaN</td>\n",
       "      <td>0.567171</td>\n",
       "    </tr>\n",
       "    <tr>\n",
       "      <th>14</th>\n",
       "      <td>0.4</td>\n",
       "      <td>NaN</td>\n",
       "      <td>0.1</td>\n",
       "      <td>4.0</td>\n",
       "      <td>462.0</td>\n",
       "      <td>0.8</td>\n",
       "      <td>8.044214</td>\n",
       "      <td>0.602585</td>\n",
       "      <td>NaN</td>\n",
       "      <td>0.577333</td>\n",
       "    </tr>\n",
       "    <tr>\n",
       "      <th>15</th>\n",
       "      <td>0.4</td>\n",
       "      <td>NaN</td>\n",
       "      <td>0.1</td>\n",
       "      <td>4.0</td>\n",
       "      <td>489.0</td>\n",
       "      <td>0.8</td>\n",
       "      <td>15.301231</td>\n",
       "      <td>0.605130</td>\n",
       "      <td>NaN</td>\n",
       "      <td>0.581549</td>\n",
       "    </tr>\n",
       "    <tr>\n",
       "      <th>16</th>\n",
       "      <td>0.4</td>\n",
       "      <td>NaN</td>\n",
       "      <td>0.1</td>\n",
       "      <td>4.0</td>\n",
       "      <td>466.0</td>\n",
       "      <td>0.8</td>\n",
       "      <td>18.687993</td>\n",
       "      <td>0.591078</td>\n",
       "      <td>NaN</td>\n",
       "      <td>0.574283</td>\n",
       "    </tr>\n",
       "    <tr>\n",
       "      <th>17</th>\n",
       "      <td>0.4</td>\n",
       "      <td>NaN</td>\n",
       "      <td>0.1</td>\n",
       "      <td>4.0</td>\n",
       "      <td>462.0</td>\n",
       "      <td>0.8</td>\n",
       "      <td>15.090132</td>\n",
       "      <td>0.594927</td>\n",
       "      <td>NaN</td>\n",
       "      <td>0.576430</td>\n",
       "    </tr>\n",
       "    <tr>\n",
       "      <th>18</th>\n",
       "      <td>0.4</td>\n",
       "      <td>NaN</td>\n",
       "      <td>0.1</td>\n",
       "      <td>4.0</td>\n",
       "      <td>449.0</td>\n",
       "      <td>0.8</td>\n",
       "      <td>12.603000</td>\n",
       "      <td>0.590883</td>\n",
       "      <td>NaN</td>\n",
       "      <td>0.574074</td>\n",
       "    </tr>\n",
       "    <tr>\n",
       "      <th>19</th>\n",
       "      <td>0.4</td>\n",
       "      <td>NaN</td>\n",
       "      <td>0.1</td>\n",
       "      <td>4.0</td>\n",
       "      <td>478.0</td>\n",
       "      <td>0.8</td>\n",
       "      <td>16.072428</td>\n",
       "      <td>0.600676</td>\n",
       "      <td>NaN</td>\n",
       "      <td>0.581626</td>\n",
       "    </tr>\n",
       "    <tr>\n",
       "      <th>20</th>\n",
       "      <td>0.4</td>\n",
       "      <td>NaN</td>\n",
       "      <td>0.1</td>\n",
       "      <td>4.0</td>\n",
       "      <td>423.0</td>\n",
       "      <td>0.8</td>\n",
       "      <td>11.465887</td>\n",
       "      <td>0.588183</td>\n",
       "      <td>NaN</td>\n",
       "      <td>0.569912</td>\n",
       "    </tr>\n",
       "    <tr>\n",
       "      <th>21</th>\n",
       "      <td>0.4</td>\n",
       "      <td>NaN</td>\n",
       "      <td>0.1</td>\n",
       "      <td>4.0</td>\n",
       "      <td>433.0</td>\n",
       "      <td>0.8</td>\n",
       "      <td>15.164583</td>\n",
       "      <td>0.586531</td>\n",
       "      <td>NaN</td>\n",
       "      <td>0.566653</td>\n",
       "    </tr>\n",
       "    <tr>\n",
       "      <th>22</th>\n",
       "      <td>0.4</td>\n",
       "      <td>NaN</td>\n",
       "      <td>0.1</td>\n",
       "      <td>4.0</td>\n",
       "      <td>465.0</td>\n",
       "      <td>0.8</td>\n",
       "      <td>17.443601</td>\n",
       "      <td>0.592577</td>\n",
       "      <td>NaN</td>\n",
       "      <td>0.576507</td>\n",
       "    </tr>\n",
       "    <tr>\n",
       "      <th>23</th>\n",
       "      <td>0.4</td>\n",
       "      <td>NaN</td>\n",
       "      <td>0.1</td>\n",
       "      <td>4.0</td>\n",
       "      <td>462.0</td>\n",
       "      <td>0.8</td>\n",
       "      <td>18.647103</td>\n",
       "      <td>0.591478</td>\n",
       "      <td>NaN</td>\n",
       "      <td>0.575164</td>\n",
       "    </tr>\n",
       "    <tr>\n",
       "      <th>24</th>\n",
       "      <td>0.4</td>\n",
       "      <td>NaN</td>\n",
       "      <td>0.1</td>\n",
       "      <td>4.0</td>\n",
       "      <td>406.0</td>\n",
       "      <td>0.8</td>\n",
       "      <td>17.683009</td>\n",
       "      <td>0.577334</td>\n",
       "      <td>NaN</td>\n",
       "      <td>0.561247</td>\n",
       "    </tr>\n",
       "    <tr>\n",
       "      <th>25</th>\n",
       "      <td>0.4</td>\n",
       "      <td>NaN</td>\n",
       "      <td>0.1</td>\n",
       "      <td>4.0</td>\n",
       "      <td>497.0</td>\n",
       "      <td>0.8</td>\n",
       "      <td>9.880524</td>\n",
       "      <td>0.610838</td>\n",
       "      <td>NaN</td>\n",
       "      <td>0.586383</td>\n",
       "    </tr>\n",
       "    <tr>\n",
       "      <th>26</th>\n",
       "      <td>0.4</td>\n",
       "      <td>NaN</td>\n",
       "      <td>0.1</td>\n",
       "      <td>4.0</td>\n",
       "      <td>454.0</td>\n",
       "      <td>0.8</td>\n",
       "      <td>15.035303</td>\n",
       "      <td>0.592679</td>\n",
       "      <td>NaN</td>\n",
       "      <td>0.573171</td>\n",
       "    </tr>\n",
       "    <tr>\n",
       "      <th>27</th>\n",
       "      <td>0.4</td>\n",
       "      <td>NaN</td>\n",
       "      <td>0.1</td>\n",
       "      <td>4.0</td>\n",
       "      <td>406.0</td>\n",
       "      <td>0.8</td>\n",
       "      <td>13.702614</td>\n",
       "      <td>0.582589</td>\n",
       "      <td>NaN</td>\n",
       "      <td>0.562800</td>\n",
       "    </tr>\n",
       "    <tr>\n",
       "      <th>28</th>\n",
       "      <td>0.4</td>\n",
       "      <td>NaN</td>\n",
       "      <td>0.1</td>\n",
       "      <td>4.0</td>\n",
       "      <td>453.0</td>\n",
       "      <td>0.8</td>\n",
       "      <td>10.930847</td>\n",
       "      <td>0.595379</td>\n",
       "      <td>NaN</td>\n",
       "      <td>0.576144</td>\n",
       "    </tr>\n",
       "    <tr>\n",
       "      <th>29</th>\n",
       "      <td>0.4</td>\n",
       "      <td>NaN</td>\n",
       "      <td>0.1</td>\n",
       "      <td>4.0</td>\n",
       "      <td>437.0</td>\n",
       "      <td>0.8</td>\n",
       "      <td>13.061465</td>\n",
       "      <td>0.588881</td>\n",
       "      <td>NaN</td>\n",
       "      <td>0.573039</td>\n",
       "    </tr>\n",
       "    <tr>\n",
       "      <th>...</th>\n",
       "      <td>...</td>\n",
       "      <td>...</td>\n",
       "      <td>...</td>\n",
       "      <td>...</td>\n",
       "      <td>...</td>\n",
       "      <td>...</td>\n",
       "      <td>...</td>\n",
       "      <td>...</td>\n",
       "      <td>...</td>\n",
       "      <td>...</td>\n",
       "    </tr>\n",
       "    <tr>\n",
       "      <th>69</th>\n",
       "      <td>0.4</td>\n",
       "      <td>NaN</td>\n",
       "      <td>0.1</td>\n",
       "      <td>4.0</td>\n",
       "      <td>469.0</td>\n",
       "      <td>0.8</td>\n",
       "      <td>16.384536</td>\n",
       "      <td>0.597032</td>\n",
       "      <td>NaN</td>\n",
       "      <td>0.577773</td>\n",
       "    </tr>\n",
       "    <tr>\n",
       "      <th>70</th>\n",
       "      <td>0.4</td>\n",
       "      <td>NaN</td>\n",
       "      <td>0.1</td>\n",
       "      <td>4.0</td>\n",
       "      <td>440.0</td>\n",
       "      <td>0.8</td>\n",
       "      <td>6.113906</td>\n",
       "      <td>0.596139</td>\n",
       "      <td>NaN</td>\n",
       "      <td>0.568051</td>\n",
       "    </tr>\n",
       "    <tr>\n",
       "      <th>71</th>\n",
       "      <td>0.4</td>\n",
       "      <td>NaN</td>\n",
       "      <td>0.1</td>\n",
       "      <td>4.0</td>\n",
       "      <td>439.0</td>\n",
       "      <td>0.8</td>\n",
       "      <td>13.403482</td>\n",
       "      <td>0.588235</td>\n",
       "      <td>NaN</td>\n",
       "      <td>0.571773</td>\n",
       "    </tr>\n",
       "    <tr>\n",
       "      <th>72</th>\n",
       "      <td>0.4</td>\n",
       "      <td>NaN</td>\n",
       "      <td>0.1</td>\n",
       "      <td>4.0</td>\n",
       "      <td>467.0</td>\n",
       "      <td>0.8</td>\n",
       "      <td>6.377466</td>\n",
       "      <td>0.604237</td>\n",
       "      <td>NaN</td>\n",
       "      <td>0.577773</td>\n",
       "    </tr>\n",
       "    <tr>\n",
       "      <th>73</th>\n",
       "      <td>0.4</td>\n",
       "      <td>NaN</td>\n",
       "      <td>0.1</td>\n",
       "      <td>4.0</td>\n",
       "      <td>449.0</td>\n",
       "      <td>0.8</td>\n",
       "      <td>15.682069</td>\n",
       "      <td>0.587681</td>\n",
       "      <td>NaN</td>\n",
       "      <td>0.569912</td>\n",
       "    </tr>\n",
       "    <tr>\n",
       "      <th>74</th>\n",
       "      <td>0.4</td>\n",
       "      <td>NaN</td>\n",
       "      <td>0.1</td>\n",
       "      <td>4.0</td>\n",
       "      <td>466.0</td>\n",
       "      <td>0.8</td>\n",
       "      <td>17.180796</td>\n",
       "      <td>0.592382</td>\n",
       "      <td>NaN</td>\n",
       "      <td>0.575395</td>\n",
       "    </tr>\n",
       "    <tr>\n",
       "      <th>75</th>\n",
       "      <td>0.4</td>\n",
       "      <td>NaN</td>\n",
       "      <td>0.1</td>\n",
       "      <td>4.0</td>\n",
       "      <td>467.0</td>\n",
       "      <td>0.8</td>\n",
       "      <td>17.006308</td>\n",
       "      <td>0.595030</td>\n",
       "      <td>NaN</td>\n",
       "      <td>0.575032</td>\n",
       "    </tr>\n",
       "    <tr>\n",
       "      <th>76</th>\n",
       "      <td>0.4</td>\n",
       "      <td>NaN</td>\n",
       "      <td>0.1</td>\n",
       "      <td>4.0</td>\n",
       "      <td>406.0</td>\n",
       "      <td>0.8</td>\n",
       "      <td>17.395785</td>\n",
       "      <td>0.576933</td>\n",
       "      <td>NaN</td>\n",
       "      <td>0.558792</td>\n",
       "    </tr>\n",
       "    <tr>\n",
       "      <th>77</th>\n",
       "      <td>0.4</td>\n",
       "      <td>NaN</td>\n",
       "      <td>0.1</td>\n",
       "      <td>4.0</td>\n",
       "      <td>416.0</td>\n",
       "      <td>0.8</td>\n",
       "      <td>11.481794</td>\n",
       "      <td>0.586839</td>\n",
       "      <td>NaN</td>\n",
       "      <td>0.567765</td>\n",
       "    </tr>\n",
       "    <tr>\n",
       "      <th>78</th>\n",
       "      <td>0.4</td>\n",
       "      <td>NaN</td>\n",
       "      <td>0.1</td>\n",
       "      <td>4.0</td>\n",
       "      <td>403.0</td>\n",
       "      <td>0.8</td>\n",
       "      <td>16.403591</td>\n",
       "      <td>0.577785</td>\n",
       "      <td>NaN</td>\n",
       "      <td>0.559156</td>\n",
       "    </tr>\n",
       "    <tr>\n",
       "      <th>79</th>\n",
       "      <td>0.4</td>\n",
       "      <td>NaN</td>\n",
       "      <td>0.1</td>\n",
       "      <td>4.0</td>\n",
       "      <td>453.0</td>\n",
       "      <td>0.8</td>\n",
       "      <td>6.475557</td>\n",
       "      <td>0.602687</td>\n",
       "      <td>NaN</td>\n",
       "      <td>0.575164</td>\n",
       "    </tr>\n",
       "    <tr>\n",
       "      <th>80</th>\n",
       "      <td>0.4</td>\n",
       "      <td>NaN</td>\n",
       "      <td>0.1</td>\n",
       "      <td>4.0</td>\n",
       "      <td>466.0</td>\n",
       "      <td>0.8</td>\n",
       "      <td>17.942735</td>\n",
       "      <td>0.593983</td>\n",
       "      <td>NaN</td>\n",
       "      <td>0.575241</td>\n",
       "    </tr>\n",
       "    <tr>\n",
       "      <th>81</th>\n",
       "      <td>0.4</td>\n",
       "      <td>NaN</td>\n",
       "      <td>0.1</td>\n",
       "      <td>4.0</td>\n",
       "      <td>409.0</td>\n",
       "      <td>0.8</td>\n",
       "      <td>6.698812</td>\n",
       "      <td>0.593634</td>\n",
       "      <td>NaN</td>\n",
       "      <td>0.568954</td>\n",
       "    </tr>\n",
       "    <tr>\n",
       "      <th>82</th>\n",
       "      <td>0.4</td>\n",
       "      <td>NaN</td>\n",
       "      <td>0.1</td>\n",
       "      <td>4.0</td>\n",
       "      <td>488.0</td>\n",
       "      <td>0.8</td>\n",
       "      <td>14.781644</td>\n",
       "      <td>0.605130</td>\n",
       "      <td>NaN</td>\n",
       "      <td>0.582893</td>\n",
       "    </tr>\n",
       "    <tr>\n",
       "      <th>83</th>\n",
       "      <td>0.4</td>\n",
       "      <td>NaN</td>\n",
       "      <td>0.1</td>\n",
       "      <td>4.0</td>\n",
       "      <td>422.0</td>\n",
       "      <td>0.8</td>\n",
       "      <td>8.722747</td>\n",
       "      <td>0.588337</td>\n",
       "      <td>NaN</td>\n",
       "      <td>0.566653</td>\n",
       "    </tr>\n",
       "    <tr>\n",
       "      <th>84</th>\n",
       "      <td>0.4</td>\n",
       "      <td>NaN</td>\n",
       "      <td>0.1</td>\n",
       "      <td>4.0</td>\n",
       "      <td>427.0</td>\n",
       "      <td>0.8</td>\n",
       "      <td>6.805047</td>\n",
       "      <td>0.597340</td>\n",
       "      <td>NaN</td>\n",
       "      <td>0.570352</td>\n",
       "    </tr>\n",
       "    <tr>\n",
       "      <th>85</th>\n",
       "      <td>0.4</td>\n",
       "      <td>NaN</td>\n",
       "      <td>0.1</td>\n",
       "      <td>4.0</td>\n",
       "      <td>424.0</td>\n",
       "      <td>0.8</td>\n",
       "      <td>14.566412</td>\n",
       "      <td>0.585186</td>\n",
       "      <td>NaN</td>\n",
       "      <td>0.567171</td>\n",
       "    </tr>\n",
       "    <tr>\n",
       "      <th>86</th>\n",
       "      <td>0.4</td>\n",
       "      <td>NaN</td>\n",
       "      <td>0.1</td>\n",
       "      <td>4.0</td>\n",
       "      <td>405.0</td>\n",
       "      <td>0.8</td>\n",
       "      <td>17.670930</td>\n",
       "      <td>0.575835</td>\n",
       "      <td>NaN</td>\n",
       "      <td>0.556854</td>\n",
       "    </tr>\n",
       "    <tr>\n",
       "      <th>87</th>\n",
       "      <td>0.4</td>\n",
       "      <td>NaN</td>\n",
       "      <td>0.1</td>\n",
       "      <td>4.0</td>\n",
       "      <td>487.0</td>\n",
       "      <td>0.8</td>\n",
       "      <td>15.619924</td>\n",
       "      <td>0.604730</td>\n",
       "      <td>NaN</td>\n",
       "      <td>0.584753</td>\n",
       "    </tr>\n",
       "    <tr>\n",
       "      <th>88</th>\n",
       "      <td>0.4</td>\n",
       "      <td>NaN</td>\n",
       "      <td>0.1</td>\n",
       "      <td>4.0</td>\n",
       "      <td>446.0</td>\n",
       "      <td>0.8</td>\n",
       "      <td>8.623216</td>\n",
       "      <td>0.592936</td>\n",
       "      <td>NaN</td>\n",
       "      <td>0.572576</td>\n",
       "    </tr>\n",
       "    <tr>\n",
       "      <th>89</th>\n",
       "      <td>0.4</td>\n",
       "      <td>NaN</td>\n",
       "      <td>0.1</td>\n",
       "      <td>4.0</td>\n",
       "      <td>457.0</td>\n",
       "      <td>0.8</td>\n",
       "      <td>13.100735</td>\n",
       "      <td>0.596724</td>\n",
       "      <td>NaN</td>\n",
       "      <td>0.579634</td>\n",
       "    </tr>\n",
       "    <tr>\n",
       "      <th>90</th>\n",
       "      <td>0.4</td>\n",
       "      <td>NaN</td>\n",
       "      <td>0.1</td>\n",
       "      <td>4.0</td>\n",
       "      <td>407.0</td>\n",
       "      <td>0.8</td>\n",
       "      <td>8.952500</td>\n",
       "      <td>0.586438</td>\n",
       "      <td>NaN</td>\n",
       "      <td>0.563681</td>\n",
       "    </tr>\n",
       "    <tr>\n",
       "      <th>91</th>\n",
       "      <td>0.4</td>\n",
       "      <td>NaN</td>\n",
       "      <td>0.1</td>\n",
       "      <td>4.0</td>\n",
       "      <td>431.0</td>\n",
       "      <td>0.8</td>\n",
       "      <td>5.099269</td>\n",
       "      <td>0.602092</td>\n",
       "      <td>NaN</td>\n",
       "      <td>0.572059</td>\n",
       "    </tr>\n",
       "    <tr>\n",
       "      <th>92</th>\n",
       "      <td>0.4</td>\n",
       "      <td>NaN</td>\n",
       "      <td>0.1</td>\n",
       "      <td>4.0</td>\n",
       "      <td>497.0</td>\n",
       "      <td>0.8</td>\n",
       "      <td>17.105712</td>\n",
       "      <td>0.605582</td>\n",
       "      <td>NaN</td>\n",
       "      <td>0.585634</td>\n",
       "    </tr>\n",
       "    <tr>\n",
       "      <th>93</th>\n",
       "      <td>0.4</td>\n",
       "      <td>NaN</td>\n",
       "      <td>0.1</td>\n",
       "      <td>4.0</td>\n",
       "      <td>406.0</td>\n",
       "      <td>0.8</td>\n",
       "      <td>7.087818</td>\n",
       "      <td>0.590986</td>\n",
       "      <td>NaN</td>\n",
       "      <td>0.565750</td>\n",
       "    </tr>\n",
       "    <tr>\n",
       "      <th>94</th>\n",
       "      <td>0.4</td>\n",
       "      <td>NaN</td>\n",
       "      <td>0.1</td>\n",
       "      <td>4.0</td>\n",
       "      <td>487.0</td>\n",
       "      <td>0.8</td>\n",
       "      <td>8.334461</td>\n",
       "      <td>0.609134</td>\n",
       "      <td>NaN</td>\n",
       "      <td>0.585942</td>\n",
       "    </tr>\n",
       "    <tr>\n",
       "      <th>95</th>\n",
       "      <td>0.4</td>\n",
       "      <td>NaN</td>\n",
       "      <td>0.1</td>\n",
       "      <td>4.0</td>\n",
       "      <td>483.0</td>\n",
       "      <td>0.8</td>\n",
       "      <td>15.381428</td>\n",
       "      <td>0.601476</td>\n",
       "      <td>NaN</td>\n",
       "      <td>0.581626</td>\n",
       "    </tr>\n",
       "    <tr>\n",
       "      <th>96</th>\n",
       "      <td>0.4</td>\n",
       "      <td>NaN</td>\n",
       "      <td>0.1</td>\n",
       "      <td>4.0</td>\n",
       "      <td>491.0</td>\n",
       "      <td>0.8</td>\n",
       "      <td>19.046950</td>\n",
       "      <td>0.599126</td>\n",
       "      <td>NaN</td>\n",
       "      <td>0.581186</td>\n",
       "    </tr>\n",
       "    <tr>\n",
       "      <th>97</th>\n",
       "      <td>0.4</td>\n",
       "      <td>NaN</td>\n",
       "      <td>0.1</td>\n",
       "      <td>4.0</td>\n",
       "      <td>416.0</td>\n",
       "      <td>0.8</td>\n",
       "      <td>6.364612</td>\n",
       "      <td>0.593737</td>\n",
       "      <td>NaN</td>\n",
       "      <td>0.567611</td>\n",
       "    </tr>\n",
       "    <tr>\n",
       "      <th>98</th>\n",
       "      <td>0.4</td>\n",
       "      <td>NaN</td>\n",
       "      <td>0.1</td>\n",
       "      <td>4.0</td>\n",
       "      <td>499.0</td>\n",
       "      <td>0.8</td>\n",
       "      <td>12.846312</td>\n",
       "      <td>0.607286</td>\n",
       "      <td>NaN</td>\n",
       "      <td>0.587131</td>\n",
       "    </tr>\n",
       "  </tbody>\n",
       "</table>\n",
       "<p>99 rows × 10 columns</p>\n",
       "</div>"
      ],
      "text/plain": [
       "    colsample_bytree  gamma  learning_rate  max_depth  n_estimators  \\\n",
       "0                0.4    NaN            0.1        4.0         401.0   \n",
       "1                0.4    NaN            0.1        4.0         407.0   \n",
       "2                0.4    NaN            0.1        4.0         463.0   \n",
       "3                0.4    NaN            0.1        4.0         427.0   \n",
       "4                0.4    NaN            0.1        4.0         459.0   \n",
       "5                0.4    NaN            0.1        4.0         425.0   \n",
       "6                0.4    NaN            0.1        4.0         420.0   \n",
       "7                0.4    NaN            0.1        4.0         461.0   \n",
       "8                0.4    NaN            0.1        4.0         425.0   \n",
       "9                0.4    NaN            0.1        4.0         447.0   \n",
       "10               0.4    NaN            0.1        4.0         460.0   \n",
       "11               0.4    NaN            0.1        4.0         496.0   \n",
       "12               0.4    NaN            0.1        4.0         462.0   \n",
       "13               0.4    NaN            0.1        4.0         412.0   \n",
       "14               0.4    NaN            0.1        4.0         462.0   \n",
       "15               0.4    NaN            0.1        4.0         489.0   \n",
       "16               0.4    NaN            0.1        4.0         466.0   \n",
       "17               0.4    NaN            0.1        4.0         462.0   \n",
       "18               0.4    NaN            0.1        4.0         449.0   \n",
       "19               0.4    NaN            0.1        4.0         478.0   \n",
       "20               0.4    NaN            0.1        4.0         423.0   \n",
       "21               0.4    NaN            0.1        4.0         433.0   \n",
       "22               0.4    NaN            0.1        4.0         465.0   \n",
       "23               0.4    NaN            0.1        4.0         462.0   \n",
       "24               0.4    NaN            0.1        4.0         406.0   \n",
       "25               0.4    NaN            0.1        4.0         497.0   \n",
       "26               0.4    NaN            0.1        4.0         454.0   \n",
       "27               0.4    NaN            0.1        4.0         406.0   \n",
       "28               0.4    NaN            0.1        4.0         453.0   \n",
       "29               0.4    NaN            0.1        4.0         437.0   \n",
       "..               ...    ...            ...        ...           ...   \n",
       "69               0.4    NaN            0.1        4.0         469.0   \n",
       "70               0.4    NaN            0.1        4.0         440.0   \n",
       "71               0.4    NaN            0.1        4.0         439.0   \n",
       "72               0.4    NaN            0.1        4.0         467.0   \n",
       "73               0.4    NaN            0.1        4.0         449.0   \n",
       "74               0.4    NaN            0.1        4.0         466.0   \n",
       "75               0.4    NaN            0.1        4.0         467.0   \n",
       "76               0.4    NaN            0.1        4.0         406.0   \n",
       "77               0.4    NaN            0.1        4.0         416.0   \n",
       "78               0.4    NaN            0.1        4.0         403.0   \n",
       "79               0.4    NaN            0.1        4.0         453.0   \n",
       "80               0.4    NaN            0.1        4.0         466.0   \n",
       "81               0.4    NaN            0.1        4.0         409.0   \n",
       "82               0.4    NaN            0.1        4.0         488.0   \n",
       "83               0.4    NaN            0.1        4.0         422.0   \n",
       "84               0.4    NaN            0.1        4.0         427.0   \n",
       "85               0.4    NaN            0.1        4.0         424.0   \n",
       "86               0.4    NaN            0.1        4.0         405.0   \n",
       "87               0.4    NaN            0.1        4.0         487.0   \n",
       "88               0.4    NaN            0.1        4.0         446.0   \n",
       "89               0.4    NaN            0.1        4.0         457.0   \n",
       "90               0.4    NaN            0.1        4.0         407.0   \n",
       "91               0.4    NaN            0.1        4.0         431.0   \n",
       "92               0.4    NaN            0.1        4.0         497.0   \n",
       "93               0.4    NaN            0.1        4.0         406.0   \n",
       "94               0.4    NaN            0.1        4.0         487.0   \n",
       "95               0.4    NaN            0.1        4.0         483.0   \n",
       "96               0.4    NaN            0.1        4.0         491.0   \n",
       "97               0.4    NaN            0.1        4.0         416.0   \n",
       "98               0.4    NaN            0.1        4.0         499.0   \n",
       "\n",
       "    subsample  reg_lambda  AUC_train  AUCE_test  AUC_test  \n",
       "0         0.8   12.982385   0.580033        NaN  0.558407  \n",
       "1         0.8   13.134500   0.583185        NaN  0.565178  \n",
       "2         0.8   16.279111   0.593377        NaN  0.578290  \n",
       "3         0.8   19.787850   0.580382        NaN  0.560036  \n",
       "4         0.8   15.982710   0.592433        NaN  0.576067  \n",
       "5         0.8    7.491000   0.594086        NaN  0.568646  \n",
       "6         0.8   12.987913   0.584786        NaN  0.563603  \n",
       "7         0.8   12.901857   0.593675        NaN  0.576661  \n",
       "8         0.8   10.591981   0.589538        NaN  0.566939  \n",
       "9         0.8   17.163944   0.587629        NaN  0.568646  \n",
       "10        0.8    5.449032   0.603642        NaN  0.576738  \n",
       "11        0.8   12.435106   0.608384        NaN  0.584830  \n",
       "12        0.8    9.459560   0.600183        NaN  0.579711  \n",
       "13        0.8    6.993900   0.591335        NaN  0.567171  \n",
       "14        0.8    8.044214   0.602585        NaN  0.577333  \n",
       "15        0.8   15.301231   0.605130        NaN  0.581549  \n",
       "16        0.8   18.687993   0.591078        NaN  0.574283  \n",
       "17        0.8   15.090132   0.594927        NaN  0.576430  \n",
       "18        0.8   12.603000   0.590883        NaN  0.574074  \n",
       "19        0.8   16.072428   0.600676        NaN  0.581626  \n",
       "20        0.8   11.465887   0.588183        NaN  0.569912  \n",
       "21        0.8   15.164583   0.586531        NaN  0.566653  \n",
       "22        0.8   17.443601   0.592577        NaN  0.576507  \n",
       "23        0.8   18.647103   0.591478        NaN  0.575164  \n",
       "24        0.8   17.683009   0.577334        NaN  0.561247  \n",
       "25        0.8    9.880524   0.610838        NaN  0.586383  \n",
       "26        0.8   15.035303   0.592679        NaN  0.573171  \n",
       "27        0.8   13.702614   0.582589        NaN  0.562800  \n",
       "28        0.8   10.930847   0.595379        NaN  0.576144  \n",
       "29        0.8   13.061465   0.588881        NaN  0.573039  \n",
       "..        ...         ...        ...        ...       ...  \n",
       "69        0.8   16.384536   0.597032        NaN  0.577773  \n",
       "70        0.8    6.113906   0.596139        NaN  0.568051  \n",
       "71        0.8   13.403482   0.588235        NaN  0.571773  \n",
       "72        0.8    6.377466   0.604237        NaN  0.577773  \n",
       "73        0.8   15.682069   0.587681        NaN  0.569912  \n",
       "74        0.8   17.180796   0.592382        NaN  0.575395  \n",
       "75        0.8   17.006308   0.595030        NaN  0.575032  \n",
       "76        0.8   17.395785   0.576933        NaN  0.558792  \n",
       "77        0.8   11.481794   0.586839        NaN  0.567765  \n",
       "78        0.8   16.403591   0.577785        NaN  0.559156  \n",
       "79        0.8    6.475557   0.602687        NaN  0.575164  \n",
       "80        0.8   17.942735   0.593983        NaN  0.575241  \n",
       "81        0.8    6.698812   0.593634        NaN  0.568954  \n",
       "82        0.8   14.781644   0.605130        NaN  0.582893  \n",
       "83        0.8    8.722747   0.588337        NaN  0.566653  \n",
       "84        0.8    6.805047   0.597340        NaN  0.570352  \n",
       "85        0.8   14.566412   0.585186        NaN  0.567171  \n",
       "86        0.8   17.670930   0.575835        NaN  0.556854  \n",
       "87        0.8   15.619924   0.604730        NaN  0.584753  \n",
       "88        0.8    8.623216   0.592936        NaN  0.572576  \n",
       "89        0.8   13.100735   0.596724        NaN  0.579634  \n",
       "90        0.8    8.952500   0.586438        NaN  0.563681  \n",
       "91        0.8    5.099269   0.602092        NaN  0.572059  \n",
       "92        0.8   17.105712   0.605582        NaN  0.585634  \n",
       "93        0.8    7.087818   0.590986        NaN  0.565750  \n",
       "94        0.8    8.334461   0.609134        NaN  0.585942  \n",
       "95        0.8   15.381428   0.601476        NaN  0.581626  \n",
       "96        0.8   19.046950   0.599126        NaN  0.581186  \n",
       "97        0.8    6.364612   0.593737        NaN  0.567611  \n",
       "98        0.8   12.846312   0.607286        NaN  0.587131  \n",
       "\n",
       "[99 rows x 10 columns]"
      ]
     },
     "execution_count": 63,
     "metadata": {},
     "output_type": "execute_result"
    }
   ],
   "source": [
    "df_result_models"
   ]
  },
  {
   "cell_type": "code",
   "execution_count": null,
   "metadata": {},
   "outputs": [],
   "source": []
  }
 ],
 "metadata": {
  "kernelspec": {
   "display_name": "data bike sharing",
   "language": "python",
   "name": "data"
  },
  "language_info": {
   "codemirror_mode": {
    "name": "ipython",
    "version": 3
   },
   "file_extension": ".py",
   "mimetype": "text/x-python",
   "name": "python",
   "nbconvert_exporter": "python",
   "pygments_lexer": "ipython3",
   "version": "3.6.8"
  }
 },
 "nbformat": 4,
 "nbformat_minor": 4
}
